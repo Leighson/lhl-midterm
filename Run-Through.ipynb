{
 "cells": [
  {
   "cell_type": "code",
   "execution_count": 119,
   "id": "7af4e00a-9814-47a0-8876-e3b8afd1a20b",
   "metadata": {},
   "outputs": [],
   "source": [
    "import psycopg2\n",
    "import pandas as pd\n",
    "import os\n",
    "import datetime as dt\n",
    "import numpy as np\n",
    "import sys\n",
    "import matplotlib.pyplot as plt\n",
    "from sklearn.linear_model import LogisticRegression, LinearRegression\n",
    "from sklearn.model_selection import train_test_split\n",
    "from sklearn.preprocessing import StandardScaler\n",
    "from sklearn.ensemble import RandomForestClassifier\n",
    "import xgboost as xgb\n",
    "from sklearn.metrics import mean_squared_error, accuracy_score, classification_report, RocCurveDisplay\n",
    "import script as sc\n",
    "import statsmodels.api as sm"
   ]
  },
  {
   "cell_type": "code",
   "execution_count": 2,
   "id": "8f7885de-68a4-48d3-95d0-a9b8f004f4c8",
   "metadata": {
    "jupyter": {
     "source_hidden": true
    },
    "tags": []
   },
   "outputs": [],
   "source": [
    "def make_csv(query, filename):\n",
    "   \n",
    "    # check if file already exists\n",
    "    if os.path.exists(filename):\n",
    "        df = pd.read_csv(filename)\n",
    "        return df\n",
    "    # ensure all columns are displayed when viewing a pandas dataframe\n",
    "    pd.set_option('display.max_columns', None)\n",
    "    \n",
    "    # Creating a connection to the database\n",
    "    print(\"creating connection...\")\n",
    "    con = psycopg2.connect(database=\"mid_term_project\", \n",
    "                           user=\"lhl_student\", \n",
    "                           password=\"lhl_student\", \n",
    "                           host=\"lhl-data-bootcamp.crzjul5qln0e.ca-central-1.rds.amazonaws.com\", \n",
    "                           port=\"5432\")\n",
    "\n",
    "\n",
    "    # creating a cursor object\n",
    "    cur = con.cursor()\n",
    "    # running an sql query\n",
    "    print(\"running query...\")\n",
    "    cur.execute(query)\n",
    "    # Storing the result\n",
    "    rows = cur.fetchall()\n",
    "    cols = [desc[0] for desc in cur.description]\n",
    "\n",
    "    con.close()\n",
    "\n",
    "    # writing the csv file\n",
    "    print(\"writing file...\")\n",
    "    df = pd.DataFrame(rows, columns=cols)\n",
    "    df.to_csv(filename, index=False)\n",
    "    \n",
    "    print('Done')\n",
    "    \n",
    "    return df"
   ]
  },
  {
   "cell_type": "code",
   "execution_count": 3,
   "id": "92954fb9-9c4c-4271-9819-74e85ff929a2",
   "metadata": {
    "jupyter": {
     "source_hidden": true
    },
    "tags": []
   },
   "outputs": [],
   "source": [
    "def unique_values(df):\n",
    "    for i in range(len(df.columns)):\n",
    "        unique =  df.iloc[:, i].unique()\n",
    "        print(i, unique)\n",
    "    return"
   ]
  },
  {
   "cell_type": "code",
   "execution_count": 4,
   "id": "da9493ef-c6e5-439d-9c1b-7b139f8381d7",
   "metadata": {
    "jupyter": {
     "source_hidden": true
    },
    "tags": []
   },
   "outputs": [],
   "source": [
    "def date_to_dtday(df, feature, form = 'day'):\n",
    "    '''\n",
    "    set date column to either binary or datetime numeric \n",
    "    '''\n",
    "    df[feature] =  pd.to_datetime(test['fl_date'], format='%Y-%m-%d')\n",
    "    df[feature] = df[feature].dt.day_of_week\n",
    "    if form == 'binary':\n",
    "        df.loc[df[feature] <= 4, feature] = 0\n",
    "        df.loc[df[feature] > 4, feature] = 1\n",
    "    return df"
   ]
  },
  {
   "cell_type": "code",
   "execution_count": 5,
   "id": "1301f9c7-6cd3-421d-a39e-7879e6d01b17",
   "metadata": {
    "jupyter": {
     "source_hidden": true
    },
    "tags": []
   },
   "outputs": [],
   "source": [
    "def replace_with_numeric(df, column):\n",
    "    '''\n",
    "    input the data frame and the column to repalace the unique values with numeric values\n",
    "    '''\n",
    "    unique_vals = df[column].unique()\n",
    "    df[column].replace(to_replace=unique_vals,\n",
    "                                  value= list(range(len(unique_vals))),\n",
    "                                  inplace=True)\n",
    "    return"
   ]
  },
  {
   "cell_type": "code",
   "execution_count": 43,
   "id": "f3f807f7-a65b-4fd9-8f03-52f2009981ad",
   "metadata": {},
   "outputs": [
    {
     "name": "stdout",
     "output_type": "stream",
     "text": [
      "creating connection...\n",
      "running query...\n",
      "writing file...\n",
      "Done\n"
     ]
    }
   ],
   "source": [
    "test = make_csv(\"SELECT * FROM flights LIMIT 1000000\", \"test1000000flight.csv\")"
   ]
  },
  {
   "cell_type": "code",
   "execution_count": 51,
   "id": "0163816f-804e-4248-b6dc-3a8791d342a5",
   "metadata": {},
   "outputs": [
    {
     "data": {
      "text/html": [
       "<div>\n",
       "<style scoped>\n",
       "    .dataframe tbody tr th:only-of-type {\n",
       "        vertical-align: middle;\n",
       "    }\n",
       "\n",
       "    .dataframe tbody tr th {\n",
       "        vertical-align: top;\n",
       "    }\n",
       "\n",
       "    .dataframe thead th {\n",
       "        text-align: right;\n",
       "    }\n",
       "</style>\n",
       "<table border=\"1\" class=\"dataframe\">\n",
       "  <thead>\n",
       "    <tr style=\"text-align: right;\">\n",
       "      <th></th>\n",
       "      <th>fl_date</th>\n",
       "      <th>op_carrier_fl_num</th>\n",
       "      <th>origin_airport_id</th>\n",
       "      <th>dest_airport_id</th>\n",
       "      <th>taxi_out</th>\n",
       "      <th>wheels_off</th>\n",
       "      <th>wheels_on</th>\n",
       "      <th>taxi_in</th>\n",
       "      <th>diverted</th>\n",
       "      <th>air_time</th>\n",
       "      <th>distance</th>\n",
       "      <th>total_delay</th>\n",
       "    </tr>\n",
       "  </thead>\n",
       "  <tbody>\n",
       "    <tr>\n",
       "      <th>0</th>\n",
       "      <td>2018-07-20</td>\n",
       "      <td>471</td>\n",
       "      <td>11259</td>\n",
       "      <td>13198</td>\n",
       "      <td>10.0</td>\n",
       "      <td>716.0</td>\n",
       "      <td>826.0</td>\n",
       "      <td>5.0</td>\n",
       "      <td>0.0</td>\n",
       "      <td>70.0</td>\n",
       "      <td>460.0</td>\n",
       "      <td>1</td>\n",
       "    </tr>\n",
       "    <tr>\n",
       "      <th>1</th>\n",
       "      <td>2018-07-20</td>\n",
       "      <td>616</td>\n",
       "      <td>11259</td>\n",
       "      <td>13198</td>\n",
       "      <td>14.0</td>\n",
       "      <td>2303.0</td>\n",
       "      <td>36.0</td>\n",
       "      <td>6.0</td>\n",
       "      <td>0.0</td>\n",
       "      <td>93.0</td>\n",
       "      <td>460.0</td>\n",
       "      <td>0</td>\n",
       "    </tr>\n",
       "    <tr>\n",
       "      <th>2</th>\n",
       "      <td>2018-07-20</td>\n",
       "      <td>2130</td>\n",
       "      <td>11259</td>\n",
       "      <td>13198</td>\n",
       "      <td>9.0</td>\n",
       "      <td>1128.0</td>\n",
       "      <td>1238.0</td>\n",
       "      <td>5.0</td>\n",
       "      <td>0.0</td>\n",
       "      <td>70.0</td>\n",
       "      <td>460.0</td>\n",
       "      <td>0</td>\n",
       "    </tr>\n",
       "    <tr>\n",
       "      <th>3</th>\n",
       "      <td>2018-07-20</td>\n",
       "      <td>2287</td>\n",
       "      <td>11259</td>\n",
       "      <td>13198</td>\n",
       "      <td>8.0</td>\n",
       "      <td>1854.0</td>\n",
       "      <td>2005.0</td>\n",
       "      <td>4.0</td>\n",
       "      <td>0.0</td>\n",
       "      <td>71.0</td>\n",
       "      <td>460.0</td>\n",
       "      <td>1</td>\n",
       "    </tr>\n",
       "    <tr>\n",
       "      <th>4</th>\n",
       "      <td>2018-07-20</td>\n",
       "      <td>2371</td>\n",
       "      <td>11259</td>\n",
       "      <td>13198</td>\n",
       "      <td>9.0</td>\n",
       "      <td>824.0</td>\n",
       "      <td>934.0</td>\n",
       "      <td>5.0</td>\n",
       "      <td>0.0</td>\n",
       "      <td>70.0</td>\n",
       "      <td>460.0</td>\n",
       "      <td>0</td>\n",
       "    </tr>\n",
       "  </tbody>\n",
       "</table>\n",
       "</div>"
      ],
      "text/plain": [
       "      fl_date  op_carrier_fl_num  origin_airport_id  dest_airport_id  \\\n",
       "0  2018-07-20                471              11259            13198   \n",
       "1  2018-07-20                616              11259            13198   \n",
       "2  2018-07-20               2130              11259            13198   \n",
       "3  2018-07-20               2287              11259            13198   \n",
       "4  2018-07-20               2371              11259            13198   \n",
       "\n",
       "   taxi_out  wheels_off  wheels_on  taxi_in  diverted  air_time  distance  \\\n",
       "0      10.0       716.0      826.0      5.0       0.0      70.0     460.0   \n",
       "1      14.0      2303.0       36.0      6.0       0.0      93.0     460.0   \n",
       "2       9.0      1128.0     1238.0      5.0       0.0      70.0     460.0   \n",
       "3       8.0      1854.0     2005.0      4.0       0.0      71.0     460.0   \n",
       "4       9.0       824.0      934.0      5.0       0.0      70.0     460.0   \n",
       "\n",
       "   total_delay  \n",
       "0            1  \n",
       "1            0  \n",
       "2            0  \n",
       "3            1  \n",
       "4            0  "
      ]
     },
     "execution_count": 51,
     "metadata": {},
     "output_type": "execute_result"
    }
   ],
   "source": [
    "test.head()"
   ]
  },
  {
   "cell_type": "code",
   "execution_count": 45,
   "id": "b67374b6-c3a1-4134-8617-a40aa692c497",
   "metadata": {},
   "outputs": [],
   "source": [
    "test['crs_dep_time'] = test['crs_dep_time'].astype('float64')\n",
    "test['crs_arr_time'] = test['crs_arr_time'].astype('float64')"
   ]
  },
  {
   "cell_type": "code",
   "execution_count": 46,
   "id": "740fae4b-63e2-4d49-9182-61801dd16769",
   "metadata": {},
   "outputs": [],
   "source": [
    "test['total_delay'] = (test['dep_time'] - test['crs_dep_time']) + (test['arr_time'] - test['crs_arr_time']) + (test['actual_elapsed_time'] - test['crs_elapsed_time'])"
   ]
  },
  {
   "cell_type": "code",
   "execution_count": 47,
   "id": "432bcdb0-db42-4d6c-9255-6860bd92a0a9",
   "metadata": {},
   "outputs": [],
   "source": [
    "test = test.drop(['dep_delay', 'arr_delay', 'nas_delay', 'security_delay', 'late_aircraft_delay', 'carrier_delay', 'weather_delay', 'no_name', 'mkt_carrier', 'branded_code_share', 'origin_city_name', 'origin', 'dest', 'dest_city_name', 'dep_time', 'crs_dep_time', 'arr_time', 'crs_arr_time', 'actual_elapsed_time', 'crs_elapsed_time', 'dup', 'cancelled', 'cancellation_code', 'flights', 'first_dep_time', 'total_add_gtime', 'longest_add_gtime', 'mkt_unique_carrier', 'mkt_carrier_fl_num', 'tail_num', 'op_unique_carrier'], axis = 1)"
   ]
  },
  {
   "cell_type": "code",
   "execution_count": 50,
   "id": "559a0770-9906-4b01-8cd6-a909697e687e",
   "metadata": {},
   "outputs": [],
   "source": [
    "test['total_delay'] = test['total_delay'].apply(lambda x: 0 if x < 0 else 1)"
   ]
  },
  {
   "cell_type": "code",
   "execution_count": 49,
   "id": "e66d986c-45e2-42b0-a1ad-0df08ca32a3d",
   "metadata": {},
   "outputs": [],
   "source": [
    "test = test.dropna()"
   ]
  },
  {
   "cell_type": "code",
   "execution_count": 52,
   "id": "a86f5934-99ab-425b-9aef-d56e291aa316",
   "metadata": {},
   "outputs": [],
   "source": [
    "test = date_to_dtday(test, 'fl_date', 'binary')"
   ]
  },
  {
   "cell_type": "code",
   "execution_count": 42,
   "id": "f01725ac-fccc-4e4a-a73f-91f9737d0185",
   "metadata": {},
   "outputs": [
    {
     "data": {
      "text/html": [
       "<div>\n",
       "<style scoped>\n",
       "    .dataframe tbody tr th:only-of-type {\n",
       "        vertical-align: middle;\n",
       "    }\n",
       "\n",
       "    .dataframe tbody tr th {\n",
       "        vertical-align: top;\n",
       "    }\n",
       "\n",
       "    .dataframe thead th {\n",
       "        text-align: right;\n",
       "    }\n",
       "</style>\n",
       "<table border=\"1\" class=\"dataframe\">\n",
       "  <thead>\n",
       "    <tr style=\"text-align: right;\">\n",
       "      <th></th>\n",
       "      <th>fl_date</th>\n",
       "      <th>op_carrier_fl_num</th>\n",
       "      <th>origin_airport_id</th>\n",
       "      <th>dest_airport_id</th>\n",
       "      <th>taxi_out</th>\n",
       "      <th>wheels_off</th>\n",
       "      <th>wheels_on</th>\n",
       "      <th>taxi_in</th>\n",
       "      <th>diverted</th>\n",
       "      <th>air_time</th>\n",
       "      <th>distance</th>\n",
       "      <th>total_delay</th>\n",
       "    </tr>\n",
       "  </thead>\n",
       "  <tbody>\n",
       "    <tr>\n",
       "      <th>999995</th>\n",
       "      <td>0</td>\n",
       "      <td>1071</td>\n",
       "      <td>10397</td>\n",
       "      <td>13495</td>\n",
       "      <td>10.0</td>\n",
       "      <td>1805.0</td>\n",
       "      <td>1815.0</td>\n",
       "      <td>4.0</td>\n",
       "      <td>0.0</td>\n",
       "      <td>70.0</td>\n",
       "      <td>425.0</td>\n",
       "      <td>1</td>\n",
       "    </tr>\n",
       "    <tr>\n",
       "      <th>999996</th>\n",
       "      <td>0</td>\n",
       "      <td>1208</td>\n",
       "      <td>10397</td>\n",
       "      <td>13495</td>\n",
       "      <td>18.0</td>\n",
       "      <td>2048.0</td>\n",
       "      <td>2059.0</td>\n",
       "      <td>4.0</td>\n",
       "      <td>0.0</td>\n",
       "      <td>71.0</td>\n",
       "      <td>425.0</td>\n",
       "      <td>1</td>\n",
       "    </tr>\n",
       "    <tr>\n",
       "      <th>999997</th>\n",
       "      <td>0</td>\n",
       "      <td>264</td>\n",
       "      <td>10397</td>\n",
       "      <td>13796</td>\n",
       "      <td>13.0</td>\n",
       "      <td>1555.0</td>\n",
       "      <td>1755.0</td>\n",
       "      <td>5.0</td>\n",
       "      <td>0.0</td>\n",
       "      <td>300.0</td>\n",
       "      <td>2130.0</td>\n",
       "      <td>1</td>\n",
       "    </tr>\n",
       "    <tr>\n",
       "      <th>999998</th>\n",
       "      <td>0</td>\n",
       "      <td>163</td>\n",
       "      <td>10397</td>\n",
       "      <td>14027</td>\n",
       "      <td>9.0</td>\n",
       "      <td>2112.0</td>\n",
       "      <td>2233.0</td>\n",
       "      <td>3.0</td>\n",
       "      <td>0.0</td>\n",
       "      <td>81.0</td>\n",
       "      <td>545.0</td>\n",
       "      <td>1</td>\n",
       "    </tr>\n",
       "    <tr>\n",
       "      <th>999999</th>\n",
       "      <td>0</td>\n",
       "      <td>2108</td>\n",
       "      <td>10397</td>\n",
       "      <td>14027</td>\n",
       "      <td>18.0</td>\n",
       "      <td>1059.0</td>\n",
       "      <td>1227.0</td>\n",
       "      <td>5.0</td>\n",
       "      <td>0.0</td>\n",
       "      <td>88.0</td>\n",
       "      <td>545.0</td>\n",
       "      <td>1</td>\n",
       "    </tr>\n",
       "  </tbody>\n",
       "</table>\n",
       "</div>"
      ],
      "text/plain": [
       "        fl_date  op_carrier_fl_num  origin_airport_id  dest_airport_id  \\\n",
       "999995        0               1071              10397            13495   \n",
       "999996        0               1208              10397            13495   \n",
       "999997        0                264              10397            13796   \n",
       "999998        0                163              10397            14027   \n",
       "999999        0               2108              10397            14027   \n",
       "\n",
       "        taxi_out  wheels_off  wheels_on  taxi_in  diverted  air_time  \\\n",
       "999995      10.0      1805.0     1815.0      4.0       0.0      70.0   \n",
       "999996      18.0      2048.0     2059.0      4.0       0.0      71.0   \n",
       "999997      13.0      1555.0     1755.0      5.0       0.0     300.0   \n",
       "999998       9.0      2112.0     2233.0      3.0       0.0      81.0   \n",
       "999999      18.0      1059.0     1227.0      5.0       0.0      88.0   \n",
       "\n",
       "        distance  total_delay  \n",
       "999995     425.0            1  \n",
       "999996     425.0            1  \n",
       "999997    2130.0            1  \n",
       "999998     545.0            1  \n",
       "999999     545.0            1  "
      ]
     },
     "execution_count": 42,
     "metadata": {},
     "output_type": "execute_result"
    }
   ],
   "source": [
    "test.tail()"
   ]
  },
  {
   "cell_type": "code",
   "execution_count": 101,
   "id": "0438ca58-c462-4b1a-adb8-57428b5f857b",
   "metadata": {},
   "outputs": [],
   "source": [
    "y_col = 'total_delay'\n",
    "y = test[y_col]\n",
    "X = test[test.columns.drop(y_col)]"
   ]
  },
  {
   "cell_type": "code",
   "execution_count": 94,
   "id": "75650d8d-14d2-4eae-8786-d09956872a94",
   "metadata": {},
   "outputs": [
    {
     "name": "stdout",
     "output_type": "stream",
     "text": [
      "\n",
      "No columns dropped.\n",
      "\n",
      "Target values: [1 0 0 ... 0 0 1] \n",
      "\n",
      "Column(s) remaining: Index(['fl_date', 'op_carrier_fl_num', 'origin_airport_id', 'dest_airport_id',\n",
      "       'taxi_out', 'wheels_off', 'wheels_on', 'taxi_in', 'diverted',\n",
      "       'air_time', 'distance', 'total_delay'],\n",
      "      dtype='object')\n",
      "\n",
      "training sample size:  780177\n",
      "testing sample size:  195045\n"
     ]
    },
    {
     "data": {
      "text/plain": [
       "(array([[-0.57445725,  1.15649042,  1.56634299, ...,  0.        ,\n",
       "         -0.94544473, -1.09655903],\n",
       "        [-0.57445725, -0.26734716,  0.3420244 , ...,  0.        ,\n",
       "         -1.01699213, -1.01155482],\n",
       "        [-0.57445725, -0.74051929,  1.30980035, ...,  0.        ,\n",
       "         -0.84527838, -0.79564414],\n",
       "        ...,\n",
       "        [-0.57445725,  0.66873422, -0.90853897, ...,  0.        ,\n",
       "         -1.11715848, -1.04385642],\n",
       "        [ 1.74077357,  0.8513052 ,  0.92990728, ...,  0.        ,\n",
       "         -0.22997079, -0.18021369],\n",
       "        [-0.57445725, -0.59899977,  0.17733846, ...,  0.        ,\n",
       "          0.42826523,  0.3026102 ]]),\n",
       " array([[ 1.74077357, -1.39518209, -0.18418327, ...,  0.        ,\n",
       "         -1.16008691, -1.10675953],\n",
       "        [ 1.74077357,  0.51803214,  0.53295511, ...,  0.        ,\n",
       "         -0.40168454, -0.37572336],\n",
       "        [-0.57445725,  0.61958049, -1.36716635, ...,  0.        ,\n",
       "         -0.18704236, -0.18871411],\n",
       "        ...,\n",
       "        [-0.57445725, -1.36385334,  0.93450012, ...,  0.        ,\n",
       "         -0.81665942, -0.73784128],\n",
       "        [-0.57445725,  1.22238882, -0.27472773, ...,  0.        ,\n",
       "         -0.64494568, -0.65963741],\n",
       "        [ 1.74077357,  0.71032583, -0.26554206, ...,  0.        ,\n",
       "         -0.54477933, -0.38592387]]),\n",
       " array([0, 1, 0, ..., 0, 0, 1]),\n",
       " array([1, 1, 1, ..., 1, 0, 0]))"
      ]
     },
     "execution_count": 94,
     "metadata": {},
     "output_type": "execute_result"
    }
   ],
   "source": [
    "#sc.split_data(test, 'total_delay', scaler = 'standard')"
   ]
  },
  {
   "cell_type": "code",
   "execution_count": 102,
   "id": "64f62542-4035-44c5-9609-4338fe62c564",
   "metadata": {},
   "outputs": [],
   "source": [
    "X_train, X_test, y_train, y_test = train_test_split(X, y, test_size = 0.3)"
   ]
  },
  {
   "cell_type": "code",
   "execution_count": 115,
   "id": "6be1b2fd-7f98-4cfc-a3f6-98a6d222ab32",
   "metadata": {},
   "outputs": [
    {
     "data": {
      "text/plain": [
       "LogisticRegression(max_iter=1000)"
      ]
     },
     "execution_count": 115,
     "metadata": {},
     "output_type": "execute_result"
    }
   ],
   "source": [
    "clf = LogisticRegression(penalty = 'l2', max_iter = 1000)\n",
    "\n",
    "clf.fit(X, y)"
   ]
  },
  {
   "cell_type": "code",
   "execution_count": 116,
   "id": "1b0b7e7d-f49d-4562-bf29-bee60506d846",
   "metadata": {},
   "outputs": [
    {
     "name": "stdout",
     "output_type": "stream",
     "text": [
      "0.6906178755635461\n"
     ]
    }
   ],
   "source": [
    "y_pred = clf.predict(X_test)\n",
    "print(accuracy_score(y_test, y_pred))"
   ]
  },
  {
   "cell_type": "code",
   "execution_count": 117,
   "id": "bb745578-6739-4c7c-b171-fbe42157f093",
   "metadata": {},
   "outputs": [
    {
     "name": "stdout",
     "output_type": "stream",
     "text": [
      "              precision    recall  f1-score   support\n",
      "\n",
      "           0       0.70      0.88      0.78    183264\n",
      "           1       0.65      0.38      0.48    109303\n",
      "\n",
      "    accuracy                           0.69    292567\n",
      "   macro avg       0.67      0.63      0.63    292567\n",
      "weighted avg       0.68      0.69      0.67    292567\n",
      "\n"
     ]
    }
   ],
   "source": [
    "print(classification_report(y_test, y_pred))"
   ]
  },
  {
   "cell_type": "code",
   "execution_count": 109,
   "id": "772fcd0c-4733-41a1-b872-1a2d9950cc3a",
   "metadata": {},
   "outputs": [
    {
     "name": "stdout",
     "output_type": "stream",
     "text": [
      "0.7920134533286393\n"
     ]
    }
   ],
   "source": [
    "rfc = RandomForestClassifier(n_estimators = 100, random_state = 0)\n",
    "rfc.fit(X_train, y_train)\n",
    "y_pred = rfc.predict(X_test)\n",
    "print(accuracy_score(y_test, y_pred))"
   ]
  },
  {
   "cell_type": "code",
   "execution_count": 110,
   "id": "4da64eaf-01fa-43e4-be01-daaab86161a2",
   "metadata": {},
   "outputs": [
    {
     "name": "stdout",
     "output_type": "stream",
     "text": [
      "              precision    recall  f1-score   support\n",
      "\n",
      "           0       0.79      0.91      0.85    183264\n",
      "           1       0.80      0.59      0.68    109303\n",
      "\n",
      "    accuracy                           0.79    292567\n",
      "   macro avg       0.79      0.75      0.76    292567\n",
      "weighted avg       0.79      0.79      0.78    292567\n",
      "\n"
     ]
    }
   ],
   "source": [
    "print(classification_report(y_test, y_pred))"
   ]
  },
  {
   "cell_type": "code",
   "execution_count": 112,
   "id": "c4fb5717-f889-4856-9134-988026f38a83",
   "metadata": {},
   "outputs": [
    {
     "name": "stdout",
     "output_type": "stream",
     "text": [
      "RMSE: 0.456055\n"
     ]
    }
   ],
   "source": [
    "rmse = np.sqrt(mean_squared_error(y_test, y_pred))\n",
    "print('RMSE: %f' % (rmse))"
   ]
  },
  {
   "cell_type": "code",
   "execution_count": 113,
   "id": "a4c2c069-7564-425e-8696-af0f47af52c7",
   "metadata": {},
   "outputs": [
    {
     "data": {
      "text/plain": [
       "<sklearn.metrics._plot.roc_curve.RocCurveDisplay at 0x7fce5d70c3a0>"
      ]
     },
     "execution_count": 113,
     "metadata": {},
     "output_type": "execute_result"
    },
    {
     "data": {
      "image/png": "[encoded data removed]",
      "text/plain": [
       "<Figure size 432x288 with 1 Axes>"
      ]
     },
     "metadata": {
      "needs_background": "light"
     },
     "output_type": "display_data"
    }
   ],
   "source": [
    "RocCurveDisplay.from_predictions(y_test, y_pred)"
   ]
  },
  {
   "cell_type": "code",
   "execution_count": 118,
   "id": "96feaeb3-938d-4f14-9ef6-161d4f85d353",
   "metadata": {},
   "outputs": [
    {
     "name": "stdout",
     "output_type": "stream",
     "text": [
      "Confusion matrix\n",
      "\n",
      " [[160614  22650]\n",
      " [ 67865  41438]]\n"
     ]
    }
   ],
   "source": [
    "from sklearn.metrics import confusion_matrix\n",
    "\n",
    "cm = confusion_matrix(y_test, y_pred)\n",
    "\n",
    "print('Confusion matrix\\n\\n', cm)"
   ]
  },
  {
   "cell_type": "code",
   "execution_count": 85,
   "id": "80ee944e-b85f-49ff-85dd-12a8ff2a3a21",
   "metadata": {},
   "outputs": [
    {
     "data": {
      "image/png": "[encoded data removed]",
      "text/plain": [
       "<Figure size 432x288 with 1 Axes>"
      ]
     },
     "metadata": {
      "needs_background": "light"
     },
     "output_type": "display_data"
    }
   ],
   "source": [
    "import time\n",
    "import numpy as np\n",
    "\n",
    "start_time = time.time()\n",
    "feature_names = [test.columns[i] for i in range(X.shape[1])]\n",
    "forest = RandomForestClassifier(random_state=0)\n",
    "forest.fit(X_train, y_train)\n",
    "\n",
    "importances = forest.feature_importances_\n",
    "std = np.std([tree.feature_importances_ for tree in forest.estimators_], axis=0)\n",
    "\n",
    "forest_importances = pd.Series(importances, index=feature_names)\n",
    "\n",
    "fig, ax = plt.subplots()\n",
    "forest_importances.plot.bar(yerr=std, ax=ax)\n",
    "ax.set_title(\"Feature importances using MDI\")\n",
    "ax.set_ylabel(\"Mean decrease in impurity\")\n",
    "fig.tight_layout()"
   ]
  },
  {
   "cell_type": "code",
   "execution_count": 86,
   "id": "66d9dba8-436d-4a81-86ee-83a78f7efa07",
   "metadata": {},
   "outputs": [
    {
     "name": "stdout",
     "output_type": "stream",
     "text": [
      "Elapsed time to compute the importances: 1076.872 seconds\n"
     ]
    }
   ],
   "source": [
    "from sklearn.inspection import permutation_importance\n",
    "\n",
    "start_time = time.time()\n",
    "result = permutation_importance(\n",
    "    forest, X_test, y_test, n_repeats=10, random_state=42, n_jobs=2\n",
    ")\n",
    "elapsed_time = time.time() - start_time\n",
    "print(f\"Elapsed time to compute the importances: {elapsed_time:.3f} seconds\")\n",
    "\n",
    "forest_importances = pd.Series(result.importances_mean, index=feature_names)"
   ]
  },
  {
   "cell_type": "code",
   "execution_count": 87,
   "id": "db6cf93f-bc33-4c3d-aa50-d270e4069ae9",
   "metadata": {},
   "outputs": [
    {
     "data": {
      "image/png": "[encoded data removed]",
      "text/plain": [
       "<Figure size 432x288 with 1 Axes>"
      ]
     },
     "metadata": {
      "needs_background": "light"
     },
     "output_type": "display_data"
    }
   ],
   "source": [
    "fig, ax = plt.subplots()\n",
    "forest_importances.plot.bar(yerr=result.importances_std, ax=ax)\n",
    "ax.set_title(\"Feature importances using permutation on full model\")\n",
    "ax.set_ylabel(\"Mean accuracy decrease\")\n",
    "fig.tight_layout()\n",
    "plt.show()"
   ]
  },
  {
   "cell_type": "code",
   "execution_count": 297,
   "id": "91dd4266-6c36-457a-8178-0b99dd518b92",
   "metadata": {},
   "outputs": [],
   "source": [
    "testl = pd.read_csv('test1000000linflight.csv')"
   ]
  },
  {
   "cell_type": "code",
   "execution_count": 298,
   "id": "f017af79-2952-4f8c-a540-41125ddb5981",
   "metadata": {},
   "outputs": [],
   "source": [
    "testl['crs_dep_time'] = testl['crs_dep_time'].astype('float64')\n",
    "testl['crs_arr_time'] = testl['crs_arr_time'].astype('float64')"
   ]
  },
  {
   "cell_type": "code",
   "execution_count": 299,
   "id": "f6cde40e-6ffe-4652-84e8-b1b93d6a5810",
   "metadata": {},
   "outputs": [],
   "source": [
    "testl['total_delay'] = (testl['dep_time'] - testl['crs_dep_time']) + (testl['arr_time'] - testl['crs_arr_time']) + (testl['actual_elapsed_time'] - testl['crs_elapsed_time'])"
   ]
  },
  {
   "cell_type": "code",
   "execution_count": 300,
   "id": "df8eff90-3535-4975-a050-56d6dfd8ec52",
   "metadata": {},
   "outputs": [],
   "source": [
    "testl = testl.drop(['dep_delay', 'arr_delay', 'nas_delay', 'diverted', 'security_delay', 'late_aircraft_delay', 'carrier_delay', 'weather_delay', 'no_name', 'mkt_carrier', 'branded_code_share', 'origin_city_name', 'origin', 'dest', 'dest_city_name', 'dep_time', 'crs_dep_time', 'arr_time', 'crs_arr_time', 'actual_elapsed_time', 'crs_elapsed_time', 'dup', 'cancelled', 'cancellation_code', 'flights', 'first_dep_time', 'total_add_gtime', 'longest_add_gtime', 'mkt_unique_carrier', 'mkt_carrier_fl_num', 'tail_num', 'op_unique_carrier'], axis = 1)"
   ]
  },
  {
   "cell_type": "code",
   "execution_count": 302,
   "id": "3b3c6502-8c4c-4bed-b3fb-a9a08516e00e",
   "metadata": {
    "collapsed": true,
    "jupyter": {
     "outputs_hidden": true
    },
    "tags": []
   },
   "outputs": [
    {
     "ename": "TypeError",
     "evalue": "Invalid comparison between dtype=datetime64[ns] and int",
     "output_type": "error",
     "traceback": [
      "\u001b[0;31m---------------------------------------------------------------------------\u001b[0m",
      "\u001b[0;31mInvalidComparison\u001b[0m                         Traceback (most recent call last)",
      "\u001b[0;32m~/opt/anaconda3/lib/python3.9/site-packages/pandas/core/arrays/datetimelike.py\u001b[0m in \u001b[0;36m_cmp_method\u001b[0;34m(self, other, op)\u001b[0m\n\u001b[1;32m   1007\u001b[0m         \u001b[0;32mtry\u001b[0m\u001b[0;34m:\u001b[0m\u001b[0;34m\u001b[0m\u001b[0;34m\u001b[0m\u001b[0m\n\u001b[0;32m-> 1008\u001b[0;31m             \u001b[0mother\u001b[0m \u001b[0;34m=\u001b[0m \u001b[0mself\u001b[0m\u001b[0;34m.\u001b[0m\u001b[0m_validate_comparison_value\u001b[0m\u001b[0;34m(\u001b[0m\u001b[0mother\u001b[0m\u001b[0;34m)\u001b[0m\u001b[0;34m\u001b[0m\u001b[0;34m\u001b[0m\u001b[0m\n\u001b[0m\u001b[1;32m   1009\u001b[0m         \u001b[0;32mexcept\u001b[0m \u001b[0mInvalidComparison\u001b[0m\u001b[0;34m:\u001b[0m\u001b[0;34m\u001b[0m\u001b[0;34m\u001b[0m\u001b[0m\n",
      "\u001b[0;32m~/opt/anaconda3/lib/python3.9/site-packages/pandas/core/arrays/datetimelike.py\u001b[0m in \u001b[0;36m_validate_comparison_value\u001b[0;34m(self, other)\u001b[0m\n\u001b[1;32m    545\u001b[0m         \u001b[0;32melif\u001b[0m \u001b[0;32mnot\u001b[0m \u001b[0mis_list_like\u001b[0m\u001b[0;34m(\u001b[0m\u001b[0mother\u001b[0m\u001b[0;34m)\u001b[0m\u001b[0;34m:\u001b[0m\u001b[0;34m\u001b[0m\u001b[0;34m\u001b[0m\u001b[0m\n\u001b[0;32m--> 546\u001b[0;31m             \u001b[0;32mraise\u001b[0m \u001b[0mInvalidComparison\u001b[0m\u001b[0;34m(\u001b[0m\u001b[0mother\u001b[0m\u001b[0;34m)\u001b[0m\u001b[0;34m\u001b[0m\u001b[0;34m\u001b[0m\u001b[0m\n\u001b[0m\u001b[1;32m    547\u001b[0m \u001b[0;34m\u001b[0m\u001b[0m\n",
      "\u001b[0;31mInvalidComparison\u001b[0m: 4",
      "\nDuring handling of the above exception, another exception occurred:\n",
      "\u001b[0;31mTypeError\u001b[0m                                 Traceback (most recent call last)",
      "\u001b[0;32m/var/folders/p7/h49crc791_s32gzljswx64y00000gn/T/ipykernel_37380/2568988534.py\u001b[0m in \u001b[0;36m<module>\u001b[0;34m\u001b[0m\n\u001b[0;32m----> 1\u001b[0;31m \u001b[0mtestl\u001b[0m \u001b[0;34m=\u001b[0m \u001b[0mdate_to_dtday\u001b[0m\u001b[0;34m(\u001b[0m\u001b[0mtestl\u001b[0m\u001b[0;34m,\u001b[0m \u001b[0;34m'fl_date'\u001b[0m\u001b[0;34m,\u001b[0m \u001b[0;34m'binary'\u001b[0m\u001b[0;34m)\u001b[0m\u001b[0;34m\u001b[0m\u001b[0;34m\u001b[0m\u001b[0m\n\u001b[0m",
      "\u001b[0;32m/var/folders/p7/h49crc791_s32gzljswx64y00000gn/T/ipykernel_37380/567907106.py\u001b[0m in \u001b[0;36mdate_to_dtday\u001b[0;34m(df, feature, form)\u001b[0m\n\u001b[1;32m      6\u001b[0m     \u001b[0;31m#df[feature] = df[feature].dt.day_of_week\u001b[0m\u001b[0;34m\u001b[0m\u001b[0;34m\u001b[0m\u001b[0m\n\u001b[1;32m      7\u001b[0m     \u001b[0;32mif\u001b[0m \u001b[0mform\u001b[0m \u001b[0;34m==\u001b[0m \u001b[0;34m'binary'\u001b[0m\u001b[0;34m:\u001b[0m\u001b[0;34m\u001b[0m\u001b[0;34m\u001b[0m\u001b[0m\n\u001b[0;32m----> 8\u001b[0;31m         \u001b[0mdf\u001b[0m\u001b[0;34m.\u001b[0m\u001b[0mloc\u001b[0m\u001b[0;34m[\u001b[0m\u001b[0mdf\u001b[0m\u001b[0;34m[\u001b[0m\u001b[0mfeature\u001b[0m\u001b[0;34m]\u001b[0m \u001b[0;34m<=\u001b[0m \u001b[0;36m4\u001b[0m\u001b[0;34m,\u001b[0m \u001b[0mfeature\u001b[0m\u001b[0;34m]\u001b[0m \u001b[0;34m=\u001b[0m \u001b[0;36m0\u001b[0m\u001b[0;34m\u001b[0m\u001b[0;34m\u001b[0m\u001b[0m\n\u001b[0m\u001b[1;32m      9\u001b[0m         \u001b[0mdf\u001b[0m\u001b[0;34m.\u001b[0m\u001b[0mloc\u001b[0m\u001b[0;34m[\u001b[0m\u001b[0mdf\u001b[0m\u001b[0;34m[\u001b[0m\u001b[0mfeature\u001b[0m\u001b[0;34m]\u001b[0m \u001b[0;34m>\u001b[0m \u001b[0;36m4\u001b[0m\u001b[0;34m,\u001b[0m \u001b[0mfeature\u001b[0m\u001b[0;34m]\u001b[0m \u001b[0;34m=\u001b[0m \u001b[0;36m1\u001b[0m\u001b[0;34m\u001b[0m\u001b[0;34m\u001b[0m\u001b[0m\n\u001b[1;32m     10\u001b[0m     \u001b[0;32mreturn\u001b[0m \u001b[0mdf\u001b[0m\u001b[0;34m\u001b[0m\u001b[0;34m\u001b[0m\u001b[0m\n",
      "\u001b[0;32m~/opt/anaconda3/lib/python3.9/site-packages/pandas/core/ops/common.py\u001b[0m in \u001b[0;36mnew_method\u001b[0;34m(self, other)\u001b[0m\n\u001b[1;32m     67\u001b[0m         \u001b[0mother\u001b[0m \u001b[0;34m=\u001b[0m \u001b[0mitem_from_zerodim\u001b[0m\u001b[0;34m(\u001b[0m\u001b[0mother\u001b[0m\u001b[0;34m)\u001b[0m\u001b[0;34m\u001b[0m\u001b[0;34m\u001b[0m\u001b[0m\n\u001b[1;32m     68\u001b[0m \u001b[0;34m\u001b[0m\u001b[0m\n\u001b[0;32m---> 69\u001b[0;31m         \u001b[0;32mreturn\u001b[0m \u001b[0mmethod\u001b[0m\u001b[0;34m(\u001b[0m\u001b[0mself\u001b[0m\u001b[0;34m,\u001b[0m \u001b[0mother\u001b[0m\u001b[0;34m)\u001b[0m\u001b[0;34m\u001b[0m\u001b[0;34m\u001b[0m\u001b[0m\n\u001b[0m\u001b[1;32m     70\u001b[0m \u001b[0;34m\u001b[0m\u001b[0m\n\u001b[1;32m     71\u001b[0m     \u001b[0;32mreturn\u001b[0m \u001b[0mnew_method\u001b[0m\u001b[0;34m\u001b[0m\u001b[0;34m\u001b[0m\u001b[0m\n",
      "\u001b[0;32m~/opt/anaconda3/lib/python3.9/site-packages/pandas/core/arraylike.py\u001b[0m in \u001b[0;36m__le__\u001b[0;34m(self, other)\u001b[0m\n\u001b[1;32m     42\u001b[0m     \u001b[0;34m@\u001b[0m\u001b[0munpack_zerodim_and_defer\u001b[0m\u001b[0;34m(\u001b[0m\u001b[0;34m\"__le__\"\u001b[0m\u001b[0;34m)\u001b[0m\u001b[0;34m\u001b[0m\u001b[0;34m\u001b[0m\u001b[0m\n\u001b[1;32m     43\u001b[0m     \u001b[0;32mdef\u001b[0m \u001b[0m__le__\u001b[0m\u001b[0;34m(\u001b[0m\u001b[0mself\u001b[0m\u001b[0;34m,\u001b[0m \u001b[0mother\u001b[0m\u001b[0;34m)\u001b[0m\u001b[0;34m:\u001b[0m\u001b[0;34m\u001b[0m\u001b[0;34m\u001b[0m\u001b[0m\n\u001b[0;32m---> 44\u001b[0;31m         \u001b[0;32mreturn\u001b[0m \u001b[0mself\u001b[0m\u001b[0;34m.\u001b[0m\u001b[0m_cmp_method\u001b[0m\u001b[0;34m(\u001b[0m\u001b[0mother\u001b[0m\u001b[0;34m,\u001b[0m \u001b[0moperator\u001b[0m\u001b[0;34m.\u001b[0m\u001b[0mle\u001b[0m\u001b[0;34m)\u001b[0m\u001b[0;34m\u001b[0m\u001b[0;34m\u001b[0m\u001b[0m\n\u001b[0m\u001b[1;32m     45\u001b[0m \u001b[0;34m\u001b[0m\u001b[0m\n\u001b[1;32m     46\u001b[0m     \u001b[0;34m@\u001b[0m\u001b[0munpack_zerodim_and_defer\u001b[0m\u001b[0;34m(\u001b[0m\u001b[0;34m\"__gt__\"\u001b[0m\u001b[0;34m)\u001b[0m\u001b[0;34m\u001b[0m\u001b[0;34m\u001b[0m\u001b[0m\n",
      "\u001b[0;32m~/opt/anaconda3/lib/python3.9/site-packages/pandas/core/series.py\u001b[0m in \u001b[0;36m_cmp_method\u001b[0;34m(self, other, op)\u001b[0m\n\u001b[1;32m   5500\u001b[0m \u001b[0;34m\u001b[0m\u001b[0m\n\u001b[1;32m   5501\u001b[0m         \u001b[0;32mwith\u001b[0m \u001b[0mnp\u001b[0m\u001b[0;34m.\u001b[0m\u001b[0merrstate\u001b[0m\u001b[0;34m(\u001b[0m\u001b[0mall\u001b[0m\u001b[0;34m=\u001b[0m\u001b[0;34m\"ignore\"\u001b[0m\u001b[0;34m)\u001b[0m\u001b[0;34m:\u001b[0m\u001b[0;34m\u001b[0m\u001b[0;34m\u001b[0m\u001b[0m\n\u001b[0;32m-> 5502\u001b[0;31m             \u001b[0mres_values\u001b[0m \u001b[0;34m=\u001b[0m \u001b[0mops\u001b[0m\u001b[0;34m.\u001b[0m\u001b[0mcomparison_op\u001b[0m\u001b[0;34m(\u001b[0m\u001b[0mlvalues\u001b[0m\u001b[0;34m,\u001b[0m \u001b[0mrvalues\u001b[0m\u001b[0;34m,\u001b[0m \u001b[0mop\u001b[0m\u001b[0;34m)\u001b[0m\u001b[0;34m\u001b[0m\u001b[0;34m\u001b[0m\u001b[0m\n\u001b[0m\u001b[1;32m   5503\u001b[0m \u001b[0;34m\u001b[0m\u001b[0m\n\u001b[1;32m   5504\u001b[0m         \u001b[0;32mreturn\u001b[0m \u001b[0mself\u001b[0m\u001b[0;34m.\u001b[0m\u001b[0m_construct_result\u001b[0m\u001b[0;34m(\u001b[0m\u001b[0mres_values\u001b[0m\u001b[0;34m,\u001b[0m \u001b[0mname\u001b[0m\u001b[0;34m=\u001b[0m\u001b[0mres_name\u001b[0m\u001b[0;34m)\u001b[0m\u001b[0;34m\u001b[0m\u001b[0;34m\u001b[0m\u001b[0m\n",
      "\u001b[0;32m~/opt/anaconda3/lib/python3.9/site-packages/pandas/core/ops/array_ops.py\u001b[0m in \u001b[0;36mcomparison_op\u001b[0;34m(left, right, op)\u001b[0m\n\u001b[1;32m    268\u001b[0m     ):\n\u001b[1;32m    269\u001b[0m         \u001b[0;31m# Call the method on lvalues\u001b[0m\u001b[0;34m\u001b[0m\u001b[0;34m\u001b[0m\u001b[0m\n\u001b[0;32m--> 270\u001b[0;31m         \u001b[0mres_values\u001b[0m \u001b[0;34m=\u001b[0m \u001b[0mop\u001b[0m\u001b[0;34m(\u001b[0m\u001b[0mlvalues\u001b[0m\u001b[0;34m,\u001b[0m \u001b[0mrvalues\u001b[0m\u001b[0;34m)\u001b[0m\u001b[0;34m\u001b[0m\u001b[0;34m\u001b[0m\u001b[0m\n\u001b[0m\u001b[1;32m    271\u001b[0m \u001b[0;34m\u001b[0m\u001b[0m\n\u001b[1;32m    272\u001b[0m     \u001b[0;32melif\u001b[0m \u001b[0mis_scalar\u001b[0m\u001b[0;34m(\u001b[0m\u001b[0mrvalues\u001b[0m\u001b[0;34m)\u001b[0m \u001b[0;32mand\u001b[0m \u001b[0misna\u001b[0m\u001b[0;34m(\u001b[0m\u001b[0mrvalues\u001b[0m\u001b[0;34m)\u001b[0m\u001b[0;34m:\u001b[0m\u001b[0;34m\u001b[0m\u001b[0;34m\u001b[0m\u001b[0m\n",
      "\u001b[0;32m~/opt/anaconda3/lib/python3.9/site-packages/pandas/core/ops/common.py\u001b[0m in \u001b[0;36mnew_method\u001b[0;34m(self, other)\u001b[0m\n\u001b[1;32m     67\u001b[0m         \u001b[0mother\u001b[0m \u001b[0;34m=\u001b[0m \u001b[0mitem_from_zerodim\u001b[0m\u001b[0;34m(\u001b[0m\u001b[0mother\u001b[0m\u001b[0;34m)\u001b[0m\u001b[0;34m\u001b[0m\u001b[0;34m\u001b[0m\u001b[0m\n\u001b[1;32m     68\u001b[0m \u001b[0;34m\u001b[0m\u001b[0m\n\u001b[0;32m---> 69\u001b[0;31m         \u001b[0;32mreturn\u001b[0m \u001b[0mmethod\u001b[0m\u001b[0;34m(\u001b[0m\u001b[0mself\u001b[0m\u001b[0;34m,\u001b[0m \u001b[0mother\u001b[0m\u001b[0;34m)\u001b[0m\u001b[0;34m\u001b[0m\u001b[0;34m\u001b[0m\u001b[0m\n\u001b[0m\u001b[1;32m     70\u001b[0m \u001b[0;34m\u001b[0m\u001b[0m\n\u001b[1;32m     71\u001b[0m     \u001b[0;32mreturn\u001b[0m \u001b[0mnew_method\u001b[0m\u001b[0;34m\u001b[0m\u001b[0;34m\u001b[0m\u001b[0m\n",
      "\u001b[0;32m~/opt/anaconda3/lib/python3.9/site-packages/pandas/core/arraylike.py\u001b[0m in \u001b[0;36m__le__\u001b[0;34m(self, other)\u001b[0m\n\u001b[1;32m     42\u001b[0m     \u001b[0;34m@\u001b[0m\u001b[0munpack_zerodim_and_defer\u001b[0m\u001b[0;34m(\u001b[0m\u001b[0;34m\"__le__\"\u001b[0m\u001b[0;34m)\u001b[0m\u001b[0;34m\u001b[0m\u001b[0;34m\u001b[0m\u001b[0m\n\u001b[1;32m     43\u001b[0m     \u001b[0;32mdef\u001b[0m \u001b[0m__le__\u001b[0m\u001b[0;34m(\u001b[0m\u001b[0mself\u001b[0m\u001b[0;34m,\u001b[0m \u001b[0mother\u001b[0m\u001b[0;34m)\u001b[0m\u001b[0;34m:\u001b[0m\u001b[0;34m\u001b[0m\u001b[0;34m\u001b[0m\u001b[0m\n\u001b[0;32m---> 44\u001b[0;31m         \u001b[0;32mreturn\u001b[0m \u001b[0mself\u001b[0m\u001b[0;34m.\u001b[0m\u001b[0m_cmp_method\u001b[0m\u001b[0;34m(\u001b[0m\u001b[0mother\u001b[0m\u001b[0;34m,\u001b[0m \u001b[0moperator\u001b[0m\u001b[0;34m.\u001b[0m\u001b[0mle\u001b[0m\u001b[0;34m)\u001b[0m\u001b[0;34m\u001b[0m\u001b[0;34m\u001b[0m\u001b[0m\n\u001b[0m\u001b[1;32m     45\u001b[0m \u001b[0;34m\u001b[0m\u001b[0m\n\u001b[1;32m     46\u001b[0m     \u001b[0;34m@\u001b[0m\u001b[0munpack_zerodim_and_defer\u001b[0m\u001b[0;34m(\u001b[0m\u001b[0;34m\"__gt__\"\u001b[0m\u001b[0;34m)\u001b[0m\u001b[0;34m\u001b[0m\u001b[0;34m\u001b[0m\u001b[0m\n",
      "\u001b[0;32m~/opt/anaconda3/lib/python3.9/site-packages/pandas/core/arrays/datetimelike.py\u001b[0m in \u001b[0;36m_cmp_method\u001b[0;34m(self, other, op)\u001b[0m\n\u001b[1;32m   1008\u001b[0m             \u001b[0mother\u001b[0m \u001b[0;34m=\u001b[0m \u001b[0mself\u001b[0m\u001b[0;34m.\u001b[0m\u001b[0m_validate_comparison_value\u001b[0m\u001b[0;34m(\u001b[0m\u001b[0mother\u001b[0m\u001b[0;34m)\u001b[0m\u001b[0;34m\u001b[0m\u001b[0;34m\u001b[0m\u001b[0m\n\u001b[1;32m   1009\u001b[0m         \u001b[0;32mexcept\u001b[0m \u001b[0mInvalidComparison\u001b[0m\u001b[0;34m:\u001b[0m\u001b[0;34m\u001b[0m\u001b[0;34m\u001b[0m\u001b[0m\n\u001b[0;32m-> 1010\u001b[0;31m             \u001b[0;32mreturn\u001b[0m \u001b[0minvalid_comparison\u001b[0m\u001b[0;34m(\u001b[0m\u001b[0mself\u001b[0m\u001b[0;34m,\u001b[0m \u001b[0mother\u001b[0m\u001b[0;34m,\u001b[0m \u001b[0mop\u001b[0m\u001b[0;34m)\u001b[0m\u001b[0;34m\u001b[0m\u001b[0;34m\u001b[0m\u001b[0m\n\u001b[0m\u001b[1;32m   1011\u001b[0m \u001b[0;34m\u001b[0m\u001b[0m\n\u001b[1;32m   1012\u001b[0m         \u001b[0mdtype\u001b[0m \u001b[0;34m=\u001b[0m \u001b[0mgetattr\u001b[0m\u001b[0;34m(\u001b[0m\u001b[0mother\u001b[0m\u001b[0;34m,\u001b[0m \u001b[0;34m\"dtype\"\u001b[0m\u001b[0;34m,\u001b[0m \u001b[0;32mNone\u001b[0m\u001b[0;34m)\u001b[0m\u001b[0;34m\u001b[0m\u001b[0;34m\u001b[0m\u001b[0m\n",
      "\u001b[0;32m~/opt/anaconda3/lib/python3.9/site-packages/pandas/core/ops/invalid.py\u001b[0m in \u001b[0;36minvalid_comparison\u001b[0;34m(left, right, op)\u001b[0m\n\u001b[1;32m     32\u001b[0m     \u001b[0;32melse\u001b[0m\u001b[0;34m:\u001b[0m\u001b[0;34m\u001b[0m\u001b[0;34m\u001b[0m\u001b[0m\n\u001b[1;32m     33\u001b[0m         \u001b[0mtyp\u001b[0m \u001b[0;34m=\u001b[0m \u001b[0mtype\u001b[0m\u001b[0;34m(\u001b[0m\u001b[0mright\u001b[0m\u001b[0;34m)\u001b[0m\u001b[0;34m.\u001b[0m\u001b[0m__name__\u001b[0m\u001b[0;34m\u001b[0m\u001b[0;34m\u001b[0m\u001b[0m\n\u001b[0;32m---> 34\u001b[0;31m         \u001b[0;32mraise\u001b[0m \u001b[0mTypeError\u001b[0m\u001b[0;34m(\u001b[0m\u001b[0;34mf\"Invalid comparison between dtype={left.dtype} and {typ}\"\u001b[0m\u001b[0;34m)\u001b[0m\u001b[0;34m\u001b[0m\u001b[0;34m\u001b[0m\u001b[0m\n\u001b[0m\u001b[1;32m     35\u001b[0m     \u001b[0;32mreturn\u001b[0m \u001b[0mres_values\u001b[0m\u001b[0;34m\u001b[0m\u001b[0;34m\u001b[0m\u001b[0m\n\u001b[1;32m     36\u001b[0m \u001b[0;34m\u001b[0m\u001b[0m\n",
      "\u001b[0;31mTypeError\u001b[0m: Invalid comparison between dtype=datetime64[ns] and int"
     ]
    }
   ],
   "source": [
    "testl = date_to_dtday(testl, 'fl_date', 'binary')"
   ]
  },
  {
   "cell_type": "code",
   "execution_count": null,
   "id": "2a5dc712-80a6-4c7b-8602-ba59b852ef9c",
   "metadata": {},
   "outputs": [],
   "source": [
    "testday = testl['fl_date']\n",
    "testl['fl_date'] = testday.astype('int64')"
   ]
  },
  {
   "cell_type": "code",
   "execution_count": 303,
   "id": "366ac75b-dae5-4ca1-92ba-358189356d8a",
   "metadata": {},
   "outputs": [],
   "source": [
    "testl['fl_date'] =  pd.to_datetime(testl['fl_date'], format='%Y-%m-%d')\n",
    "testl['fl_date'] =  testl['fl_date'].dt.day_of_week\n",
    "testl.loc[testl['fl_date'] <= 4, 'fl_date'] = 0\n",
    "testl.loc[testl['fl_date'] > 4, 'fl_date'] = 1"
   ]
  },
  {
   "cell_type": "code",
   "execution_count": 304,
   "id": "93db40be-a047-4847-aa1d-d06bee47ae00",
   "metadata": {},
   "outputs": [],
   "source": [
    "testl = testl.dropna()"
   ]
  },
  {
   "cell_type": "code",
   "execution_count": 305,
   "id": "4b6aa53a-70e8-41ef-a87e-451751290be8",
   "metadata": {},
   "outputs": [
    {
     "data": {
      "text/plain": [
       "fl_date              0\n",
       "op_carrier_fl_num    0\n",
       "origin_airport_id    0\n",
       "dest_airport_id      0\n",
       "taxi_out             0\n",
       "wheels_off           0\n",
       "wheels_on            0\n",
       "taxi_in              0\n",
       "air_time             0\n",
       "distance             0\n",
       "total_delay          0\n",
       "dtype: int64"
      ]
     },
     "execution_count": 305,
     "metadata": {},
     "output_type": "execute_result"
    }
   ],
   "source": [
    "testl.isna().sum()"
   ]
  },
  {
   "cell_type": "code",
   "execution_count": 306,
   "id": "e9c22644-fcdf-4a51-a26a-205eb43377c2",
   "metadata": {},
   "outputs": [],
   "source": [
    "y_coll = 'total_delay'\n",
    "yl = testl[y_coll]\n",
    "Xl = testl[testl.columns.drop(y_coll)]"
   ]
  },
  {
   "cell_type": "code",
   "execution_count": 307,
   "id": "c431881e-ce18-4662-bd53-9a20864d91a5",
   "metadata": {
    "tags": []
   },
   "outputs": [
    {
     "name": "stdout",
     "output_type": "stream",
     "text": [
      "                            OLS Regression Results                            \n",
      "==============================================================================\n",
      "Dep. Variable:            total_delay   R-squared:                       0.113\n",
      "Model:                            OLS   Adj. R-squared:                  0.113\n",
      "Method:                 Least Squares   F-statistic:                 1.260e+04\n",
      "Date:                Thu, 12 May 2022   Prob (F-statistic):               0.00\n",
      "Time:                        17:59:55   Log-Likelihood:            -7.0515e+06\n",
      "No. Observations:              984724   AIC:                         1.410e+07\n",
      "Df Residuals:                  984713   BIC:                         1.410e+07\n",
      "Df Model:                          10                                         \n",
      "Covariance Type:            nonrobust                                         \n",
      "=====================================================================================\n",
      "                        coef    std err          t      P>|t|      [0.025      0.975]\n",
      "-------------------------------------------------------------------------------------\n",
      "const              -260.4770      3.922    -66.407      0.000    -268.165    -252.789\n",
      "fl_date               0.4147      0.713      0.582      0.561      -0.983       1.813\n",
      "op_carrier_fl_num    -0.0002      0.000     -1.318      0.188      -0.001       0.000\n",
      "origin_airport_id     0.0021      0.000      9.875      0.000       0.002       0.002\n",
      "dest_airport_id       0.0003      0.000      1.408      0.159      -0.000       0.001\n",
      "taxi_out              1.1400      0.033     34.454      0.000       1.075       1.205\n",
      "wheels_off           -0.1527      0.001   -181.619      0.000      -0.154      -0.151\n",
      "wheels_on             0.2698      0.001    339.215      0.000       0.268       0.271\n",
      "taxi_in               1.2443      0.054     23.246      0.000       1.139       1.349\n",
      "air_time              0.7697      0.029     26.770      0.000       0.713       0.826\n",
      "distance             -0.1093      0.003    -32.160      0.000      -0.116      -0.103\n",
      "==============================================================================\n",
      "Omnibus:                   914432.240   Durbin-Watson:                   1.974\n",
      "Prob(Omnibus):                  0.000   Jarque-Bera (JB):        135392066.187\n",
      "Skew:                          -4.023   Prob(JB):                         0.00\n",
      "Kurtosis:                      59.878   Cond. No.                     2.29e+05\n",
      "==============================================================================\n",
      "\n",
      "Notes:\n",
      "[1] Standard Errors assume that the covariance matrix of the errors is correctly specified.\n",
      "[2] The condition number is large, 2.29e+05. This might indicate that there are\n",
      "strong multicollinearity or other numerical problems.\n"
     ]
    }
   ],
   "source": [
    "Xl = sm.add_constant(Xl)\n",
    "\n",
    "model = sm.OLS(yl, Xl).fit()\n",
    "predictinos = model.predict(Xl)\n",
    "print_model = model.summary()\n",
    "print(print_model)"
   ]
  },
  {
   "cell_type": "markdown",
   "id": "a9d7b371-39b9-496a-ae62-1e985e04033f",
   "metadata": {},
   "source": [
    "# Weather addition"
   ]
  },
  {
   "cell_type": "code",
   "execution_count": 220,
   "id": "7ca1b63d-184a-4c86-8fc7-21b5e5e855da",
   "metadata": {},
   "outputs": [],
   "source": [
    "weath = pd.read_csv('weather.csv')"
   ]
  },
  {
   "cell_type": "code",
   "execution_count": 221,
   "id": "df9e88d0-a1d0-4837-8588-71a256a173cf",
   "metadata": {},
   "outputs": [],
   "source": [
    "weath = weath.drop(['condition', 'Unnamed: 0'], axis = 1)"
   ]
  },
  {
   "cell_type": "code",
   "execution_count": 222,
   "id": "620cd9c5-5180-4541-9849-f6e01445f444",
   "metadata": {},
   "outputs": [],
   "source": [
    "weath['date'] =  pd.to_datetime(weath['date'], format='%Y-%m-%d')"
   ]
  },
  {
   "cell_type": "code",
   "execution_count": 214,
   "id": "90490737-d787-48f3-89cd-3d0f833a34a3",
   "metadata": {
    "collapsed": true,
    "jupyter": {
     "outputs_hidden": true
    },
    "tags": []
   },
   "outputs": [
    {
     "name": "stdout",
     "output_type": "stream",
     "text": [
      "0 ['Abilene, TX' 'Akron, OH' 'Albuquerque, NM' 'Amarillo, TX' 'Appleton, WI'\n",
      " 'Asheville, NC' 'Aspen, CO' 'Atlanta, GA' 'Augusta, GA' 'Austin, TX'\n",
      " 'Baltimore, MD' 'Bangor, ME' 'Baton Rouge, LA' 'Bellingham, WA'\n",
      " 'Bend/Redmond, OR' 'Billings, MT' 'Birmingham, AL'\n",
      " 'Bloomington/Normal, IL' 'Boston, MA' 'Bozeman, MT' 'Buffalo, NY'\n",
      " 'Burbank, CA' 'Cape Girardeau, MO' 'Charleston, SC'\n",
      " 'Charlotte Amalie, VI' 'Charlotte, NC' 'Chattanooga, TN' 'Chicago, IL'\n",
      " 'Cincinnati, OH' 'Cleveland, OH' 'College Station/Bryan, TX'\n",
      " 'Colorado Springs, CO' 'Columbia, MO' 'Columbia, SC' 'Columbus, GA'\n",
      " 'Columbus, MS' 'Columbus, OH' 'Dallas, TX' 'Dallas/Fort Worth, TX'\n",
      " 'Daytona Beach, FL' 'Deadhorse, AK' 'Del Rio, TX' 'Denver, CO'\n",
      " 'Des Moines, IA' 'Detroit, MI' 'Durango, CO' 'El Paso, TX' 'Erie, PA'\n",
      " 'Eugene, OR' 'Fargo, ND' 'Fayetteville, AR' 'Flint, MI'\n",
      " 'Fort Lauderdale, FL' 'Fort Myers, FL' 'Fresno, CA' 'Gainesville, FL'\n",
      " 'Grand Forks, ND' 'Grand Junction, CO' 'Grand Rapids, MI' 'Green Bay, WI'\n",
      " 'Greensboro/High Point, NC' 'Greer, SC' 'Gulfport/Biloxi, MS'\n",
      " 'Hartford, CT' 'Hilo, HI' 'Honolulu, HI' 'Hoolehua, HI' 'Houston, TX'\n",
      " 'Huntsville, AL' 'Indianapolis, IN' 'Islip, NY' 'Ithaca/Cortland, NY'\n",
      " 'Jackson, WY' 'Jackson/Vicksburg, MS' 'Jacksonville, FL' 'Kahului, HI'\n",
      " 'Kalispell, MT' 'Kansas City, MO' 'Kearney, NE' 'Key West, FL'\n",
      " 'Knoxville, TN' 'Kona, HI' 'Laredo, TX' 'Las Vegas, NV' 'Lexington, KY'\n",
      " 'Lihue, HI' 'Little Rock, AR' 'Long Beach, CA' 'Los Angeles, CA'\n",
      " 'Louisville, KY' 'Lubbock, TX' 'Madison, WI' 'Mammoth Lakes, CA'\n",
      " 'Manchester, NH' 'Manhattan/Ft. Riley, KS' 'Marquette, MI' 'Medford, OR'\n",
      " 'Melbourne, FL' 'Memphis, TN' 'Miami, FL' 'Milwaukee, WI'\n",
      " 'Minneapolis, MN' 'Mission/McAllen/Edinburg, TX' 'Mobile, AL'\n",
      " 'Monterey, CA' 'Mosinee, WI' 'Myrtle Beach, SC' 'Nashville, TN'\n",
      " 'New Bern/Morehead/Beaufort, NC' 'New Orleans, LA' 'New York, NY'\n",
      " 'Newark, NJ' 'Norfolk, VA' 'Oakland, CA' 'Oklahoma City, OK' 'Omaha, NE'\n",
      " 'Ontario, CA' 'Orlando, FL' 'Palm Springs, CA' 'Panama City, FL'\n",
      " 'Pensacola, FL' 'Peoria, IL' 'Philadelphia, PA' 'Phoenix, AZ'\n",
      " 'Pittsburgh, PA' 'Portland, ME' 'Portland, OR' 'Providence, RI'\n",
      " 'Pullman, WA' 'Punta Gorda, FL' 'Raleigh/Durham, NC' 'Rapid City, SD'\n",
      " 'Redding, CA' 'Reno, NV' 'Richmond, VA' 'Rochester, NY'\n",
      " 'Rock Springs, WY' 'Sacramento, CA' 'Salt Lake City, UT'\n",
      " 'San Antonio, TX' 'San Diego, CA' 'San Francisco, CA' 'San Jose, CA'\n",
      " 'San Juan, PR' 'Sanford, FL' 'Santa Ana, CA' 'Santa Barbara, CA'\n",
      " 'Santa Rosa, CA' 'Savannah, GA' 'Seattle, WA' 'Shreveport, LA'\n",
      " 'Sioux Falls, SD' 'Sitka, AK' 'Spokane, WA' 'Springfield, MO'\n",
      " 'St. Louis, MO' 'Stockton, CA' 'Sun Valley/Hailey/Ketchum, ID'\n",
      " 'Syracuse, NY' 'Tampa, FL' 'Traverse City, MI' 'Tucson, AZ'\n",
      " 'Valparaiso, FL' 'Washington, DC' 'West Palm Beach/Palm Beach, FL'\n",
      " 'White Plains, NY' 'Wichita, KS']\n",
      "1 ['2019-01-01' '2019-01-02' '2019-01-03' '2019-01-04' '2019-01-05'\n",
      " '2019-01-06' '2019-01-07' '2019-01-08' '2019-01-09' '2019-01-10'\n",
      " '2019-01-11' '2019-01-12' '2019-01-13' '2019-01-14' '2019-01-15'\n",
      " '2019-01-16' '2019-01-17' '2019-01-18' '2019-01-19' '2019-01-20'\n",
      " '2019-01-21' '2019-01-22' '2019-01-23' '2019-01-24' '2019-01-25'\n",
      " '2019-01-26' '2019-01-27' '2019-01-28' '2019-01-29' '2019-01-30'\n",
      " '2019-01-31' '2019-02-01' '2019-02-02' '2019-02-03' '2019-02-04'\n",
      " '2019-02-05' '2019-02-06' '2019-02-07' '2019-02-08' '2019-02-09'\n",
      " '2019-02-10' '2019-02-11' '2019-02-12' '2019-02-13' '2019-02-14'\n",
      " '2019-02-15' '2019-02-16' '2019-02-17' '2019-02-18' '2019-02-19'\n",
      " '2019-02-20' '2019-02-21' '2019-02-22' '2019-02-23' '2019-02-24'\n",
      " '2019-02-25' '2019-02-26' '2019-02-27' '2019-02-28' '2019-03-01'\n",
      " '2019-03-02' '2019-03-03' '2019-03-04' '2019-03-05' '2019-03-06'\n",
      " '2019-03-07' '2019-03-08' '2019-03-09' '2019-03-10' '2019-03-11'\n",
      " '2019-03-12' '2019-03-13' '2019-03-14' '2019-03-15' '2019-03-16'\n",
      " '2019-03-17' '2019-03-18' '2019-03-19' '2019-03-20' '2019-03-21'\n",
      " '2019-03-22' '2019-03-23' '2019-03-24' '2019-03-25' '2019-03-26'\n",
      " '2019-03-27' '2019-03-28' '2019-03-29' '2019-03-30' '2019-03-31'\n",
      " '2019-04-01' '2019-04-02' '2019-04-03' '2019-04-04' '2019-04-05'\n",
      " '2019-04-06' '2019-04-07' '2019-04-08' '2019-04-09' '2019-04-10'\n",
      " '2019-04-11' '2019-04-12' '2019-04-13' '2019-04-14' '2019-04-15'\n",
      " '2019-04-16' '2019-04-17' '2019-04-18' '2019-04-19' '2019-04-20'\n",
      " '2019-04-21' '2019-04-22' '2019-04-23' '2019-04-24' '2019-04-25'\n",
      " '2019-04-26' '2019-04-27' '2019-04-28' '2019-04-29' '2019-04-30'\n",
      " '2019-05-01' '2019-05-02' '2019-05-03' '2019-05-04' '2019-05-05'\n",
      " '2019-05-06' '2019-05-07' '2019-05-08' '2019-05-09' '2019-05-10'\n",
      " '2019-05-11' '2019-05-12' '2019-05-13' '2019-05-14' '2019-05-15'\n",
      " '2019-05-16' '2019-05-17' '2019-05-18' '2019-05-19' '2019-05-20'\n",
      " '2019-05-21' '2019-05-22' '2019-05-23' '2019-05-24' '2019-05-25'\n",
      " '2019-05-26' '2019-05-27' '2019-05-28' '2019-05-29' '2019-05-30'\n",
      " '2019-05-31' '2019-06-01' '2019-06-02' '2019-06-03' '2019-06-04'\n",
      " '2019-06-05' '2019-06-06' '2019-06-07' '2019-06-08' '2019-06-09'\n",
      " '2019-06-10' '2019-06-11' '2019-06-12' '2019-06-13' '2019-06-14'\n",
      " '2019-06-15' '2019-06-16' '2019-06-17' '2019-06-18' '2019-06-19'\n",
      " '2019-06-20' '2019-06-21' '2019-06-22' '2019-06-23' '2019-06-24'\n",
      " '2019-06-25' '2019-06-26' '2019-06-27' '2019-06-28' '2019-06-29'\n",
      " '2019-06-30' '2019-07-01' '2019-07-02' '2019-07-03' '2019-07-04'\n",
      " '2019-07-05' '2019-07-06' '2019-07-07' '2019-07-08' '2019-07-09'\n",
      " '2019-07-10' '2019-07-11' '2019-07-12' '2019-07-13' '2019-07-14'\n",
      " '2019-07-15' '2019-07-16' '2019-07-17' '2019-07-18' '2019-07-19'\n",
      " '2019-07-20' '2019-07-21' '2019-07-22' '2019-07-23' '2019-07-24'\n",
      " '2019-07-25' '2019-07-26' '2019-07-27' '2019-07-28' '2019-07-29'\n",
      " '2019-07-30' '2019-07-31' '2019-08-01' '2019-08-02' '2019-08-03'\n",
      " '2019-08-04' '2019-08-05' '2019-08-06' '2019-08-07' '2019-08-08'\n",
      " '2019-08-09' '2019-08-10' '2019-08-11' '2019-08-12' '2019-08-13'\n",
      " '2019-08-14' '2019-08-15' '2019-08-16' '2019-08-17' '2019-08-18'\n",
      " '2019-08-19' '2019-08-20' '2019-08-21' '2019-08-22' '2019-08-23'\n",
      " '2019-08-24' '2019-08-25' '2019-08-26' '2019-08-27' '2019-08-28'\n",
      " '2019-08-29' '2019-08-30' '2019-08-31' '2019-09-01' '2019-09-02'\n",
      " '2019-09-03' '2019-09-04' '2019-09-05' '2019-09-06' '2019-09-07'\n",
      " '2019-09-08' '2019-09-09' '2019-09-10' '2019-09-11' '2019-09-12'\n",
      " '2019-09-13' '2019-09-14' '2019-09-15' '2019-09-16' '2019-09-17'\n",
      " '2019-09-18' '2019-09-19' '2019-09-20' '2019-09-21' '2019-09-22'\n",
      " '2019-09-23' '2019-09-24' '2019-09-25' '2019-09-26' '2019-09-27'\n",
      " '2019-09-28' '2019-09-29' '2019-09-30' '2019-10-01' '2019-10-02'\n",
      " '2019-10-03' '2019-10-04' '2019-10-05' '2019-10-06' '2019-10-07'\n",
      " '2019-10-08' '2019-10-09' '2019-10-10' '2019-10-11' '2019-10-12'\n",
      " '2019-10-13' '2019-10-14' '2019-10-15' '2019-10-16' '2019-10-17'\n",
      " '2019-10-18' '2019-10-19' '2019-10-20' '2019-10-21' '2019-10-22'\n",
      " '2019-10-23' '2019-10-24' '2019-10-25' '2019-10-26' '2019-10-27'\n",
      " '2019-10-28' '2019-10-29' '2019-10-30' '2019-10-31' '2019-11-01'\n",
      " '2019-11-02' '2019-11-03' '2019-11-04' '2019-11-05' '2019-11-06'\n",
      " '2019-11-07' '2019-11-08' '2019-11-09' '2019-11-10' '2019-11-11'\n",
      " '2019-11-12' '2019-11-13' '2019-11-14' '2019-11-15' '2019-11-16'\n",
      " '2019-11-17' '2019-11-18' '2019-11-19' '2019-11-20' '2019-11-21'\n",
      " '2019-11-22' '2019-11-23' '2019-11-24' '2019-11-25' '2019-11-26'\n",
      " '2019-11-27' '2019-11-28' '2019-11-29' '2019-11-30' '2019-12-01'\n",
      " '2019-12-02' '2019-12-03' '2019-12-04' '2019-12-05' '2019-12-06'\n",
      " '2019-12-07' '2019-12-08' '2019-12-09' '2019-12-10' '2019-12-11'\n",
      " '2019-12-12' '2019-12-13' '2019-12-14' '2019-12-15' '2019-12-16'\n",
      " '2019-12-17' '2019-12-18' '2019-12-19' '2019-12-20' '2019-12-21'\n",
      " '2019-12-22' '2019-12-23' '2019-12-24' '2019-12-25' '2019-12-26'\n",
      " '2019-12-27' '2019-12-28' '2019-12-29' '2019-12-30' '2019-12-31']\n",
      "2 [0 1]\n",
      "3 ['cloudy' 'rain' 'snow' 'sunny']\n"
     ]
    }
   ],
   "source": [
    "unique_values(weath)"
   ]
  },
  {
   "cell_type": "code",
   "execution_count": 261,
   "id": "980c4d91-6b6f-498b-801d-da6c64564376",
   "metadata": {},
   "outputs": [],
   "source": [
    "weath.rename(columns = {'location':'origin_city_name', 'date':'fl_date', 'day/night':'dep_time'}, inplace = True)"
   ]
  },
  {
   "cell_type": "code",
   "execution_count": 262,
   "id": "2a342de9-dc0b-4f88-8880-aead3395ac5c",
   "metadata": {},
   "outputs": [
    {
     "data": {
      "text/html": [
       "<div>\n",
       "<style scoped>\n",
       "    .dataframe tbody tr th:only-of-type {\n",
       "        vertical-align: middle;\n",
       "    }\n",
       "\n",
       "    .dataframe tbody tr th {\n",
       "        vertical-align: top;\n",
       "    }\n",
       "\n",
       "    .dataframe thead th {\n",
       "        text-align: right;\n",
       "    }\n",
       "</style>\n",
       "<table border=\"1\" class=\"dataframe\">\n",
       "  <thead>\n",
       "    <tr style=\"text-align: right;\">\n",
       "      <th></th>\n",
       "      <th>origin_city_name</th>\n",
       "      <th>fl_date</th>\n",
       "      <th>dep_time</th>\n",
       "      <th>cond_desc</th>\n",
       "    </tr>\n",
       "  </thead>\n",
       "  <tbody>\n",
       "    <tr>\n",
       "      <th>0</th>\n",
       "      <td>Abilene, TX</td>\n",
       "      <td>2019-01-01</td>\n",
       "      <td>0</td>\n",
       "      <td>cloudy</td>\n",
       "    </tr>\n",
       "    <tr>\n",
       "      <th>1</th>\n",
       "      <td>Abilene, TX</td>\n",
       "      <td>2019-01-01</td>\n",
       "      <td>1</td>\n",
       "      <td>cloudy</td>\n",
       "    </tr>\n",
       "    <tr>\n",
       "      <th>2</th>\n",
       "      <td>Abilene, TX</td>\n",
       "      <td>2019-01-02</td>\n",
       "      <td>0</td>\n",
       "      <td>cloudy</td>\n",
       "    </tr>\n",
       "    <tr>\n",
       "      <th>3</th>\n",
       "      <td>Abilene, TX</td>\n",
       "      <td>2019-01-02</td>\n",
       "      <td>1</td>\n",
       "      <td>cloudy</td>\n",
       "    </tr>\n",
       "    <tr>\n",
       "      <th>4</th>\n",
       "      <td>Abilene, TX</td>\n",
       "      <td>2019-01-03</td>\n",
       "      <td>0</td>\n",
       "      <td>rain</td>\n",
       "    </tr>\n",
       "  </tbody>\n",
       "</table>\n",
       "</div>"
      ],
      "text/plain": [
       "  origin_city_name    fl_date  dep_time cond_desc\n",
       "0      Abilene, TX 2019-01-01         0    cloudy\n",
       "1      Abilene, TX 2019-01-01         1    cloudy\n",
       "2      Abilene, TX 2019-01-02         0    cloudy\n",
       "3      Abilene, TX 2019-01-02         1    cloudy\n",
       "4      Abilene, TX 2019-01-03         0      rain"
      ]
     },
     "execution_count": 262,
     "metadata": {},
     "output_type": "execute_result"
    }
   ],
   "source": [
    "weath.head()"
   ]
  },
  {
   "cell_type": "code",
   "execution_count": 224,
   "id": "789c2c95-f665-464c-8bd9-2a489a7a781c",
   "metadata": {},
   "outputs": [
    {
     "data": {
      "text/plain": [
       "location             object\n",
       "date         datetime64[ns]\n",
       "day/night             int64\n",
       "cond_desc            object\n",
       "dtype: object"
      ]
     },
     "execution_count": 224,
     "metadata": {},
     "output_type": "execute_result"
    }
   ],
   "source": [
    "weath.dtypes"
   ]
  },
  {
   "cell_type": "code",
   "execution_count": 254,
   "id": "dcd2b8af-e5c5-4caf-9d7b-3512044854c1",
   "metadata": {},
   "outputs": [
    {
     "name": "stdout",
     "output_type": "stream",
     "text": [
      "creating connection...\n",
      "running query...\n",
      "writing file...\n",
      "Done\n"
     ]
    }
   ],
   "source": [
    "t = make_csv(\"SELECT * FROM flights LIMIT 1000\", \"test1000flight.csv\")"
   ]
  },
  {
   "cell_type": "code",
   "execution_count": 255,
   "id": "0eb93605-66d3-4e71-a8b1-5913a70dc9e6",
   "metadata": {},
   "outputs": [],
   "source": [
    "t['crs_dep_time'] = t['crs_dep_time'].astype('float64')\n",
    "t['crs_arr_time'] = t['crs_arr_time'].astype('float64')\n",
    "t['total_delay'] = (t['dep_time'] - t['crs_dep_time']) + (t['arr_time'] - t['crs_arr_time']) + (t['actual_elapsed_time'] - t['crs_elapsed_time'])\n",
    "t = t.drop(['dep_delay', 'arr_delay', 'nas_delay', 'diverted', 'security_delay', 'late_aircraft_delay', 'carrier_delay', 'weather_delay', 'no_name', 'mkt_carrier', 'branded_code_share', 'origin', 'dest', 'dest_city_name', 'crs_dep_time', 'arr_time', 'crs_arr_time', 'actual_elapsed_time', 'crs_elapsed_time', 'dup', 'cancelled', 'cancellation_code', 'flights', 'first_dep_time', 'total_add_gtime', 'longest_add_gtime', 'mkt_unique_carrier', 'mkt_carrier_fl_num', 'tail_num', 'op_unique_carrier'], axis = 1)"
   ]
  },
  {
   "cell_type": "code",
   "execution_count": 257,
   "id": "1049fb2b-c9a1-4aca-afc8-22f75d958132",
   "metadata": {},
   "outputs": [],
   "source": [
    "time1 = t['dep_time'].between(600,1800).values\n",
    "time2 = t['dep_time'].between(0,600).values\n",
    "time3 = t['dep_time'].between(1800,2359).values\n",
    "t.loc[time1, 'dep_time']=0\n",
    "t.loc[time2, 'dep_time']=1\n",
    "t.loc[time3, 'dep_time']=1"
   ]
  },
  {
   "cell_type": "code",
   "execution_count": 258,
   "id": "d13cfcb2-9b33-41f8-8a38-fdeb0baa191a",
   "metadata": {},
   "outputs": [
    {
     "data": {
      "text/html": [
       "<div>\n",
       "<style scoped>\n",
       "    .dataframe tbody tr th:only-of-type {\n",
       "        vertical-align: middle;\n",
       "    }\n",
       "\n",
       "    .dataframe tbody tr th {\n",
       "        vertical-align: top;\n",
       "    }\n",
       "\n",
       "    .dataframe thead th {\n",
       "        text-align: right;\n",
       "    }\n",
       "</style>\n",
       "<table border=\"1\" class=\"dataframe\">\n",
       "  <thead>\n",
       "    <tr style=\"text-align: right;\">\n",
       "      <th></th>\n",
       "      <th>fl_date</th>\n",
       "      <th>op_carrier_fl_num</th>\n",
       "      <th>origin_airport_id</th>\n",
       "      <th>origin_city_name</th>\n",
       "      <th>dest_airport_id</th>\n",
       "      <th>dep_time</th>\n",
       "      <th>taxi_out</th>\n",
       "      <th>wheels_off</th>\n",
       "      <th>wheels_on</th>\n",
       "      <th>taxi_in</th>\n",
       "      <th>air_time</th>\n",
       "      <th>distance</th>\n",
       "      <th>total_delay</th>\n",
       "    </tr>\n",
       "  </thead>\n",
       "  <tbody>\n",
       "    <tr>\n",
       "      <th>0</th>\n",
       "      <td>2019-04-02</td>\n",
       "      <td>5772</td>\n",
       "      <td>13256</td>\n",
       "      <td>Mission/McAllen/Edinburg, TX</td>\n",
       "      <td>11298</td>\n",
       "      <td>0.0</td>\n",
       "      <td>11.0</td>\n",
       "      <td>1322.0</td>\n",
       "      <td>1434.0</td>\n",
       "      <td>10.0</td>\n",
       "      <td>72.0</td>\n",
       "      <td>469.0</td>\n",
       "      <td>-10.0</td>\n",
       "    </tr>\n",
       "    <tr>\n",
       "      <th>1</th>\n",
       "      <td>2019-04-02</td>\n",
       "      <td>5775</td>\n",
       "      <td>14107</td>\n",
       "      <td>Phoenix, AZ</td>\n",
       "      <td>13851</td>\n",
       "      <td>0.0</td>\n",
       "      <td>17.0</td>\n",
       "      <td>1224.0</td>\n",
       "      <td>1604.0</td>\n",
       "      <td>6.0</td>\n",
       "      <td>100.0</td>\n",
       "      <td>833.0</td>\n",
       "      <td>-16.0</td>\n",
       "    </tr>\n",
       "    <tr>\n",
       "      <th>2</th>\n",
       "      <td>2019-04-02</td>\n",
       "      <td>5776</td>\n",
       "      <td>11298</td>\n",
       "      <td>Dallas/Fort Worth, TX</td>\n",
       "      <td>12191</td>\n",
       "      <td>0.0</td>\n",
       "      <td>15.0</td>\n",
       "      <td>857.0</td>\n",
       "      <td>940.0</td>\n",
       "      <td>2.0</td>\n",
       "      <td>43.0</td>\n",
       "      <td>247.0</td>\n",
       "      <td>-86.0</td>\n",
       "    </tr>\n",
       "    <tr>\n",
       "      <th>3</th>\n",
       "      <td>2019-04-02</td>\n",
       "      <td>5776</td>\n",
       "      <td>12191</td>\n",
       "      <td>Houston, TX</td>\n",
       "      <td>11298</td>\n",
       "      <td>0.0</td>\n",
       "      <td>12.0</td>\n",
       "      <td>1034.0</td>\n",
       "      <td>1120.0</td>\n",
       "      <td>15.0</td>\n",
       "      <td>46.0</td>\n",
       "      <td>247.0</td>\n",
       "      <td>-30.0</td>\n",
       "    </tr>\n",
       "    <tr>\n",
       "      <th>4</th>\n",
       "      <td>2019-04-02</td>\n",
       "      <td>5777</td>\n",
       "      <td>14689</td>\n",
       "      <td>Santa Barbara, CA</td>\n",
       "      <td>14107</td>\n",
       "      <td>0.0</td>\n",
       "      <td>11.0</td>\n",
       "      <td>616.0</td>\n",
       "      <td>718.0</td>\n",
       "      <td>5.0</td>\n",
       "      <td>62.0</td>\n",
       "      <td>455.0</td>\n",
       "      <td>-52.0</td>\n",
       "    </tr>\n",
       "    <tr>\n",
       "      <th>...</th>\n",
       "      <td>...</td>\n",
       "      <td>...</td>\n",
       "      <td>...</td>\n",
       "      <td>...</td>\n",
       "      <td>...</td>\n",
       "      <td>...</td>\n",
       "      <td>...</td>\n",
       "      <td>...</td>\n",
       "      <td>...</td>\n",
       "      <td>...</td>\n",
       "      <td>...</td>\n",
       "      <td>...</td>\n",
       "      <td>...</td>\n",
       "    </tr>\n",
       "    <tr>\n",
       "      <th>995</th>\n",
       "      <td>2019-04-02</td>\n",
       "      <td>404</td>\n",
       "      <td>12266</td>\n",
       "      <td>Houston, TX</td>\n",
       "      <td>14771</td>\n",
       "      <td>0.0</td>\n",
       "      <td>17.0</td>\n",
       "      <td>740.0</td>\n",
       "      <td>918.0</td>\n",
       "      <td>5.0</td>\n",
       "      <td>218.0</td>\n",
       "      <td>1635.0</td>\n",
       "      <td>-24.0</td>\n",
       "    </tr>\n",
       "    <tr>\n",
       "      <th>996</th>\n",
       "      <td>2019-04-02</td>\n",
       "      <td>403</td>\n",
       "      <td>11292</td>\n",
       "      <td>Denver, CO</td>\n",
       "      <td>14908</td>\n",
       "      <td>0.0</td>\n",
       "      <td>13.0</td>\n",
       "      <td>935.0</td>\n",
       "      <td>1043.0</td>\n",
       "      <td>5.0</td>\n",
       "      <td>128.0</td>\n",
       "      <td>846.0</td>\n",
       "      <td>-2.0</td>\n",
       "    </tr>\n",
       "    <tr>\n",
       "      <th>997</th>\n",
       "      <td>2019-04-02</td>\n",
       "      <td>403</td>\n",
       "      <td>13930</td>\n",
       "      <td>Chicago, IL</td>\n",
       "      <td>11292</td>\n",
       "      <td>0.0</td>\n",
       "      <td>12.0</td>\n",
       "      <td>641.0</td>\n",
       "      <td>753.0</td>\n",
       "      <td>6.0</td>\n",
       "      <td>132.0</td>\n",
       "      <td>888.0</td>\n",
       "      <td>-66.0</td>\n",
       "    </tr>\n",
       "    <tr>\n",
       "      <th>998</th>\n",
       "      <td>2019-04-02</td>\n",
       "      <td>402</td>\n",
       "      <td>14100</td>\n",
       "      <td>Philadelphia, PA</td>\n",
       "      <td>13930</td>\n",
       "      <td>1.0</td>\n",
       "      <td>23.0</td>\n",
       "      <td>1849.0</td>\n",
       "      <td>1937.0</td>\n",
       "      <td>11.0</td>\n",
       "      <td>108.0</td>\n",
       "      <td>678.0</td>\n",
       "      <td>-86.0</td>\n",
       "    </tr>\n",
       "    <tr>\n",
       "      <th>999</th>\n",
       "      <td>2019-04-02</td>\n",
       "      <td>401</td>\n",
       "      <td>11292</td>\n",
       "      <td>Denver, CO</td>\n",
       "      <td>10821</td>\n",
       "      <td>0.0</td>\n",
       "      <td>14.0</td>\n",
       "      <td>1756.0</td>\n",
       "      <td>2240.0</td>\n",
       "      <td>4.0</td>\n",
       "      <td>164.0</td>\n",
       "      <td>1491.0</td>\n",
       "      <td>-82.0</td>\n",
       "    </tr>\n",
       "  </tbody>\n",
       "</table>\n",
       "<p>1000 rows × 13 columns</p>\n",
       "</div>"
      ],
      "text/plain": [
       "        fl_date  op_carrier_fl_num  origin_airport_id  \\\n",
       "0    2019-04-02               5772              13256   \n",
       "1    2019-04-02               5775              14107   \n",
       "2    2019-04-02               5776              11298   \n",
       "3    2019-04-02               5776              12191   \n",
       "4    2019-04-02               5777              14689   \n",
       "..          ...                ...                ...   \n",
       "995  2019-04-02                404              12266   \n",
       "996  2019-04-02                403              11292   \n",
       "997  2019-04-02                403              13930   \n",
       "998  2019-04-02                402              14100   \n",
       "999  2019-04-02                401              11292   \n",
       "\n",
       "                 origin_city_name  dest_airport_id  dep_time  taxi_out  \\\n",
       "0    Mission/McAllen/Edinburg, TX            11298       0.0      11.0   \n",
       "1                     Phoenix, AZ            13851       0.0      17.0   \n",
       "2           Dallas/Fort Worth, TX            12191       0.0      15.0   \n",
       "3                     Houston, TX            11298       0.0      12.0   \n",
       "4               Santa Barbara, CA            14107       0.0      11.0   \n",
       "..                            ...              ...       ...       ...   \n",
       "995                   Houston, TX            14771       0.0      17.0   \n",
       "996                    Denver, CO            14908       0.0      13.0   \n",
       "997                   Chicago, IL            11292       0.0      12.0   \n",
       "998              Philadelphia, PA            13930       1.0      23.0   \n",
       "999                    Denver, CO            10821       0.0      14.0   \n",
       "\n",
       "     wheels_off  wheels_on  taxi_in  air_time  distance  total_delay  \n",
       "0        1322.0     1434.0     10.0      72.0     469.0        -10.0  \n",
       "1        1224.0     1604.0      6.0     100.0     833.0        -16.0  \n",
       "2         857.0      940.0      2.0      43.0     247.0        -86.0  \n",
       "3        1034.0     1120.0     15.0      46.0     247.0        -30.0  \n",
       "4         616.0      718.0      5.0      62.0     455.0        -52.0  \n",
       "..          ...        ...      ...       ...       ...          ...  \n",
       "995       740.0      918.0      5.0     218.0    1635.0        -24.0  \n",
       "996       935.0     1043.0      5.0     128.0     846.0         -2.0  \n",
       "997       641.0      753.0      6.0     132.0     888.0        -66.0  \n",
       "998      1849.0     1937.0     11.0     108.0     678.0        -86.0  \n",
       "999      1756.0     2240.0      4.0     164.0    1491.0        -82.0  \n",
       "\n",
       "[1000 rows x 13 columns]"
      ]
     },
     "execution_count": 258,
     "metadata": {},
     "output_type": "execute_result"
    }
   ],
   "source": [
    "t"
   ]
  },
  {
   "cell_type": "code",
   "execution_count": 259,
   "id": "1739182e-27fe-4d18-87fe-91ea3e0737d9",
   "metadata": {},
   "outputs": [],
   "source": [
    "t['fl_date'] =  pd.to_datetime(t['fl_date'], format='%Y-%m-%d')"
   ]
  },
  {
   "cell_type": "code",
   "execution_count": 260,
   "id": "285fb870-68b5-48db-a7ed-e7f3deaf0263",
   "metadata": {},
   "outputs": [
    {
     "data": {
      "text/plain": [
       "fl_date              datetime64[ns]\n",
       "op_carrier_fl_num             int64\n",
       "origin_airport_id             int64\n",
       "origin_city_name             object\n",
       "dest_airport_id               int64\n",
       "dep_time                    float64\n",
       "taxi_out                    float64\n",
       "wheels_off                  float64\n",
       "wheels_on                   float64\n",
       "taxi_in                     float64\n",
       "air_time                    float64\n",
       "distance                    float64\n",
       "total_delay                 float64\n",
       "dtype: object"
      ]
     },
     "execution_count": 260,
     "metadata": {},
     "output_type": "execute_result"
    }
   ],
   "source": [
    "t.dtypes"
   ]
  },
  {
   "cell_type": "code",
   "execution_count": 263,
   "id": "11229699-fdd6-4a56-9115-d00902481ac4",
   "metadata": {},
   "outputs": [
    {
     "data": {
      "text/html": [
       "<div>\n",
       "<style scoped>\n",
       "    .dataframe tbody tr th:only-of-type {\n",
       "        vertical-align: middle;\n",
       "    }\n",
       "\n",
       "    .dataframe tbody tr th {\n",
       "        vertical-align: top;\n",
       "    }\n",
       "\n",
       "    .dataframe thead th {\n",
       "        text-align: right;\n",
       "    }\n",
       "</style>\n",
       "<table border=\"1\" class=\"dataframe\">\n",
       "  <thead>\n",
       "    <tr style=\"text-align: right;\">\n",
       "      <th></th>\n",
       "      <th>fl_date</th>\n",
       "      <th>op_carrier_fl_num</th>\n",
       "      <th>origin_airport_id</th>\n",
       "      <th>origin_city_name</th>\n",
       "      <th>dest_airport_id</th>\n",
       "      <th>dep_time</th>\n",
       "      <th>taxi_out</th>\n",
       "      <th>wheels_off</th>\n",
       "      <th>wheels_on</th>\n",
       "      <th>taxi_in</th>\n",
       "      <th>air_time</th>\n",
       "      <th>distance</th>\n",
       "      <th>total_delay</th>\n",
       "      <th>cond_desc</th>\n",
       "    </tr>\n",
       "  </thead>\n",
       "  <tbody>\n",
       "    <tr>\n",
       "      <th>0</th>\n",
       "      <td>2019-04-02</td>\n",
       "      <td>5772</td>\n",
       "      <td>13256</td>\n",
       "      <td>Mission/McAllen/Edinburg, TX</td>\n",
       "      <td>11298</td>\n",
       "      <td>0.0</td>\n",
       "      <td>11.0</td>\n",
       "      <td>1322.0</td>\n",
       "      <td>1434.0</td>\n",
       "      <td>10.0</td>\n",
       "      <td>72.0</td>\n",
       "      <td>469.0</td>\n",
       "      <td>-10.0</td>\n",
       "      <td>rain</td>\n",
       "    </tr>\n",
       "    <tr>\n",
       "      <th>1</th>\n",
       "      <td>2019-04-02</td>\n",
       "      <td>5775</td>\n",
       "      <td>14107</td>\n",
       "      <td>Phoenix, AZ</td>\n",
       "      <td>13851</td>\n",
       "      <td>0.0</td>\n",
       "      <td>17.0</td>\n",
       "      <td>1224.0</td>\n",
       "      <td>1604.0</td>\n",
       "      <td>6.0</td>\n",
       "      <td>100.0</td>\n",
       "      <td>833.0</td>\n",
       "      <td>-16.0</td>\n",
       "      <td>rain</td>\n",
       "    </tr>\n",
       "    <tr>\n",
       "      <th>2</th>\n",
       "      <td>2019-04-02</td>\n",
       "      <td>5782</td>\n",
       "      <td>14107</td>\n",
       "      <td>Phoenix, AZ</td>\n",
       "      <td>13244</td>\n",
       "      <td>0.0</td>\n",
       "      <td>34.0</td>\n",
       "      <td>920.0</td>\n",
       "      <td>1349.0</td>\n",
       "      <td>5.0</td>\n",
       "      <td>149.0</td>\n",
       "      <td>1264.0</td>\n",
       "      <td>18.0</td>\n",
       "      <td>rain</td>\n",
       "    </tr>\n",
       "    <tr>\n",
       "      <th>3</th>\n",
       "      <td>2019-04-02</td>\n",
       "      <td>5785</td>\n",
       "      <td>14107</td>\n",
       "      <td>Phoenix, AZ</td>\n",
       "      <td>14570</td>\n",
       "      <td>0.0</td>\n",
       "      <td>14.0</td>\n",
       "      <td>1413.0</td>\n",
       "      <td>1539.0</td>\n",
       "      <td>3.0</td>\n",
       "      <td>86.0</td>\n",
       "      <td>601.0</td>\n",
       "      <td>28.0</td>\n",
       "      <td>rain</td>\n",
       "    </tr>\n",
       "    <tr>\n",
       "      <th>4</th>\n",
       "      <td>2019-04-02</td>\n",
       "      <td>5792</td>\n",
       "      <td>14107</td>\n",
       "      <td>Phoenix, AZ</td>\n",
       "      <td>13891</td>\n",
       "      <td>0.0</td>\n",
       "      <td>17.0</td>\n",
       "      <td>750.0</td>\n",
       "      <td>844.0</td>\n",
       "      <td>5.0</td>\n",
       "      <td>54.0</td>\n",
       "      <td>325.0</td>\n",
       "      <td>-68.0</td>\n",
       "      <td>rain</td>\n",
       "    </tr>\n",
       "  </tbody>\n",
       "</table>\n",
       "</div>"
      ],
      "text/plain": [
       "     fl_date  op_carrier_fl_num  origin_airport_id  \\\n",
       "0 2019-04-02               5772              13256   \n",
       "1 2019-04-02               5775              14107   \n",
       "2 2019-04-02               5782              14107   \n",
       "3 2019-04-02               5785              14107   \n",
       "4 2019-04-02               5792              14107   \n",
       "\n",
       "               origin_city_name  dest_airport_id  dep_time  taxi_out  \\\n",
       "0  Mission/McAllen/Edinburg, TX            11298       0.0      11.0   \n",
       "1                   Phoenix, AZ            13851       0.0      17.0   \n",
       "2                   Phoenix, AZ            13244       0.0      34.0   \n",
       "3                   Phoenix, AZ            14570       0.0      14.0   \n",
       "4                   Phoenix, AZ            13891       0.0      17.0   \n",
       "\n",
       "   wheels_off  wheels_on  taxi_in  air_time  distance  total_delay cond_desc  \n",
       "0      1322.0     1434.0     10.0      72.0     469.0        -10.0      rain  \n",
       "1      1224.0     1604.0      6.0     100.0     833.0        -16.0      rain  \n",
       "2       920.0     1349.0      5.0     149.0    1264.0         18.0      rain  \n",
       "3      1413.0     1539.0      3.0      86.0     601.0         28.0      rain  \n",
       "4       750.0      844.0      5.0      54.0     325.0        -68.0      rain  "
      ]
     },
     "execution_count": 263,
     "metadata": {},
     "output_type": "execute_result"
    }
   ],
   "source": [
    "tweath = pd.merge(t, weath, on=['fl_date', 'origin_city_name', 'dep_time'], how='inner')\n",
    "tweath.head()"
   ]
  },
  {
   "cell_type": "code",
   "execution_count": 264,
   "id": "dfdd5d63-a8a5-4414-9191-582cbb8f83df",
   "metadata": {},
   "outputs": [
    {
     "data": {
      "text/html": [
       "<div>\n",
       "<style scoped>\n",
       "    .dataframe tbody tr th:only-of-type {\n",
       "        vertical-align: middle;\n",
       "    }\n",
       "\n",
       "    .dataframe tbody tr th {\n",
       "        vertical-align: top;\n",
       "    }\n",
       "\n",
       "    .dataframe thead th {\n",
       "        text-align: right;\n",
       "    }\n",
       "</style>\n",
       "<table border=\"1\" class=\"dataframe\">\n",
       "  <thead>\n",
       "    <tr style=\"text-align: right;\">\n",
       "      <th></th>\n",
       "      <th>fl_date</th>\n",
       "      <th>op_carrier_fl_num</th>\n",
       "      <th>origin_airport_id</th>\n",
       "      <th>origin_city_name</th>\n",
       "      <th>dest_airport_id</th>\n",
       "      <th>dep_time</th>\n",
       "      <th>taxi_out</th>\n",
       "      <th>wheels_off</th>\n",
       "      <th>wheels_on</th>\n",
       "      <th>taxi_in</th>\n",
       "      <th>air_time</th>\n",
       "      <th>distance</th>\n",
       "      <th>total_delay</th>\n",
       "      <th>cond_desc</th>\n",
       "      <th>weather_bin</th>\n",
       "    </tr>\n",
       "  </thead>\n",
       "  <tbody>\n",
       "    <tr>\n",
       "      <th>0</th>\n",
       "      <td>2019-04-02</td>\n",
       "      <td>5772</td>\n",
       "      <td>13256</td>\n",
       "      <td>Mission/McAllen/Edinburg, TX</td>\n",
       "      <td>11298</td>\n",
       "      <td>0.0</td>\n",
       "      <td>11.0</td>\n",
       "      <td>1322.0</td>\n",
       "      <td>1434.0</td>\n",
       "      <td>10.0</td>\n",
       "      <td>72.0</td>\n",
       "      <td>469.0</td>\n",
       "      <td>-10.0</td>\n",
       "      <td>rain</td>\n",
       "      <td>0</td>\n",
       "    </tr>\n",
       "    <tr>\n",
       "      <th>1</th>\n",
       "      <td>2019-04-02</td>\n",
       "      <td>5775</td>\n",
       "      <td>14107</td>\n",
       "      <td>Phoenix, AZ</td>\n",
       "      <td>13851</td>\n",
       "      <td>0.0</td>\n",
       "      <td>17.0</td>\n",
       "      <td>1224.0</td>\n",
       "      <td>1604.0</td>\n",
       "      <td>6.0</td>\n",
       "      <td>100.0</td>\n",
       "      <td>833.0</td>\n",
       "      <td>-16.0</td>\n",
       "      <td>rain</td>\n",
       "      <td>0</td>\n",
       "    </tr>\n",
       "    <tr>\n",
       "      <th>2</th>\n",
       "      <td>2019-04-02</td>\n",
       "      <td>5782</td>\n",
       "      <td>14107</td>\n",
       "      <td>Phoenix, AZ</td>\n",
       "      <td>13244</td>\n",
       "      <td>0.0</td>\n",
       "      <td>34.0</td>\n",
       "      <td>920.0</td>\n",
       "      <td>1349.0</td>\n",
       "      <td>5.0</td>\n",
       "      <td>149.0</td>\n",
       "      <td>1264.0</td>\n",
       "      <td>18.0</td>\n",
       "      <td>rain</td>\n",
       "      <td>0</td>\n",
       "    </tr>\n",
       "    <tr>\n",
       "      <th>3</th>\n",
       "      <td>2019-04-02</td>\n",
       "      <td>5785</td>\n",
       "      <td>14107</td>\n",
       "      <td>Phoenix, AZ</td>\n",
       "      <td>14570</td>\n",
       "      <td>0.0</td>\n",
       "      <td>14.0</td>\n",
       "      <td>1413.0</td>\n",
       "      <td>1539.0</td>\n",
       "      <td>3.0</td>\n",
       "      <td>86.0</td>\n",
       "      <td>601.0</td>\n",
       "      <td>28.0</td>\n",
       "      <td>rain</td>\n",
       "      <td>0</td>\n",
       "    </tr>\n",
       "    <tr>\n",
       "      <th>4</th>\n",
       "      <td>2019-04-02</td>\n",
       "      <td>5792</td>\n",
       "      <td>14107</td>\n",
       "      <td>Phoenix, AZ</td>\n",
       "      <td>13891</td>\n",
       "      <td>0.0</td>\n",
       "      <td>17.0</td>\n",
       "      <td>750.0</td>\n",
       "      <td>844.0</td>\n",
       "      <td>5.0</td>\n",
       "      <td>54.0</td>\n",
       "      <td>325.0</td>\n",
       "      <td>-68.0</td>\n",
       "      <td>rain</td>\n",
       "      <td>0</td>\n",
       "    </tr>\n",
       "    <tr>\n",
       "      <th>...</th>\n",
       "      <td>...</td>\n",
       "      <td>...</td>\n",
       "      <td>...</td>\n",
       "      <td>...</td>\n",
       "      <td>...</td>\n",
       "      <td>...</td>\n",
       "      <td>...</td>\n",
       "      <td>...</td>\n",
       "      <td>...</td>\n",
       "      <td>...</td>\n",
       "      <td>...</td>\n",
       "      <td>...</td>\n",
       "      <td>...</td>\n",
       "      <td>...</td>\n",
       "      <td>...</td>\n",
       "    </tr>\n",
       "    <tr>\n",
       "      <th>962</th>\n",
       "      <td>2019-04-02</td>\n",
       "      <td>512</td>\n",
       "      <td>13495</td>\n",
       "      <td>New Orleans, LA</td>\n",
       "      <td>12266</td>\n",
       "      <td>0.0</td>\n",
       "      <td>9.0</td>\n",
       "      <td>1415.0</td>\n",
       "      <td>1519.0</td>\n",
       "      <td>4.0</td>\n",
       "      <td>64.0</td>\n",
       "      <td>305.0</td>\n",
       "      <td>-2.0</td>\n",
       "      <td>rain</td>\n",
       "      <td>0</td>\n",
       "    </tr>\n",
       "    <tr>\n",
       "      <th>963</th>\n",
       "      <td>2019-04-02</td>\n",
       "      <td>430</td>\n",
       "      <td>13495</td>\n",
       "      <td>New Orleans, LA</td>\n",
       "      <td>13930</td>\n",
       "      <td>0.0</td>\n",
       "      <td>9.0</td>\n",
       "      <td>1053.0</td>\n",
       "      <td>1259.0</td>\n",
       "      <td>3.0</td>\n",
       "      <td>126.0</td>\n",
       "      <td>836.0</td>\n",
       "      <td>-36.0</td>\n",
       "      <td>rain</td>\n",
       "      <td>0</td>\n",
       "    </tr>\n",
       "    <tr>\n",
       "      <th>964</th>\n",
       "      <td>2019-04-02</td>\n",
       "      <td>507</td>\n",
       "      <td>10620</td>\n",
       "      <td>Billings, MT</td>\n",
       "      <td>11292</td>\n",
       "      <td>1.0</td>\n",
       "      <td>12.0</td>\n",
       "      <td>549.0</td>\n",
       "      <td>651.0</td>\n",
       "      <td>6.0</td>\n",
       "      <td>62.0</td>\n",
       "      <td>455.0</td>\n",
       "      <td>-76.0</td>\n",
       "      <td>cloudy</td>\n",
       "      <td>1</td>\n",
       "    </tr>\n",
       "    <tr>\n",
       "      <th>965</th>\n",
       "      <td>2019-04-02</td>\n",
       "      <td>491</td>\n",
       "      <td>10849</td>\n",
       "      <td>Bozeman, MT</td>\n",
       "      <td>11292</td>\n",
       "      <td>0.0</td>\n",
       "      <td>30.0</td>\n",
       "      <td>845.0</td>\n",
       "      <td>1007.0</td>\n",
       "      <td>6.0</td>\n",
       "      <td>82.0</td>\n",
       "      <td>524.0</td>\n",
       "      <td>24.0</td>\n",
       "      <td>rain</td>\n",
       "      <td>0</td>\n",
       "    </tr>\n",
       "    <tr>\n",
       "      <th>966</th>\n",
       "      <td>2019-04-02</td>\n",
       "      <td>466</td>\n",
       "      <td>12982</td>\n",
       "      <td>Lihue, HI</td>\n",
       "      <td>12892</td>\n",
       "      <td>0.0</td>\n",
       "      <td>13.0</td>\n",
       "      <td>1322.0</td>\n",
       "      <td>2126.0</td>\n",
       "      <td>19.0</td>\n",
       "      <td>304.0</td>\n",
       "      <td>2615.0</td>\n",
       "      <td>-4.0</td>\n",
       "      <td>rain</td>\n",
       "      <td>0</td>\n",
       "    </tr>\n",
       "  </tbody>\n",
       "</table>\n",
       "<p>967 rows × 15 columns</p>\n",
       "</div>"
      ],
      "text/plain": [
       "       fl_date  op_carrier_fl_num  origin_airport_id  \\\n",
       "0   2019-04-02               5772              13256   \n",
       "1   2019-04-02               5775              14107   \n",
       "2   2019-04-02               5782              14107   \n",
       "3   2019-04-02               5785              14107   \n",
       "4   2019-04-02               5792              14107   \n",
       "..         ...                ...                ...   \n",
       "962 2019-04-02                512              13495   \n",
       "963 2019-04-02                430              13495   \n",
       "964 2019-04-02                507              10620   \n",
       "965 2019-04-02                491              10849   \n",
       "966 2019-04-02                466              12982   \n",
       "\n",
       "                 origin_city_name  dest_airport_id  dep_time  taxi_out  \\\n",
       "0    Mission/McAllen/Edinburg, TX            11298       0.0      11.0   \n",
       "1                     Phoenix, AZ            13851       0.0      17.0   \n",
       "2                     Phoenix, AZ            13244       0.0      34.0   \n",
       "3                     Phoenix, AZ            14570       0.0      14.0   \n",
       "4                     Phoenix, AZ            13891       0.0      17.0   \n",
       "..                            ...              ...       ...       ...   \n",
       "962               New Orleans, LA            12266       0.0       9.0   \n",
       "963               New Orleans, LA            13930       0.0       9.0   \n",
       "964                  Billings, MT            11292       1.0      12.0   \n",
       "965                   Bozeman, MT            11292       0.0      30.0   \n",
       "966                     Lihue, HI            12892       0.0      13.0   \n",
       "\n",
       "     wheels_off  wheels_on  taxi_in  air_time  distance  total_delay  \\\n",
       "0        1322.0     1434.0     10.0      72.0     469.0        -10.0   \n",
       "1        1224.0     1604.0      6.0     100.0     833.0        -16.0   \n",
       "2         920.0     1349.0      5.0     149.0    1264.0         18.0   \n",
       "3        1413.0     1539.0      3.0      86.0     601.0         28.0   \n",
       "4         750.0      844.0      5.0      54.0     325.0        -68.0   \n",
       "..          ...        ...      ...       ...       ...          ...   \n",
       "962      1415.0     1519.0      4.0      64.0     305.0         -2.0   \n",
       "963      1053.0     1259.0      3.0     126.0     836.0        -36.0   \n",
       "964       549.0      651.0      6.0      62.0     455.0        -76.0   \n",
       "965       845.0     1007.0      6.0      82.0     524.0         24.0   \n",
       "966      1322.0     2126.0     19.0     304.0    2615.0         -4.0   \n",
       "\n",
       "    cond_desc  weather_bin  \n",
       "0        rain            0  \n",
       "1        rain            0  \n",
       "2        rain            0  \n",
       "3        rain            0  \n",
       "4        rain            0  \n",
       "..        ...          ...  \n",
       "962      rain            0  \n",
       "963      rain            0  \n",
       "964    cloudy            1  \n",
       "965      rain            0  \n",
       "966      rain            0  \n",
       "\n",
       "[967 rows x 15 columns]"
      ]
     },
     "execution_count": 264,
     "metadata": {},
     "output_type": "execute_result"
    }
   ],
   "source": [
    "mapping = {item:i for i, item in enumerate(tweath['cond_desc'].unique())}\n",
    "tweath['weather_bin'] = tweath['cond_desc'].apply(lambda x: mapping[x])\n",
    "tweath"
   ]
  },
  {
   "cell_type": "code",
   "execution_count": 267,
   "id": "fff538e4-2415-4473-bad5-69bc8bedd334",
   "metadata": {},
   "outputs": [],
   "source": [
    "tweath = tweath.drop(['origin_city_name', 'cond_desc'], axis = 1)"
   ]
  },
  {
   "cell_type": "code",
   "execution_count": 285,
   "id": "b2b286f7-97f0-449d-aafb-c309b7f8579a",
   "metadata": {},
   "outputs": [
    {
     "name": "stderr",
     "output_type": "stream",
     "text": [
      "/var/folders/p7/h49crc791_s32gzljswx64y00000gn/T/ipykernel_37380/2804201127.py:2: FutureWarning: casting datetime64[ns] values to int64 with .astype(...) is deprecated and will raise in a future version. Use .view(...) instead.\n",
      "  tweath['fl_date'] = day.astype('int64')\n"
     ]
    }
   ],
   "source": [
    "day = tweath['fl_date']\n",
    "tweath['fl_date'] = day.astype('int64')"
   ]
  },
  {
   "cell_type": "code",
   "execution_count": 288,
   "id": "f71a068d-4a09-49fa-84ad-d2e1a86a0465",
   "metadata": {},
   "outputs": [],
   "source": [
    "tweath['fl_date'] =  pd.to_datetime(tweath['fl_date'], format='%Y-%m-%d')"
   ]
  },
  {
   "cell_type": "code",
   "execution_count": 289,
   "id": "eae7d4db-58f2-45a8-986d-8d15c8ac7c19",
   "metadata": {},
   "outputs": [],
   "source": [
    "tweath['fl_date'] =  tweath['fl_date'].dt.day_of_week"
   ]
  },
  {
   "cell_type": "code",
   "execution_count": 291,
   "id": "0715a750-41d0-4ba0-b8a7-92a9888d8644",
   "metadata": {},
   "outputs": [],
   "source": [
    "tweath.loc[tweath['fl_date'] <= 4, 'fl_date'] = 0\n",
    "tweath.loc[tweath['fl_date'] > 4, 'fl_date'] = 1"
   ]
  },
  {
   "cell_type": "code",
   "execution_count": null,
   "id": "9f9ae5f6-ca7a-465a-9c4f-df4b8021eb47",
   "metadata": {},
   "outputs": [],
   "source": []
  },
  {
   "cell_type": "code",
   "execution_count": null,
   "id": "81d015c1-be69-40f7-af88-2affabec73cd",
   "metadata": {
    "tags": []
   },
   "outputs": [],
   "source": []
  },
  {
   "cell_type": "code",
   "execution_count": 292,
   "id": "8cd4b82b-22e2-4f5e-8dcc-83d25ed5a827",
   "metadata": {},
   "outputs": [],
   "source": [
    "tweath = tweath.dropna()"
   ]
  },
  {
   "cell_type": "code",
   "execution_count": 293,
   "id": "4721aed6-847a-42a0-a1b9-37fd29b5efc0",
   "metadata": {},
   "outputs": [
    {
     "data": {
      "text/plain": [
       "fl_date              0\n",
       "op_carrier_fl_num    0\n",
       "origin_airport_id    0\n",
       "dest_airport_id      0\n",
       "dep_time             0\n",
       "taxi_out             0\n",
       "wheels_off           0\n",
       "wheels_on            0\n",
       "taxi_in              0\n",
       "air_time             0\n",
       "distance             0\n",
       "total_delay          0\n",
       "weather_bin          0\n",
       "dtype: int64"
      ]
     },
     "execution_count": 293,
     "metadata": {},
     "output_type": "execute_result"
    }
   ],
   "source": [
    "tweath.isna().sum()"
   ]
  },
  {
   "cell_type": "code",
   "execution_count": 294,
   "id": "59d5e833-61df-4088-afe7-d2717f7a9811",
   "metadata": {},
   "outputs": [
    {
     "data": {
      "text/plain": [
       "fl_date                int64\n",
       "op_carrier_fl_num      int64\n",
       "origin_airport_id      int64\n",
       "dest_airport_id        int64\n",
       "dep_time             float64\n",
       "taxi_out             float64\n",
       "wheels_off           float64\n",
       "wheels_on            float64\n",
       "taxi_in              float64\n",
       "air_time             float64\n",
       "distance             float64\n",
       "total_delay          float64\n",
       "weather_bin            int64\n",
       "dtype: object"
      ]
     },
     "execution_count": 294,
     "metadata": {},
     "output_type": "execute_result"
    }
   ],
   "source": [
    "tweath.dtypes"
   ]
  },
  {
   "cell_type": "code",
   "execution_count": 295,
   "id": "c4429c2d-722a-444d-bf69-4c1489721e7f",
   "metadata": {},
   "outputs": [],
   "source": [
    "y_colw = 'total_delay'\n",
    "yw = tweath[y_colw]\n",
    "Xw = tweath[tweath.columns.drop(y_colw)]"
   ]
  },
  {
   "cell_type": "code",
   "execution_count": 296,
   "id": "cf1ba64f-ae27-4d9d-a4d2-86b8cdbc06d5",
   "metadata": {},
   "outputs": [
    {
     "name": "stdout",
     "output_type": "stream",
     "text": [
      "                            OLS Regression Results                            \n",
      "==============================================================================\n",
      "Dep. Variable:            total_delay   R-squared:                       0.106\n",
      "Model:                            OLS   Adj. R-squared:                  0.095\n",
      "Method:                 Least Squares   F-statistic:                     10.22\n",
      "Date:                Thu, 12 May 2022   Prob (F-statistic):           8.00e-18\n",
      "Time:                        17:55:10   Log-Likelihood:                -6588.4\n",
      "No. Observations:                 964   AIC:                         1.320e+04\n",
      "Df Residuals:                     952   BIC:                         1.326e+04\n",
      "Df Model:                          11                                         \n",
      "Covariance Type:            nonrobust                                         \n",
      "=====================================================================================\n",
      "                        coef    std err          t      P>|t|      [0.025      0.975]\n",
      "-------------------------------------------------------------------------------------\n",
      "const              -110.4191     95.621     -1.155      0.248    -298.071      77.233\n",
      "fl_date            5.162e-10   4.47e-10      1.155      0.249   -3.61e-10    1.39e-09\n",
      "op_carrier_fl_num     0.0023      0.004      0.579      0.563      -0.006       0.010\n",
      "origin_airport_id    -0.0030      0.005     -0.586      0.558      -0.013       0.007\n",
      "dest_airport_id       0.0034      0.005      0.658      0.510      -0.007       0.014\n",
      "dep_time              6.1268    114.345      0.054      0.957    -218.271     230.525\n",
      "taxi_out              1.0120      0.943      1.073      0.284      -0.839       2.863\n",
      "wheels_off           -0.1464      0.024     -6.019      0.000      -0.194      -0.099\n",
      "wheels_on             0.2049      0.021      9.942      0.000       0.164       0.245\n",
      "taxi_in              -2.0710      1.203     -1.722      0.085      -4.431       0.289\n",
      "air_time              0.2174      0.510      0.427      0.670      -0.783       1.218\n",
      "distance             -0.0567      0.061     -0.932      0.352      -0.176       0.063\n",
      "weather_bin           0.5481    115.169      0.005      0.996    -225.466     226.562\n",
      "==============================================================================\n",
      "Omnibus:                      392.140   Durbin-Watson:                   1.978\n",
      "Prob(Omnibus):                  0.000   Jarque-Bera (JB):           176595.767\n",
      "Skew:                           0.383   Prob(JB):                         0.00\n",
      "Kurtosis:                      69.302   Cond. No.                     2.76e+17\n",
      "==============================================================================\n",
      "\n",
      "Notes:\n",
      "[1] Standard Errors assume that the covariance matrix of the errors is correctly specified.\n",
      "[2] The smallest eigenvalue is 4.24e-24. This might indicate that there are\n",
      "strong multicollinearity problems or that the design matrix is singular.\n"
     ]
    }
   ],
   "source": [
    "Xw = sm.add_constant(Xw)\n",
    "\n",
    "model = sm.OLS(yw, Xw).fit()\n",
    "predictions = model.predict(Xw)\n",
    "print_model = model.summary()\n",
    "print(print_model)"
   ]
  },
  {
   "cell_type": "code",
   "execution_count": null,
   "id": "3eb60f64-ee16-4f24-bd22-34481577c77a",
   "metadata": {},
   "outputs": [],
   "source": []
  }
 ],
 "metadata": {
  "kernelspec": {
   "display_name": "Python 3 (ipykernel)",
   "language": "python",
   "name": "python3"
  },
  "language_info": {
   "codemirror_mode": {
    "name": "ipython",
    "version": 3
   },
   "file_extension": ".py",
   "mimetype": "text/x-python",
   "name": "python",
   "nbconvert_exporter": "python",
   "pygments_lexer": "ipython3",
   "version": "3.9.7"
  }
 },
 "nbformat": 4,
 "nbformat_minor": 5
}
