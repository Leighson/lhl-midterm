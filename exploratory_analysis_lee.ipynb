{
 "cells": [
  {
   "cell_type": "markdown",
   "metadata": {},
   "source": [
    "## Exploratory Data Analysis\n",
    "\n",
    "Use this notebook to get familiar with the datasets we have. There is 10 questions we need to answer during the EDA.\n",
    "\n",
    "\n",
    "We shouldn't limit our EDA to these 10 questions. Let's be creative :)."
   ]
  },
  {
   "cell_type": "code",
   "execution_count": 34,
   "metadata": {},
   "outputs": [],
   "source": [
    "# import libraries\n",
    "import re\n",
    "import requests as req\n",
    "import numpy as np\n",
    "import pandas as pd\n",
    "import assets.script as sc\n",
    "import matplotlib.pyplot as plt\n",
    "import scipy.stats as stats\n",
    "import datetime as dt\n",
    "import time\n",
    "from calendar import Calendar\n",
    "\n",
    "%matplotlib inline"
   ]
  },
  {
   "cell_type": "code",
   "execution_count": 35,
   "metadata": {},
   "outputs": [],
   "source": [
    "# import sql library\n",
    "from psycopg2 import sql\n",
    "import psycopg2 as pg\n",
    "\n",
    "# define paths\n",
    "from pathlib import Path\n",
    "data_path = Path('./data')"
   ]
  },
  {
   "cell_type": "code",
   "execution_count": 6,
   "metadata": {},
   "outputs": [
    {
     "data": {
      "text/plain": [
       "0             flights\n",
       "1        flights_test\n",
       "2    fuel_comsumption\n",
       "3         pass_sample\n",
       "4          passengers\n",
       "5              sample\n",
       "6           temptable\n",
       "7          test_table\n",
       "dtype: object"
      ]
     },
     "execution_count": 6,
     "metadata": {},
     "output_type": "execute_result"
    }
   ],
   "source": [
    "# display table names\n",
    "display_tables = sc.sql_read_tables()\n",
    "display_tables\n",
    "\n",
    "\n",
    "# sc.sql_search_date(table='passengers', field='year', overwrite=True)"
   ]
  },
  {
   "cell_type": "code",
   "execution_count": 7,
   "metadata": {},
   "outputs": [],
   "source": [
    "# # query for tables\n",
    "# limit = 100000\n",
    "# sample_size = '{}k'.format(int(limit/1000))\n",
    "\n",
    "\n",
    "# for tables in display_tables:\n",
    "#     query = sql.SQL(\n",
    "#         \"SELECT * FROM {t} \\\n",
    "#             LIMIT {l};\").format(\n",
    "#             t = sql.Identifier(tables),\n",
    "#             l = sql.Literal(limit)\n",
    "#         )\n",
    "        \n",
    "#     filename = '{}_{}_sample.csv'.format(tables, sample_size)\n",
    "#     overwrite = True\n",
    "    \n",
    "#     # sql call\n",
    "#     df = sc.make_csv(query, filename, overwrite)"
   ]
  },
  {
   "cell_type": "code",
   "execution_count": 10,
   "metadata": {},
   "outputs": [],
   "source": [
    "sample_size = 100000\n",
    "\n",
    "# transfer sample of tables to dataframes\n",
    "df_flights = pd.read_csv(data_path / f'flights_{str(sample_size/1000)}k_sample.csv'.format(sample_size))\n",
    "df_flights_test = pd.read_csv(data_path / f'flights_test_{str(sample_size/1000)}k_sample.csv'.format(sample_size))\n",
    "df_fuel_comsumption = pd.read_csv(data_path / f'fuel_comsumption_{str(sample_size/1000)}k_sample.csv'.format(sample_size))\n",
    "df_pass_sample = pd.read_csv(data_path / f'pass_sample_{str(sample_size/1000)}k_sample.csv'.format(sample_size))\n",
    "df_passengers = pd.read_csv(data_path / f'passengers_{str(sample_size/1000)}k_sample.csv'.format(sample_size))\n",
    "df_sample = pd.read_csv(data_path / f'sample_{str(sample_size/1000)}k_sample.csv'.format(sample_size))\n",
    "df_temptable = pd.read_csv(data_path / f'temptable_{str(sample_size/1000)}k_sample.csv'.format(sample_size))\n",
    "\n",
    "df_table_names = [df_flights, df_flights_test, df_fuel_comsumption, df_pass_sample, df_passengers, df_sample, df_temptable]"
   ]
  },
  {
   "cell_type": "markdown",
   "metadata": {},
   "source": [
    "#### **Task 1**: Test the hypothesis that the delay is from Normal distribution. and that **mean** of the delay is 0. Be careful about the outliers."
   ]
  },
  {
   "cell_type": "markdown",
   "metadata": {},
   "source": [
    "##### Look for columns describing delay"
   ]
  },
  {
   "cell_type": "code",
   "execution_count": 11,
   "metadata": {},
   "outputs": [
    {
     "data": {
      "text/plain": [
       "['dep_delay',\n",
       " 'arr_delay',\n",
       " 'carrier_delay',\n",
       " 'weather_delay',\n",
       " 'nas_delay',\n",
       " 'security_delay',\n",
       " 'late_aircraft_delay']"
      ]
     },
     "execution_count": 11,
     "metadata": {},
     "output_type": "execute_result"
    }
   ],
   "source": [
    "# search for columns that describe delays\n",
    "regex = r\"(.*delay.*)\"\n",
    "indices, results = sc.search_data(df_flights, regex)\n",
    "results"
   ]
  },
  {
   "cell_type": "markdown",
   "metadata": {},
   "source": [
    "##### Preliminary EDA"
   ]
  },
  {
   "cell_type": "code",
   "execution_count": 12,
   "metadata": {},
   "outputs": [
    {
     "name": "stdout",
     "output_type": "stream",
     "text": [
      "dep_delay                422\n",
      "arr_delay                650\n",
      "carrier_delay          85969\n",
      "weather_delay          85969\n",
      "nas_delay              85969\n",
      "security_delay         85969\n",
      "late_aircraft_delay    85969\n",
      "dtype: int64\n"
     ]
    }
   ],
   "source": [
    "print(df_flights[results].isnull().sum())\n",
    "# most delays appear to have many missing values; will ignore them for now"
   ]
  },
  {
   "cell_type": "code",
   "execution_count": 13,
   "metadata": {},
   "outputs": [
    {
     "name": "stdout",
     "output_type": "stream",
     "text": [
      "dep_delay    0\n",
      "arr_delay    0\n",
      "dtype: int64\n",
      "RangeIndex(start=0, stop=99350, step=1)\n"
     ]
    },
    {
     "data": {
      "text/html": [
       "<div>\n",
       "<style scoped>\n",
       "    .dataframe tbody tr th:only-of-type {\n",
       "        vertical-align: middle;\n",
       "    }\n",
       "\n",
       "    .dataframe tbody tr th {\n",
       "        vertical-align: top;\n",
       "    }\n",
       "\n",
       "    .dataframe thead th {\n",
       "        text-align: right;\n",
       "    }\n",
       "</style>\n",
       "<table border=\"1\" class=\"dataframe\">\n",
       "  <thead>\n",
       "    <tr style=\"text-align: right;\">\n",
       "      <th></th>\n",
       "      <th>dep_delay</th>\n",
       "      <th>arr_delay</th>\n",
       "    </tr>\n",
       "  </thead>\n",
       "  <tbody>\n",
       "    <tr>\n",
       "      <th>count</th>\n",
       "      <td>99350.000000</td>\n",
       "      <td>99350.000000</td>\n",
       "    </tr>\n",
       "    <tr>\n",
       "      <th>mean</th>\n",
       "      <td>6.316457</td>\n",
       "      <td>0.770810</td>\n",
       "    </tr>\n",
       "    <tr>\n",
       "      <th>std</th>\n",
       "      <td>40.124939</td>\n",
       "      <td>41.765821</td>\n",
       "    </tr>\n",
       "    <tr>\n",
       "      <th>min</th>\n",
       "      <td>-40.000000</td>\n",
       "      <td>-65.000000</td>\n",
       "    </tr>\n",
       "    <tr>\n",
       "      <th>25%</th>\n",
       "      <td>-6.000000</td>\n",
       "      <td>-15.000000</td>\n",
       "    </tr>\n",
       "    <tr>\n",
       "      <th>50%</th>\n",
       "      <td>-3.000000</td>\n",
       "      <td>-7.000000</td>\n",
       "    </tr>\n",
       "    <tr>\n",
       "      <th>75%</th>\n",
       "      <td>2.000000</td>\n",
       "      <td>4.000000</td>\n",
       "    </tr>\n",
       "    <tr>\n",
       "      <th>max</th>\n",
       "      <td>1511.000000</td>\n",
       "      <td>1484.000000</td>\n",
       "    </tr>\n",
       "  </tbody>\n",
       "</table>\n",
       "</div>"
      ],
      "text/plain": [
       "          dep_delay     arr_delay\n",
       "count  99350.000000  99350.000000\n",
       "mean       6.316457      0.770810\n",
       "std       40.124939     41.765821\n",
       "min      -40.000000    -65.000000\n",
       "25%       -6.000000    -15.000000\n",
       "50%       -3.000000     -7.000000\n",
       "75%        2.000000      4.000000\n",
       "max     1511.000000   1484.000000"
      ]
     },
     "execution_count": 13,
     "metadata": {},
     "output_type": "execute_result"
    }
   ],
   "source": [
    "# early arrivals|departures without null values\n",
    "df_flights_delay = df_flights[['dep_delay', 'arr_delay']].dropna().reset_index(drop=True)\n",
    "print(df_flights_delay.isnull().sum())\n",
    "print(df_flights_delay.index)\n",
    "df_flights_delay.describe()"
   ]
  },
  {
   "cell_type": "markdown",
   "metadata": {},
   "source": [
    "These numbers are terrible."
   ]
  },
  {
   "cell_type": "markdown",
   "metadata": {},
   "source": [
    "##### Check for normal distributions"
   ]
  },
  {
   "cell_type": "code",
   "execution_count": 14,
   "metadata": {},
   "outputs": [
    {
     "name": "stdout",
     "output_type": "stream",
     "text": [
      "Shapiro-Wilk Test\n",
      "-----------------\n",
      "Provided an alpha of 0.05, if p-value > alpha then the distribution can be assumed to be normal.\n",
      "This test prunes data to the first 5000 data points or \"head(5000)\" as reliability suffers with increasing samples.\n",
      "t-stat: 0.31353503465652466 , p-value: 0.0\n",
      "\n",
      "Anderson-Darling Test\n",
      "---------------------\n",
      "If the returned statistic > critical values then for the corresponding significance level,\n",
      "the null hypothesis that the data come from the chosen distribution can be rejected.\n",
      "t-stat: 19076.107367427525 , critical values: [0.576 0.656 0.787 0.918 1.092] , at significance levels of: [15.  10.   5.   2.5  1. ]\n",
      "\n",
      "Skewness and Kurtosis\n",
      "---------------------\n",
      "skewness, -ve skews left and +ve skews right (0 is best): 11.32436073610048\n",
      "kurtosis, tail spread (< 3 is best): 232.39906150149878\n"
     ]
    },
    {
     "data": {
      "image/png": "[encoded data removed]",
      "text/plain": [
       "<Figure size 720x576 with 1 Axes>"
      ]
     },
     "metadata": {
      "needs_background": "dark"
     },
     "output_type": "display_data"
    }
   ],
   "source": [
    "sc.check_normal_dist(df_flights_delay['dep_delay'])"
   ]
  },
  {
   "cell_type": "code",
   "execution_count": 15,
   "metadata": {},
   "outputs": [
    {
     "name": "stdout",
     "output_type": "stream",
     "text": [
      "Shapiro-Wilk Test\n",
      "-----------------\n",
      "Provided an alpha of 0.05, if p-value > alpha then the distribution can be assumed to be normal.\n",
      "This test prunes data to the first 5000 data points or \"head(5000)\" as reliability suffers with increasing samples.\n",
      "t-stat: 0.48025423288345337 , p-value: 0.0\n",
      "\n",
      "Anderson-Darling Test\n",
      "---------------------\n",
      "If the returned statistic > critical values then for the corresponding significance level,\n",
      "the null hypothesis that the data come from the chosen distribution can be rejected.\n",
      "t-stat: 12146.140290412062 , critical values: [0.576 0.656 0.787 0.918 1.092] , at significance levels of: [15.  10.   5.   2.5  1. ]\n",
      "\n",
      "Skewness and Kurtosis\n",
      "---------------------\n",
      "skewness, -ve skews left and +ve skews right (0 is best): 10.092117183882117\n",
      "kurtosis, tail spread (< 3 is best): 199.0824797878961\n"
     ]
    },
    {
     "data": {
      "image/png": "[encoded data removed]",
      "text/plain": [
       "<Figure size 720x576 with 1 Axes>"
      ]
     },
     "metadata": {
      "needs_background": "dark"
     },
     "output_type": "display_data"
    }
   ],
   "source": [
    "sc.check_normal_dist(df_flights_delay['arr_delay'], bins=50)"
   ]
  },
  {
   "cell_type": "markdown",
   "metadata": {},
   "source": [
    "These are really not normal. Also, extremely skewed."
   ]
  },
  {
   "cell_type": "markdown",
   "metadata": {},
   "source": [
    "##### Filter outliers and redo the normal distribution checks"
   ]
  },
  {
   "cell_type": "code",
   "execution_count": 16,
   "metadata": {},
   "outputs": [],
   "source": [
    "df = sc.filter_outliers(df_flights_delay, df_flights_delay['arr_delay'])\n",
    "df.reset_index(inplace=True, drop=True)\n",
    "df = sc.filter_outliers(df, df['dep_delay'])"
   ]
  },
  {
   "cell_type": "code",
   "execution_count": 17,
   "metadata": {},
   "outputs": [
    {
     "name": "stdout",
     "output_type": "stream",
     "text": [
      "Shapiro-Wilk Test\n",
      "-----------------\n",
      "Provided an alpha of 0.05, if p-value > alpha then the distribution can be assumed to be normal.\n",
      "This test prunes data to the first 5000 data points or \"head(5000)\" as reliability suffers with increasing samples.\n",
      "t-stat: 0.9429877996444702 , p-value: 3.172539723231386e-40\n",
      "\n",
      "Anderson-Darling Test\n",
      "---------------------\n",
      "If the returned statistic > critical values then for the corresponding significance level,\n",
      "the null hypothesis that the data come from the chosen distribution can be rejected.\n",
      "t-stat: 1620.6551878484897 , critical values: [0.576 0.656 0.787 0.918 1.092] , at significance levels of: [15.  10.   5.   2.5  1. ]\n",
      "\n",
      "Skewness and Kurtosis\n",
      "---------------------\n",
      "skewness, -ve skews left and +ve skews right (0 is best): 1.2435752185773583\n",
      "kurtosis, tail spread (< 3 is best): 3.2753797598957948\n"
     ]
    },
    {
     "data": {
      "image/png": "[encoded data removed]",
      "text/plain": [
       "<Figure size 720x576 with 1 Axes>"
      ]
     },
     "metadata": {
      "needs_background": "dark"
     },
     "output_type": "display_data"
    },
    {
     "name": "stdout",
     "output_type": "stream",
     "text": [
      "Shapiro-Wilk Test\n",
      "-----------------\n",
      "Provided an alpha of 0.05, if p-value > alpha then the distribution can be assumed to be normal.\n",
      "This test prunes data to the first 5000 data points or \"head(5000)\" as reliability suffers with increasing samples.\n",
      "t-stat: 0.7305164337158203 , p-value: 0.0\n",
      "\n",
      "Anderson-Darling Test\n",
      "---------------------\n",
      "If the returned statistic > critical values then for the corresponding significance level,\n",
      "the null hypothesis that the data come from the chosen distribution can be rejected.\n",
      "t-stat: 7864.145524521999 , critical values: [0.576 0.656 0.787 0.918 1.092] , at significance levels of: [15.  10.   5.   2.5  1. ]\n",
      "\n",
      "Skewness and Kurtosis\n",
      "---------------------\n",
      "skewness, -ve skews left and +ve skews right (0 is best): 2.3714698364999696\n",
      "kurtosis, tail spread (< 3 is best): 6.470939457473962\n"
     ]
    },
    {
     "data": {
      "image/png": "[encoded data removed]",
      "text/plain": [
       "<Figure size 720x576 with 1 Axes>"
      ]
     },
     "metadata": {
      "needs_background": "dark"
     },
     "output_type": "display_data"
    },
    {
     "data": {
      "text/html": [
       "<div>\n",
       "<style scoped>\n",
       "    .dataframe tbody tr th:only-of-type {\n",
       "        vertical-align: middle;\n",
       "    }\n",
       "\n",
       "    .dataframe tbody tr th {\n",
       "        vertical-align: top;\n",
       "    }\n",
       "\n",
       "    .dataframe thead th {\n",
       "        text-align: right;\n",
       "    }\n",
       "</style>\n",
       "<table border=\"1\" class=\"dataframe\">\n",
       "  <thead>\n",
       "    <tr style=\"text-align: right;\">\n",
       "      <th></th>\n",
       "      <th>dep_delay</th>\n",
       "      <th>arr_delay</th>\n",
       "    </tr>\n",
       "  </thead>\n",
       "  <tbody>\n",
       "    <tr>\n",
       "      <th>count</th>\n",
       "      <td>94995.000000</td>\n",
       "      <td>94995.000000</td>\n",
       "    </tr>\n",
       "    <tr>\n",
       "      <th>mean</th>\n",
       "      <td>0.138881</td>\n",
       "      <td>-5.412559</td>\n",
       "    </tr>\n",
       "    <tr>\n",
       "      <th>std</th>\n",
       "      <td>11.936077</td>\n",
       "      <td>16.535989</td>\n",
       "    </tr>\n",
       "    <tr>\n",
       "      <th>min</th>\n",
       "      <td>-40.000000</td>\n",
       "      <td>-65.000000</td>\n",
       "    </tr>\n",
       "    <tr>\n",
       "      <th>25%</th>\n",
       "      <td>-6.000000</td>\n",
       "      <td>-16.000000</td>\n",
       "    </tr>\n",
       "    <tr>\n",
       "      <th>50%</th>\n",
       "      <td>-3.000000</td>\n",
       "      <td>-8.000000</td>\n",
       "    </tr>\n",
       "    <tr>\n",
       "      <th>75%</th>\n",
       "      <td>1.000000</td>\n",
       "      <td>2.000000</td>\n",
       "    </tr>\n",
       "    <tr>\n",
       "      <th>max</th>\n",
       "      <td>60.000000</td>\n",
       "      <td>126.000000</td>\n",
       "    </tr>\n",
       "  </tbody>\n",
       "</table>\n",
       "</div>"
      ],
      "text/plain": [
       "          dep_delay     arr_delay\n",
       "count  94995.000000  94995.000000\n",
       "mean       0.138881     -5.412559\n",
       "std       11.936077     16.535989\n",
       "min      -40.000000    -65.000000\n",
       "25%       -6.000000    -16.000000\n",
       "50%       -3.000000     -8.000000\n",
       "75%        1.000000      2.000000\n",
       "max       60.000000    126.000000"
      ]
     },
     "execution_count": 17,
     "metadata": {},
     "output_type": "execute_result"
    }
   ],
   "source": [
    "sc.check_normal_dist(df['arr_delay'])\n",
    "sc.check_normal_dist(df['dep_delay'])\n",
    "df.describe()"
   ]
  },
  {
   "cell_type": "markdown",
   "metadata": {},
   "source": [
    "These are much better. The mean trends closer to zeo, and the max values aren't nearly so bad. Though, it still skews positive, these numbers make more sense."
   ]
  },
  {
   "cell_type": "code",
   "execution_count": 18,
   "metadata": {},
   "outputs": [
    {
     "data": {
      "image/png": "[encoded data removed]",
      "text/plain": [
       "<Figure size 720x576 with 1 Axes>"
      ]
     },
     "metadata": {
      "needs_background": "dark"
     },
     "output_type": "display_data"
    }
   ],
   "source": [
    "sc.graph_eda('scatter', df['arr_delay'], df['dep_delay'], marker_size=1)"
   ]
  },
  {
   "cell_type": "markdown",
   "metadata": {},
   "source": [
    "There appears to be a correlation between the two, arr_delay and dep_delay. What's interesting is that the effect of departure delays on arrival delays appear to be wide one way. Arrival delay is less correlated to departure than the other way around."
   ]
  },
  {
   "cell_type": "markdown",
   "metadata": {},
   "source": [
    "#### **Task 2**: Is average/median monthly delay different during the year? If yes, which are months with the biggest delays and what could be the reason?"
   ]
  },
  {
   "cell_type": "markdown",
   "metadata": {},
   "source": [
    "##### Define a function that takes samples per time period"
   ]
  },
  {
   "cell_type": "code",
   "execution_count": 19,
   "metadata": {},
   "outputs": [
    {
     "name": "stdout",
     "output_type": "stream",
     "text": [
      "['fl_date']\n",
      "['fl_date']\n",
      "[]\n",
      "[]\n",
      "[]\n",
      "['fl_date']\n",
      "['fl_date']\n"
     ]
    }
   ],
   "source": [
    "# search for columns that describe delays\n",
    "regex = r\"(.*date.*)\"\n",
    "\n",
    "for i, table in enumerate(df_table_names):\n",
    "    indices, results = sc.search_data(table, regex)\n",
    "    # print(i)\n",
    "    # print(indices)\n",
    "    print(results)"
   ]
  },
  {
   "cell_type": "markdown",
   "metadata": {},
   "source": [
    "Only one column with associated dates. Take 100k samples from each month."
   ]
  },
  {
   "cell_type": "code",
   "execution_count": 20,
   "metadata": {},
   "outputs": [
    {
     "name": "stdout",
     "output_type": "stream",
     "text": [
      "File exists. Returning DataFrame...\n",
      "File exists. Returning DataFrame...\n",
      "File exists. Returning DataFrame...\n",
      "File exists. Returning DataFrame...\n",
      "File exists. Returning DataFrame...\n",
      "File exists. Returning DataFrame...\n",
      "File exists. Returning DataFrame...\n",
      "File exists. Returning DataFrame...\n",
      "File exists. Returning DataFrame...\n",
      "File exists. Returning DataFrame...\n",
      "File exists. Returning DataFrame...\n",
      "File exists. Returning DataFrame...\n"
     ]
    }
   ],
   "source": [
    "df_flights_by_month = []\n",
    "\n",
    "for i in range(0,12):\n",
    "    df_flights_by_month.append(sc.sql_search_date(table='flights', y=2019, m=i+1).sort_values(by='fl_date'))"
   ]
  },
  {
   "cell_type": "code",
   "execution_count": 21,
   "metadata": {},
   "outputs": [
    {
     "name": "stdout",
     "output_type": "stream",
     "text": [
      "1\n",
      "Shapiro-Wilk Test\n",
      "-----------------\n",
      "Provided an alpha of 0.05, if p-value > alpha then the distribution can be assumed to be normal.\n",
      "This test prunes data to the first 5000 data points or \"head(5000)\" as reliability suffers with increasing samples.\n",
      "t-stat: nan , p-value: 1.0\n",
      "\n",
      "Anderson-Darling Test\n",
      "---------------------\n",
      "If the returned statistic > critical values then for the corresponding significance level,\n",
      "the null hypothesis that the data come from the chosen distribution can be rejected.\n",
      "t-stat: nan , critical values: [0.574 0.653 0.784 0.914 1.088] , at significance levels of: [15.  10.   5.   2.5  1. ]\n",
      "\n",
      "Skewness and Kurtosis\n",
      "---------------------\n",
      "skewness, -ve skews left and +ve skews right (0 is best): 4.076771506832445\n",
      "kurtosis, tail spread (< 3 is best): 29.194332571172744\n"
     ]
    },
    {
     "data": {
      "image/png": "[encoded data removed]",
      "text/plain": [
       "<Figure size 720x576 with 1 Axes>"
      ]
     },
     "metadata": {
      "needs_background": "dark"
     },
     "output_type": "display_data"
    },
    {
     "name": "stdout",
     "output_type": "stream",
     "text": [
      "2\n",
      "Shapiro-Wilk Test\n",
      "-----------------\n",
      "Provided an alpha of 0.05, if p-value > alpha then the distribution can be assumed to be normal.\n",
      "This test prunes data to the first 5000 data points or \"head(5000)\" as reliability suffers with increasing samples.\n",
      "t-stat: nan , p-value: 1.0\n",
      "\n",
      "Anderson-Darling Test\n",
      "---------------------\n",
      "If the returned statistic > critical values then for the corresponding significance level,\n",
      "the null hypothesis that the data come from the chosen distribution can be rejected.\n",
      "t-stat: nan , critical values: [0.574 0.653 0.784 0.914 1.088] , at significance levels of: [15.  10.   5.   2.5  1. ]\n",
      "\n",
      "Skewness and Kurtosis\n",
      "---------------------\n",
      "skewness, -ve skews left and +ve skews right (0 is best): 3.3092910154031134\n",
      "kurtosis, tail spread (< 3 is best): 14.415180254222719\n"
     ]
    },
    {
     "data": {
      "image/png": "[encoded data removed]",
      "text/plain": [
       "<Figure size 720x576 with 1 Axes>"
      ]
     },
     "metadata": {
      "needs_background": "dark"
     },
     "output_type": "display_data"
    },
    {
     "name": "stdout",
     "output_type": "stream",
     "text": [
      "3\n",
      "Shapiro-Wilk Test\n",
      "-----------------\n",
      "Provided an alpha of 0.05, if p-value > alpha then the distribution can be assumed to be normal.\n",
      "This test prunes data to the first 5000 data points or \"head(5000)\" as reliability suffers with increasing samples.\n",
      "t-stat: nan , p-value: 1.0\n",
      "\n",
      "Anderson-Darling Test\n",
      "---------------------\n",
      "If the returned statistic > critical values then for the corresponding significance level,\n",
      "the null hypothesis that the data come from the chosen distribution can be rejected.\n",
      "t-stat: nan , critical values: [0.574 0.653 0.784 0.914 1.088] , at significance levels of: [15.  10.   5.   2.5  1. ]\n",
      "\n",
      "Skewness and Kurtosis\n",
      "---------------------\n",
      "skewness, -ve skews left and +ve skews right (0 is best): 10.69161810313728\n",
      "kurtosis, tail spread (< 3 is best): 203.42333516981793\n"
     ]
    },
    {
     "data": {
      "image/png": "[encoded data removed]",
      "text/plain": [
       "<Figure size 720x576 with 1 Axes>"
      ]
     },
     "metadata": {
      "needs_background": "dark"
     },
     "output_type": "display_data"
    },
    {
     "name": "stdout",
     "output_type": "stream",
     "text": [
      "4\n",
      "Shapiro-Wilk Test\n",
      "-----------------\n",
      "Provided an alpha of 0.05, if p-value > alpha then the distribution can be assumed to be normal.\n",
      "This test prunes data to the first 5000 data points or \"head(5000)\" as reliability suffers with increasing samples.\n",
      "t-stat: nan , p-value: 1.0\n",
      "\n",
      "Anderson-Darling Test\n",
      "---------------------\n",
      "If the returned statistic > critical values then for the corresponding significance level,\n",
      "the null hypothesis that the data come from the chosen distribution can be rejected.\n",
      "t-stat: nan , critical values: [0.574 0.653 0.784 0.914 1.088] , at significance levels of: [15.  10.   5.   2.5  1. ]\n",
      "\n",
      "Skewness and Kurtosis\n",
      "---------------------\n",
      "skewness, -ve skews left and +ve skews right (0 is best): 3.6419389022807085\n",
      "kurtosis, tail spread (< 3 is best): 16.548504337114633\n"
     ]
    },
    {
     "data": {
      "image/png": "[encoded data removed]",
      "text/plain": [
       "<Figure size 720x576 with 1 Axes>"
      ]
     },
     "metadata": {
      "needs_background": "dark"
     },
     "output_type": "display_data"
    },
    {
     "name": "stdout",
     "output_type": "stream",
     "text": [
      "5\n",
      "Shapiro-Wilk Test\n",
      "-----------------\n",
      "Provided an alpha of 0.05, if p-value > alpha then the distribution can be assumed to be normal.\n",
      "This test prunes data to the first 5000 data points or \"head(5000)\" as reliability suffers with increasing samples.\n",
      "t-stat: nan , p-value: 1.0\n",
      "\n",
      "Anderson-Darling Test\n",
      "---------------------\n",
      "If the returned statistic > critical values then for the corresponding significance level,\n",
      "the null hypothesis that the data come from the chosen distribution can be rejected.\n",
      "t-stat: nan , critical values: [0.574 0.653 0.784 0.914 1.088] , at significance levels of: [15.  10.   5.   2.5  1. ]\n",
      "\n",
      "Skewness and Kurtosis\n",
      "---------------------\n",
      "skewness, -ve skews left and +ve skews right (0 is best): 6.096366846890761\n",
      "kurtosis, tail spread (< 3 is best): 65.09631244456328\n"
     ]
    },
    {
     "data": {
      "image/png": "[encoded data removed]",
      "text/plain": [
       "<Figure size 720x576 with 1 Axes>"
      ]
     },
     "metadata": {
      "needs_background": "dark"
     },
     "output_type": "display_data"
    },
    {
     "name": "stdout",
     "output_type": "stream",
     "text": [
      "6\n",
      "Shapiro-Wilk Test\n",
      "-----------------\n",
      "Provided an alpha of 0.05, if p-value > alpha then the distribution can be assumed to be normal.\n",
      "This test prunes data to the first 5000 data points or \"head(5000)\" as reliability suffers with increasing samples.\n",
      "t-stat: nan , p-value: 1.0\n",
      "\n",
      "Anderson-Darling Test\n",
      "---------------------\n",
      "If the returned statistic > critical values then for the corresponding significance level,\n",
      "the null hypothesis that the data come from the chosen distribution can be rejected.\n",
      "t-stat: nan , critical values: [0.574 0.653 0.784 0.914 1.088] , at significance levels of: [15.  10.   5.   2.5  1. ]\n",
      "\n",
      "Skewness and Kurtosis\n",
      "---------------------\n",
      "skewness, -ve skews left and +ve skews right (0 is best): 6.928024003084456\n",
      "kurtosis, tail spread (< 3 is best): 95.09745531990558\n"
     ]
    },
    {
     "data": {
      "image/png": "[encoded data removed]",
      "text/plain": [
       "<Figure size 720x576 with 1 Axes>"
      ]
     },
     "metadata": {
      "needs_background": "dark"
     },
     "output_type": "display_data"
    },
    {
     "name": "stdout",
     "output_type": "stream",
     "text": [
      "7\n",
      "Shapiro-Wilk Test\n",
      "-----------------\n",
      "Provided an alpha of 0.05, if p-value > alpha then the distribution can be assumed to be normal.\n",
      "This test prunes data to the first 5000 data points or \"head(5000)\" as reliability suffers with increasing samples.\n",
      "t-stat: nan , p-value: 1.0\n",
      "\n",
      "Anderson-Darling Test\n",
      "---------------------\n",
      "If the returned statistic > critical values then for the corresponding significance level,\n",
      "the null hypothesis that the data come from the chosen distribution can be rejected.\n",
      "t-stat: nan , critical values: [0.574 0.653 0.784 0.914 1.088] , at significance levels of: [15.  10.   5.   2.5  1. ]\n",
      "\n",
      "Skewness and Kurtosis\n",
      "---------------------\n",
      "skewness, -ve skews left and +ve skews right (0 is best): 7.206008967324392\n",
      "kurtosis, tail spread (< 3 is best): 90.67882641208895\n"
     ]
    },
    {
     "data": {
      "image/png": "[encoded data removed]",
      "text/plain": [
       "<Figure size 720x576 with 1 Axes>"
      ]
     },
     "metadata": {
      "needs_background": "dark"
     },
     "output_type": "display_data"
    },
    {
     "name": "stdout",
     "output_type": "stream",
     "text": [
      "8\n",
      "Shapiro-Wilk Test\n",
      "-----------------\n",
      "Provided an alpha of 0.05, if p-value > alpha then the distribution can be assumed to be normal.\n",
      "This test prunes data to the first 5000 data points or \"head(5000)\" as reliability suffers with increasing samples.\n",
      "t-stat: nan , p-value: 1.0\n",
      "\n",
      "Anderson-Darling Test\n",
      "---------------------\n",
      "If the returned statistic > critical values then for the corresponding significance level,\n",
      "the null hypothesis that the data come from the chosen distribution can be rejected.\n",
      "t-stat: nan , critical values: [0.574 0.653 0.784 0.914 1.088] , at significance levels of: [15.  10.   5.   2.5  1. ]\n",
      "\n",
      "Skewness and Kurtosis\n",
      "---------------------\n",
      "skewness, -ve skews left and +ve skews right (0 is best): 9.18796399775537\n",
      "kurtosis, tail spread (< 3 is best): 118.5313573415164\n"
     ]
    },
    {
     "data": {
      "image/png": "[encoded data removed]",
      "text/plain": [
       "<Figure size 720x576 with 1 Axes>"
      ]
     },
     "metadata": {
      "needs_background": "dark"
     },
     "output_type": "display_data"
    },
    {
     "name": "stdout",
     "output_type": "stream",
     "text": [
      "9\n",
      "Shapiro-Wilk Test\n",
      "-----------------\n",
      "Provided an alpha of 0.05, if p-value > alpha then the distribution can be assumed to be normal.\n",
      "This test prunes data to the first 5000 data points or \"head(5000)\" as reliability suffers with increasing samples.\n",
      "t-stat: nan , p-value: 1.0\n",
      "\n",
      "Anderson-Darling Test\n",
      "---------------------\n",
      "If the returned statistic > critical values then for the corresponding significance level,\n",
      "the null hypothesis that the data come from the chosen distribution can be rejected.\n",
      "t-stat: nan , critical values: [0.574 0.653 0.784 0.914 1.088] , at significance levels of: [15.  10.   5.   2.5  1. ]\n",
      "\n",
      "Skewness and Kurtosis\n",
      "---------------------\n",
      "skewness, -ve skews left and +ve skews right (0 is best): 5.357618230922064\n",
      "kurtosis, tail spread (< 3 is best): 43.82239401300713\n"
     ]
    },
    {
     "data": {
      "image/png": "[encoded data removed]",
      "text/plain": [
       "<Figure size 720x576 with 1 Axes>"
      ]
     },
     "metadata": {
      "needs_background": "dark"
     },
     "output_type": "display_data"
    },
    {
     "name": "stdout",
     "output_type": "stream",
     "text": [
      "10\n",
      "Shapiro-Wilk Test\n",
      "-----------------\n",
      "Provided an alpha of 0.05, if p-value > alpha then the distribution can be assumed to be normal.\n",
      "This test prunes data to the first 5000 data points or \"head(5000)\" as reliability suffers with increasing samples.\n",
      "t-stat: nan , p-value: 1.0\n",
      "\n",
      "Anderson-Darling Test\n",
      "---------------------\n",
      "If the returned statistic > critical values then for the corresponding significance level,\n",
      "the null hypothesis that the data come from the chosen distribution can be rejected.\n",
      "t-stat: nan , critical values: [0.574 0.653 0.784 0.914 1.088] , at significance levels of: [15.  10.   5.   2.5  1. ]\n",
      "\n",
      "Skewness and Kurtosis\n",
      "---------------------\n",
      "skewness, -ve skews left and +ve skews right (0 is best): 8.499790487797295\n",
      "kurtosis, tail spread (< 3 is best): 122.33825085342599\n"
     ]
    },
    {
     "data": {
      "image/png": "[encoded data removed]",
      "text/plain": [
       "<Figure size 720x576 with 1 Axes>"
      ]
     },
     "metadata": {
      "needs_background": "dark"
     },
     "output_type": "display_data"
    },
    {
     "name": "stdout",
     "output_type": "stream",
     "text": [
      "11\n",
      "Shapiro-Wilk Test\n",
      "-----------------\n",
      "Provided an alpha of 0.05, if p-value > alpha then the distribution can be assumed to be normal.\n",
      "This test prunes data to the first 5000 data points or \"head(5000)\" as reliability suffers with increasing samples.\n",
      "t-stat: nan , p-value: 1.0\n",
      "\n",
      "Anderson-Darling Test\n",
      "---------------------\n",
      "If the returned statistic > critical values then for the corresponding significance level,\n",
      "the null hypothesis that the data come from the chosen distribution can be rejected.\n",
      "t-stat: nan , critical values: [0.574 0.653 0.784 0.914 1.088] , at significance levels of: [15.  10.   5.   2.5  1. ]\n",
      "\n",
      "Skewness and Kurtosis\n",
      "---------------------\n",
      "skewness, -ve skews left and +ve skews right (0 is best): 7.662502817084104\n",
      "kurtosis, tail spread (< 3 is best): 89.81309990537453\n"
     ]
    },
    {
     "data": {
      "image/png": "[encoded data removed]",
      "text/plain": [
       "<Figure size 720x576 with 1 Axes>"
      ]
     },
     "metadata": {
      "needs_background": "dark"
     },
     "output_type": "display_data"
    },
    {
     "name": "stdout",
     "output_type": "stream",
     "text": [
      "12\n",
      "Shapiro-Wilk Test\n",
      "-----------------\n",
      "Provided an alpha of 0.05, if p-value > alpha then the distribution can be assumed to be normal.\n",
      "This test prunes data to the first 5000 data points or \"head(5000)\" as reliability suffers with increasing samples.\n",
      "t-stat: nan , p-value: 1.0\n",
      "\n",
      "Anderson-Darling Test\n",
      "---------------------\n",
      "If the returned statistic > critical values then for the corresponding significance level,\n",
      "the null hypothesis that the data come from the chosen distribution can be rejected.\n",
      "t-stat: nan , critical values: [0.574 0.653 0.784 0.914 1.088] , at significance levels of: [15.  10.   5.   2.5  1. ]\n",
      "\n",
      "Skewness and Kurtosis\n",
      "---------------------\n",
      "skewness, -ve skews left and +ve skews right (0 is best): 10.173708339484522\n",
      "kurtosis, tail spread (< 3 is best): 148.50960512950198\n"
     ]
    },
    {
     "data": {
      "image/png": "[encoded data removed]",
      "text/plain": [
       "<Figure size 720x576 with 1 Axes>"
      ]
     },
     "metadata": {
      "needs_background": "dark"
     },
     "output_type": "display_data"
    }
   ],
   "source": [
    "for i,month in enumerate(df_flights_by_month):\n",
    "    print(i+1)\n",
    "    sc.check_normal_dist(month['arr_delay'])"
   ]
  },
  {
   "cell_type": "code",
   "execution_count": 22,
   "metadata": {},
   "outputs": [],
   "source": [
    "df_flights_by_month_noouts = []\n",
    "\n",
    "for month in df_flights_by_month:\n",
    "    df_flights_by_month_noouts.append(sc.filter_outliers(month.dropna(subset=['arr_delay']), month['arr_delay'].dropna()))"
   ]
  },
  {
   "cell_type": "code",
   "execution_count": 23,
   "metadata": {},
   "outputs": [
    {
     "name": "stdout",
     "output_type": "stream",
     "text": [
      "1\n",
      "Shapiro-Wilk Test\n",
      "-----------------\n",
      "Provided an alpha of 0.05, if p-value > alpha then the distribution can be assumed to be normal.\n",
      "This test prunes data to the first 5000 data points or \"head(5000)\" as reliability suffers with increasing samples.\n",
      "t-stat: 0.8869959712028503 , p-value: 1.0404080635567469e-25\n",
      "\n",
      "Anderson-Darling Test\n",
      "---------------------\n",
      "If the returned statistic > critical values then for the corresponding significance level,\n",
      "the null hypothesis that the data come from the chosen distribution can be rejected.\n",
      "t-stat: 27.02486204366835 , critical values: [0.574 0.653 0.784 0.914 1.087] , at significance levels of: [15.  10.   5.   2.5  1. ]\n",
      "\n",
      "Skewness and Kurtosis\n",
      "---------------------\n",
      "skewness, -ve skews left and +ve skews right (0 is best): 1.5513168424717159\n",
      "kurtosis, tail spread (< 3 is best): 3.4511594016642366\n"
     ]
    },
    {
     "data": {
      "image/png": "[encoded data removed]",
      "text/plain": [
       "<Figure size 720x576 with 1 Axes>"
      ]
     },
     "metadata": {
      "needs_background": "dark"
     },
     "output_type": "display_data"
    },
    {
     "name": "stdout",
     "output_type": "stream",
     "text": [
      "2\n",
      "Shapiro-Wilk Test\n",
      "-----------------\n",
      "Provided an alpha of 0.05, if p-value > alpha then the distribution can be assumed to be normal.\n",
      "This test prunes data to the first 5000 data points or \"head(5000)\" as reliability suffers with increasing samples.\n",
      "t-stat: 0.8127589821815491 , p-value: 1.4583990480920314e-31\n",
      "\n",
      "Anderson-Darling Test\n",
      "---------------------\n",
      "If the returned statistic > critical values then for the corresponding significance level,\n",
      "the null hypothesis that the data come from the chosen distribution can be rejected.\n",
      "t-stat: 52.850406769870915 , critical values: [0.574 0.653 0.784 0.914 1.087] , at significance levels of: [15.  10.   5.   2.5  1. ]\n",
      "\n",
      "Skewness and Kurtosis\n",
      "---------------------\n",
      "skewness, -ve skews left and +ve skews right (0 is best): 1.9349943945491146\n",
      "kurtosis, tail spread (< 3 is best): 4.272964677968279\n"
     ]
    },
    {
     "data": {
      "image/png": "[encoded data removed]",
      "text/plain": [
       "<Figure size 720x576 with 1 Axes>"
      ]
     },
     "metadata": {
      "needs_background": "dark"
     },
     "output_type": "display_data"
    },
    {
     "name": "stdout",
     "output_type": "stream",
     "text": [
      "3\n",
      "Shapiro-Wilk Test\n",
      "-----------------\n",
      "Provided an alpha of 0.05, if p-value > alpha then the distribution can be assumed to be normal.\n",
      "This test prunes data to the first 5000 data points or \"head(5000)\" as reliability suffers with increasing samples.\n",
      "t-stat: 0.7815685272216797 , p-value: 5.120965375072965e-34\n",
      "\n",
      "Anderson-Darling Test\n",
      "---------------------\n",
      "If the returned statistic > critical values then for the corresponding significance level,\n",
      "the null hypothesis that the data come from the chosen distribution can be rejected.\n",
      "t-stat: 58.25951663796968 , critical values: [0.574 0.653 0.784 0.914 1.088] , at significance levels of: [15.  10.   5.   2.5  1. ]\n",
      "\n",
      "Skewness and Kurtosis\n",
      "---------------------\n",
      "skewness, -ve skews left and +ve skews right (0 is best): 2.2842520621068423\n",
      "kurtosis, tail spread (< 3 is best): 6.522651892262038\n"
     ]
    },
    {
     "data": {
      "image/png": "[encoded data removed]",
      "text/plain": [
       "<Figure size 720x576 with 1 Axes>"
      ]
     },
     "metadata": {
      "needs_background": "dark"
     },
     "output_type": "display_data"
    },
    {
     "name": "stdout",
     "output_type": "stream",
     "text": [
      "4\n",
      "Shapiro-Wilk Test\n",
      "-----------------\n",
      "Provided an alpha of 0.05, if p-value > alpha then the distribution can be assumed to be normal.\n",
      "This test prunes data to the first 5000 data points or \"head(5000)\" as reliability suffers with increasing samples.\n",
      "t-stat: 0.7812581658363342 , p-value: 8.573700391527634e-34\n",
      "\n",
      "Anderson-Darling Test\n",
      "---------------------\n",
      "If the returned statistic > critical values then for the corresponding significance level,\n",
      "the null hypothesis that the data come from the chosen distribution can be rejected.\n",
      "t-stat: 62.72512504782571 , critical values: [0.574 0.653 0.784 0.914 1.087] , at significance levels of: [15.  10.   5.   2.5  1. ]\n",
      "\n",
      "Skewness and Kurtosis\n",
      "---------------------\n",
      "skewness, -ve skews left and +ve skews right (0 is best): 2.1511324671657484\n",
      "kurtosis, tail spread (< 3 is best): 5.332441414304253\n"
     ]
    },
    {
     "data": {
      "image/png": "[encoded data removed]",
      "text/plain": [
       "<Figure size 720x576 with 1 Axes>"
      ]
     },
     "metadata": {
      "needs_background": "dark"
     },
     "output_type": "display_data"
    },
    {
     "name": "stdout",
     "output_type": "stream",
     "text": [
      "5\n",
      "Shapiro-Wilk Test\n",
      "-----------------\n",
      "Provided an alpha of 0.05, if p-value > alpha then the distribution can be assumed to be normal.\n",
      "This test prunes data to the first 5000 data points or \"head(5000)\" as reliability suffers with increasing samples.\n",
      "t-stat: 0.7650938034057617 , p-value: 7.747816427739126e-35\n",
      "\n",
      "Anderson-Darling Test\n",
      "---------------------\n",
      "If the returned statistic > critical values then for the corresponding significance level,\n",
      "the null hypothesis that the data come from the chosen distribution can be rejected.\n",
      "t-stat: 66.95905012966921 , critical values: [0.574 0.653 0.784 0.914 1.087] , at significance levels of: [15.  10.   5.   2.5  1. ]\n",
      "\n",
      "Skewness and Kurtosis\n",
      "---------------------\n",
      "skewness, -ve skews left and +ve skews right (0 is best): 2.276909199601086\n",
      "kurtosis, tail spread (< 3 is best): 5.99141205678295\n"
     ]
    },
    {
     "data": {
      "image/png": "[encoded data removed]",
      "text/plain": [
       "<Figure size 720x576 with 1 Axes>"
      ]
     },
     "metadata": {
      "needs_background": "dark"
     },
     "output_type": "display_data"
    },
    {
     "name": "stdout",
     "output_type": "stream",
     "text": [
      "6\n",
      "Shapiro-Wilk Test\n",
      "-----------------\n",
      "Provided an alpha of 0.05, if p-value > alpha then the distribution can be assumed to be normal.\n",
      "This test prunes data to the first 5000 data points or \"head(5000)\" as reliability suffers with increasing samples.\n",
      "t-stat: 0.7597800493240356 , p-value: 4.200464332742211e-35\n",
      "\n",
      "Anderson-Darling Test\n",
      "---------------------\n",
      "If the returned statistic > critical values then for the corresponding significance level,\n",
      "the null hypothesis that the data come from the chosen distribution can be rejected.\n",
      "t-stat: 72.43739448661177 , critical values: [0.574 0.653 0.784 0.914 1.087] , at significance levels of: [15.  10.   5.   2.5  1. ]\n",
      "\n",
      "Skewness and Kurtosis\n",
      "---------------------\n",
      "skewness, -ve skews left and +ve skews right (0 is best): 2.193666976315067\n",
      "kurtosis, tail spread (< 3 is best): 5.2074621836301525\n"
     ]
    },
    {
     "data": {
      "image/png": "[encoded data removed]",
      "text/plain": [
       "<Figure size 720x576 with 1 Axes>"
      ]
     },
     "metadata": {
      "needs_background": "dark"
     },
     "output_type": "display_data"
    },
    {
     "name": "stdout",
     "output_type": "stream",
     "text": [
      "7\n",
      "Shapiro-Wilk Test\n",
      "-----------------\n",
      "Provided an alpha of 0.05, if p-value > alpha then the distribution can be assumed to be normal.\n",
      "This test prunes data to the first 5000 data points or \"head(5000)\" as reliability suffers with increasing samples.\n",
      "t-stat: 0.758459210395813 , p-value: 2.3155201111128058e-35\n",
      "\n",
      "Anderson-Darling Test\n",
      "---------------------\n",
      "If the returned statistic > critical values then for the corresponding significance level,\n",
      "the null hypothesis that the data come from the chosen distribution can be rejected.\n",
      "t-stat: 72.74656754111038 , critical values: [0.574 0.653 0.784 0.914 1.088] , at significance levels of: [15.  10.   5.   2.5  1. ]\n",
      "\n",
      "Skewness and Kurtosis\n",
      "---------------------\n",
      "skewness, -ve skews left and +ve skews right (0 is best): 2.2714811041985614\n",
      "kurtosis, tail spread (< 3 is best): 5.865670071242295\n"
     ]
    },
    {
     "data": {
      "image/png": "[encoded data removed]",
      "text/plain": [
       "<Figure size 720x576 with 1 Axes>"
      ]
     },
     "metadata": {
      "needs_background": "dark"
     },
     "output_type": "display_data"
    },
    {
     "name": "stdout",
     "output_type": "stream",
     "text": [
      "8\n",
      "Shapiro-Wilk Test\n",
      "-----------------\n",
      "Provided an alpha of 0.05, if p-value > alpha then the distribution can be assumed to be normal.\n",
      "This test prunes data to the first 5000 data points or \"head(5000)\" as reliability suffers with increasing samples.\n",
      "t-stat: 0.7285990118980408 , p-value: 5.9473931843649315e-37\n",
      "\n",
      "Anderson-Darling Test\n",
      "---------------------\n",
      "If the returned statistic > critical values then for the corresponding significance level,\n",
      "the null hypothesis that the data come from the chosen distribution can be rejected.\n",
      "t-stat: 75.49320049302605 , critical values: [0.574 0.653 0.784 0.914 1.088] , at significance levels of: [15.  10.   5.   2.5  1. ]\n",
      "\n",
      "Skewness and Kurtosis\n",
      "---------------------\n",
      "skewness, -ve skews left and +ve skews right (0 is best): 2.6467813589506184\n",
      "kurtosis, tail spread (< 3 is best): 8.743308806727304\n"
     ]
    },
    {
     "data": {
      "image/png": "[encoded data removed]",
      "text/plain": [
       "<Figure size 720x576 with 1 Axes>"
      ]
     },
     "metadata": {
      "needs_background": "dark"
     },
     "output_type": "display_data"
    },
    {
     "name": "stdout",
     "output_type": "stream",
     "text": [
      "9\n",
      "Shapiro-Wilk Test\n",
      "-----------------\n",
      "Provided an alpha of 0.05, if p-value > alpha then the distribution can be assumed to be normal.\n",
      "This test prunes data to the first 5000 data points or \"head(5000)\" as reliability suffers with increasing samples.\n",
      "t-stat: 0.82261061668396 , p-value: 3.3056257665603574e-31\n",
      "\n",
      "Anderson-Darling Test\n",
      "---------------------\n",
      "If the returned statistic > critical values then for the corresponding significance level,\n",
      "the null hypothesis that the data come from the chosen distribution can be rejected.\n",
      "t-stat: 44.67210415459692 , critical values: [0.574 0.653 0.784 0.914 1.087] , at significance levels of: [15.  10.   5.   2.5  1. ]\n",
      "\n",
      "Skewness and Kurtosis\n",
      "---------------------\n",
      "skewness, -ve skews left and +ve skews right (0 is best): 2.089250070506437\n",
      "kurtosis, tail spread (< 3 is best): 6.169594083578669\n"
     ]
    },
    {
     "data": {
      "image/png": "[encoded data removed]",
      "text/plain": [
       "<Figure size 720x576 with 1 Axes>"
      ]
     },
     "metadata": {
      "needs_background": "dark"
     },
     "output_type": "display_data"
    },
    {
     "name": "stdout",
     "output_type": "stream",
     "text": [
      "10\n",
      "Shapiro-Wilk Test\n",
      "-----------------\n",
      "Provided an alpha of 0.05, if p-value > alpha then the distribution can be assumed to be normal.\n",
      "This test prunes data to the first 5000 data points or \"head(5000)\" as reliability suffers with increasing samples.\n",
      "t-stat: 0.7802807092666626 , p-value: 3.1415256421393526e-34\n",
      "\n",
      "Anderson-Darling Test\n",
      "---------------------\n",
      "If the returned statistic > critical values then for the corresponding significance level,\n",
      "the null hypothesis that the data come from the chosen distribution can be rejected.\n",
      "t-stat: 56.653458167308145 , critical values: [0.574 0.653 0.784 0.914 1.088] , at significance levels of: [15.  10.   5.   2.5  1. ]\n",
      "\n",
      "Skewness and Kurtosis\n",
      "---------------------\n",
      "skewness, -ve skews left and +ve skews right (0 is best): 2.3837631736608635\n",
      "kurtosis, tail spread (< 3 is best): 7.5414049109255075\n"
     ]
    },
    {
     "data": {
      "image/png": "[encoded data removed]",
      "text/plain": [
       "<Figure size 720x576 with 1 Axes>"
      ]
     },
     "metadata": {
      "needs_background": "dark"
     },
     "output_type": "display_data"
    },
    {
     "name": "stdout",
     "output_type": "stream",
     "text": [
      "11\n",
      "Shapiro-Wilk Test\n",
      "-----------------\n",
      "Provided an alpha of 0.05, if p-value > alpha then the distribution can be assumed to be normal.\n",
      "This test prunes data to the first 5000 data points or \"head(5000)\" as reliability suffers with increasing samples.\n",
      "t-stat: 0.827467679977417 , p-value: 4.066857335342128e-31\n",
      "\n",
      "Anderson-Darling Test\n",
      "---------------------\n",
      "If the returned statistic > critical values then for the corresponding significance level,\n",
      "the null hypothesis that the data come from the chosen distribution can be rejected.\n",
      "t-stat: 39.54902367384966 , critical values: [0.574 0.653 0.784 0.914 1.088] , at significance levels of: [15.  10.   5.   2.5  1. ]\n",
      "\n",
      "Skewness and Kurtosis\n",
      "---------------------\n",
      "skewness, -ve skews left and +ve skews right (0 is best): 2.1488431755841217\n",
      "kurtosis, tail spread (< 3 is best): 7.0314929646809405\n"
     ]
    },
    {
     "data": {
      "image/png": "[encoded data removed]",
      "text/plain": [
       "<Figure size 720x576 with 1 Axes>"
      ]
     },
     "metadata": {
      "needs_background": "dark"
     },
     "output_type": "display_data"
    },
    {
     "name": "stdout",
     "output_type": "stream",
     "text": [
      "12\n",
      "Shapiro-Wilk Test\n",
      "-----------------\n",
      "Provided an alpha of 0.05, if p-value > alpha then the distribution can be assumed to be normal.\n",
      "This test prunes data to the first 5000 data points or \"head(5000)\" as reliability suffers with increasing samples.\n",
      "t-stat: 0.7558451890945435 , p-value: 1.5483859257884872e-35\n",
      "\n",
      "Anderson-Darling Test\n",
      "---------------------\n",
      "If the returned statistic > critical values then for the corresponding significance level,\n",
      "the null hypothesis that the data come from the chosen distribution can be rejected.\n",
      "t-stat: 62.118694740560386 , critical values: [0.574 0.653 0.784 0.914 1.088] , at significance levels of: [15.  10.   5.   2.5  1. ]\n",
      "\n",
      "Skewness and Kurtosis\n",
      "---------------------\n",
      "skewness, -ve skews left and +ve skews right (0 is best): 2.6023087616652356\n",
      "kurtosis, tail spread (< 3 is best): 9.0946451166407\n"
     ]
    },
    {
     "data": {
      "image/png": "[encoded data removed]",
      "text/plain": [
       "<Figure size 720x576 with 1 Axes>"
      ]
     },
     "metadata": {
      "needs_background": "dark"
     },
     "output_type": "display_data"
    }
   ],
   "source": [
    "for i,month in enumerate(df_flights_by_month_noouts):\n",
    "    print(i+1)\n",
    "    sc.check_normal_dist(month['arr_delay'])"
   ]
  },
  {
   "cell_type": "code",
   "execution_count": 24,
   "metadata": {},
   "outputs": [
    {
     "name": "stdout",
     "output_type": "stream",
     "text": [
      "1 -3.5771670190274842\n",
      "1 -8.0\n",
      "2 4.580299785867238\n",
      "2 -4.0\n",
      "3 0.8271221532091098\n",
      "3 -6.0\n",
      "4 0.08842105263157894\n",
      "4 -8.0\n",
      "5 2.981191222570533\n",
      "5 -5.0\n",
      "6 6.2418848167539265\n",
      "6 -4.0\n",
      "7 2.471561530506722\n",
      "7 -7.0\n",
      "8 3.5950413223140494\n",
      "8 -6.0\n",
      "9 -4.187238493723849\n",
      "9 -9.0\n",
      "10 -0.5230769230769231\n",
      "10 -7.0\n",
      "11 -4.594455852156058\n",
      "11 -9.0\n",
      "12 2.4840041279669762\n",
      "12 -6.0\n"
     ]
    }
   ],
   "source": [
    "for i, month in enumerate(df_flights_by_month_noouts):\n",
    "    print(i+1, month['arr_delay'].dropna().mean())\n",
    "    print(i+1, month['arr_delay'].dropna().median())"
   ]
  },
  {
   "cell_type": "markdown",
   "metadata": {},
   "source": [
    "February, June, and August seem to have the most delays. February and June might coincide with New years, and summer vacations. August is return to school? Not certain."
   ]
  },
  {
   "cell_type": "markdown",
   "metadata": {},
   "source": [
    "#### **Task 3**: Does the weather affect the delay? \n",
    "Use the API to pull the weather information for flights. There is no need to get weather for ALL flights. We can choose the right representative sample. Let's focus on four weather types:\n",
    "- sunny\n",
    "- cloudy\n",
    "- rainy\n",
    "- snow.\n",
    "Test the hypothesis that these 4 delays are from the same distribution. If they are not, which ones are significantly different?"
   ]
  },
  {
   "cell_type": "code",
   "execution_count": 26,
   "metadata": {},
   "outputs": [],
   "source": [
    "origin_locations = df_flights['origin_city_name'].unique()"
   ]
  },
  {
   "cell_type": "code",
   "execution_count": 27,
   "metadata": {},
   "outputs": [],
   "source": [
    "base_url = 'https://api.worldweatheronline.com/premium/v1/past-weather.ashx?key=5964df60e1c04a11883230245221204&q&format=json'\n",
    "\n",
    "# locations\n",
    "locations = origin_locations\n",
    "\n",
    "# params\n",
    "dates = [\n",
    "    '2019-01-01',\n",
    "    '2019-02-01',\n",
    "    '2019-03-01',\n",
    "    '2019-04-01',\n",
    "    '2019-05-01',\n",
    "    '2019-06-01',\n",
    "    '2019-07-01',\n",
    "    '2019-08-01',\n",
    "    '2019-09-01',\n",
    "    '2019-10-01',\n",
    "    '2019-11-01',\n",
    "    '2019-12-01']\n",
    "enddates = [\n",
    "    '2019-01-31',\n",
    "    '2019-02-28',\n",
    "    '2019-03-31',\n",
    "    '2019-04-30',\n",
    "    '2019-05-31',\n",
    "    '2019-06-30',\n",
    "    '2019-07-31',\n",
    "    '2019-08-31',\n",
    "    '2019-09-30',\n",
    "    '2019-10-31',\n",
    "    '2019-11-30',\n",
    "    '2019-12-31']"
   ]
  },
  {
   "cell_type": "code",
   "execution_count": 28,
   "metadata": {},
   "outputs": [
    {
     "data": {
      "text/plain": [
       "354"
      ]
     },
     "execution_count": 28,
     "metadata": {},
     "output_type": "execute_result"
    }
   ],
   "source": [
    "len(locations)"
   ]
  },
  {
   "cell_type": "code",
   "execution_count": 29,
   "metadata": {},
   "outputs": [],
   "source": [
    "weather_conditions = pd.read_csv(data_path / 'weather_conditions.csv', usecols=[0,1,2], sep=',')"
   ]
  },
  {
   "cell_type": "code",
   "execution_count": 30,
   "metadata": {},
   "outputs": [],
   "source": [
    "weather_conditions.drop_duplicates(inplace=True)\n",
    "weather_conditions.sort_values(by='overhead_code', inplace=True)"
   ]
  },
  {
   "cell_type": "code",
   "execution_count": 31,
   "metadata": {},
   "outputs": [
    {
     "data": {
      "text/html": [
       "<div>\n",
       "<style scoped>\n",
       "    .dataframe tbody tr th:only-of-type {\n",
       "        vertical-align: middle;\n",
       "    }\n",
       "\n",
       "    .dataframe tbody tr th {\n",
       "        vertical-align: top;\n",
       "    }\n",
       "\n",
       "    .dataframe thead th {\n",
       "        text-align: right;\n",
       "    }\n",
       "</style>\n",
       "<table border=\"1\" class=\"dataframe\">\n",
       "  <thead>\n",
       "    <tr style=\"text-align: right;\">\n",
       "      <th></th>\n",
       "      <th>overhead_code</th>\n",
       "      <th>daycondition</th>\n",
       "      <th>NightCondition</th>\n",
       "    </tr>\n",
       "  </thead>\n",
       "  <tbody>\n",
       "    <tr>\n",
       "      <th>0</th>\n",
       "      <td>113</td>\n",
       "      <td>Sunny</td>\n",
       "      <td>Clear</td>\n",
       "    </tr>\n",
       "    <tr>\n",
       "      <th>40</th>\n",
       "      <td>116</td>\n",
       "      <td>Partly cloudy</td>\n",
       "      <td>Partly cloudy</td>\n",
       "    </tr>\n",
       "    <tr>\n",
       "      <th>80</th>\n",
       "      <td>119</td>\n",
       "      <td>Cloudy</td>\n",
       "      <td>Cloudy</td>\n",
       "    </tr>\n",
       "    <tr>\n",
       "      <th>120</th>\n",
       "      <td>122</td>\n",
       "      <td>Overcast</td>\n",
       "      <td>Overcast</td>\n",
       "    </tr>\n",
       "    <tr>\n",
       "      <th>160</th>\n",
       "      <td>143</td>\n",
       "      <td>Mist</td>\n",
       "      <td>Mist</td>\n",
       "    </tr>\n",
       "    <tr>\n",
       "      <th>200</th>\n",
       "      <td>176</td>\n",
       "      <td>Patchy rain possible</td>\n",
       "      <td>Patchy rain possible</td>\n",
       "    </tr>\n",
       "    <tr>\n",
       "      <th>240</th>\n",
       "      <td>179</td>\n",
       "      <td>Patchy snow possible</td>\n",
       "      <td>Patchy snow possible</td>\n",
       "    </tr>\n",
       "    <tr>\n",
       "      <th>280</th>\n",
       "      <td>182</td>\n",
       "      <td>Patchy sleet possible</td>\n",
       "      <td>Patchy sleet possible</td>\n",
       "    </tr>\n",
       "    <tr>\n",
       "      <th>320</th>\n",
       "      <td>185</td>\n",
       "      <td>Patchy freezing drizzle possible</td>\n",
       "      <td>Patchy freezing drizzle possible</td>\n",
       "    </tr>\n",
       "    <tr>\n",
       "      <th>360</th>\n",
       "      <td>200</td>\n",
       "      <td>Thundery outbreaks possible</td>\n",
       "      <td>Thundery outbreaks possible</td>\n",
       "    </tr>\n",
       "    <tr>\n",
       "      <th>400</th>\n",
       "      <td>227</td>\n",
       "      <td>Blowing snow</td>\n",
       "      <td>Blowing snow</td>\n",
       "    </tr>\n",
       "    <tr>\n",
       "      <th>440</th>\n",
       "      <td>230</td>\n",
       "      <td>Blizzard</td>\n",
       "      <td>Blizzard</td>\n",
       "    </tr>\n",
       "    <tr>\n",
       "      <th>480</th>\n",
       "      <td>248</td>\n",
       "      <td>Fog</td>\n",
       "      <td>Fog</td>\n",
       "    </tr>\n",
       "    <tr>\n",
       "      <th>520</th>\n",
       "      <td>260</td>\n",
       "      <td>Freezing fog</td>\n",
       "      <td>Freezing fog</td>\n",
       "    </tr>\n",
       "    <tr>\n",
       "      <th>560</th>\n",
       "      <td>263</td>\n",
       "      <td>Patchy light drizzle</td>\n",
       "      <td>Patchy light drizzle</td>\n",
       "    </tr>\n",
       "    <tr>\n",
       "      <th>600</th>\n",
       "      <td>266</td>\n",
       "      <td>Light drizzle</td>\n",
       "      <td>Light drizzle</td>\n",
       "    </tr>\n",
       "    <tr>\n",
       "      <th>640</th>\n",
       "      <td>281</td>\n",
       "      <td>Freezing drizzle</td>\n",
       "      <td>Freezing drizzle</td>\n",
       "    </tr>\n",
       "    <tr>\n",
       "      <th>680</th>\n",
       "      <td>284</td>\n",
       "      <td>Heavy freezing drizzle</td>\n",
       "      <td>Heavy freezing drizzle</td>\n",
       "    </tr>\n",
       "    <tr>\n",
       "      <th>720</th>\n",
       "      <td>293</td>\n",
       "      <td>Patchy light rain</td>\n",
       "      <td>Patchy light rain</td>\n",
       "    </tr>\n",
       "    <tr>\n",
       "      <th>760</th>\n",
       "      <td>296</td>\n",
       "      <td>Light rain</td>\n",
       "      <td>Light rain</td>\n",
       "    </tr>\n",
       "    <tr>\n",
       "      <th>800</th>\n",
       "      <td>299</td>\n",
       "      <td>Moderate rain at times</td>\n",
       "      <td>Moderate rain at times</td>\n",
       "    </tr>\n",
       "    <tr>\n",
       "      <th>840</th>\n",
       "      <td>302</td>\n",
       "      <td>Moderate rain</td>\n",
       "      <td>Moderate rain</td>\n",
       "    </tr>\n",
       "    <tr>\n",
       "      <th>880</th>\n",
       "      <td>305</td>\n",
       "      <td>Heavy rain at times</td>\n",
       "      <td>Heavy rain at times</td>\n",
       "    </tr>\n",
       "    <tr>\n",
       "      <th>920</th>\n",
       "      <td>308</td>\n",
       "      <td>Heavy rain</td>\n",
       "      <td>Heavy rain</td>\n",
       "    </tr>\n",
       "    <tr>\n",
       "      <th>960</th>\n",
       "      <td>311</td>\n",
       "      <td>Light freezing rain</td>\n",
       "      <td>Light freezing rain</td>\n",
       "    </tr>\n",
       "  </tbody>\n",
       "</table>\n",
       "</div>"
      ],
      "text/plain": [
       "     overhead_code                      daycondition  \\\n",
       "0              113                             Sunny   \n",
       "40             116                     Partly cloudy   \n",
       "80             119                            Cloudy   \n",
       "120            122                          Overcast   \n",
       "160            143                              Mist   \n",
       "200            176              Patchy rain possible   \n",
       "240            179              Patchy snow possible   \n",
       "280            182             Patchy sleet possible   \n",
       "320            185  Patchy freezing drizzle possible   \n",
       "360            200       Thundery outbreaks possible   \n",
       "400            227                      Blowing snow   \n",
       "440            230                          Blizzard   \n",
       "480            248                               Fog   \n",
       "520            260                      Freezing fog   \n",
       "560            263              Patchy light drizzle   \n",
       "600            266                     Light drizzle   \n",
       "640            281                  Freezing drizzle   \n",
       "680            284            Heavy freezing drizzle   \n",
       "720            293                 Patchy light rain   \n",
       "760            296                        Light rain   \n",
       "800            299            Moderate rain at times   \n",
       "840            302                     Moderate rain   \n",
       "880            305               Heavy rain at times   \n",
       "920            308                        Heavy rain   \n",
       "960            311               Light freezing rain   \n",
       "\n",
       "                       NightCondition  \n",
       "0                               Clear  \n",
       "40                      Partly cloudy  \n",
       "80                             Cloudy  \n",
       "120                          Overcast  \n",
       "160                              Mist  \n",
       "200              Patchy rain possible  \n",
       "240              Patchy snow possible  \n",
       "280             Patchy sleet possible  \n",
       "320  Patchy freezing drizzle possible  \n",
       "360       Thundery outbreaks possible  \n",
       "400                      Blowing snow  \n",
       "440                          Blizzard  \n",
       "480                               Fog  \n",
       "520                      Freezing fog  \n",
       "560              Patchy light drizzle  \n",
       "600                     Light drizzle  \n",
       "640                  Freezing drizzle  \n",
       "680            Heavy freezing drizzle  \n",
       "720                 Patchy light rain  \n",
       "760                        Light rain  \n",
       "800            Moderate rain at times  \n",
       "840                     Moderate rain  \n",
       "880               Heavy rain at times  \n",
       "920                        Heavy rain  \n",
       "960               Light freezing rain  "
      ]
     },
     "execution_count": 31,
     "metadata": {},
     "output_type": "execute_result"
    }
   ],
   "source": [
    "weather_conditions\n",
    "\n",
    "# rain or like weather = > 263\n",
    "# sunny = 113\n",
    "# cloudy = 116, 119, 122\n",
    "# snow = 227, 230"
   ]
  },
  {
   "cell_type": "code",
   "execution_count": 32,
   "metadata": {},
   "outputs": [],
   "source": [
    "weather_loc = {}\n",
    "\n",
    "# for each location, save monthly weather\n",
    "for location in locations:\n",
    "    \n",
    "    weather_req = []\n",
    "    \n",
    "    for i in range(0,12):\n",
    "        \n",
    "        # payload using params\n",
    "        payload = dict(\n",
    "            date=dates[i],\n",
    "            enddate=enddates[i],\n",
    "            q=location)\n",
    "        \n",
    "        weather_req.append(req.get(url=base_url, params=payload).json())\n",
    "    \n",
    "    weather_loc[location] = weather_req"
   ]
  },
  {
   "cell_type": "code",
   "execution_count": 33,
   "metadata": {},
   "outputs": [],
   "source": [
    "cal = Calendar()\n",
    "df_weather = pd.DataFrame(columns=['location', 'date', 'time', 'tempC', 'condition'])\n",
    "df_placeholder = pd.DataFrame(columns=['location', 'date', 'time', 'tempC', 'condition'])\n",
    "df_dict = {}\n",
    "\n",
    "for location in locations:\n",
    "    \n",
    "    for m in range(0,12):\n",
    "        for i,d in enumerate([x for x in cal.itermonthdates(2019, m+1) if x.month == m+1]):\n",
    "            \n",
    "            for j in range(len(weather_loc[location][m]['data']['weather'][i]['hourly'])):\n",
    "                df_placeholder.loc[j+1, 'location'] = location\n",
    "                df_placeholder.loc[j+1, 'date'] = d\n",
    "                df_placeholder.loc[j+1, 'time'] = weather_loc[location][m]['data']['weather'][i]['hourly'][j]['time']\n",
    "                df_placeholder.loc[j+1, 'tempC'] = int(weather_loc[location][m]['data']['weather'][i]['hourly'][j]['tempC'])\n",
    "                df_placeholder.loc[j+1, 'condition'] = int(weather_loc[location][m]['data']['weather'][i]['hourly'][j]['weatherCode'])\n",
    "            \n",
    "            df_weather = pd.concat([df_weather, df_placeholder], ignore_index=True, axis=0)\n",
    "        "
   ]
  },
  {
   "cell_type": "code",
   "execution_count": 149,
   "metadata": {},
   "outputs": [],
   "source": [
    "df_weather.to_csv('./data/weather.csv')"
   ]
  },
  {
   "cell_type": "code",
   "execution_count": 161,
   "metadata": {},
   "outputs": [],
   "source": [
    "df_weather_copy = df_weather.copy()"
   ]
  },
  {
   "cell_type": "code",
   "execution_count": 162,
   "metadata": {},
   "outputs": [],
   "source": [
    "# add 6 hours to make it easier to separate into night/day\n",
    "df_weather_copy['time'] = [time+600 for time in df_weather['time'].astype(int)]\n",
    "df_weather_copy['tempC'] = [temp for temp in df_weather['tempC'].astype(int)]\n",
    "df_weather_copy['condition'] = [con for con in df_weather['condition'].astype(int)]"
   ]
  },
  {
   "cell_type": "code",
   "execution_count": 163,
   "metadata": {},
   "outputs": [],
   "source": [
    "daytime = []\n",
    "\n",
    "for i,time in df_weather_copy['time'].iteritems():\n",
    "    \n",
    "    # code the time to 24 hours\n",
    "    if time >= 2400:\n",
    "        df_weather_copy.loc[i, 'time'] = time - 2400\n",
    "    \n",
    "    # convert \n",
    "    if df_weather_copy.loc[i, 'time'] >= 1200:\n",
    "        daytime.append(0) # day\n",
    "    else:\n",
    "        daytime.append(1) # night\n",
    "\n",
    "df_weather_copy = df_weather_copy.join(pd.Series(daytime, name='day/night'))"
   ]
  },
  {
   "cell_type": "code",
   "execution_count": 164,
   "metadata": {},
   "outputs": [],
   "source": [
    "# rain or like weather = > 263\n",
    "# sunny = 113\n",
    "# cloudy = 116, 119, 122\n",
    "# snow = 227, 230\n",
    "\n",
    "df_weather_copy = df_weather_copy.drop(['time'], axis=1).groupby(['location', 'date', 'day/night'])['condition'].aggregate('median')"
   ]
  },
  {
   "cell_type": "code",
   "execution_count": 165,
   "metadata": {},
   "outputs": [],
   "source": [
    "df_weather_copy = df_weather_copy.reset_index()"
   ]
  },
  {
   "cell_type": "code",
   "execution_count": 166,
   "metadata": {},
   "outputs": [],
   "source": [
    "conditions = []\n",
    "\n",
    "for condition in df_weather_copy['condition']:\n",
    "    if condition > 250:\n",
    "        conditions.append('rain')\n",
    "    elif condition > 200 and condition <= 250:\n",
    "        conditions.append('snow')\n",
    "    elif condition < 115:\n",
    "        conditions.append('sunny')\n",
    "    else:\n",
    "        conditions.append('cloudy')\n"
   ]
  },
  {
   "cell_type": "code",
   "execution_count": 167,
   "metadata": {},
   "outputs": [],
   "source": [
    "df_weather_copy = df_weather_copy.join(pd.Series(conditions, name='cond_desc'))"
   ]
  },
  {
   "cell_type": "code",
   "execution_count": 168,
   "metadata": {},
   "outputs": [
    {
     "data": {
      "text/html": [
       "<div>\n",
       "<style scoped>\n",
       "    .dataframe tbody tr th:only-of-type {\n",
       "        vertical-align: middle;\n",
       "    }\n",
       "\n",
       "    .dataframe tbody tr th {\n",
       "        vertical-align: top;\n",
       "    }\n",
       "\n",
       "    .dataframe thead th {\n",
       "        text-align: right;\n",
       "    }\n",
       "</style>\n",
       "<table border=\"1\" class=\"dataframe\">\n",
       "  <thead>\n",
       "    <tr style=\"text-align: right;\">\n",
       "      <th></th>\n",
       "      <th>location</th>\n",
       "      <th>date</th>\n",
       "      <th>day/night</th>\n",
       "      <th>condition</th>\n",
       "      <th>cond_desc</th>\n",
       "    </tr>\n",
       "  </thead>\n",
       "  <tbody>\n",
       "    <tr>\n",
       "      <th>0</th>\n",
       "      <td>Aberdeen, SD</td>\n",
       "      <td>2019-01-01</td>\n",
       "      <td>0</td>\n",
       "      <td>113.0</td>\n",
       "      <td>sunny</td>\n",
       "    </tr>\n",
       "    <tr>\n",
       "      <th>1</th>\n",
       "      <td>Aberdeen, SD</td>\n",
       "      <td>2019-01-01</td>\n",
       "      <td>1</td>\n",
       "      <td>218.0</td>\n",
       "      <td>snow</td>\n",
       "    </tr>\n",
       "    <tr>\n",
       "      <th>2</th>\n",
       "      <td>Aberdeen, SD</td>\n",
       "      <td>2019-01-02</td>\n",
       "      <td>0</td>\n",
       "      <td>113.0</td>\n",
       "      <td>sunny</td>\n",
       "    </tr>\n",
       "    <tr>\n",
       "      <th>3</th>\n",
       "      <td>Aberdeen, SD</td>\n",
       "      <td>2019-01-02</td>\n",
       "      <td>1</td>\n",
       "      <td>113.0</td>\n",
       "      <td>sunny</td>\n",
       "    </tr>\n",
       "    <tr>\n",
       "      <th>4</th>\n",
       "      <td>Aberdeen, SD</td>\n",
       "      <td>2019-01-03</td>\n",
       "      <td>0</td>\n",
       "      <td>113.0</td>\n",
       "      <td>sunny</td>\n",
       "    </tr>\n",
       "    <tr>\n",
       "      <th>...</th>\n",
       "      <td>...</td>\n",
       "      <td>...</td>\n",
       "      <td>...</td>\n",
       "      <td>...</td>\n",
       "      <td>...</td>\n",
       "    </tr>\n",
       "    <tr>\n",
       "      <th>258415</th>\n",
       "      <td>Yuma, AZ</td>\n",
       "      <td>2019-12-29</td>\n",
       "      <td>1</td>\n",
       "      <td>300.5</td>\n",
       "      <td>rain</td>\n",
       "    </tr>\n",
       "    <tr>\n",
       "      <th>258416</th>\n",
       "      <td>Yuma, AZ</td>\n",
       "      <td>2019-12-30</td>\n",
       "      <td>0</td>\n",
       "      <td>281.0</td>\n",
       "      <td>rain</td>\n",
       "    </tr>\n",
       "    <tr>\n",
       "      <th>258417</th>\n",
       "      <td>Yuma, AZ</td>\n",
       "      <td>2019-12-30</td>\n",
       "      <td>1</td>\n",
       "      <td>230.0</td>\n",
       "      <td>snow</td>\n",
       "    </tr>\n",
       "    <tr>\n",
       "      <th>258418</th>\n",
       "      <td>Yuma, AZ</td>\n",
       "      <td>2019-12-31</td>\n",
       "      <td>0</td>\n",
       "      <td>120.5</td>\n",
       "      <td>cloudy</td>\n",
       "    </tr>\n",
       "    <tr>\n",
       "      <th>258419</th>\n",
       "      <td>Yuma, AZ</td>\n",
       "      <td>2019-12-31</td>\n",
       "      <td>1</td>\n",
       "      <td>173.0</td>\n",
       "      <td>cloudy</td>\n",
       "    </tr>\n",
       "  </tbody>\n",
       "</table>\n",
       "<p>258420 rows × 5 columns</p>\n",
       "</div>"
      ],
      "text/plain": [
       "            location        date  day/night  condition cond_desc\n",
       "0       Aberdeen, SD  2019-01-01          0      113.0     sunny\n",
       "1       Aberdeen, SD  2019-01-01          1      218.0      snow\n",
       "2       Aberdeen, SD  2019-01-02          0      113.0     sunny\n",
       "3       Aberdeen, SD  2019-01-02          1      113.0     sunny\n",
       "4       Aberdeen, SD  2019-01-03          0      113.0     sunny\n",
       "...              ...         ...        ...        ...       ...\n",
       "258415      Yuma, AZ  2019-12-29          1      300.5      rain\n",
       "258416      Yuma, AZ  2019-12-30          0      281.0      rain\n",
       "258417      Yuma, AZ  2019-12-30          1      230.0      snow\n",
       "258418      Yuma, AZ  2019-12-31          0      120.5    cloudy\n",
       "258419      Yuma, AZ  2019-12-31          1      173.0    cloudy\n",
       "\n",
       "[258420 rows x 5 columns]"
      ]
     },
     "execution_count": 168,
     "metadata": {},
     "output_type": "execute_result"
    }
   ],
   "source": [
    "df_weather_copy"
   ]
  },
  {
   "cell_type": "markdown",
   "metadata": {},
   "source": [
    "#### **Task 4**: How taxi times changing during the day? Does higher traffic lead to bigger taxi times?"
   ]
  },
  {
   "cell_type": "code",
   "execution_count": 158,
   "metadata": {},
   "outputs": [
    {
     "data": {
      "text/plain": [
       "['departures_scheduled',\n",
       " 'departures_performed',\n",
       " 'payload',\n",
       " 'seats',\n",
       " 'passengers',\n",
       " 'freight',\n",
       " 'mail',\n",
       " 'distance',\n",
       " 'ramp_to_ramp',\n",
       " 'air_time',\n",
       " 'unique_carrier',\n",
       " 'airline_id',\n",
       " 'unique_carrier_name',\n",
       " 'region',\n",
       " 'carrier',\n",
       " 'carrier_name',\n",
       " 'carrier_group',\n",
       " 'carrier_group_new',\n",
       " 'origin_airport_id',\n",
       " 'origin_city_market_id',\n",
       " 'origin',\n",
       " 'origin_city_name',\n",
       " 'origin_country',\n",
       " 'origin_country_name',\n",
       " 'dest_airport_id',\n",
       " 'dest_city_market_id',\n",
       " 'dest',\n",
       " 'dest_city_name',\n",
       " 'dest_country',\n",
       " 'dest_country_name',\n",
       " 'aircraft_group',\n",
       " 'aircraft_type',\n",
       " 'aircraft_config',\n",
       " 'year',\n",
       " 'month',\n",
       " 'distance_group',\n",
       " 'class',\n",
       " 'data_source']"
      ]
     },
     "execution_count": 158,
     "metadata": {},
     "output_type": "execute_result"
    }
   ],
   "source": [
    "df_passengers.columns.to_list()"
   ]
  },
  {
   "cell_type": "code",
   "execution_count": 159,
   "metadata": {},
   "outputs": [],
   "source": [
    "# # convert fl_date to datetime format\n",
    "# for i, date in df_flights['fl_date'].iteritems():\n",
    "#     df_flights.loc[i, 'fl_date'] = dt.datetime.strptime(date, '%Y-%m-%d')\n",
    "    \n",
    "# generate a random day\n",
    "def random_day(start_date, end_date, format):\n",
    "    \n",
    "    start_date = dt.datetime.strptime(start_date, format)\n",
    "    end_date = dt.datetime.strptime(end_date, format)\n",
    "    \n",
    "    randdays= []\n",
    "    for _ in range(10):\n",
    "        randdays.append(np.random.randint(1, (end_date - start_date).days))\n",
    "    \n",
    "    for i,day in enumerate(randdays):\n",
    "        randdays[i] = start_date + dt.timedelta(days=day)\n",
    "    \n",
    "    return randdays"
   ]
  },
  {
   "cell_type": "code",
   "execution_count": 160,
   "metadata": {},
   "outputs": [
    {
     "ename": "ValueError",
     "evalue": "Incompatible indexer with Series",
     "output_type": "error",
     "traceback": [
      "\u001b[0;31m---------------------------------------------------------------------------\u001b[0m",
      "\u001b[0;31mValueError\u001b[0m                                Traceback (most recent call last)",
      "\u001b[1;32m/Users/lsantos/Documents/lighthouse-data-notes/midterm/exploratory_analysis_lee.ipynb Cell 55'\u001b[0m in \u001b[0;36m<cell line: 5>\u001b[0;34m()\u001b[0m\n\u001b[1;32m      <a href='vscode-notebook-cell:/Users/lsantos/Documents/lighthouse-data-notes/midterm/exploratory_analysis_lee.ipynb#ch0000053?line=6'>7</a>\u001b[0m df_taxi_in \u001b[39m=\u001b[39m pd\u001b[39m.\u001b[39mDataFrame(columns\u001b[39m=\u001b[39m[\u001b[39m'\u001b[39m\u001b[39mtaxi_in\u001b[39m\u001b[39m'\u001b[39m])\n\u001b[1;32m      <a href='vscode-notebook-cell:/Users/lsantos/Documents/lighthouse-data-notes/midterm/exploratory_analysis_lee.ipynb#ch0000053?line=7'>8</a>\u001b[0m df_taxi_out \u001b[39m=\u001b[39m pd\u001b[39m.\u001b[39mDataFrame(columns\u001b[39m=\u001b[39m[\u001b[39m'\u001b[39m\u001b[39mtaxi_\u001b[39m\u001b[39m'\u001b[39m])\n\u001b[0;32m---> <a href='vscode-notebook-cell:/Users/lsantos/Documents/lighthouse-data-notes/midterm/exploratory_analysis_lee.ipynb#ch0000053?line=9'>10</a>\u001b[0m df_taxi_in\u001b[39m.\u001b[39mloc[i,\u001b[39m'\u001b[39m\u001b[39mdate\u001b[39m\u001b[39m'\u001b[39m] \u001b[39m=\u001b[39m df_flights[pd\u001b[39m.\u001b[39mto_datetime(df_flights[\u001b[39m'\u001b[39m\u001b[39mfl_date\u001b[39m\u001b[39m'\u001b[39m]) \u001b[39m==\u001b[39m day][\u001b[39m'\u001b[39m\u001b[39mtaxi_in\u001b[39m\u001b[39m'\u001b[39m]\n\u001b[1;32m     <a href='vscode-notebook-cell:/Users/lsantos/Documents/lighthouse-data-notes/midterm/exploratory_analysis_lee.ipynb#ch0000053?line=10'>11</a>\u001b[0m df_taxi_out\u001b[39m.\u001b[39mloc[i,\u001b[39m'\u001b[39m\u001b[39mdate\u001b[39m\u001b[39m'\u001b[39m] \u001b[39m=\u001b[39m df_flights[pd\u001b[39m.\u001b[39mto_datetime(df_flights[\u001b[39m'\u001b[39m\u001b[39mfl_date\u001b[39m\u001b[39m'\u001b[39m]) \u001b[39m==\u001b[39m day][\u001b[39m'\u001b[39m\u001b[39mtaxi_out\u001b[39m\u001b[39m'\u001b[39m]\n\u001b[1;32m     <a href='vscode-notebook-cell:/Users/lsantos/Documents/lighthouse-data-notes/midterm/exploratory_analysis_lee.ipynb#ch0000053?line=12'>13</a>\u001b[0m \u001b[39m# use random days to take taxi in/out numbers and plot hist\u001b[39;00m\n",
      "File \u001b[0;32m/opt/homebrew/Caskroom/miniforge/base/envs/lighthouse/lib/python3.8/site-packages/pandas/core/indexing.py:716\u001b[0m, in \u001b[0;36m_LocationIndexer.__setitem__\u001b[0;34m(self, key, value)\u001b[0m\n\u001b[1;32m    <a href='file:///opt/homebrew/Caskroom/miniforge/base/envs/lighthouse/lib/python3.8/site-packages/pandas/core/indexing.py?line=712'>713</a>\u001b[0m \u001b[39mself\u001b[39m\u001b[39m.\u001b[39m_has_valid_setitem_indexer(key)\n\u001b[1;32m    <a href='file:///opt/homebrew/Caskroom/miniforge/base/envs/lighthouse/lib/python3.8/site-packages/pandas/core/indexing.py?line=714'>715</a>\u001b[0m iloc \u001b[39m=\u001b[39m \u001b[39mself\u001b[39m \u001b[39mif\u001b[39;00m \u001b[39mself\u001b[39m\u001b[39m.\u001b[39mname \u001b[39m==\u001b[39m \u001b[39m\"\u001b[39m\u001b[39miloc\u001b[39m\u001b[39m\"\u001b[39m \u001b[39melse\u001b[39;00m \u001b[39mself\u001b[39m\u001b[39m.\u001b[39mobj\u001b[39m.\u001b[39miloc\n\u001b[0;32m--> <a href='file:///opt/homebrew/Caskroom/miniforge/base/envs/lighthouse/lib/python3.8/site-packages/pandas/core/indexing.py?line=715'>716</a>\u001b[0m iloc\u001b[39m.\u001b[39;49m_setitem_with_indexer(indexer, value, \u001b[39mself\u001b[39;49m\u001b[39m.\u001b[39;49mname)\n",
      "File \u001b[0;32m/opt/homebrew/Caskroom/miniforge/base/envs/lighthouse/lib/python3.8/site-packages/pandas/core/indexing.py:1647\u001b[0m, in \u001b[0;36m_iLocIndexer._setitem_with_indexer\u001b[0;34m(self, indexer, value, name)\u001b[0m\n\u001b[1;32m   <a href='file:///opt/homebrew/Caskroom/miniforge/base/envs/lighthouse/lib/python3.8/site-packages/pandas/core/indexing.py?line=1641'>1642</a>\u001b[0m         \u001b[39mself\u001b[39m\u001b[39m.\u001b[39mobj[key] \u001b[39m=\u001b[39m infer_fill_value(value)\n\u001b[1;32m   <a href='file:///opt/homebrew/Caskroom/miniforge/base/envs/lighthouse/lib/python3.8/site-packages/pandas/core/indexing.py?line=1643'>1644</a>\u001b[0m     new_indexer \u001b[39m=\u001b[39m convert_from_missing_indexer_tuple(\n\u001b[1;32m   <a href='file:///opt/homebrew/Caskroom/miniforge/base/envs/lighthouse/lib/python3.8/site-packages/pandas/core/indexing.py?line=1644'>1645</a>\u001b[0m         indexer, \u001b[39mself\u001b[39m\u001b[39m.\u001b[39mobj\u001b[39m.\u001b[39maxes\n\u001b[1;32m   <a href='file:///opt/homebrew/Caskroom/miniforge/base/envs/lighthouse/lib/python3.8/site-packages/pandas/core/indexing.py?line=1645'>1646</a>\u001b[0m     )\n\u001b[0;32m-> <a href='file:///opt/homebrew/Caskroom/miniforge/base/envs/lighthouse/lib/python3.8/site-packages/pandas/core/indexing.py?line=1646'>1647</a>\u001b[0m     \u001b[39mself\u001b[39;49m\u001b[39m.\u001b[39;49m_setitem_with_indexer(new_indexer, value, name)\n\u001b[1;32m   <a href='file:///opt/homebrew/Caskroom/miniforge/base/envs/lighthouse/lib/python3.8/site-packages/pandas/core/indexing.py?line=1648'>1649</a>\u001b[0m     \u001b[39mreturn\u001b[39;00m\n\u001b[1;32m   <a href='file:///opt/homebrew/Caskroom/miniforge/base/envs/lighthouse/lib/python3.8/site-packages/pandas/core/indexing.py?line=1650'>1651</a>\u001b[0m \u001b[39m# reindex the axis\u001b[39;00m\n\u001b[1;32m   <a href='file:///opt/homebrew/Caskroom/miniforge/base/envs/lighthouse/lib/python3.8/site-packages/pandas/core/indexing.py?line=1651'>1652</a>\u001b[0m \u001b[39m# make sure to clear the cache because we are\u001b[39;00m\n\u001b[1;32m   <a href='file:///opt/homebrew/Caskroom/miniforge/base/envs/lighthouse/lib/python3.8/site-packages/pandas/core/indexing.py?line=1652'>1653</a>\u001b[0m \u001b[39m# just replacing the block manager here\u001b[39;00m\n\u001b[1;32m   <a href='file:///opt/homebrew/Caskroom/miniforge/base/envs/lighthouse/lib/python3.8/site-packages/pandas/core/indexing.py?line=1653'>1654</a>\u001b[0m \u001b[39m# so the object is the same\u001b[39;00m\n",
      "File \u001b[0;32m/opt/homebrew/Caskroom/miniforge/base/envs/lighthouse/lib/python3.8/site-packages/pandas/core/indexing.py:1688\u001b[0m, in \u001b[0;36m_iLocIndexer._setitem_with_indexer\u001b[0;34m(self, indexer, value, name)\u001b[0m\n\u001b[1;32m   <a href='file:///opt/homebrew/Caskroom/miniforge/base/envs/lighthouse/lib/python3.8/site-packages/pandas/core/indexing.py?line=1684'>1685</a>\u001b[0m \u001b[39m# align and set the values\u001b[39;00m\n\u001b[1;32m   <a href='file:///opt/homebrew/Caskroom/miniforge/base/envs/lighthouse/lib/python3.8/site-packages/pandas/core/indexing.py?line=1685'>1686</a>\u001b[0m \u001b[39mif\u001b[39;00m take_split_path:\n\u001b[1;32m   <a href='file:///opt/homebrew/Caskroom/miniforge/base/envs/lighthouse/lib/python3.8/site-packages/pandas/core/indexing.py?line=1686'>1687</a>\u001b[0m     \u001b[39m# We have to operate column-wise\u001b[39;00m\n\u001b[0;32m-> <a href='file:///opt/homebrew/Caskroom/miniforge/base/envs/lighthouse/lib/python3.8/site-packages/pandas/core/indexing.py?line=1687'>1688</a>\u001b[0m     \u001b[39mself\u001b[39;49m\u001b[39m.\u001b[39;49m_setitem_with_indexer_split_path(indexer, value, name)\n\u001b[1;32m   <a href='file:///opt/homebrew/Caskroom/miniforge/base/envs/lighthouse/lib/python3.8/site-packages/pandas/core/indexing.py?line=1688'>1689</a>\u001b[0m \u001b[39melse\u001b[39;00m:\n\u001b[1;32m   <a href='file:///opt/homebrew/Caskroom/miniforge/base/envs/lighthouse/lib/python3.8/site-packages/pandas/core/indexing.py?line=1689'>1690</a>\u001b[0m     \u001b[39mself\u001b[39m\u001b[39m.\u001b[39m_setitem_single_block(indexer, value, name)\n",
      "File \u001b[0;32m/opt/homebrew/Caskroom/miniforge/base/envs/lighthouse/lib/python3.8/site-packages/pandas/core/indexing.py:1709\u001b[0m, in \u001b[0;36m_iLocIndexer._setitem_with_indexer_split_path\u001b[0;34m(self, indexer, value, name)\u001b[0m\n\u001b[1;32m   <a href='file:///opt/homebrew/Caskroom/miniforge/base/envs/lighthouse/lib/python3.8/site-packages/pandas/core/indexing.py?line=1705'>1706</a>\u001b[0m \u001b[39mif\u001b[39;00m (\u001b[39misinstance\u001b[39m(value, ABCSeries) \u001b[39mand\u001b[39;00m name \u001b[39m!=\u001b[39m \u001b[39m\"\u001b[39m\u001b[39miloc\u001b[39m\u001b[39m\"\u001b[39m) \u001b[39mor\u001b[39;00m \u001b[39misinstance\u001b[39m(value, \u001b[39mdict\u001b[39m):\n\u001b[1;32m   <a href='file:///opt/homebrew/Caskroom/miniforge/base/envs/lighthouse/lib/python3.8/site-packages/pandas/core/indexing.py?line=1706'>1707</a>\u001b[0m     \u001b[39mfrom\u001b[39;00m \u001b[39mpandas\u001b[39;00m \u001b[39mimport\u001b[39;00m Series\n\u001b[0;32m-> <a href='file:///opt/homebrew/Caskroom/miniforge/base/envs/lighthouse/lib/python3.8/site-packages/pandas/core/indexing.py?line=1708'>1709</a>\u001b[0m     value \u001b[39m=\u001b[39m \u001b[39mself\u001b[39;49m\u001b[39m.\u001b[39;49m_align_series(indexer, Series(value))\n\u001b[1;32m   <a href='file:///opt/homebrew/Caskroom/miniforge/base/envs/lighthouse/lib/python3.8/site-packages/pandas/core/indexing.py?line=1710'>1711</a>\u001b[0m \u001b[39m# Ensure we have something we can iterate over\u001b[39;00m\n\u001b[1;32m   <a href='file:///opt/homebrew/Caskroom/miniforge/base/envs/lighthouse/lib/python3.8/site-packages/pandas/core/indexing.py?line=1711'>1712</a>\u001b[0m info_axis \u001b[39m=\u001b[39m indexer[\u001b[39m1\u001b[39m]\n",
      "File \u001b[0;32m/opt/homebrew/Caskroom/miniforge/base/envs/lighthouse/lib/python3.8/site-packages/pandas/core/indexing.py:2148\u001b[0m, in \u001b[0;36m_iLocIndexer._align_series\u001b[0;34m(self, indexer, ser, multiindex_indexer)\u001b[0m\n\u001b[1;32m   <a href='file:///opt/homebrew/Caskroom/miniforge/base/envs/lighthouse/lib/python3.8/site-packages/pandas/core/indexing.py?line=2143'>2144</a>\u001b[0m         \u001b[39mreturn\u001b[39;00m ser\u001b[39m.\u001b[39m_values\u001b[39m.\u001b[39mcopy()\n\u001b[1;32m   <a href='file:///opt/homebrew/Caskroom/miniforge/base/envs/lighthouse/lib/python3.8/site-packages/pandas/core/indexing.py?line=2145'>2146</a>\u001b[0m     \u001b[39mreturn\u001b[39;00m ser\u001b[39m.\u001b[39mreindex(ax)\u001b[39m.\u001b[39m_values\n\u001b[0;32m-> <a href='file:///opt/homebrew/Caskroom/miniforge/base/envs/lighthouse/lib/python3.8/site-packages/pandas/core/indexing.py?line=2147'>2148</a>\u001b[0m \u001b[39mraise\u001b[39;00m \u001b[39mValueError\u001b[39;00m(\u001b[39m\"\u001b[39m\u001b[39mIncompatible indexer with Series\u001b[39m\u001b[39m\"\u001b[39m)\n",
      "\u001b[0;31mValueError\u001b[0m: Incompatible indexer with Series"
     ]
    }
   ],
   "source": [
    "# generate random days\n",
    "days = random_day('2019-01-01', '2019-12-31', '%Y-%m-%d')\n",
    "\n",
    "# loop through random days to generate distributions\n",
    "for i,day in enumerate(days):\n",
    "    \n",
    "    df_taxi_in = pd.DataFrame(columns=['taxi_in'])\n",
    "    df_taxi_out = pd.DataFrame(columns=['taxi_'])\n",
    "    \n",
    "    df_taxi_in.loc[i,'date'] = df_flights[pd.to_datetime(df_flights['fl_date']) == day]['taxi_in']\n",
    "    df_taxi_out.loc[i,'date'] = df_flights[pd.to_datetime(df_flights['fl_date']) == day]['taxi_out']\n",
    "    \n",
    "    # use random days to take taxi in/out numbers and plot hist\n",
    "    print(dt.datetime.strftime(day, '%Y-%m-%d'))\n",
    "    print(df_taxi_in.describe(), df_taxi_out.describe())\n",
    "    if len(df_taxi_in) > 3:\n",
    "        sc.check_normal_dist(df_taxi_in)\n",
    "    if len(df_taxi_out) > 3:\n",
    "        sc.check_normal_dist(df_taxi_out)"
   ]
  },
  {
   "cell_type": "code",
   "execution_count": 169,
   "metadata": {},
   "outputs": [
    {
     "data": {
      "text/plain": [
       "0       2018-11-19\n",
       "1       2018-11-19\n",
       "2       2018-11-19\n",
       "3       2018-11-19\n",
       "4       2018-11-19\n",
       "           ...    \n",
       "99995   2018-11-24\n",
       "99996   2018-11-24\n",
       "99997   2018-11-24\n",
       "99998   2018-11-24\n",
       "99999   2018-11-24\n",
       "Name: fl_date, Length: 100000, dtype: datetime64[ns]"
      ]
     },
     "execution_count": 169,
     "metadata": {},
     "output_type": "execute_result"
    }
   ],
   "source": [
    "pd.to_datetime(df_flights['fl_date'])"
   ]
  },
  {
   "cell_type": "code",
   "execution_count": 170,
   "metadata": {},
   "outputs": [],
   "source": [
    "for i in range(df_flights.shape[0]):\n",
    "    df_flights.loc[i, 'month'] = int(pd.to_datetime(df_flights.loc[i, 'fl_date']).strftime('%m'))"
   ]
  },
  {
   "cell_type": "code",
   "execution_count": 172,
   "metadata": {},
   "outputs": [],
   "source": [
    "months = [i for i in range(1,13)]\n",
    "\n",
    "count = 0\n",
    "for month in months:\n",
    "    # print(df_flights['fl_date'][5:7] == month)\n",
    "    flight_traffic = df_passengers[df_passengers['month'] == month]['departures_performed']\n",
    "    df_taxis = df_flights.loc[df_flights['month'] == month]\n",
    "    count += 1\n"
   ]
  },
  {
   "cell_type": "code",
   "execution_count": 111,
   "metadata": {},
   "outputs": [
    {
     "data": {
      "text/html": [
       "<div>\n",
       "<style scoped>\n",
       "    .dataframe tbody tr th:only-of-type {\n",
       "        vertical-align: middle;\n",
       "    }\n",
       "\n",
       "    .dataframe tbody tr th {\n",
       "        vertical-align: top;\n",
       "    }\n",
       "\n",
       "    .dataframe thead th {\n",
       "        text-align: right;\n",
       "    }\n",
       "</style>\n",
       "<table border=\"1\" class=\"dataframe\">\n",
       "  <thead>\n",
       "    <tr style=\"text-align: right;\">\n",
       "      <th></th>\n",
       "      <th>fl_date</th>\n",
       "      <th>mkt_unique_carrier</th>\n",
       "      <th>branded_code_share</th>\n",
       "      <th>mkt_carrier</th>\n",
       "      <th>mkt_carrier_fl_num</th>\n",
       "      <th>op_unique_carrier</th>\n",
       "      <th>tail_num</th>\n",
       "      <th>op_carrier_fl_num</th>\n",
       "      <th>origin_airport_id</th>\n",
       "      <th>origin</th>\n",
       "      <th>origin_city_name</th>\n",
       "      <th>dest_airport_id</th>\n",
       "      <th>dest</th>\n",
       "      <th>dest_city_name</th>\n",
       "      <th>crs_dep_time</th>\n",
       "      <th>dep_time</th>\n",
       "      <th>dep_delay</th>\n",
       "      <th>taxi_out</th>\n",
       "      <th>wheels_off</th>\n",
       "      <th>wheels_on</th>\n",
       "      <th>taxi_in</th>\n",
       "      <th>crs_arr_time</th>\n",
       "      <th>arr_time</th>\n",
       "      <th>arr_delay</th>\n",
       "      <th>cancelled</th>\n",
       "      <th>cancellation_code</th>\n",
       "      <th>diverted</th>\n",
       "      <th>dup</th>\n",
       "      <th>crs_elapsed_time</th>\n",
       "      <th>actual_elapsed_time</th>\n",
       "      <th>air_time</th>\n",
       "      <th>flights</th>\n",
       "      <th>distance</th>\n",
       "      <th>carrier_delay</th>\n",
       "      <th>weather_delay</th>\n",
       "      <th>nas_delay</th>\n",
       "      <th>security_delay</th>\n",
       "      <th>late_aircraft_delay</th>\n",
       "      <th>first_dep_time</th>\n",
       "      <th>total_add_gtime</th>\n",
       "      <th>longest_add_gtime</th>\n",
       "      <th>no_name</th>\n",
       "      <th>month</th>\n",
       "    </tr>\n",
       "  </thead>\n",
       "  <tbody>\n",
       "  </tbody>\n",
       "</table>\n",
       "</div>"
      ],
      "text/plain": [
       "Empty DataFrame\n",
       "Columns: [fl_date, mkt_unique_carrier, branded_code_share, mkt_carrier, mkt_carrier_fl_num, op_unique_carrier, tail_num, op_carrier_fl_num, origin_airport_id, origin, origin_city_name, dest_airport_id, dest, dest_city_name, crs_dep_time, dep_time, dep_delay, taxi_out, wheels_off, wheels_on, taxi_in, crs_arr_time, arr_time, arr_delay, cancelled, cancellation_code, diverted, dup, crs_elapsed_time, actual_elapsed_time, air_time, flights, distance, carrier_delay, weather_delay, nas_delay, security_delay, late_aircraft_delay, first_dep_time, total_add_gtime, longest_add_gtime, no_name, month]\n",
       "Index: []"
      ]
     },
     "execution_count": 111,
     "metadata": {},
     "output_type": "execute_result"
    }
   ],
   "source": [
    "df_taxis"
   ]
  },
  {
   "cell_type": "code",
   "execution_count": 84,
   "metadata": {},
   "outputs": [
    {
     "ename": "ValueError",
     "evalue": "x and y must have same first dimension, but have shapes (8145,) and (0,)",
     "output_type": "error",
     "traceback": [
      "\u001b[0;31m---------------------------------------------------------------------------\u001b[0m",
      "\u001b[0;31mValueError\u001b[0m                                Traceback (most recent call last)",
      "\u001b[1;32m/Users/lsantos/Documents/lighthouse-data-notes/midterm/exploratory_analysis_lee.ipynb Cell 60'\u001b[0m in \u001b[0;36m<cell line: 2>\u001b[0;34m()\u001b[0m\n\u001b[1;32m      <a href='vscode-notebook-cell:/Users/lsantos/Documents/lighthouse-data-notes/midterm/exploratory_analysis_lee.ipynb#ch0000080?line=0'>1</a>\u001b[0m fig, ax \u001b[39m=\u001b[39m plt\u001b[39m.\u001b[39msubplots(figsize\u001b[39m=\u001b[39m(\u001b[39m10\u001b[39m,\u001b[39m8\u001b[39m))\n\u001b[0;32m----> <a href='vscode-notebook-cell:/Users/lsantos/Documents/lighthouse-data-notes/midterm/exploratory_analysis_lee.ipynb#ch0000080?line=1'>2</a>\u001b[0m ax\u001b[39m.\u001b[39;49mplot(flight_traffic, df_taxis[\u001b[39m'\u001b[39;49m\u001b[39mtaxi_in\u001b[39;49m\u001b[39m'\u001b[39;49m])\n\u001b[1;32m      <a href='vscode-notebook-cell:/Users/lsantos/Documents/lighthouse-data-notes/midterm/exploratory_analysis_lee.ipynb#ch0000080?line=2'>3</a>\u001b[0m ax\u001b[39m.\u001b[39mplot(flight_traffic, df_taxis[\u001b[39m'\u001b[39m\u001b[39mtaxi_out\u001b[39m\u001b[39m'\u001b[39m])\n",
      "File \u001b[0;32m/opt/homebrew/Caskroom/miniforge/base/envs/lighthouse/lib/python3.8/site-packages/matplotlib/axes/_axes.py:1632\u001b[0m, in \u001b[0;36mAxes.plot\u001b[0;34m(self, scalex, scaley, data, *args, **kwargs)\u001b[0m\n\u001b[1;32m   <a href='file:///opt/homebrew/Caskroom/miniforge/base/envs/lighthouse/lib/python3.8/site-packages/matplotlib/axes/_axes.py?line=1389'>1390</a>\u001b[0m \u001b[39m\"\"\"\u001b[39;00m\n\u001b[1;32m   <a href='file:///opt/homebrew/Caskroom/miniforge/base/envs/lighthouse/lib/python3.8/site-packages/matplotlib/axes/_axes.py?line=1390'>1391</a>\u001b[0m \u001b[39mPlot y versus x as lines and/or markers.\u001b[39;00m\n\u001b[1;32m   <a href='file:///opt/homebrew/Caskroom/miniforge/base/envs/lighthouse/lib/python3.8/site-packages/matplotlib/axes/_axes.py?line=1391'>1392</a>\u001b[0m \n\u001b[0;32m   (...)\u001b[0m\n\u001b[1;32m   <a href='file:///opt/homebrew/Caskroom/miniforge/base/envs/lighthouse/lib/python3.8/site-packages/matplotlib/axes/_axes.py?line=1628'>1629</a>\u001b[0m \u001b[39m(``'green'``) or hex strings (``'#008000'``).\u001b[39;00m\n\u001b[1;32m   <a href='file:///opt/homebrew/Caskroom/miniforge/base/envs/lighthouse/lib/python3.8/site-packages/matplotlib/axes/_axes.py?line=1629'>1630</a>\u001b[0m \u001b[39m\"\"\"\u001b[39;00m\n\u001b[1;32m   <a href='file:///opt/homebrew/Caskroom/miniforge/base/envs/lighthouse/lib/python3.8/site-packages/matplotlib/axes/_axes.py?line=1630'>1631</a>\u001b[0m kwargs \u001b[39m=\u001b[39m cbook\u001b[39m.\u001b[39mnormalize_kwargs(kwargs, mlines\u001b[39m.\u001b[39mLine2D)\n\u001b[0;32m-> <a href='file:///opt/homebrew/Caskroom/miniforge/base/envs/lighthouse/lib/python3.8/site-packages/matplotlib/axes/_axes.py?line=1631'>1632</a>\u001b[0m lines \u001b[39m=\u001b[39m [\u001b[39m*\u001b[39m\u001b[39mself\u001b[39m\u001b[39m.\u001b[39m_get_lines(\u001b[39m*\u001b[39margs, data\u001b[39m=\u001b[39mdata, \u001b[39m*\u001b[39m\u001b[39m*\u001b[39mkwargs)]\n\u001b[1;32m   <a href='file:///opt/homebrew/Caskroom/miniforge/base/envs/lighthouse/lib/python3.8/site-packages/matplotlib/axes/_axes.py?line=1632'>1633</a>\u001b[0m \u001b[39mfor\u001b[39;00m line \u001b[39min\u001b[39;00m lines:\n\u001b[1;32m   <a href='file:///opt/homebrew/Caskroom/miniforge/base/envs/lighthouse/lib/python3.8/site-packages/matplotlib/axes/_axes.py?line=1633'>1634</a>\u001b[0m     \u001b[39mself\u001b[39m\u001b[39m.\u001b[39madd_line(line)\n",
      "File \u001b[0;32m/opt/homebrew/Caskroom/miniforge/base/envs/lighthouse/lib/python3.8/site-packages/matplotlib/axes/_base.py:312\u001b[0m, in \u001b[0;36m_process_plot_var_args.__call__\u001b[0;34m(self, data, *args, **kwargs)\u001b[0m\n\u001b[1;32m    <a href='file:///opt/homebrew/Caskroom/miniforge/base/envs/lighthouse/lib/python3.8/site-packages/matplotlib/axes/_base.py?line=309'>310</a>\u001b[0m     this \u001b[39m+\u001b[39m\u001b[39m=\u001b[39m args[\u001b[39m0\u001b[39m],\n\u001b[1;32m    <a href='file:///opt/homebrew/Caskroom/miniforge/base/envs/lighthouse/lib/python3.8/site-packages/matplotlib/axes/_base.py?line=310'>311</a>\u001b[0m     args \u001b[39m=\u001b[39m args[\u001b[39m1\u001b[39m:]\n\u001b[0;32m--> <a href='file:///opt/homebrew/Caskroom/miniforge/base/envs/lighthouse/lib/python3.8/site-packages/matplotlib/axes/_base.py?line=311'>312</a>\u001b[0m \u001b[39myield from\u001b[39;00m \u001b[39mself\u001b[39;49m\u001b[39m.\u001b[39;49m_plot_args(this, kwargs)\n",
      "File \u001b[0;32m/opt/homebrew/Caskroom/miniforge/base/envs/lighthouse/lib/python3.8/site-packages/matplotlib/axes/_base.py:498\u001b[0m, in \u001b[0;36m_process_plot_var_args._plot_args\u001b[0;34m(self, tup, kwargs, return_kwargs)\u001b[0m\n\u001b[1;32m    <a href='file:///opt/homebrew/Caskroom/miniforge/base/envs/lighthouse/lib/python3.8/site-packages/matplotlib/axes/_base.py?line=494'>495</a>\u001b[0m     \u001b[39mself\u001b[39m\u001b[39m.\u001b[39maxes\u001b[39m.\u001b[39myaxis\u001b[39m.\u001b[39mupdate_units(y)\n\u001b[1;32m    <a href='file:///opt/homebrew/Caskroom/miniforge/base/envs/lighthouse/lib/python3.8/site-packages/matplotlib/axes/_base.py?line=496'>497</a>\u001b[0m \u001b[39mif\u001b[39;00m x\u001b[39m.\u001b[39mshape[\u001b[39m0\u001b[39m] \u001b[39m!=\u001b[39m y\u001b[39m.\u001b[39mshape[\u001b[39m0\u001b[39m]:\n\u001b[0;32m--> <a href='file:///opt/homebrew/Caskroom/miniforge/base/envs/lighthouse/lib/python3.8/site-packages/matplotlib/axes/_base.py?line=497'>498</a>\u001b[0m     \u001b[39mraise\u001b[39;00m \u001b[39mValueError\u001b[39;00m(\u001b[39mf\u001b[39m\u001b[39m\"\u001b[39m\u001b[39mx and y must have same first dimension, but \u001b[39m\u001b[39m\"\u001b[39m\n\u001b[1;32m    <a href='file:///opt/homebrew/Caskroom/miniforge/base/envs/lighthouse/lib/python3.8/site-packages/matplotlib/axes/_base.py?line=498'>499</a>\u001b[0m                      \u001b[39mf\u001b[39m\u001b[39m\"\u001b[39m\u001b[39mhave shapes \u001b[39m\u001b[39m{\u001b[39;00mx\u001b[39m.\u001b[39mshape\u001b[39m}\u001b[39;00m\u001b[39m and \u001b[39m\u001b[39m{\u001b[39;00my\u001b[39m.\u001b[39mshape\u001b[39m}\u001b[39;00m\u001b[39m\"\u001b[39m)\n\u001b[1;32m    <a href='file:///opt/homebrew/Caskroom/miniforge/base/envs/lighthouse/lib/python3.8/site-packages/matplotlib/axes/_base.py?line=499'>500</a>\u001b[0m \u001b[39mif\u001b[39;00m x\u001b[39m.\u001b[39mndim \u001b[39m>\u001b[39m \u001b[39m2\u001b[39m \u001b[39mor\u001b[39;00m y\u001b[39m.\u001b[39mndim \u001b[39m>\u001b[39m \u001b[39m2\u001b[39m:\n\u001b[1;32m    <a href='file:///opt/homebrew/Caskroom/miniforge/base/envs/lighthouse/lib/python3.8/site-packages/matplotlib/axes/_base.py?line=500'>501</a>\u001b[0m     \u001b[39mraise\u001b[39;00m \u001b[39mValueError\u001b[39;00m(\u001b[39mf\u001b[39m\u001b[39m\"\u001b[39m\u001b[39mx and y can be no greater than 2D, but have \u001b[39m\u001b[39m\"\u001b[39m\n\u001b[1;32m    <a href='file:///opt/homebrew/Caskroom/miniforge/base/envs/lighthouse/lib/python3.8/site-packages/matplotlib/axes/_base.py?line=501'>502</a>\u001b[0m                      \u001b[39mf\u001b[39m\u001b[39m\"\u001b[39m\u001b[39mshapes \u001b[39m\u001b[39m{\u001b[39;00mx\u001b[39m.\u001b[39mshape\u001b[39m}\u001b[39;00m\u001b[39m and \u001b[39m\u001b[39m{\u001b[39;00my\u001b[39m.\u001b[39mshape\u001b[39m}\u001b[39;00m\u001b[39m\"\u001b[39m)\n",
      "\u001b[0;31mValueError\u001b[0m: x and y must have same first dimension, but have shapes (8145,) and (0,)"
     ]
    },
    {
     "data": {
      "image/png": "[encoded data removed]",
      "text/plain": [
       "<Figure size 720x576 with 1 Axes>"
      ]
     },
     "metadata": {
      "needs_background": "dark"
     },
     "output_type": "display_data"
    }
   ],
   "source": [
    "fig,ax = plt.subplots(figsize=(10,8))\n",
    "ax.plot(flight_traffic, df_taxis['taxi_in'])\n",
    "ax.plot(flight_traffic, df_taxis['taxi_out'])\n",
    "    "
   ]
  },
  {
   "cell_type": "markdown",
   "metadata": {},
   "source": [
    "#### **Task 5**: What is the average percentage of delays that is already created before departure? (aka are arrival delays caused by departure delays?) Are airlines able to lower the delay during the flights?"
   ]
  },
  {
   "cell_type": "code",
   "execution_count": null,
   "metadata": {},
   "outputs": [],
   "source": []
  },
  {
   "cell_type": "code",
   "execution_count": null,
   "metadata": {},
   "outputs": [],
   "source": []
  },
  {
   "cell_type": "markdown",
   "metadata": {},
   "source": [
    "#### **Task 6**: How many states cover 50% of US air traffic? "
   ]
  },
  {
   "cell_type": "code",
   "execution_count": null,
   "metadata": {},
   "outputs": [],
   "source": [
    "train['total_delay'].sort"
   ]
  },
  {
   "cell_type": "code",
   "execution_count": null,
   "metadata": {},
   "outputs": [],
   "source": []
  },
  {
   "cell_type": "markdown",
   "metadata": {},
   "source": [
    "#### **Task 7**: Test the hypothesis whether planes fly faster when there is the departure delay? "
   ]
  },
  {
   "cell_type": "code",
   "execution_count": null,
   "metadata": {},
   "outputs": [],
   "source": []
  },
  {
   "cell_type": "code",
   "execution_count": null,
   "metadata": {},
   "outputs": [],
   "source": []
  },
  {
   "cell_type": "markdown",
   "metadata": {},
   "source": [
    "#### **Task 8**: When (which hour) do most 'LONG', 'SHORT', 'MEDIUM' haul flights take off?"
   ]
  },
  {
   "cell_type": "code",
   "execution_count": null,
   "metadata": {},
   "outputs": [],
   "source": []
  },
  {
   "cell_type": "code",
   "execution_count": null,
   "metadata": {},
   "outputs": [],
   "source": []
  },
  {
   "cell_type": "markdown",
   "metadata": {},
   "source": [
    "#### **Task 9**: Find the top 10 the bussiest airports. Does the biggest number of flights mean that the biggest number of passengers went through the particular airport? How much traffic do these 10 airports cover?"
   ]
  },
  {
   "cell_type": "code",
   "execution_count": null,
   "metadata": {},
   "outputs": [],
   "source": []
  },
  {
   "cell_type": "code",
   "execution_count": null,
   "metadata": {},
   "outputs": [],
   "source": []
  },
  {
   "cell_type": "markdown",
   "metadata": {},
   "source": [
    "#### **Task 10**: Do bigger delays lead to bigger fuel comsumption per passenger? \n",
    "We need to do four things to answer this as accurate as possible:\n",
    "- Find out average monthly delay per air carrier (monthly delay is sum of all delays in 1 month)\n",
    "- Find out distance covered monthly by different air carriers\n",
    "- Find out number of passengers that were carried by different air carriers\n",
    "- Find out total fuel comsumption per air carrier.\n",
    "\n",
    "Use this information to get the average fuel comsumption per passenger per km. Is this higher for the airlines with bigger average delays?"
   ]
  },
  {
   "cell_type": "code",
   "execution_count": null,
   "metadata": {},
   "outputs": [],
   "source": []
  },
  {
   "cell_type": "code",
   "execution_count": null,
   "metadata": {},
   "outputs": [],
   "source": []
  }
 ],
 "metadata": {
  "interpreter": {
   "hash": "f6bdb6bebcaa6c165db367a86e382ae8df75f09257c40532b854029e0e3d706f"
  },
  "kernelspec": {
   "display_name": "Python 3 (ipykernel)",
   "language": "python",
   "name": "python3"
  },
  "language_info": {
   "codemirror_mode": {
    "name": "ipython",
    "version": 3
   },
   "file_extension": ".py",
   "mimetype": "text/x-python",
   "name": "python",
   "nbconvert_exporter": "python",
   "pygments_lexer": "ipython3",
   "version": "3.8.13"
  },
  "toc": {
   "base_numbering": 1,
   "nav_menu": {},
   "number_sections": true,
   "sideBar": true,
   "skip_h1_title": false,
   "title_cell": "Table of Contents",
   "title_sidebar": "Contents",
   "toc_cell": false,
   "toc_position": {},
   "toc_section_display": true,
   "toc_window_display": false
  },
  "varInspector": {
   "cols": {
    "lenName": 16,
    "lenType": 16,
    "lenVar": 40
   },
   "kernels_config": {
    "python": {
     "delete_cmd_postfix": "",
     "delete_cmd_prefix": "del ",
     "library": "var_list.py",
     "varRefreshCmd": "print(var_dic_list())"
    },
    "r": {
     "delete_cmd_postfix": ") ",
     "delete_cmd_prefix": "rm(",
     "library": "var_list.r",
     "varRefreshCmd": "cat(var_dic_list()) "
    }
   },
   "types_to_exclude": [
    "module",
    "function",
    "builtin_function_or_method",
    "instance",
    "_Feature"
   ],
   "window_display": false
  }
 },
 "nbformat": 4,
 "nbformat_minor": 4
}
