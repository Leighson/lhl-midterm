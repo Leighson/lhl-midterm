{
 "cells": [
  {
   "cell_type": "markdown",
   "metadata": {},
   "source": [
    "## Exploratory Data Analysis\n",
    "\n",
    "Use this notebook to get familiar with the datasets we have. There is 10 questions we need to answer during the EDA.\n",
    "\n",
    "\n",
    "We shouldn't limit our EDA to these 10 questions. Let's be creative :)."
   ]
  },
  {
   "cell_type": "code",
   "execution_count": 1,
   "metadata": {},
   "outputs": [],
   "source": [
    "# import libraries\n",
    "import re\n",
    "import numpy as np\n",
    "import pandas as pd\n",
    "import assets.script as scr\n",
    "import matplotlib.pyplot as plt\n",
    "import scipy.stats as stats\n",
    "%matplotlib inline"
   ]
  },
  {
   "cell_type": "code",
   "execution_count": 2,
   "metadata": {},
   "outputs": [],
   "source": [
    "# import sql library\n",
    "from psycopg2 import sql\n",
    "\n",
    "# define paths\n",
    "from pathlib import Path\n",
    "data_path = Path('./data')"
   ]
  },
  {
   "cell_type": "code",
   "execution_count": 3,
   "metadata": {},
   "outputs": [],
   "source": [
    "# display table names\n",
    "display_tables = scr.read_tables()"
   ]
  },
  {
   "cell_type": "code",
   "execution_count": 4,
   "metadata": {},
   "outputs": [],
   "source": [
    "# take samples from each table\n",
    "flights = 'flights'\n",
    "flights_test = 'flights_test'\n",
    "fuel_comsumption = 'fuel_comsumption'\n",
    "pass_sample = 'pass_sample'\n",
    "passengers = 'passengers'\n",
    "sample = 'sample'\n",
    "test_table = 'test_table'\n",
    "\n",
    "# for mass data gathering loop\n",
    "table_names = [flights, flights_test, fuel_comsumption, pass_sample, passengers, sample, test_table]"
   ]
  },
  {
   "cell_type": "code",
   "execution_count": 5,
   "metadata": {},
   "outputs": [
    {
     "name": "stdout",
     "output_type": "stream",
     "text": [
      "File exists. Returning DataFrame...\n",
      "File exists. Returning DataFrame...\n",
      "File exists. Returning DataFrame...\n",
      "File exists. Returning DataFrame...\n",
      "File exists. Returning DataFrame...\n",
      "File exists. Returning DataFrame...\n",
      "File exists. Returning DataFrame...\n"
     ]
    }
   ],
   "source": [
    "# query for tables\n",
    "sample_size = '100k'\n",
    "\n",
    "for tables in table_names:\n",
    "    query = sql.SQL(\n",
    "        \"SELECT * FROM {table} \\\n",
    "            LIMIT %s;\").format(\n",
    "            table = sql.Identifier(tables),\n",
    "        )\n",
    "        \n",
    "    filename = '{}_{}_sample.csv'.format(tables, sample_size)\n",
    "    limit = (100000, )\n",
    "    overwrite = False\n",
    "    \n",
    "    # sql call\n",
    "    df = scr.make_csv(query, filename, limit, overwrite)"
   ]
  },
  {
   "cell_type": "code",
   "execution_count": 6,
   "metadata": {},
   "outputs": [],
   "source": [
    "# transfer sample of tables to dataframes\n",
    "df_flights = pd.read_csv(data_path / 'flights_{}_sample.csv'.format(sample_size))\n",
    "df_flights_test = pd.read_csv(data_path / 'flights_test_{}_sample.csv'.format(sample_size))\n",
    "df_fuel_comsumption = pd.read_csv(data_path / 'fuel_comsumption_{}_sample.csv'.format(sample_size))\n",
    "df_pass_sample = pd.read_csv(data_path / 'pass_sample_{}_sample.csv'.format(sample_size))\n",
    "df_passengers = pd.read_csv(data_path / 'passengers_{}_sample.csv'.format(sample_size))\n",
    "df_sample = pd.read_csv(data_path / 'sample_{}_sample.csv'.format(sample_size))\n",
    "df_test_table = pd.read_csv(data_path / 'test_table_{}_sample.csv'.format(sample_size))"
   ]
  },
  {
   "cell_type": "markdown",
   "metadata": {},
   "source": [
    "#### **Task 1**: Test the hypothesis that the delay is from Normal distribution. and that **mean** of the delay is 0. Be careful about the outliers."
   ]
  },
  {
   "cell_type": "markdown",
   "metadata": {},
   "source": [
    "##### Look for columns describing delay"
   ]
  },
  {
   "cell_type": "code",
   "execution_count": 7,
   "metadata": {},
   "outputs": [
    {
     "data": {
      "text/plain": [
       "['dep_delay',\n",
       " 'arr_delay',\n",
       " 'carrier_delay',\n",
       " 'weather_delay',\n",
       " 'nas_delay',\n",
       " 'security_delay',\n",
       " 'late_aircraft_delay']"
      ]
     },
     "execution_count": 7,
     "metadata": {},
     "output_type": "execute_result"
    }
   ],
   "source": [
    "# search for columns that describe delays\n",
    "regex = r\"(.*delay.*)\"\n",
    "indices, results = scr.search_data(df_flights, regex)\n",
    "results"
   ]
  },
  {
   "cell_type": "markdown",
   "metadata": {},
   "source": [
    "##### Preliminary EDA"
   ]
  },
  {
   "cell_type": "code",
   "execution_count": 8,
   "metadata": {},
   "outputs": [
    {
     "name": "stdout",
     "output_type": "stream",
     "text": [
      "dep_delay               3133\n",
      "arr_delay               3723\n",
      "carrier_delay          73689\n",
      "weather_delay          73689\n",
      "nas_delay              73689\n",
      "security_delay         73689\n",
      "late_aircraft_delay    73689\n",
      "dtype: int64\n",
      "dep_delay    0\n",
      "arr_delay    0\n",
      "dtype: int64\n",
      "RangeIndex(start=0, stop=96277, step=1)\n"
     ]
    },
    {
     "data": {
      "text/html": [
       "<div>\n",
       "<style scoped>\n",
       "    .dataframe tbody tr th:only-of-type {\n",
       "        vertical-align: middle;\n",
       "    }\n",
       "\n",
       "    .dataframe tbody tr th {\n",
       "        vertical-align: top;\n",
       "    }\n",
       "\n",
       "    .dataframe thead th {\n",
       "        text-align: right;\n",
       "    }\n",
       "</style>\n",
       "<table border=\"1\" class=\"dataframe\">\n",
       "  <thead>\n",
       "    <tr style=\"text-align: right;\">\n",
       "      <th></th>\n",
       "      <th>dep_delay</th>\n",
       "      <th>arr_delay</th>\n",
       "    </tr>\n",
       "  </thead>\n",
       "  <tbody>\n",
       "    <tr>\n",
       "      <th>count</th>\n",
       "      <td>96277.000000</td>\n",
       "      <td>96277.000000</td>\n",
       "    </tr>\n",
       "    <tr>\n",
       "      <th>mean</th>\n",
       "      <td>21.840512</td>\n",
       "      <td>17.573450</td>\n",
       "    </tr>\n",
       "    <tr>\n",
       "      <th>std</th>\n",
       "      <td>68.435427</td>\n",
       "      <td>70.287878</td>\n",
       "    </tr>\n",
       "    <tr>\n",
       "      <th>min</th>\n",
       "      <td>-32.000000</td>\n",
       "      <td>-88.000000</td>\n",
       "    </tr>\n",
       "    <tr>\n",
       "      <th>25%</th>\n",
       "      <td>-5.000000</td>\n",
       "      <td>-13.000000</td>\n",
       "    </tr>\n",
       "    <tr>\n",
       "      <th>50%</th>\n",
       "      <td>-1.000000</td>\n",
       "      <td>-3.000000</td>\n",
       "    </tr>\n",
       "    <tr>\n",
       "      <th>75%</th>\n",
       "      <td>17.000000</td>\n",
       "      <td>18.000000</td>\n",
       "    </tr>\n",
       "    <tr>\n",
       "      <th>max</th>\n",
       "      <td>1615.000000</td>\n",
       "      <td>1597.000000</td>\n",
       "    </tr>\n",
       "  </tbody>\n",
       "</table>\n",
       "</div>"
      ],
      "text/plain": [
       "          dep_delay     arr_delay\n",
       "count  96277.000000  96277.000000\n",
       "mean      21.840512     17.573450\n",
       "std       68.435427     70.287878\n",
       "min      -32.000000    -88.000000\n",
       "25%       -5.000000    -13.000000\n",
       "50%       -1.000000     -3.000000\n",
       "75%       17.000000     18.000000\n",
       "max     1615.000000   1597.000000"
      ]
     },
     "execution_count": 8,
     "metadata": {},
     "output_type": "execute_result"
    }
   ],
   "source": [
    "print(df_flights[results].isnull().sum())\n",
    "# most delays appear to have many missing values; will ignore them for now\n",
    "\n",
    "# early arrivals|departures without null values\n",
    "df_flights_delay = df_flights[['dep_delay', 'arr_delay']].dropna().reset_index(drop=True)\n",
    "print(df_flights_delay.isnull().sum())\n",
    "print(df_flights_delay.index)\n",
    "df_flights_delay.describe()"
   ]
  },
  {
   "cell_type": "markdown",
   "metadata": {},
   "source": [
    "These numbers are terrible."
   ]
  },
  {
   "cell_type": "markdown",
   "metadata": {},
   "source": [
    "##### Check for normal distributions"
   ]
  },
  {
   "cell_type": "code",
   "execution_count": 9,
   "metadata": {},
   "outputs": [
    {
     "name": "stdout",
     "output_type": "stream",
     "text": [
      "Shapiro-Wilk Test\n",
      "-----------------\n",
      "Provided an alpha of 0.05, if p-value > alpha then the distribution can be assumed to be normal.\n",
      "This test prunes data to the first 5000 data points or \"head(5000)\" as reliability suffers with increasing samples.\n",
      "t-stat: 0.46445733308792114 , p-value: 0.0\n",
      "\n",
      "Anderson-Darling Test\n",
      "---------------------\n",
      "If the returned statistic > critical values then for the corresponding significance level,\n",
      "the null hypothesis that the data come from the chosen distribution can be rejected.\n",
      "t-stat: 16281.315486526786 , critical values: [0.576 0.656 0.787 0.918 1.092] , at significance levels of: [15.  10.   5.   2.5  1. ]\n",
      "\n",
      "Skewness and Kurtosis\n",
      "---------------------\n",
      "skewness, -ve skews left and +ve skews right (0 is best): 6.635684409030094\n",
      "kurtosis, tail spread (< 3 is best): 73.27290163045704\n"
     ]
    },
    {
     "data": {
      "image/png": "[encoded data removed]",
      "text/plain": [
       "<Figure size 720x576 with 1 Axes>"
      ]
     },
     "metadata": {
      "needs_background": "dark"
     },
     "output_type": "display_data"
    }
   ],
   "source": [
    "scr.check_normal_dist(df_flights_delay['dep_delay'])"
   ]
  },
  {
   "cell_type": "code",
   "execution_count": 10,
   "metadata": {},
   "outputs": [
    {
     "name": "stdout",
     "output_type": "stream",
     "text": [
      "Shapiro-Wilk Test\n",
      "-----------------\n",
      "Provided an alpha of 0.05, if p-value > alpha then the distribution can be assumed to be normal.\n",
      "This test prunes data to the first 5000 data points or \"head(5000)\" as reliability suffers with increasing samples.\n",
      "t-stat: 0.5947854518890381 , p-value: 0.0\n",
      "\n",
      "Anderson-Darling Test\n",
      "---------------------\n",
      "If the returned statistic > critical values then for the corresponding significance level,\n",
      "the null hypothesis that the data come from the chosen distribution can be rejected.\n",
      "t-stat: 12638.842786035922 , critical values: [0.576 0.656 0.787 0.918 1.092] , at significance levels of: [15.  10.   5.   2.5  1. ]\n",
      "\n",
      "Skewness and Kurtosis\n",
      "---------------------\n",
      "skewness, -ve skews left and +ve skews right (0 is best): 6.209374232134813\n",
      "kurtosis, tail spread (< 3 is best): 66.36765450338011\n"
     ]
    },
    {
     "data": {
      "image/png": "[encoded data removed]",
      "text/plain": [
       "<Figure size 720x576 with 1 Axes>"
      ]
     },
     "metadata": {
      "needs_background": "dark"
     },
     "output_type": "display_data"
    }
   ],
   "source": [
    "scr.check_normal_dist(df_flights_delay['arr_delay'], bins=50)"
   ]
  },
  {
   "cell_type": "markdown",
   "metadata": {},
   "source": [
    "These are really not normal. Also, extremely skewed."
   ]
  },
  {
   "cell_type": "markdown",
   "metadata": {},
   "source": [
    "##### Filter outliers and redo the normal distribution checks"
   ]
  },
  {
   "cell_type": "code",
   "execution_count": 11,
   "metadata": {},
   "outputs": [],
   "source": [
    "df = scr.filter_outliers(df_flights_delay, df_flights_delay['arr_delay'])\n",
    "df.reset_index(inplace=True, drop=True)\n",
    "df = scr.filter_outliers(df, df['dep_delay'])"
   ]
  },
  {
   "cell_type": "code",
   "execution_count": 12,
   "metadata": {},
   "outputs": [
    {
     "name": "stdout",
     "output_type": "stream",
     "text": [
      "Shapiro-Wilk Test\n",
      "-----------------\n",
      "Provided an alpha of 0.05, if p-value > alpha then the distribution can be assumed to be normal.\n",
      "This test prunes data to the first 5000 data points or \"head(5000)\" as reliability suffers with increasing samples.\n",
      "t-stat: 0.8135808706283569 , p-value: 0.0\n",
      "\n",
      "Anderson-Darling Test\n",
      "---------------------\n",
      "If the returned statistic > critical values then for the corresponding significance level,\n",
      "the null hypothesis that the data come from the chosen distribution can be rejected.\n",
      "t-stat: 5865.607979487759 , critical values: [0.576 0.656 0.787 0.918 1.092] , at significance levels of: [15.  10.   5.   2.5  1. ]\n",
      "\n",
      "Skewness and Kurtosis\n",
      "---------------------\n",
      "skewness, -ve skews left and +ve skews right (0 is best): 1.9776802142480534\n",
      "kurtosis, tail spread (< 3 is best): 4.470678047775033\n"
     ]
    },
    {
     "data": {
      "image/png": "[encoded data removed]",
      "text/plain": [
       "<Figure size 720x576 with 1 Axes>"
      ]
     },
     "metadata": {
      "needs_background": "dark"
     },
     "output_type": "display_data"
    },
    {
     "name": "stdout",
     "output_type": "stream",
     "text": [
      "Shapiro-Wilk Test\n",
      "-----------------\n",
      "Provided an alpha of 0.05, if p-value > alpha then the distribution can be assumed to be normal.\n",
      "This test prunes data to the first 5000 data points or \"head(5000)\" as reliability suffers with increasing samples.\n",
      "t-stat: 0.6654062867164612 , p-value: 0.0\n",
      "\n",
      "Anderson-Darling Test\n",
      "---------------------\n",
      "If the returned statistic > critical values then for the corresponding significance level,\n",
      "the null hypothesis that the data come from the chosen distribution can be rejected.\n",
      "t-stat: 10910.59739584144 , critical values: [0.576 0.656 0.787 0.918 1.092] , at significance levels of: [15.  10.   5.   2.5  1. ]\n",
      "\n",
      "Skewness and Kurtosis\n",
      "---------------------\n",
      "skewness, -ve skews left and +ve skews right (0 is best): 2.32689942902098\n",
      "kurtosis, tail spread (< 3 is best): 5.215487610741231\n"
     ]
    },
    {
     "data": {
      "image/png": "[encoded data removed]",
      "text/plain": [
       "<Figure size 720x576 with 1 Axes>"
      ]
     },
     "metadata": {
      "needs_background": "dark"
     },
     "output_type": "display_data"
    },
    {
     "data": {
      "text/html": [
       "<div>\n",
       "<style scoped>\n",
       "    .dataframe tbody tr th:only-of-type {\n",
       "        vertical-align: middle;\n",
       "    }\n",
       "\n",
       "    .dataframe tbody tr th {\n",
       "        vertical-align: top;\n",
       "    }\n",
       "\n",
       "    .dataframe thead th {\n",
       "        text-align: right;\n",
       "    }\n",
       "</style>\n",
       "<table border=\"1\" class=\"dataframe\">\n",
       "  <thead>\n",
       "    <tr style=\"text-align: right;\">\n",
       "      <th></th>\n",
       "      <th>dep_delay</th>\n",
       "      <th>arr_delay</th>\n",
       "    </tr>\n",
       "  </thead>\n",
       "  <tbody>\n",
       "    <tr>\n",
       "      <th>count</th>\n",
       "      <td>91502.000000</td>\n",
       "      <td>91502.000000</td>\n",
       "    </tr>\n",
       "    <tr>\n",
       "      <th>mean</th>\n",
       "      <td>9.956176</td>\n",
       "      <td>5.643308</td>\n",
       "    </tr>\n",
       "    <tr>\n",
       "      <th>std</th>\n",
       "      <td>27.637826</td>\n",
       "      <td>31.450826</td>\n",
       "    </tr>\n",
       "    <tr>\n",
       "      <th>min</th>\n",
       "      <td>-32.000000</td>\n",
       "      <td>-88.000000</td>\n",
       "    </tr>\n",
       "    <tr>\n",
       "      <th>25%</th>\n",
       "      <td>-5.000000</td>\n",
       "      <td>-13.000000</td>\n",
       "    </tr>\n",
       "    <tr>\n",
       "      <th>50%</th>\n",
       "      <td>-1.000000</td>\n",
       "      <td>-4.000000</td>\n",
       "    </tr>\n",
       "    <tr>\n",
       "      <th>75%</th>\n",
       "      <td>12.000000</td>\n",
       "      <td>13.000000</td>\n",
       "    </tr>\n",
       "    <tr>\n",
       "      <th>max</th>\n",
       "      <td>135.000000</td>\n",
       "      <td>227.000000</td>\n",
       "    </tr>\n",
       "  </tbody>\n",
       "</table>\n",
       "</div>"
      ],
      "text/plain": [
       "          dep_delay     arr_delay\n",
       "count  91502.000000  91502.000000\n",
       "mean       9.956176      5.643308\n",
       "std       27.637826     31.450826\n",
       "min      -32.000000    -88.000000\n",
       "25%       -5.000000    -13.000000\n",
       "50%       -1.000000     -4.000000\n",
       "75%       12.000000     13.000000\n",
       "max      135.000000    227.000000"
      ]
     },
     "execution_count": 12,
     "metadata": {},
     "output_type": "execute_result"
    }
   ],
   "source": [
    "scr.check_normal_dist(df['arr_delay'])\n",
    "scr.check_normal_dist(df['dep_delay'])\n",
    "df.describe()"
   ]
  },
  {
   "cell_type": "markdown",
   "metadata": {},
   "source": [
    "These are much better. The mean trends closer to zeo, and the max values aren't nearly so bad. Though, it still skews positive, these numbers make more sense."
   ]
  },
  {
   "cell_type": "code",
   "execution_count": 18,
   "metadata": {},
   "outputs": [
    {
     "data": {
      "image/png": "[encoded data removed]",
      "text/plain": [
       "<Figure size 720x576 with 1 Axes>"
      ]
     },
     "metadata": {
      "needs_background": "dark"
     },
     "output_type": "display_data"
    }
   ],
   "source": [
    "scr.graph_eda('scatter', df['dep_delay'], df['arr_delay'], marker_size=1)"
   ]
  },
  {
   "cell_type": "markdown",
   "metadata": {},
   "source": [
    "#### **Task 2**: Is average/median monthly delay different during the year? If yes, which are months with the biggest delays and what could be the reason?"
   ]
  },
  {
   "cell_type": "code",
   "execution_count": null,
   "metadata": {},
   "outputs": [],
   "source": []
  },
  {
   "cell_type": "code",
   "execution_count": null,
   "metadata": {},
   "outputs": [],
   "source": []
  },
  {
   "cell_type": "markdown",
   "metadata": {},
   "source": [
    "#### **Task 3**: Does the weather affect the delay? \n",
    "Use the API to pull the weather information for flights. There is no need to get weather for ALL flights. We can choose the right representative sample. Let's focus on four weather types:\n",
    "- sunny\n",
    "- cloudy\n",
    "- rainy\n",
    "- snow.\n",
    "Test the hypothesis that these 4 delays are from the same distribution. If they are not, which ones are significantly different?"
   ]
  },
  {
   "cell_type": "code",
   "execution_count": null,
   "metadata": {},
   "outputs": [],
   "source": []
  },
  {
   "cell_type": "code",
   "execution_count": null,
   "metadata": {},
   "outputs": [],
   "source": []
  },
  {
   "cell_type": "markdown",
   "metadata": {},
   "source": [
    "#### **Task 4**: How taxi times changing during the day? Does higher traffic lead to bigger taxi times?"
   ]
  },
  {
   "cell_type": "code",
   "execution_count": null,
   "metadata": {},
   "outputs": [],
   "source": []
  },
  {
   "cell_type": "code",
   "execution_count": null,
   "metadata": {},
   "outputs": [],
   "source": []
  },
  {
   "cell_type": "markdown",
   "metadata": {},
   "source": [
    "#### **Task 5**: What is the average percentage of delays that is already created before departure? (aka are arrival delays caused by departure delays?) Are airlines able to lower the delay during the flights?"
   ]
  },
  {
   "cell_type": "code",
   "execution_count": null,
   "metadata": {},
   "outputs": [],
   "source": []
  },
  {
   "cell_type": "code",
   "execution_count": null,
   "metadata": {},
   "outputs": [],
   "source": []
  },
  {
   "cell_type": "markdown",
   "metadata": {},
   "source": [
    "#### **Task 6**: How many states cover 50% of US air traffic? "
   ]
  },
  {
   "cell_type": "code",
   "execution_count": null,
   "metadata": {},
   "outputs": [],
   "source": []
  },
  {
   "cell_type": "code",
   "execution_count": null,
   "metadata": {},
   "outputs": [],
   "source": []
  },
  {
   "cell_type": "markdown",
   "metadata": {},
   "source": [
    "#### **Task 7**: Test the hypothesis whether planes fly faster when there is the departure delay? "
   ]
  },
  {
   "cell_type": "code",
   "execution_count": null,
   "metadata": {},
   "outputs": [],
   "source": []
  },
  {
   "cell_type": "code",
   "execution_count": null,
   "metadata": {},
   "outputs": [],
   "source": []
  },
  {
   "cell_type": "markdown",
   "metadata": {},
   "source": [
    "#### **Task 8**: When (which hour) do most 'LONG', 'SHORT', 'MEDIUM' haul flights take off?"
   ]
  },
  {
   "cell_type": "code",
   "execution_count": null,
   "metadata": {},
   "outputs": [],
   "source": []
  },
  {
   "cell_type": "code",
   "execution_count": null,
   "metadata": {},
   "outputs": [],
   "source": []
  },
  {
   "cell_type": "markdown",
   "metadata": {},
   "source": [
    "#### **Task 9**: Find the top 10 the bussiest airports. Does the biggest number of flights mean that the biggest number of passengers went through the particular airport? How much traffic do these 10 airports cover?"
   ]
  },
  {
   "cell_type": "code",
   "execution_count": null,
   "metadata": {},
   "outputs": [],
   "source": []
  },
  {
   "cell_type": "code",
   "execution_count": null,
   "metadata": {},
   "outputs": [],
   "source": []
  },
  {
   "cell_type": "markdown",
   "metadata": {},
   "source": [
    "#### **Task 10**: Do bigger delays lead to bigger fuel comsumption per passenger? \n",
    "We need to do four things to answer this as accurate as possible:\n",
    "- Find out average monthly delay per air carrier (monthly delay is sum of all delays in 1 month)\n",
    "- Find out distance covered monthly by different air carriers\n",
    "- Find out number of passengers that were carried by different air carriers\n",
    "- Find out total fuel comsumption per air carrier.\n",
    "\n",
    "Use this information to get the average fuel comsumption per passenger per km. Is this higher for the airlines with bigger average delays?"
   ]
  },
  {
   "cell_type": "code",
   "execution_count": null,
   "metadata": {},
   "outputs": [],
   "source": []
  },
  {
   "cell_type": "code",
   "execution_count": null,
   "metadata": {},
   "outputs": [],
   "source": []
  }
 ],
 "metadata": {
  "interpreter": {
   "hash": "f6bdb6bebcaa6c165db367a86e382ae8df75f09257c40532b854029e0e3d706f"
  },
  "kernelspec": {
   "display_name": "Python 3 (ipykernel)",
   "language": "python",
   "name": "python3"
  },
  "language_info": {
   "codemirror_mode": {
    "name": "ipython",
    "version": 3
   },
   "file_extension": ".py",
   "mimetype": "text/x-python",
   "name": "python",
   "nbconvert_exporter": "python",
   "pygments_lexer": "ipython3",
   "version": "3.9.7"
  },
  "toc": {
   "base_numbering": 1,
   "nav_menu": {},
   "number_sections": true,
   "sideBar": true,
   "skip_h1_title": false,
   "title_cell": "Table of Contents",
   "title_sidebar": "Contents",
   "toc_cell": false,
   "toc_position": {},
   "toc_section_display": true,
   "toc_window_display": false
  },
  "varInspector": {
   "cols": {
    "lenName": 16,
    "lenType": 16,
    "lenVar": 40
   },
   "kernels_config": {
    "python": {
     "delete_cmd_postfix": "",
     "delete_cmd_prefix": "del ",
     "library": "var_list.py",
     "varRefreshCmd": "print(var_dic_list())"
    },
    "r": {
     "delete_cmd_postfix": ") ",
     "delete_cmd_prefix": "rm(",
     "library": "var_list.r",
     "varRefreshCmd": "cat(var_dic_list()) "
    }
   },
   "types_to_exclude": [
    "module",
    "function",
    "builtin_function_or_method",
    "instance",
    "_Feature"
   ],
   "window_display": false
  }
 },
 "nbformat": 4,
 "nbformat_minor": 4
}
