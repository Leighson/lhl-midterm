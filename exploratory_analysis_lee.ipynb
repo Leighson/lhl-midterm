{
 "cells": [
  {
   "cell_type": "markdown",
   "metadata": {},
   "source": [
    "## Exploratory Data Analysis\n",
    "\n",
    "Use this notebook to get familiar with the datasets we have. There is 10 questions we need to answer during the EDA.\n",
    "\n",
    "\n",
    "We shouldn't limit our EDA to these 10 questions. Let's be creative :)."
   ]
  },
  {
   "cell_type": "code",
   "execution_count": 1,
   "metadata": {},
   "outputs": [],
   "source": [
    "# import libraries\n",
    "import re\n",
    "import requests as req\n",
    "import numpy as np\n",
    "import pandas as pd\n",
    "import assets.script as sc\n",
    "import matplotlib.pyplot as plt\n",
    "import scipy.stats as stats\n",
    "import datetime as dt\n",
    "from calendar import Calendar\n",
    "%matplotlib inline"
   ]
  },
  {
   "cell_type": "code",
   "execution_count": 2,
   "metadata": {},
   "outputs": [],
   "source": [
    "# import sql library\n",
    "from psycopg2 import sql\n",
    "import psycopg2 as pg\n",
    "\n",
    "# define paths\n",
    "from pathlib import Path\n",
    "data_path = Path('./data')"
   ]
  },
  {
   "cell_type": "code",
   "execution_count": 3,
   "metadata": {},
   "outputs": [
    {
     "name": "stdout",
     "output_type": "stream",
     "text": [
      "flights\n",
      "flights_test\n",
      "fuel_comsumption\n",
      "pass_sample\n",
      "passengers\n",
      "sample\n",
      "temptable\n",
      "test_table\n"
     ]
    }
   ],
   "source": [
    "# display table names\n",
    "display_tables = sc.sql_read_tables()\n",
    "for tables in display_tables:\n",
    "    print(tables)"
   ]
  },
  {
   "cell_type": "code",
   "execution_count": 4,
   "metadata": {},
   "outputs": [
    {
     "name": "stdout",
     "output_type": "stream",
     "text": [
      "File exists. Returning DataFrame...\n",
      "File exists. Returning DataFrame...\n",
      "File exists. Returning DataFrame...\n",
      "File exists. Returning DataFrame...\n",
      "File exists. Returning DataFrame...\n",
      "File exists. Returning DataFrame...\n",
      "File exists. Returning DataFrame...\n",
      "File exists. Returning DataFrame...\n"
     ]
    }
   ],
   "source": [
    "# query for tables\n",
    "limit = 100000\n",
    "sample_size = '{}k'.format(int(limit/1000))\n",
    "\n",
    "\n",
    "for tables in display_tables:\n",
    "    query = sql.SQL(\n",
    "        \"SELECT * FROM {t} \\\n",
    "            LIMIT {l};\").format(\n",
    "            t = sql.Identifier(tables),\n",
    "            l = sql.Literal(limit)\n",
    "        )\n",
    "        \n",
    "    filename = '{}_{}_sample.csv'.format(tables, sample_size)\n",
    "    overwrite = False\n",
    "    \n",
    "    # sql call\n",
    "    df = sc.make_csv(query, filename, overwrite)"
   ]
  },
  {
   "cell_type": "code",
   "execution_count": 5,
   "metadata": {},
   "outputs": [],
   "source": [
    "# transfer sample of tables to dataframes\n",
    "df_flights = pd.read_csv(data_path / 'flights_{}_sample.csv'.format(sample_size))\n",
    "df_flights_test = pd.read_csv(data_path / 'flights_test_{}_sample.csv'.format(sample_size))\n",
    "df_fuel_comsumption = pd.read_csv(data_path / 'fuel_comsumption_{}_sample.csv'.format(sample_size))\n",
    "df_pass_sample = pd.read_csv(data_path / 'pass_sample_{}_sample.csv'.format(sample_size))\n",
    "df_passengers = pd.read_csv(data_path / 'passengers_{}_sample.csv'.format(sample_size))\n",
    "df_sample = pd.read_csv(data_path / 'sample_{}_sample.csv'.format(sample_size))\n",
    "df_test_table = pd.read_csv(data_path / 'test_table_{}_sample.csv'.format(sample_size))\n",
    "\n",
    "df_table_names = [df_flights, df_flights_test, df_fuel_comsumption, df_pass_sample, df_passengers, df_sample, df_test_table]"
   ]
  },
  {
   "cell_type": "markdown",
   "metadata": {},
   "source": [
    "#### **Task 1**: Test the hypothesis that the delay is from Normal distribution. and that **mean** of the delay is 0. Be careful about the outliers."
   ]
  },
  {
   "cell_type": "markdown",
   "metadata": {},
   "source": [
    "##### Look for columns describing delay"
   ]
  },
  {
   "cell_type": "code",
   "execution_count": 6,
   "metadata": {},
   "outputs": [
    {
     "data": {
      "text/plain": [
       "['dep_delay',\n",
       " 'arr_delay',\n",
       " 'carrier_delay',\n",
       " 'weather_delay',\n",
       " 'nas_delay',\n",
       " 'security_delay',\n",
       " 'late_aircraft_delay']"
      ]
     },
     "execution_count": 6,
     "metadata": {},
     "output_type": "execute_result"
    }
   ],
   "source": [
    "# search for columns that describe delays\n",
    "regex = r\"(.*delay.*)\"\n",
    "indices, results = sc.search_data(df_flights, regex)\n",
    "results"
   ]
  },
  {
   "cell_type": "markdown",
   "metadata": {},
   "source": [
    "##### Preliminary EDA"
   ]
  },
  {
   "cell_type": "code",
   "execution_count": 7,
   "metadata": {},
   "outputs": [
    {
     "name": "stdout",
     "output_type": "stream",
     "text": [
      "dep_delay               3133\n",
      "arr_delay               3723\n",
      "carrier_delay          73689\n",
      "weather_delay          73689\n",
      "nas_delay              73689\n",
      "security_delay         73689\n",
      "late_aircraft_delay    73689\n",
      "dtype: int64\n"
     ]
    }
   ],
   "source": [
    "print(df_flights[results].isnull().sum())\n",
    "# most delays appear to have many missing values; will ignore them for now"
   ]
  },
  {
   "cell_type": "code",
   "execution_count": 8,
   "metadata": {},
   "outputs": [
    {
     "name": "stdout",
     "output_type": "stream",
     "text": [
      "dep_delay    0\n",
      "arr_delay    0\n",
      "dtype: int64\n",
      "RangeIndex(start=0, stop=96277, step=1)\n"
     ]
    },
    {
     "data": {
      "text/html": [
       "<div>\n",
       "<style scoped>\n",
       "    .dataframe tbody tr th:only-of-type {\n",
       "        vertical-align: middle;\n",
       "    }\n",
       "\n",
       "    .dataframe tbody tr th {\n",
       "        vertical-align: top;\n",
       "    }\n",
       "\n",
       "    .dataframe thead th {\n",
       "        text-align: right;\n",
       "    }\n",
       "</style>\n",
       "<table border=\"1\" class=\"dataframe\">\n",
       "  <thead>\n",
       "    <tr style=\"text-align: right;\">\n",
       "      <th></th>\n",
       "      <th>dep_delay</th>\n",
       "      <th>arr_delay</th>\n",
       "    </tr>\n",
       "  </thead>\n",
       "  <tbody>\n",
       "    <tr>\n",
       "      <th>count</th>\n",
       "      <td>96277.000000</td>\n",
       "      <td>96277.000000</td>\n",
       "    </tr>\n",
       "    <tr>\n",
       "      <th>mean</th>\n",
       "      <td>21.840512</td>\n",
       "      <td>17.573450</td>\n",
       "    </tr>\n",
       "    <tr>\n",
       "      <th>std</th>\n",
       "      <td>68.435427</td>\n",
       "      <td>70.287878</td>\n",
       "    </tr>\n",
       "    <tr>\n",
       "      <th>min</th>\n",
       "      <td>-32.000000</td>\n",
       "      <td>-88.000000</td>\n",
       "    </tr>\n",
       "    <tr>\n",
       "      <th>25%</th>\n",
       "      <td>-5.000000</td>\n",
       "      <td>-13.000000</td>\n",
       "    </tr>\n",
       "    <tr>\n",
       "      <th>50%</th>\n",
       "      <td>-1.000000</td>\n",
       "      <td>-3.000000</td>\n",
       "    </tr>\n",
       "    <tr>\n",
       "      <th>75%</th>\n",
       "      <td>17.000000</td>\n",
       "      <td>18.000000</td>\n",
       "    </tr>\n",
       "    <tr>\n",
       "      <th>max</th>\n",
       "      <td>1615.000000</td>\n",
       "      <td>1597.000000</td>\n",
       "    </tr>\n",
       "  </tbody>\n",
       "</table>\n",
       "</div>"
      ],
      "text/plain": [
       "          dep_delay     arr_delay\n",
       "count  96277.000000  96277.000000\n",
       "mean      21.840512     17.573450\n",
       "std       68.435427     70.287878\n",
       "min      -32.000000    -88.000000\n",
       "25%       -5.000000    -13.000000\n",
       "50%       -1.000000     -3.000000\n",
       "75%       17.000000     18.000000\n",
       "max     1615.000000   1597.000000"
      ]
     },
     "execution_count": 8,
     "metadata": {},
     "output_type": "execute_result"
    }
   ],
   "source": [
    "# early arrivals|departures without null values\n",
    "df_flights_delay = df_flights[['dep_delay', 'arr_delay']].dropna().reset_index(drop=True)\n",
    "print(df_flights_delay.isnull().sum())\n",
    "print(df_flights_delay.index)\n",
    "df_flights_delay.describe()"
   ]
  },
  {
   "cell_type": "markdown",
   "metadata": {},
   "source": [
    "These numbers are terrible."
   ]
  },
  {
   "cell_type": "markdown",
   "metadata": {},
   "source": [
    "##### Check for normal distributions"
   ]
  },
  {
   "cell_type": "code",
   "execution_count": 9,
   "metadata": {},
   "outputs": [
    {
     "name": "stdout",
     "output_type": "stream",
     "text": [
      "Shapiro-Wilk Test\n",
      "-----------------\n",
      "Provided an alpha of 0.05, if p-value > alpha then the distribution can be assumed to be normal.\n",
      "This test prunes data to the first 5000 data points or \"head(5000)\" as reliability suffers with increasing samples.\n",
      "t-stat: 0.46445733308792114 , p-value: 0.0\n",
      "\n",
      "Anderson-Darling Test\n",
      "---------------------\n",
      "If the returned statistic > critical values then for the corresponding significance level,\n",
      "the null hypothesis that the data come from the chosen distribution can be rejected.\n",
      "t-stat: 16281.315486526786 , critical values: [0.576 0.656 0.787 0.918 1.092] , at significance levels of: [15.  10.   5.   2.5  1. ]\n",
      "\n",
      "Skewness and Kurtosis\n",
      "---------------------\n",
      "skewness, -ve skews left and +ve skews right (0 is best): 6.635684409030094\n",
      "kurtosis, tail spread (< 3 is best): 73.27290163045704\n"
     ]
    },
    {
     "data": {
      "image/png": "[encoded data removed]",
      "text/plain": [
       "<Figure size 720x576 with 1 Axes>"
      ]
     },
     "metadata": {
      "needs_background": "dark"
     },
     "output_type": "display_data"
    }
   ],
   "source": [
    "sc.check_normal_dist(df_flights_delay['dep_delay'])"
   ]
  },
  {
   "cell_type": "code",
   "execution_count": 10,
   "metadata": {},
   "outputs": [
    {
     "name": "stdout",
     "output_type": "stream",
     "text": [
      "Shapiro-Wilk Test\n",
      "-----------------\n",
      "Provided an alpha of 0.05, if p-value > alpha then the distribution can be assumed to be normal.\n",
      "This test prunes data to the first 5000 data points or \"head(5000)\" as reliability suffers with increasing samples.\n",
      "t-stat: 0.5947854518890381 , p-value: 0.0\n",
      "\n",
      "Anderson-Darling Test\n",
      "---------------------\n",
      "If the returned statistic > critical values then for the corresponding significance level,\n",
      "the null hypothesis that the data come from the chosen distribution can be rejected.\n",
      "t-stat: 12638.842786035922 , critical values: [0.576 0.656 0.787 0.918 1.092] , at significance levels of: [15.  10.   5.   2.5  1. ]\n",
      "\n",
      "Skewness and Kurtosis\n",
      "---------------------\n",
      "skewness, -ve skews left and +ve skews right (0 is best): 6.209374232134813\n",
      "kurtosis, tail spread (< 3 is best): 66.36765450338011\n"
     ]
    },
    {
     "data": {
      "image/png": "[encoded data removed]",
      "text/plain": [
       "<Figure size 720x576 with 1 Axes>"
      ]
     },
     "metadata": {
      "needs_background": "dark"
     },
     "output_type": "display_data"
    }
   ],
   "source": [
    "sc.check_normal_dist(df_flights_delay['arr_delay'], bins=50)"
   ]
  },
  {
   "cell_type": "markdown",
   "metadata": {},
   "source": [
    "These are really not normal. Also, extremely skewed."
   ]
  },
  {
   "cell_type": "markdown",
   "metadata": {},
   "source": [
    "##### Filter outliers and redo the normal distribution checks"
   ]
  },
  {
   "cell_type": "code",
   "execution_count": 11,
   "metadata": {},
   "outputs": [],
   "source": [
    "df = sc.filter_outliers(df_flights_delay, df_flights_delay['arr_delay'])\n",
    "df.reset_index(inplace=True, drop=True)\n",
    "df = sc.filter_outliers(df, df['dep_delay'])"
   ]
  },
  {
   "cell_type": "code",
   "execution_count": 12,
   "metadata": {},
   "outputs": [
    {
     "name": "stdout",
     "output_type": "stream",
     "text": [
      "Shapiro-Wilk Test\n",
      "-----------------\n",
      "Provided an alpha of 0.05, if p-value > alpha then the distribution can be assumed to be normal.\n",
      "This test prunes data to the first 5000 data points or \"head(5000)\" as reliability suffers with increasing samples.\n",
      "t-stat: 0.8135808706283569 , p-value: 0.0\n",
      "\n",
      "Anderson-Darling Test\n",
      "---------------------\n",
      "If the returned statistic > critical values then for the corresponding significance level,\n",
      "the null hypothesis that the data come from the chosen distribution can be rejected.\n",
      "t-stat: 5865.607979487759 , critical values: [0.576 0.656 0.787 0.918 1.092] , at significance levels of: [15.  10.   5.   2.5  1. ]\n",
      "\n",
      "Skewness and Kurtosis\n",
      "---------------------\n",
      "skewness, -ve skews left and +ve skews right (0 is best): 1.9776802142480534\n",
      "kurtosis, tail spread (< 3 is best): 4.470678047775033\n"
     ]
    },
    {
     "data": {
      "image/png": "[encoded data removed]",
      "text/plain": [
       "<Figure size 720x576 with 1 Axes>"
      ]
     },
     "metadata": {
      "needs_background": "dark"
     },
     "output_type": "display_data"
    },
    {
     "name": "stdout",
     "output_type": "stream",
     "text": [
      "Shapiro-Wilk Test\n",
      "-----------------\n",
      "Provided an alpha of 0.05, if p-value > alpha then the distribution can be assumed to be normal.\n",
      "This test prunes data to the first 5000 data points or \"head(5000)\" as reliability suffers with increasing samples.\n",
      "t-stat: 0.6654062867164612 , p-value: 0.0\n",
      "\n",
      "Anderson-Darling Test\n",
      "---------------------\n",
      "If the returned statistic > critical values then for the corresponding significance level,\n",
      "the null hypothesis that the data come from the chosen distribution can be rejected.\n",
      "t-stat: 10910.59739584144 , critical values: [0.576 0.656 0.787 0.918 1.092] , at significance levels of: [15.  10.   5.   2.5  1. ]\n",
      "\n",
      "Skewness and Kurtosis\n",
      "---------------------\n",
      "skewness, -ve skews left and +ve skews right (0 is best): 2.32689942902098\n",
      "kurtosis, tail spread (< 3 is best): 5.215487610741231\n"
     ]
    },
    {
     "data": {
      "image/png": "[encoded data removed]",
      "text/plain": [
       "<Figure size 720x576 with 1 Axes>"
      ]
     },
     "metadata": {
      "needs_background": "dark"
     },
     "output_type": "display_data"
    },
    {
     "data": {
      "text/html": [
       "<div>\n",
       "<style scoped>\n",
       "    .dataframe tbody tr th:only-of-type {\n",
       "        vertical-align: middle;\n",
       "    }\n",
       "\n",
       "    .dataframe tbody tr th {\n",
       "        vertical-align: top;\n",
       "    }\n",
       "\n",
       "    .dataframe thead th {\n",
       "        text-align: right;\n",
       "    }\n",
       "</style>\n",
       "<table border=\"1\" class=\"dataframe\">\n",
       "  <thead>\n",
       "    <tr style=\"text-align: right;\">\n",
       "      <th></th>\n",
       "      <th>dep_delay</th>\n",
       "      <th>arr_delay</th>\n",
       "    </tr>\n",
       "  </thead>\n",
       "  <tbody>\n",
       "    <tr>\n",
       "      <th>count</th>\n",
       "      <td>91502.000000</td>\n",
       "      <td>91502.000000</td>\n",
       "    </tr>\n",
       "    <tr>\n",
       "      <th>mean</th>\n",
       "      <td>9.956176</td>\n",
       "      <td>5.643308</td>\n",
       "    </tr>\n",
       "    <tr>\n",
       "      <th>std</th>\n",
       "      <td>27.637826</td>\n",
       "      <td>31.450826</td>\n",
       "    </tr>\n",
       "    <tr>\n",
       "      <th>min</th>\n",
       "      <td>-32.000000</td>\n",
       "      <td>-88.000000</td>\n",
       "    </tr>\n",
       "    <tr>\n",
       "      <th>25%</th>\n",
       "      <td>-5.000000</td>\n",
       "      <td>-13.000000</td>\n",
       "    </tr>\n",
       "    <tr>\n",
       "      <th>50%</th>\n",
       "      <td>-1.000000</td>\n",
       "      <td>-4.000000</td>\n",
       "    </tr>\n",
       "    <tr>\n",
       "      <th>75%</th>\n",
       "      <td>12.000000</td>\n",
       "      <td>13.000000</td>\n",
       "    </tr>\n",
       "    <tr>\n",
       "      <th>max</th>\n",
       "      <td>135.000000</td>\n",
       "      <td>227.000000</td>\n",
       "    </tr>\n",
       "  </tbody>\n",
       "</table>\n",
       "</div>"
      ],
      "text/plain": [
       "          dep_delay     arr_delay\n",
       "count  91502.000000  91502.000000\n",
       "mean       9.956176      5.643308\n",
       "std       27.637826     31.450826\n",
       "min      -32.000000    -88.000000\n",
       "25%       -5.000000    -13.000000\n",
       "50%       -1.000000     -4.000000\n",
       "75%       12.000000     13.000000\n",
       "max      135.000000    227.000000"
      ]
     },
     "execution_count": 12,
     "metadata": {},
     "output_type": "execute_result"
    }
   ],
   "source": [
    "sc.check_normal_dist(df['arr_delay'])\n",
    "sc.check_normal_dist(df['dep_delay'])\n",
    "df.describe()"
   ]
  },
  {
   "cell_type": "markdown",
   "metadata": {},
   "source": [
    "These are much better. The mean trends closer to zeo, and the max values aren't nearly so bad. Though, it still skews positive, these numbers make more sense."
   ]
  },
  {
   "cell_type": "code",
   "execution_count": 13,
   "metadata": {},
   "outputs": [
    {
     "data": {
      "image/png": "[encoded data removed]",
      "text/plain": [
       "<Figure size 720x576 with 1 Axes>"
      ]
     },
     "metadata": {
      "needs_background": "dark"
     },
     "output_type": "display_data"
    }
   ],
   "source": [
    "sc.graph_eda('scatter', df['arr_delay'], df['dep_delay'], marker_size=1)"
   ]
  },
  {
   "cell_type": "markdown",
   "metadata": {},
   "source": [
    "There appears to be a correlation between the two, arr_delay and dep_delay. What's interesting is that the effect of departure delays on arrival delays appear to be wide one way. Arrival delay is less correlated to departure than the other way around."
   ]
  },
  {
   "cell_type": "markdown",
   "metadata": {},
   "source": [
    "#### **Task 2**: Is average/median monthly delay different during the year? If yes, which are months with the biggest delays and what could be the reason?"
   ]
  },
  {
   "cell_type": "markdown",
   "metadata": {},
   "source": [
    "##### Define a function that takes samples per time period"
   ]
  },
  {
   "cell_type": "code",
   "execution_count": 14,
   "metadata": {},
   "outputs": [
    {
     "name": "stdout",
     "output_type": "stream",
     "text": [
      "['fl_date']\n",
      "['fl_date']\n",
      "[]\n",
      "[]\n",
      "[]\n",
      "['fl_date']\n",
      "['fl_date']\n"
     ]
    }
   ],
   "source": [
    "# search for columns that describe delays\n",
    "regex = r\"(.*date.*)\"\n",
    "\n",
    "for i, table in enumerate(df_table_names):\n",
    "    indices, results = sc.search_data(table, regex)\n",
    "    # print(i)\n",
    "    # print(indices)\n",
    "    print(results)"
   ]
  },
  {
   "cell_type": "markdown",
   "metadata": {},
   "source": [
    "Only one column with associated dates. Take 100k samples from each month."
   ]
  },
  {
   "cell_type": "code",
   "execution_count": 15,
   "metadata": {},
   "outputs": [
    {
     "name": "stdout",
     "output_type": "stream",
     "text": [
      "File exists. Returning DataFrame...\n",
      "File exists. Returning DataFrame...\n",
      "File exists. Returning DataFrame...\n",
      "File exists. Returning DataFrame...\n",
      "File exists. Returning DataFrame...\n",
      "File exists. Returning DataFrame...\n",
      "File exists. Returning DataFrame...\n",
      "File exists. Returning DataFrame...\n",
      "File exists. Returning DataFrame...\n",
      "File exists. Returning DataFrame...\n",
      "File exists. Returning DataFrame...\n",
      "File exists. Returning DataFrame...\n"
     ]
    }
   ],
   "source": [
    "df_flights_by_month = []\n",
    "\n",
    "for i in range(0,12):\n",
    "    df_flights_by_month.append(sc.sql_search_date(table='flights', y=2019, m=i+1).sort_values(by='fl_date'))"
   ]
  },
  {
   "cell_type": "code",
   "execution_count": 16,
   "metadata": {},
   "outputs": [
    {
     "name": "stdout",
     "output_type": "stream",
     "text": [
      "        fl_date mkt_unique_carrier branded_code_share mkt_carrier  \\\n",
      "454  2019-01-01                 AA                 AA          AA   \n",
      "34   2019-01-01                 DL       DL_CODESHARE          DL   \n",
      "800  2019-01-01                 AA                 AA          AA   \n",
      "474  2019-01-01                 AA       AA_CODESHARE          AA   \n",
      "46   2019-01-01                 WN                 WN          WN   \n",
      "..          ...                ...                ...         ...   \n",
      "264  2019-01-31                 AA       AA_CODESHARE          AA   \n",
      "244  2019-01-31                 UA       UA_CODESHARE          UA   \n",
      "177  2019-01-31                 AA                 AA          AA   \n",
      "635  2019-01-31                 UA       UA_CODESHARE          UA   \n",
      "0    2019-01-31                 UA       UA_CODESHARE          UA   \n",
      "\n",
      "     mkt_carrier_fl_num op_unique_carrier tail_num  op_carrier_fl_num  \\\n",
      "454                2522                AA   N836NN               2522   \n",
      "34                 5229                9E   N232PQ               5229   \n",
      "800                1917                AA   N723UW               1917   \n",
      "474                2994                OO   N746SK               2994   \n",
      "46                 2136                WN   N7824A               2136   \n",
      "..                  ...               ...      ...                ...   \n",
      "264                3478                MQ   N527EA               3478   \n",
      "244                4392                EV   N13903               4392   \n",
      "177                2018                AA   N102UW               2018   \n",
      "635                5718                OO   N976SW               5718   \n",
      "0                  5360                OO   N120SY               5360   \n",
      "\n",
      "     origin_airport_id origin  ... distance  carrier_delay weather_delay  \\\n",
      "454              14747    SEA  ...   2422.0            NaN           NaN   \n",
      "34               11433    DTW  ...   1149.0            0.0           0.0   \n",
      "800              13931    ORF  ...    290.0            NaN           NaN   \n",
      "474              14107    PHX  ...    119.0            NaN           NaN   \n",
      "46               12889    LAS  ...    628.0            NaN           NaN   \n",
      "..                 ...    ...  ...      ...            ...           ...   \n",
      "264              13930    ORD  ...    315.0            NaN           NaN   \n",
      "244              12266    IAH  ...    562.0            NaN           NaN   \n",
      "177              14492    RDU  ...    337.0            NaN           NaN   \n",
      "635              14489    RDM  ...    462.0            0.0           0.0   \n",
      "0                13930    ORD  ...   1437.0            NaN           NaN   \n",
      "\n",
      "    nas_delay  security_delay  late_aircraft_delay  first_dep_time  \\\n",
      "454       NaN             NaN                  NaN             NaN   \n",
      "34       60.0             0.0                  0.0             NaN   \n",
      "800       NaN             NaN                  NaN             NaN   \n",
      "474       NaN             NaN                  NaN             NaN   \n",
      "46        NaN             NaN                  NaN             NaN   \n",
      "..        ...             ...                  ...             ...   \n",
      "264       NaN             NaN                  NaN             NaN   \n",
      "244       NaN             NaN                  NaN             NaN   \n",
      "177       NaN             NaN                  NaN             NaN   \n",
      "635       0.0             0.0                190.0             NaN   \n",
      "0         NaN             NaN                  NaN             NaN   \n",
      "\n",
      "     total_add_gtime  longest_add_gtime  no_name  \n",
      "454              NaN                NaN      NaN  \n",
      "34               NaN                NaN      NaN  \n",
      "800              NaN                NaN      NaN  \n",
      "474              NaN                NaN      NaN  \n",
      "46               NaN                NaN      NaN  \n",
      "..               ...                ...      ...  \n",
      "264              NaN                NaN      NaN  \n",
      "244              NaN                NaN      NaN  \n",
      "177              NaN                NaN      NaN  \n",
      "635              NaN                NaN      NaN  \n",
      "0                NaN                NaN      NaN  \n",
      "\n",
      "[1000 rows x 42 columns]\n",
      "        fl_date mkt_unique_carrier branded_code_share mkt_carrier  \\\n",
      "651  2019-02-01                 WN                 WN          WN   \n",
      "579  2019-02-01                 WN                 WN          WN   \n",
      "714  2019-02-01                 WN                 WN          WN   \n",
      "904  2019-02-01                 WN                 WN          WN   \n",
      "929  2019-02-01                 WN                 WN          WN   \n",
      "..          ...                ...                ...         ...   \n",
      "961  2019-02-28                 DL       DL_CODESHARE          DL   \n",
      "130  2019-02-28                 AA                 AA          AA   \n",
      "604  2019-02-28                 AA       AA_CODESHARE          AA   \n",
      "584  2019-02-28                 AA                 AA          AA   \n",
      "349  2019-02-28                 UA                 UA          UA   \n",
      "\n",
      "     mkt_carrier_fl_num op_unique_carrier tail_num  op_carrier_fl_num  \\\n",
      "651                2153                WN   N246LV               2153   \n",
      "579                1086                WN   N8569Z               1086   \n",
      "714                 343                WN   N263WN                343   \n",
      "904                 555                WN   N7833A                555   \n",
      "929                2005                WN   N420WN               2005   \n",
      "..                  ...               ...      ...                ...   \n",
      "961                3299                9E   N8836A               3299   \n",
      "130                2144                AA   N947UW               2144   \n",
      "604                5987                YV   N957LR               5987   \n",
      "584                 245                AA   N120EE                245   \n",
      "349                 520                UA   N468UA                520   \n",
      "\n",
      "     origin_airport_id origin  ... distance  carrier_delay weather_delay  \\\n",
      "651              12892    LAX  ...    337.0            NaN           NaN   \n",
      "579              13891    ONT  ...    819.0            NaN           NaN   \n",
      "714              10140    ABQ  ...   1121.0            NaN           NaN   \n",
      "904              14893    SMF  ...   1481.0            NaN           NaN   \n",
      "929              10821    BWI  ...    516.0            0.0           0.0   \n",
      "..                 ...    ...  ...      ...            ...           ...   \n",
      "961              11150    CSG  ...     83.0            NaN           NaN   \n",
      "130              11278    DCA  ...    399.0            0.0           7.0   \n",
      "604              11298    DFW  ...    569.0            0.0          49.0   \n",
      "584              13930    ORD  ...   1744.0            NaN           NaN   \n",
      "349              13930    ORD  ...    836.0            NaN           NaN   \n",
      "\n",
      "    nas_delay  security_delay  late_aircraft_delay  first_dep_time  \\\n",
      "651       NaN             NaN                  NaN             NaN   \n",
      "579       NaN             NaN                  NaN             NaN   \n",
      "714       NaN             NaN                  NaN             NaN   \n",
      "904       NaN             NaN                  NaN             NaN   \n",
      "929       7.0             0.0                145.0             NaN   \n",
      "..        ...             ...                  ...             ...   \n",
      "961       NaN             NaN                  NaN             NaN   \n",
      "130       0.0             0.0                 37.0             NaN   \n",
      "604      33.0             0.0                  0.0             NaN   \n",
      "584       NaN             NaN                  NaN             NaN   \n",
      "349       NaN             NaN                  NaN             NaN   \n",
      "\n",
      "     total_add_gtime  longest_add_gtime  no_name  \n",
      "651              NaN                NaN      NaN  \n",
      "579              NaN                NaN      NaN  \n",
      "714              NaN                NaN      NaN  \n",
      "904              NaN                NaN      NaN  \n",
      "929              NaN                NaN      NaN  \n",
      "..               ...                ...      ...  \n",
      "961              NaN                NaN      NaN  \n",
      "130              NaN                NaN      NaN  \n",
      "604              NaN                NaN      NaN  \n",
      "584              NaN                NaN      NaN  \n",
      "349              NaN                NaN      NaN  \n",
      "\n",
      "[1000 rows x 42 columns]\n",
      "        fl_date mkt_unique_carrier branded_code_share mkt_carrier  \\\n",
      "109  2019-03-01                 UA                 UA          UA   \n",
      "329  2019-03-01                 AA                 AA          AA   \n",
      "795  2019-03-01                 AA       AA_CODESHARE          AA   \n",
      "866  2019-03-01                 DL                 DL          DL   \n",
      "243  2019-03-01                 UA       UA_CODESHARE          UA   \n",
      "..          ...                ...                ...         ...   \n",
      "46   2019-03-31                 AA                 AA          AA   \n",
      "575  2019-03-31                 WN                 WN          WN   \n",
      "973  2019-03-31                 DL       DL_CODESHARE          DL   \n",
      "289  2019-03-31                 AA       AA_CODESHARE          AA   \n",
      "457  2019-03-31                 AA       AA_CODESHARE          AA   \n",
      "\n",
      "     mkt_carrier_fl_num op_unique_carrier tail_num  op_carrier_fl_num  \\\n",
      "109                2075                UA   N468UA               2075   \n",
      "329                2043                AA   N951UW               2043   \n",
      "795                4897                PT   N644AE               4897   \n",
      "866                1766                DL   N985AT               1766   \n",
      "243                4995                C5   N11193               4995   \n",
      "..                  ...               ...      ...                ...   \n",
      "46                  244                AA   N980AN                244   \n",
      "575                 756                WN   N7732A                756   \n",
      "973                4163                OO   N446SW               4163   \n",
      "289                5970                YV   N931LR               5970   \n",
      "457                4627                YX   N419YX               4627   \n",
      "\n",
      "     origin_airport_id origin  ... distance  carrier_delay weather_delay  \\\n",
      "109              14683    SAT  ...   1041.0            NaN           NaN   \n",
      "329              12953    LGA  ...    762.0            NaN           NaN   \n",
      "795              14711    SCE  ...    153.0            NaN           NaN   \n",
      "866              13232    MDW  ...    591.0            NaN           NaN   \n",
      "243              12451    JAX  ...    630.0            NaN           NaN   \n",
      "..                 ...    ...  ...      ...            ...           ...   \n",
      "46               11697    FLL  ...   1119.0            NaN           NaN   \n",
      "575              13198    MCI  ...    533.0            NaN           NaN   \n",
      "973              15607    VLD  ...    208.0            NaN           NaN   \n",
      "289              13158    MAF  ...    309.0            NaN           NaN   \n",
      "457              13303    MIA  ...   1013.0            0.0           0.0   \n",
      "\n",
      "    nas_delay  security_delay  late_aircraft_delay  first_dep_time  \\\n",
      "109       NaN             NaN                  NaN             NaN   \n",
      "329       NaN             NaN                  NaN             NaN   \n",
      "795       NaN             NaN                  NaN             NaN   \n",
      "866       NaN             NaN                  NaN             NaN   \n",
      "243       NaN             NaN                  NaN             NaN   \n",
      "..        ...             ...                  ...             ...   \n",
      "46        NaN             NaN                  NaN             NaN   \n",
      "575       NaN             NaN                  NaN             NaN   \n",
      "973       NaN             NaN                  NaN             NaN   \n",
      "289       NaN             NaN                  NaN             NaN   \n",
      "457      22.0             0.0                  0.0             NaN   \n",
      "\n",
      "     total_add_gtime  longest_add_gtime  no_name  \n",
      "109              NaN                NaN      NaN  \n",
      "329              NaN                NaN      NaN  \n",
      "795              NaN                NaN      NaN  \n",
      "866              NaN                NaN      NaN  \n",
      "243              NaN                NaN      NaN  \n",
      "..               ...                ...      ...  \n",
      "46               NaN                NaN      NaN  \n",
      "575              NaN                NaN      NaN  \n",
      "973              NaN                NaN      NaN  \n",
      "289              NaN                NaN      NaN  \n",
      "457              NaN                NaN      NaN  \n",
      "\n",
      "[1000 rows x 42 columns]\n",
      "        fl_date mkt_unique_carrier branded_code_share mkt_carrier  \\\n",
      "443  2019-04-01                 UA                 UA          UA   \n",
      "528  2019-04-01                 UA       UA_CODESHARE          UA   \n",
      "869  2019-04-01                 AA       AA_CODESHARE          AA   \n",
      "212  2019-04-01                 WN                 WN          WN   \n",
      "364  2019-04-01                 AA                 AA          AA   \n",
      "..          ...                ...                ...         ...   \n",
      "822  2019-04-30                 UA       UA_CODESHARE          UA   \n",
      "924  2019-04-30                 WN                 WN          WN   \n",
      "423  2019-04-30                 DL       DL_CODESHARE          DL   \n",
      "851  2019-04-30                 WN                 WN          WN   \n",
      "734  2019-04-30                 AA                 AA          AA   \n",
      "\n",
      "     mkt_carrier_fl_num op_unique_carrier tail_num  op_carrier_fl_num  \\\n",
      "443                1842                UA   N62894               1842   \n",
      "528                4601                AX   N13132               4601   \n",
      "869                4512                YX   N446YX               4512   \n",
      "212                2326                WN   N240WN               2326   \n",
      "364                2119                AA   N764US               2119   \n",
      "..                  ...               ...      ...                ...   \n",
      "822                3683                YX   N752YX               3683   \n",
      "924                 459                WN   N742SW                459   \n",
      "423                6234                G7   N182GJ               6234   \n",
      "851                 996                WN   N733SA                996   \n",
      "734                2037                AA   N713UW               2037   \n",
      "\n",
      "     origin_airport_id origin  ... distance  carrier_delay weather_delay  \\\n",
      "443              12266    IAH  ...   1379.0            NaN           NaN   \n",
      "528              10627    BIS  ...    516.0            NaN           NaN   \n",
      "869              13303    MIA  ...    530.0            1.0           0.0   \n",
      "212              14057    PDX  ...   1009.0            NaN           NaN   \n",
      "364              11278    DCA  ...    399.0            NaN           NaN   \n",
      "..                 ...    ...  ...      ...            ...           ...   \n",
      "822              11618    EWR  ...    282.0            NaN           NaN   \n",
      "924              14869    SLC  ...    391.0            NaN           NaN   \n",
      "423              11433    DTW  ...    615.0            NaN           NaN   \n",
      "851              13232    MDW  ...    793.0            NaN           NaN   \n",
      "734              11057    CLT  ...    808.0            NaN           NaN   \n",
      "\n",
      "    nas_delay  security_delay  late_aircraft_delay  first_dep_time  \\\n",
      "443       NaN             NaN                  NaN             NaN   \n",
      "528       NaN             NaN                  NaN             NaN   \n",
      "869       7.0             0.0                 37.0             NaN   \n",
      "212       NaN             NaN                  NaN             NaN   \n",
      "364       NaN             NaN                  NaN             NaN   \n",
      "..        ...             ...                  ...             ...   \n",
      "822       NaN             NaN                  NaN             NaN   \n",
      "924       NaN             NaN                  NaN             NaN   \n",
      "423       NaN             NaN                  NaN             NaN   \n",
      "851       NaN             NaN                  NaN             NaN   \n",
      "734       NaN             NaN                  NaN             NaN   \n",
      "\n",
      "     total_add_gtime  longest_add_gtime  no_name  \n",
      "443              NaN                NaN      NaN  \n",
      "528              NaN                NaN      NaN  \n",
      "869              NaN                NaN      NaN  \n",
      "212              NaN                NaN      NaN  \n",
      "364              NaN                NaN      NaN  \n",
      "..               ...                ...      ...  \n",
      "822              NaN                NaN      NaN  \n",
      "924              NaN                NaN      NaN  \n",
      "423              NaN                NaN      NaN  \n",
      "851              NaN                NaN      NaN  \n",
      "734              NaN                NaN      NaN  \n",
      "\n",
      "[1000 rows x 42 columns]\n",
      "        fl_date mkt_unique_carrier branded_code_share mkt_carrier  \\\n",
      "999  2019-05-01                 NK                 NK          NK   \n",
      "493  2019-05-01                 UA       UA_CODESHARE          UA   \n",
      "495  2019-05-01                 AA       AA_CODESHARE          AA   \n",
      "790  2019-05-01                 AA       AA_CODESHARE          AA   \n",
      "896  2019-05-01                 UA                 UA          UA   \n",
      "..          ...                ...                ...         ...   \n",
      "382  2019-05-31                 AA       AA_CODESHARE          AA   \n",
      "511  2019-05-31                 AS                 AS          AS   \n",
      "631  2019-05-31                 AA                 AA          AA   \n",
      "357  2019-05-31                 B6                 B6          B6   \n",
      "466  2019-05-31                 DL       DL_CODESHARE          DL   \n",
      "\n",
      "     mkt_carrier_fl_num op_unique_carrier tail_num  op_carrier_fl_num  \\\n",
      "999                 533                NK   N645NK                533   \n",
      "493                5222                OO   N206SY               5222   \n",
      "495                6087                CP   N200NN               6087   \n",
      "790                5421                OH   N556NN               5421   \n",
      "896                 556                UA   N37456                556   \n",
      "..                  ...               ...      ...                ...   \n",
      "382                3232                OO   N760EV               3232   \n",
      "511                 521                AS   N560AS                521   \n",
      "631                2513                AA   N358PW               2513   \n",
      "357                1990                B6   N507JT               1990   \n",
      "466                3528                OO   N936EV               3528   \n",
      "\n",
      "     origin_airport_id origin  ... distance  carrier_delay weather_delay  \\\n",
      "999              12339    IND  ...   1590.0            NaN           NaN   \n",
      "493              10693    BNA  ...   1014.0            NaN           NaN   \n",
      "495              11292    DEN  ...    862.0            NaN           NaN   \n",
      "790              11423    DSM  ...    815.0            NaN           NaN   \n",
      "896              13930    ORD  ...    783.0            NaN           NaN   \n",
      "..                 ...    ...  ...      ...            ...           ...   \n",
      "382              14696    SBN  ...    846.0            NaN           NaN   \n",
      "511              14908    SNA  ...    859.0            NaN           NaN   \n",
      "631              13495    MSY  ...    836.0            NaN           NaN   \n",
      "357              14843    SJU  ...   1608.0            NaN           NaN   \n",
      "466              10397    ATL  ...    147.0            NaN           NaN   \n",
      "\n",
      "    nas_delay  security_delay  late_aircraft_delay  first_dep_time  \\\n",
      "999       NaN             NaN                  NaN             NaN   \n",
      "493       NaN             NaN                  NaN             NaN   \n",
      "495       NaN             NaN                  NaN             NaN   \n",
      "790       NaN             NaN                  NaN             NaN   \n",
      "896       NaN             NaN                  NaN             NaN   \n",
      "..        ...             ...                  ...             ...   \n",
      "382       NaN             NaN                  NaN             NaN   \n",
      "511       NaN             NaN                  NaN             NaN   \n",
      "631       NaN             NaN                  NaN             NaN   \n",
      "357       NaN             NaN                  NaN             NaN   \n",
      "466       NaN             NaN                  NaN             NaN   \n",
      "\n",
      "     total_add_gtime  longest_add_gtime  no_name  \n",
      "999              NaN                NaN      NaN  \n",
      "493              NaN                NaN      NaN  \n",
      "495              NaN                NaN      NaN  \n",
      "790              NaN                NaN      NaN  \n",
      "896              NaN                NaN      NaN  \n",
      "..               ...                ...      ...  \n",
      "382              NaN                NaN      NaN  \n",
      "511              NaN                NaN      NaN  \n",
      "631              NaN                NaN      NaN  \n",
      "357              NaN                NaN      NaN  \n",
      "466              NaN                NaN      NaN  \n",
      "\n",
      "[1000 rows x 42 columns]\n",
      "        fl_date mkt_unique_carrier branded_code_share mkt_carrier  \\\n",
      "619  2019-06-01                 AS                 AS          AS   \n",
      "699  2019-06-01                 UA                 UA          UA   \n",
      "469  2019-06-01                 DL       DL_CODESHARE          DL   \n",
      "549  2019-06-01                 WN                 WN          WN   \n",
      "358  2019-06-01                 AA       AA_CODESHARE          AA   \n",
      "..          ...                ...                ...         ...   \n",
      "422  2019-06-30                 UA       UA_CODESHARE          UA   \n",
      "707  2019-06-30                 DL                 DL          DL   \n",
      "466  2019-06-30                 AA                 AA          AA   \n",
      "665  2019-06-30                 UA                 UA          UA   \n",
      "499  2019-06-30                 WN                 WN          WN   \n",
      "\n",
      "     mkt_carrier_fl_num op_unique_carrier tail_num  op_carrier_fl_num  \\\n",
      "619                 604                AS   N596AS                604   \n",
      "699                 613                UA   N34455                613   \n",
      "469                3294                9E   N313PQ               3294   \n",
      "549                4365                WN   N8324A               4365   \n",
      "358                5773                YV   N951LR               5773   \n",
      "..                  ...               ...      ...                ...   \n",
      "422                4309                EV   N12564               4309   \n",
      "707                1928                DL   N324NB               1928   \n",
      "466                2459                AA   N142AN               2459   \n",
      "665                 216                UA   N896UA                216   \n",
      "499                5661                WN   N554WN               5661   \n",
      "\n",
      "     origin_airport_id origin  ... distance  carrier_delay weather_delay  \\\n",
      "619              14679    SAN  ...    480.0            NaN           NaN   \n",
      "699              13930    ORD  ...    719.0            0.0           0.0   \n",
      "469              12478    JFK  ...    264.0            NaN           NaN   \n",
      "549              13198    MCI  ...    666.0            NaN           NaN   \n",
      "358              10994    CHS  ...    987.0            2.0           0.0   \n",
      "..                 ...    ...  ...      ...            ...           ...   \n",
      "422              13422    MOB  ...    427.0            NaN           NaN   \n",
      "707              13487    MSP  ...    887.0            NaN           NaN   \n",
      "466              11298    DFW  ...   1235.0           71.0           0.0   \n",
      "665              10849    BZN  ...   1186.0            0.0           0.0   \n",
      "499              12892    LAX  ...    308.0            NaN           NaN   \n",
      "\n",
      "    nas_delay  security_delay  late_aircraft_delay  first_dep_time  \\\n",
      "619       NaN             NaN                  NaN             NaN   \n",
      "699      42.0             0.0                  0.0             NaN   \n",
      "469       NaN             NaN                  NaN             NaN   \n",
      "549       NaN             NaN                  NaN             NaN   \n",
      "358      80.0             0.0                  2.0             NaN   \n",
      "..        ...             ...                  ...             ...   \n",
      "422       NaN             NaN                  NaN             NaN   \n",
      "707       NaN             NaN                  NaN             NaN   \n",
      "466       0.0             0.0                  0.0             NaN   \n",
      "665       5.0             0.0                123.0             NaN   \n",
      "499       NaN             NaN                  NaN             NaN   \n",
      "\n",
      "     total_add_gtime  longest_add_gtime  no_name  \n",
      "619              NaN                NaN      NaN  \n",
      "699              NaN                NaN      NaN  \n",
      "469              NaN                NaN      NaN  \n",
      "549              NaN                NaN      NaN  \n",
      "358              NaN                NaN      NaN  \n",
      "..               ...                ...      ...  \n",
      "422              NaN                NaN      NaN  \n",
      "707              NaN                NaN      NaN  \n",
      "466              NaN                NaN      NaN  \n",
      "665              NaN                NaN      NaN  \n",
      "499              NaN                NaN      NaN  \n",
      "\n",
      "[1000 rows x 42 columns]\n",
      "        fl_date mkt_unique_carrier branded_code_share mkt_carrier  \\\n",
      "91   2019-07-01                 UA                 UA          UA   \n",
      "886  2019-07-01                 DL                 DL          DL   \n",
      "926  2019-07-01                 WN                 WN          WN   \n",
      "598  2019-07-01                 WN                 WN          WN   \n",
      "697  2019-07-01                 UA       UA_CODESHARE          UA   \n",
      "..          ...                ...                ...         ...   \n",
      "150  2019-07-31                 UA       UA_CODESHARE          UA   \n",
      "728  2019-07-31                 UA                 UA          UA   \n",
      "256  2019-07-31                 AA                 AA          AA   \n",
      "773  2019-07-31                 WN                 WN          WN   \n",
      "95   2019-07-31                 DL       DL_CODESHARE          DL   \n",
      "\n",
      "     mkt_carrier_fl_num op_unique_carrier tail_num  op_carrier_fl_num  \\\n",
      "91                  695                UA   N78506                695   \n",
      "886                2215                DL   N588NW               2215   \n",
      "926                1187                WN   N8582Z               1187   \n",
      "598                 501                WN   N706SW                501   \n",
      "697                6206                YV   N93305               6206   \n",
      "..                  ...               ...      ...                ...   \n",
      "150                5999                OO   N969SW               5999   \n",
      "728                2402                UA   N58101               2402   \n",
      "256                2214                AA   N808NN               2214   \n",
      "773                 211                WN   N7740A                211   \n",
      "95                 6054                YX   N207JQ               6054   \n",
      "\n",
      "     origin_airport_id origin  ... distance  carrier_delay weather_delay  \\\n",
      "91               10721    BOS  ...    200.0            NaN           NaN   \n",
      "886              14747    SEA  ...   2677.0            NaN           NaN   \n",
      "926              11259    DAL  ...   1067.0            NaN           NaN   \n",
      "598              12889    LAS  ...    758.0            NaN           NaN   \n",
      "697              11540    ELP  ...    667.0            NaN           NaN   \n",
      "..                 ...    ...  ...      ...            ...           ...   \n",
      "150              11648    FCA  ...    752.0            NaN           NaN   \n",
      "728              12892    LAX  ...   2611.0            NaN           NaN   \n",
      "256              14683    SAT  ...   1587.0            NaN           NaN   \n",
      "773              11481    ECP  ...    401.0            NaN           NaN   \n",
      "95               12953    LGA  ...    184.0            NaN           NaN   \n",
      "\n",
      "    nas_delay  security_delay  late_aircraft_delay  first_dep_time  \\\n",
      "91        NaN             NaN                  NaN             NaN   \n",
      "886       NaN             NaN                  NaN             NaN   \n",
      "926       NaN             NaN                  NaN             NaN   \n",
      "598       NaN             NaN                  NaN             NaN   \n",
      "697       NaN             NaN                  NaN             NaN   \n",
      "..        ...             ...                  ...             ...   \n",
      "150       NaN             NaN                  NaN             NaN   \n",
      "728       NaN             NaN                  NaN             NaN   \n",
      "256       NaN             NaN                  NaN             NaN   \n",
      "773       NaN             NaN                  NaN             NaN   \n",
      "95        NaN             NaN                  NaN             NaN   \n",
      "\n",
      "     total_add_gtime  longest_add_gtime  no_name  \n",
      "91               NaN                NaN      NaN  \n",
      "886              NaN                NaN      NaN  \n",
      "926              NaN                NaN      NaN  \n",
      "598              NaN                NaN      NaN  \n",
      "697              NaN                NaN      NaN  \n",
      "..               ...                ...      ...  \n",
      "150              NaN                NaN      NaN  \n",
      "728              NaN                NaN      NaN  \n",
      "256              NaN                NaN      NaN  \n",
      "773              NaN                NaN      NaN  \n",
      "95               NaN                NaN      NaN  \n",
      "\n",
      "[1000 rows x 42 columns]\n",
      "        fl_date mkt_unique_carrier branded_code_share mkt_carrier  \\\n",
      "999  2019-08-01                 WN                 WN          WN   \n",
      "543  2019-08-01                 DL                 DL          DL   \n",
      "866  2019-08-01                 DL                 DL          DL   \n",
      "863  2019-08-01                 DL       DL_CODESHARE          DL   \n",
      "574  2019-08-01                 AS                 AS          AS   \n",
      "..          ...                ...                ...         ...   \n",
      "396  2019-08-31                 DL       DL_CODESHARE          DL   \n",
      "320  2019-08-31                 DL                 DL          DL   \n",
      "330  2019-08-31                 WN                 WN          WN   \n",
      "639  2019-08-31                 WN                 WN          WN   \n",
      "625  2019-08-31                 UA       UA_CODESHARE          UA   \n",
      "\n",
      "     mkt_carrier_fl_num op_unique_carrier tail_num  op_carrier_fl_num  \\\n",
      "999                1110                WN   N943WN               1110   \n",
      "543                2868                DL   N826DN               2868   \n",
      "866                2474                DL   N906AT               2474   \n",
      "863                3567                OO   N625CA               3567   \n",
      "574                  66                AS   N519AS                 66   \n",
      "..                  ...               ...      ...                ...   \n",
      "396                3890                OO   N606SK               3890   \n",
      "320                 790                DL   N943AT                790   \n",
      "330                 390                WN   N945WN                390   \n",
      "639                4958                WN   N426WN               4958   \n",
      "625                4934                C5   N12175               4934   \n",
      "\n",
      "     origin_airport_id origin  ... distance  carrier_delay weather_delay  \\\n",
      "999              13495    MSY  ...    604.0            NaN           NaN   \n",
      "543              14635    RSW  ...   1084.0            NaN           NaN   \n",
      "866              14492    RDU  ...    980.0           18.0           0.0   \n",
      "863              11433    DTW  ...    456.0            0.0          16.0   \n",
      "574              10926    CDV  ...    213.0            NaN           NaN   \n",
      "..                 ...    ...  ...      ...            ...           ...   \n",
      "396              13487    MSP  ...    220.0            NaN           NaN   \n",
      "320              12478    JFK  ...    213.0            NaN           NaN   \n",
      "330              11193    CVG  ...    430.0            NaN           NaN   \n",
      "639              10423    AUS  ...   1105.0            NaN           NaN   \n",
      "625              11618    EWR  ...    218.0            0.0           0.0   \n",
      "\n",
      "    nas_delay  security_delay  late_aircraft_delay  first_dep_time  \\\n",
      "999       NaN             NaN                  NaN             NaN   \n",
      "543       NaN             NaN                  NaN             NaN   \n",
      "866       0.0             0.0                  8.0             NaN   \n",
      "863       0.0             0.0                 34.0             NaN   \n",
      "574       NaN             NaN                  NaN             NaN   \n",
      "..        ...             ...                  ...             ...   \n",
      "396       NaN             NaN                  NaN             NaN   \n",
      "320       NaN             NaN                  NaN             NaN   \n",
      "330       NaN             NaN                  NaN             NaN   \n",
      "639       NaN             NaN                  NaN             NaN   \n",
      "625      15.0             0.0                  0.0             NaN   \n",
      "\n",
      "     total_add_gtime  longest_add_gtime  no_name  \n",
      "999              NaN                NaN      NaN  \n",
      "543              NaN                NaN      NaN  \n",
      "866              NaN                NaN      NaN  \n",
      "863              NaN                NaN      NaN  \n",
      "574              NaN                NaN      NaN  \n",
      "..               ...                ...      ...  \n",
      "396              NaN                NaN      NaN  \n",
      "320              NaN                NaN      NaN  \n",
      "330              NaN                NaN      NaN  \n",
      "639              NaN                NaN      NaN  \n",
      "625              NaN                NaN      NaN  \n",
      "\n",
      "[1000 rows x 42 columns]\n",
      "        fl_date mkt_unique_carrier branded_code_share mkt_carrier  \\\n",
      "330  2019-09-01                 AA                 AA          AA   \n",
      "297  2019-09-01                 WN                 WN          WN   \n",
      "902  2019-09-01                 UA                 UA          UA   \n",
      "331  2019-09-01                 AA                 AA          AA   \n",
      "322  2019-09-01                 UA       UA_CODESHARE          UA   \n",
      "..          ...                ...                ...         ...   \n",
      "481  2019-09-30                 UA                 UA          UA   \n",
      "897  2019-09-30                 AS                 AS          AS   \n",
      "475  2019-09-30                 AA       AA_CODESHARE          AA   \n",
      "552  2019-09-30                 AA                 AA          AA   \n",
      "786  2019-09-30                 DL       DL_CODESHARE          DL   \n",
      "\n",
      "     mkt_carrier_fl_num op_unique_carrier tail_num  op_carrier_fl_num  \\\n",
      "330                1611                AA   N993AN               1611   \n",
      "297                 950                WN   N7845A                950   \n",
      "902                 336                UA   N69847                336   \n",
      "331                 527                AA   N991NN                527   \n",
      "322                5762                OO   N909SW               5762   \n",
      "..                  ...               ...      ...                ...   \n",
      "481                1116                UA   N486UA               1116   \n",
      "897                 430                AS   N282AK                430   \n",
      "475                5215                OH   N601EN               5215   \n",
      "552                2839                AA   N150NN               2839   \n",
      "786                3510                OO   N243SY               3510   \n",
      "\n",
      "     origin_airport_id origin  ... distance  carrier_delay weather_delay  \\\n",
      "330              14679    SAN  ...   1171.0            NaN           NaN   \n",
      "297              12889    LAS  ...   1076.0            NaN           NaN   \n",
      "902              11292    DEN  ...    888.0            NaN           NaN   \n",
      "331              13930    ORD  ...    733.0           19.0           0.0   \n",
      "322              11638    FAT  ...    209.0            NaN           NaN   \n",
      "..                 ...    ...  ...      ...            ...           ...   \n",
      "481              12264    IAD  ...    224.0            NaN           NaN   \n",
      "897              14057    PDX  ...    550.0            NaN           NaN   \n",
      "475              14685    SAV  ...    213.0            NaN           NaN   \n",
      "552              11298    DFW  ...    801.0            NaN           NaN   \n",
      "786              13796    OAK  ...    588.0            NaN           NaN   \n",
      "\n",
      "    nas_delay  security_delay  late_aircraft_delay  first_dep_time  \\\n",
      "330       NaN             NaN                  NaN             NaN   \n",
      "297       NaN             NaN                  NaN             NaN   \n",
      "902       NaN             NaN                  NaN             NaN   \n",
      "331       0.0             0.0                  0.0             NaN   \n",
      "322       NaN             NaN                  NaN             NaN   \n",
      "..        ...             ...                  ...             ...   \n",
      "481       NaN             NaN                  NaN             NaN   \n",
      "897       NaN             NaN                  NaN             NaN   \n",
      "475       NaN             NaN                  NaN             NaN   \n",
      "552       NaN             NaN                  NaN             NaN   \n",
      "786       NaN             NaN                  NaN             NaN   \n",
      "\n",
      "     total_add_gtime  longest_add_gtime  no_name  \n",
      "330              NaN                NaN      NaN  \n",
      "297              NaN                NaN      NaN  \n",
      "902              NaN                NaN      NaN  \n",
      "331              NaN                NaN      NaN  \n",
      "322              NaN                NaN      NaN  \n",
      "..               ...                ...      ...  \n",
      "481              NaN                NaN      NaN  \n",
      "897              NaN                NaN      NaN  \n",
      "475              NaN                NaN      NaN  \n",
      "552              NaN                NaN      NaN  \n",
      "786              NaN                NaN      NaN  \n",
      "\n",
      "[1000 rows x 42 columns]\n",
      "        fl_date mkt_unique_carrier branded_code_share mkt_carrier  \\\n",
      "91   2019-10-01                 DL                 DL          DL   \n",
      "29   2019-10-01                 UA                 UA          UA   \n",
      "604  2019-10-01                 AS                 AS          AS   \n",
      "481  2019-10-01                 DL                 DL          DL   \n",
      "484  2019-10-01                 DL                 DL          DL   \n",
      "..          ...                ...                ...         ...   \n",
      "750  2019-10-31                 AA                 AA          AA   \n",
      "773  2019-10-31                 DL                 DL          DL   \n",
      "374  2019-10-31                 UA                 UA          UA   \n",
      "658  2019-10-31                 NK                 NK          NK   \n",
      "858  2019-10-31                 WN                 WN          WN   \n",
      "\n",
      "     mkt_carrier_fl_num op_unique_carrier tail_num  op_carrier_fl_num  \\\n",
      "91                 2382                DL   N908DL               2382   \n",
      "29                  174                UA   N37281                174   \n",
      "604                 401                AS   N459AS                401   \n",
      "481                 458                DL   N830DN                458   \n",
      "484                2598                DL   N998AT               2598   \n",
      "..                  ...               ...      ...                ...   \n",
      "750                1060                AA   N163US               1060   \n",
      "773                1563                DL   N105DU               1563   \n",
      "374                 602                UA   N411UA                602   \n",
      "658                 626                NK   N912NK                626   \n",
      "858                2277                WN   N482WN               2277   \n",
      "\n",
      "     origin_airport_id origin  ... distance  carrier_delay weather_delay  \\\n",
      "91               14730    SDF  ...    321.0            NaN           NaN   \n",
      "29               12016    GUM  ...    129.0            NaN           NaN   \n",
      "604              12266    IAH  ...   1874.0            NaN           NaN   \n",
      "481              10693    BNA  ...    214.0            NaN           NaN   \n",
      "484              15304    TPA  ...   1005.0            NaN           NaN   \n",
      "..                 ...    ...  ...      ...            ...           ...   \n",
      "750              13303    MIA  ...   1085.0            1.0           0.0   \n",
      "773              11298    DFW  ...    986.0            NaN           NaN   \n",
      "374              11618    EWR  ...   1969.0            NaN           NaN   \n",
      "658              14100    PHL  ...   1576.0            NaN           NaN   \n",
      "858              10821    BWI  ...    277.0            NaN           NaN   \n",
      "\n",
      "    nas_delay  security_delay  late_aircraft_delay  first_dep_time  \\\n",
      "91        NaN             NaN                  NaN             NaN   \n",
      "29        NaN             NaN                  NaN             NaN   \n",
      "604       NaN             NaN                  NaN             NaN   \n",
      "481       NaN             NaN                  NaN             NaN   \n",
      "484       NaN             NaN                  NaN             NaN   \n",
      "..        ...             ...                  ...             ...   \n",
      "750      18.0             0.0                  0.0             NaN   \n",
      "773       NaN             NaN                  NaN             NaN   \n",
      "374       NaN             NaN                  NaN             NaN   \n",
      "658       NaN             NaN                  NaN             NaN   \n",
      "858       NaN             NaN                  NaN             NaN   \n",
      "\n",
      "     total_add_gtime  longest_add_gtime  no_name  \n",
      "91               NaN                NaN      NaN  \n",
      "29               NaN                NaN      NaN  \n",
      "604              NaN                NaN      NaN  \n",
      "481              NaN                NaN      NaN  \n",
      "484              NaN                NaN      NaN  \n",
      "..               ...                ...      ...  \n",
      "750              NaN                NaN      NaN  \n",
      "773              NaN                NaN      NaN  \n",
      "374              NaN                NaN      NaN  \n",
      "658              NaN                NaN      NaN  \n",
      "858              NaN                NaN      NaN  \n",
      "\n",
      "[1000 rows x 42 columns]\n",
      "        fl_date mkt_unique_carrier branded_code_share mkt_carrier  \\\n",
      "499  2019-11-01                 WN                 WN          WN   \n",
      "736  2019-11-01                 WN                 WN          WN   \n",
      "651  2019-11-01                 WN                 WN          WN   \n",
      "806  2019-11-01                 AA                 AA          AA   \n",
      "564  2019-11-01                 AA                 AA          AA   \n",
      "..          ...                ...                ...         ...   \n",
      "32   2019-11-30                 UA                 UA          UA   \n",
      "758  2019-11-30                 AA                 AA          AA   \n",
      "803  2019-11-30                 UA       UA_CODESHARE          UA   \n",
      "471  2019-11-30                 DL       DL_CODESHARE          DL   \n",
      "891  2019-11-30                 AS       AS_CODESHARE          AS   \n",
      "\n",
      "     mkt_carrier_fl_num op_unique_carrier tail_num  op_carrier_fl_num  \\\n",
      "499                1144                WN   N432WN               1144   \n",
      "736                3090                WN   N731SA               3090   \n",
      "651                 988                WN   N8545V                988   \n",
      "806                2066                AA   N584UW               2066   \n",
      "564                 779                AA   N988NN                779   \n",
      "..                  ...               ...      ...                ...   \n",
      "32                 1980                UA   N77261               1980   \n",
      "758                 551                AA   N846NN                551   \n",
      "803                6062                YV   N504MJ               6062   \n",
      "471                3768                OO   N290SY               3768   \n",
      "891                3401                OO   N186SY               3401   \n",
      "\n",
      "     origin_airport_id origin  ... distance  carrier_delay weather_delay  \\\n",
      "499              13232    MDW  ...    725.0            NaN           NaN   \n",
      "736              13198    MCI  ...    491.0            NaN           NaN   \n",
      "651              11697    FLL  ...   1188.0            NaN           NaN   \n",
      "806              14100    PHL  ...   2370.0            NaN           NaN   \n",
      "564              11298    DFW  ...    986.0            NaN           NaN   \n",
      "..                 ...    ...  ...      ...            ...           ...   \n",
      "32               12266    IAH  ...    854.0            NaN           NaN   \n",
      "758              13303    MIA  ...   1013.0            NaN           NaN   \n",
      "803              12264    IAD  ...    441.0            NaN           NaN   \n",
      "471              12953    LGA  ...   1148.0            NaN           NaN   \n",
      "891              12892    LAX  ...    590.0            NaN           NaN   \n",
      "\n",
      "    nas_delay  security_delay  late_aircraft_delay  first_dep_time  \\\n",
      "499       NaN             NaN                  NaN             NaN   \n",
      "736       NaN             NaN                  NaN             NaN   \n",
      "651       NaN             NaN                  NaN             NaN   \n",
      "806       NaN             NaN                  NaN             NaN   \n",
      "564       NaN             NaN                  NaN             NaN   \n",
      "..        ...             ...                  ...             ...   \n",
      "32        NaN             NaN                  NaN             NaN   \n",
      "758       NaN             NaN                  NaN             NaN   \n",
      "803       NaN             NaN                  NaN             NaN   \n",
      "471       NaN             NaN                  NaN             NaN   \n",
      "891       NaN             NaN                  NaN             NaN   \n",
      "\n",
      "     total_add_gtime  longest_add_gtime  no_name  \n",
      "499              NaN                NaN      NaN  \n",
      "736              NaN                NaN      NaN  \n",
      "651              NaN                NaN      NaN  \n",
      "806              NaN                NaN      NaN  \n",
      "564              NaN                NaN      NaN  \n",
      "..               ...                ...      ...  \n",
      "32               NaN                NaN      NaN  \n",
      "758              NaN                NaN      NaN  \n",
      "803              NaN                NaN      NaN  \n",
      "471              NaN                NaN      NaN  \n",
      "891              NaN                NaN      NaN  \n",
      "\n",
      "[1000 rows x 42 columns]\n",
      "        fl_date mkt_unique_carrier branded_code_share mkt_carrier  \\\n",
      "176  2019-12-01                 DL       DL_CODESHARE          DL   \n",
      "622  2019-12-01                 WN                 WN          WN   \n",
      "195  2019-12-01                 AA                 AA          AA   \n",
      "674  2019-12-01                 WN                 WN          WN   \n",
      "785  2019-12-01                 UA       UA_CODESHARE          UA   \n",
      "..          ...                ...                ...         ...   \n",
      "750  2019-12-31                 UA       UA_CODESHARE          UA   \n",
      "810  2019-12-31                 AS                 AS          AS   \n",
      "744  2019-12-31                 WN                 WN          WN   \n",
      "660  2019-12-31                 WN                 WN          WN   \n",
      "881  2019-12-31                 AA       AA_CODESHARE          AA   \n",
      "\n",
      "     mkt_carrier_fl_num op_unique_carrier tail_num  op_carrier_fl_num  \\\n",
      "176                3475                9E   N324PQ               3475   \n",
      "622                2813                WN   N444WN               2813   \n",
      "195                 637                AA   N584UW                637   \n",
      "674                2808                WN   N429WN               2808   \n",
      "785                5802                OO   N951SW               5802   \n",
      "..                  ...               ...      ...                ...   \n",
      "750                3897                ZW   N446AW               3897   \n",
      "810                  25                AS   N457AS                 25   \n",
      "744                1807                WN   N8329B               1807   \n",
      "660                4490                WN   N7708E               4490   \n",
      "881                3518                MQ   N853AE               3518   \n",
      "\n",
      "     origin_airport_id origin  ... distance  carrier_delay weather_delay  \\\n",
      "176              15412    TYS  ...    648.0            NaN           NaN   \n",
      "622              12191    HOU  ...    687.0            NaN           NaN   \n",
      "195              11697    FLL  ...    992.0            NaN           NaN   \n",
      "674              13232    MDW  ...    405.0            NaN           NaN   \n",
      "785              14771    SFO  ...    751.0            NaN           NaN   \n",
      "..                 ...    ...  ...      ...            ...           ...   \n",
      "750              11637    FAR  ...    627.0            NaN           NaN   \n",
      "810              10721    BOS  ...   2496.0            NaN           NaN   \n",
      "744              12173    HNL  ...   2462.0            NaN           NaN   \n",
      "660              13796    OAK  ...    362.0            NaN           NaN   \n",
      "881              11995    GSO  ...    461.0            NaN           NaN   \n",
      "\n",
      "    nas_delay  security_delay  late_aircraft_delay  first_dep_time  \\\n",
      "176       NaN             NaN                  NaN             NaN   \n",
      "622       NaN             NaN                  NaN             NaN   \n",
      "195       NaN             NaN                  NaN             NaN   \n",
      "674       NaN             NaN                  NaN             NaN   \n",
      "785       NaN             NaN                  NaN             NaN   \n",
      "..        ...             ...                  ...             ...   \n",
      "750       NaN             NaN                  NaN             NaN   \n",
      "810       NaN             NaN                  NaN             NaN   \n",
      "744       NaN             NaN                  NaN             NaN   \n",
      "660       NaN             NaN                  NaN             NaN   \n",
      "881       NaN             NaN                  NaN             NaN   \n",
      "\n",
      "     total_add_gtime  longest_add_gtime  no_name  \n",
      "176              NaN                NaN      NaN  \n",
      "622              NaN                NaN      NaN  \n",
      "195              NaN                NaN      NaN  \n",
      "674              NaN                NaN      NaN  \n",
      "785              NaN                NaN      NaN  \n",
      "..               ...                ...      ...  \n",
      "750              NaN                NaN      NaN  \n",
      "810              NaN                NaN      NaN  \n",
      "744              NaN                NaN      NaN  \n",
      "660              NaN                NaN      NaN  \n",
      "881              NaN                NaN      NaN  \n",
      "\n",
      "[1000 rows x 42 columns]\n"
     ]
    }
   ],
   "source": [
    "for flights in df_flights_by_month:\n",
    "    print(flights)"
   ]
  },
  {
   "cell_type": "code",
   "execution_count": 17,
   "metadata": {},
   "outputs": [
    {
     "name": "stdout",
     "output_type": "stream",
     "text": [
      "1\n",
      "Shapiro-Wilk Test\n",
      "-----------------\n",
      "Provided an alpha of 0.05, if p-value > alpha then the distribution can be assumed to be normal.\n",
      "This test prunes data to the first 5000 data points or \"head(5000)\" as reliability suffers with increasing samples.\n",
      "t-stat: nan , p-value: 1.0\n",
      "\n",
      "Anderson-Darling Test\n",
      "---------------------\n",
      "If the returned statistic > critical values then for the corresponding significance level,\n",
      "the null hypothesis that the data come from the chosen distribution can be rejected.\n",
      "t-stat: nan , critical values: [0.574 0.653 0.784 0.914 1.088] , at significance levels of: [15.  10.   5.   2.5  1. ]\n",
      "\n",
      "Skewness and Kurtosis\n",
      "---------------------\n",
      "skewness, -ve skews left and +ve skews right (0 is best): 3.6708313305855467\n",
      "kurtosis, tail spread (< 3 is best): 18.526514754869954\n"
     ]
    },
    {
     "data": {
      "image/png": "[encoded data removed]",
      "text/plain": [
       "<Figure size 720x576 with 1 Axes>"
      ]
     },
     "metadata": {
      "needs_background": "dark"
     },
     "output_type": "display_data"
    },
    {
     "name": "stdout",
     "output_type": "stream",
     "text": [
      "2\n",
      "Shapiro-Wilk Test\n",
      "-----------------\n",
      "Provided an alpha of 0.05, if p-value > alpha then the distribution can be assumed to be normal.\n",
      "This test prunes data to the first 5000 data points or \"head(5000)\" as reliability suffers with increasing samples.\n",
      "t-stat: nan , p-value: 1.0\n",
      "\n",
      "Anderson-Darling Test\n",
      "---------------------\n",
      "If the returned statistic > critical values then for the corresponding significance level,\n",
      "the null hypothesis that the data come from the chosen distribution can be rejected.\n",
      "t-stat: nan , critical values: [0.574 0.653 0.784 0.914 1.088] , at significance levels of: [15.  10.   5.   2.5  1. ]\n",
      "\n",
      "Skewness and Kurtosis\n",
      "---------------------\n",
      "skewness, -ve skews left and +ve skews right (0 is best): 5.7403826402581695\n",
      "kurtosis, tail spread (< 3 is best): 54.38779042803529\n"
     ]
    },
    {
     "data": {
      "image/png": "[encoded data removed]",
      "text/plain": [
       "<Figure size 720x576 with 1 Axes>"
      ]
     },
     "metadata": {
      "needs_background": "dark"
     },
     "output_type": "display_data"
    },
    {
     "name": "stdout",
     "output_type": "stream",
     "text": [
      "3\n",
      "Shapiro-Wilk Test\n",
      "-----------------\n",
      "Provided an alpha of 0.05, if p-value > alpha then the distribution can be assumed to be normal.\n",
      "This test prunes data to the first 5000 data points or \"head(5000)\" as reliability suffers with increasing samples.\n",
      "t-stat: nan , p-value: 1.0\n",
      "\n",
      "Anderson-Darling Test\n",
      "---------------------\n",
      "If the returned statistic > critical values then for the corresponding significance level,\n",
      "the null hypothesis that the data come from the chosen distribution can be rejected.\n",
      "t-stat: nan , critical values: [0.574 0.653 0.784 0.914 1.088] , at significance levels of: [15.  10.   5.   2.5  1. ]\n",
      "\n",
      "Skewness and Kurtosis\n",
      "---------------------\n",
      "skewness, -ve skews left and +ve skews right (0 is best): 14.625042602862564\n",
      "kurtosis, tail spread (< 3 is best): 321.24064938650554\n"
     ]
    },
    {
     "data": {
      "image/png": "[encoded data removed]",
      "text/plain": [
       "<Figure size 720x576 with 1 Axes>"
      ]
     },
     "metadata": {
      "needs_background": "dark"
     },
     "output_type": "display_data"
    },
    {
     "name": "stdout",
     "output_type": "stream",
     "text": [
      "4\n",
      "Shapiro-Wilk Test\n",
      "-----------------\n",
      "Provided an alpha of 0.05, if p-value > alpha then the distribution can be assumed to be normal.\n",
      "This test prunes data to the first 5000 data points or \"head(5000)\" as reliability suffers with increasing samples.\n",
      "t-stat: nan , p-value: 1.0\n",
      "\n",
      "Anderson-Darling Test\n",
      "---------------------\n",
      "If the returned statistic > critical values then for the corresponding significance level,\n",
      "the null hypothesis that the data come from the chosen distribution can be rejected.\n",
      "t-stat: nan , critical values: [0.574 0.653 0.784 0.914 1.088] , at significance levels of: [15.  10.   5.   2.5  1. ]\n",
      "\n",
      "Skewness and Kurtosis\n",
      "---------------------\n",
      "skewness, -ve skews left and +ve skews right (0 is best): 5.437145802273777\n",
      "kurtosis, tail spread (< 3 is best): 45.609726323019416\n"
     ]
    },
    {
     "data": {
      "image/png": "[encoded data removed]",
      "text/plain": [
       "<Figure size 720x576 with 1 Axes>"
      ]
     },
     "metadata": {
      "needs_background": "dark"
     },
     "output_type": "display_data"
    },
    {
     "name": "stdout",
     "output_type": "stream",
     "text": [
      "5\n",
      "Shapiro-Wilk Test\n",
      "-----------------\n",
      "Provided an alpha of 0.05, if p-value > alpha then the distribution can be assumed to be normal.\n",
      "This test prunes data to the first 5000 data points or \"head(5000)\" as reliability suffers with increasing samples.\n",
      "t-stat: nan , p-value: 1.0\n",
      "\n",
      "Anderson-Darling Test\n",
      "---------------------\n",
      "If the returned statistic > critical values then for the corresponding significance level,\n",
      "the null hypothesis that the data come from the chosen distribution can be rejected.\n",
      "t-stat: nan , critical values: [0.574 0.653 0.784 0.914 1.088] , at significance levels of: [15.  10.   5.   2.5  1. ]\n",
      "\n",
      "Skewness and Kurtosis\n",
      "---------------------\n",
      "skewness, -ve skews left and +ve skews right (0 is best): 5.616541531008963\n",
      "kurtosis, tail spread (< 3 is best): 48.82498613976634\n"
     ]
    },
    {
     "data": {
      "image/png": "[encoded data removed]",
      "text/plain": [
       "<Figure size 720x576 with 1 Axes>"
      ]
     },
     "metadata": {
      "needs_background": "dark"
     },
     "output_type": "display_data"
    },
    {
     "name": "stdout",
     "output_type": "stream",
     "text": [
      "6\n",
      "Shapiro-Wilk Test\n",
      "-----------------\n",
      "Provided an alpha of 0.05, if p-value > alpha then the distribution can be assumed to be normal.\n",
      "This test prunes data to the first 5000 data points or \"head(5000)\" as reliability suffers with increasing samples.\n",
      "t-stat: nan , p-value: 1.0\n",
      "\n",
      "Anderson-Darling Test\n",
      "---------------------\n",
      "If the returned statistic > critical values then for the corresponding significance level,\n",
      "the null hypothesis that the data come from the chosen distribution can be rejected.\n",
      "t-stat: nan , critical values: [0.574 0.653 0.784 0.914 1.088] , at significance levels of: [15.  10.   5.   2.5  1. ]\n",
      "\n",
      "Skewness and Kurtosis\n",
      "---------------------\n",
      "skewness, -ve skews left and +ve skews right (0 is best): 5.0262142973610855\n",
      "kurtosis, tail spread (< 3 is best): 41.61176793196026\n"
     ]
    },
    {
     "data": {
      "image/png": "[encoded data removed]",
      "text/plain": [
       "<Figure size 720x576 with 1 Axes>"
      ]
     },
     "metadata": {
      "needs_background": "dark"
     },
     "output_type": "display_data"
    },
    {
     "name": "stdout",
     "output_type": "stream",
     "text": [
      "7\n",
      "Shapiro-Wilk Test\n",
      "-----------------\n",
      "Provided an alpha of 0.05, if p-value > alpha then the distribution can be assumed to be normal.\n",
      "This test prunes data to the first 5000 data points or \"head(5000)\" as reliability suffers with increasing samples.\n",
      "t-stat: nan , p-value: 1.0\n",
      "\n",
      "Anderson-Darling Test\n",
      "---------------------\n",
      "If the returned statistic > critical values then for the corresponding significance level,\n",
      "the null hypothesis that the data come from the chosen distribution can be rejected.\n",
      "t-stat: nan , critical values: [0.574 0.653 0.784 0.914 1.088] , at significance levels of: [15.  10.   5.   2.5  1. ]\n",
      "\n",
      "Skewness and Kurtosis\n",
      "---------------------\n",
      "skewness, -ve skews left and +ve skews right (0 is best): 3.479306531787309\n",
      "kurtosis, tail spread (< 3 is best): 15.402962919353778\n"
     ]
    },
    {
     "data": {
      "image/png": "[encoded data removed]",
      "text/plain": [
       "<Figure size 720x576 with 1 Axes>"
      ]
     },
     "metadata": {
      "needs_background": "dark"
     },
     "output_type": "display_data"
    },
    {
     "name": "stdout",
     "output_type": "stream",
     "text": [
      "8\n",
      "Shapiro-Wilk Test\n",
      "-----------------\n",
      "Provided an alpha of 0.05, if p-value > alpha then the distribution can be assumed to be normal.\n",
      "This test prunes data to the first 5000 data points or \"head(5000)\" as reliability suffers with increasing samples.\n",
      "t-stat: nan , p-value: 1.0\n",
      "\n",
      "Anderson-Darling Test\n",
      "---------------------\n",
      "If the returned statistic > critical values then for the corresponding significance level,\n",
      "the null hypothesis that the data come from the chosen distribution can be rejected.\n",
      "t-stat: nan , critical values: [0.574 0.653 0.784 0.914 1.088] , at significance levels of: [15.  10.   5.   2.5  1. ]\n",
      "\n",
      "Skewness and Kurtosis\n",
      "---------------------\n",
      "skewness, -ve skews left and +ve skews right (0 is best): 6.630722614026439\n",
      "kurtosis, tail spread (< 3 is best): 60.9807660169791\n"
     ]
    },
    {
     "data": {
      "image/png": "[encoded data removed]",
      "text/plain": [
       "<Figure size 720x576 with 1 Axes>"
      ]
     },
     "metadata": {
      "needs_background": "dark"
     },
     "output_type": "display_data"
    },
    {
     "name": "stdout",
     "output_type": "stream",
     "text": [
      "9\n",
      "Shapiro-Wilk Test\n",
      "-----------------\n",
      "Provided an alpha of 0.05, if p-value > alpha then the distribution can be assumed to be normal.\n",
      "This test prunes data to the first 5000 data points or \"head(5000)\" as reliability suffers with increasing samples.\n",
      "t-stat: nan , p-value: 1.0\n",
      "\n",
      "Anderson-Darling Test\n",
      "---------------------\n",
      "If the returned statistic > critical values then for the corresponding significance level,\n",
      "the null hypothesis that the data come from the chosen distribution can be rejected.\n",
      "t-stat: nan , critical values: [0.574 0.653 0.784 0.914 1.088] , at significance levels of: [15.  10.   5.   2.5  1. ]\n",
      "\n",
      "Skewness and Kurtosis\n",
      "---------------------\n",
      "skewness, -ve skews left and +ve skews right (0 is best): 8.197746921125686\n",
      "kurtosis, tail spread (< 3 is best): 97.57275132854491\n"
     ]
    },
    {
     "data": {
      "image/png": "[encoded data removed]",
      "text/plain": [
       "<Figure size 720x576 with 1 Axes>"
      ]
     },
     "metadata": {
      "needs_background": "dark"
     },
     "output_type": "display_data"
    },
    {
     "name": "stdout",
     "output_type": "stream",
     "text": [
      "10\n",
      "Shapiro-Wilk Test\n",
      "-----------------\n",
      "Provided an alpha of 0.05, if p-value > alpha then the distribution can be assumed to be normal.\n",
      "This test prunes data to the first 5000 data points or \"head(5000)\" as reliability suffers with increasing samples.\n",
      "t-stat: nan , p-value: 1.0\n",
      "\n",
      "Anderson-Darling Test\n",
      "---------------------\n",
      "If the returned statistic > critical values then for the corresponding significance level,\n",
      "the null hypothesis that the data come from the chosen distribution can be rejected.\n",
      "t-stat: nan , critical values: [0.574 0.653 0.784 0.914 1.088] , at significance levels of: [15.  10.   5.   2.5  1. ]\n",
      "\n",
      "Skewness and Kurtosis\n",
      "---------------------\n",
      "skewness, -ve skews left and +ve skews right (0 is best): 4.890464822414068\n",
      "kurtosis, tail spread (< 3 is best): 35.56095801962872\n"
     ]
    },
    {
     "data": {
      "image/png": "[encoded data removed]",
      "text/plain": [
       "<Figure size 720x576 with 1 Axes>"
      ]
     },
     "metadata": {
      "needs_background": "dark"
     },
     "output_type": "display_data"
    },
    {
     "name": "stdout",
     "output_type": "stream",
     "text": [
      "11\n",
      "Shapiro-Wilk Test\n",
      "-----------------\n",
      "Provided an alpha of 0.05, if p-value > alpha then the distribution can be assumed to be normal.\n",
      "This test prunes data to the first 5000 data points or \"head(5000)\" as reliability suffers with increasing samples.\n",
      "t-stat: nan , p-value: 1.0\n",
      "\n",
      "Anderson-Darling Test\n",
      "---------------------\n",
      "If the returned statistic > critical values then for the corresponding significance level,\n",
      "the null hypothesis that the data come from the chosen distribution can be rejected.\n",
      "t-stat: nan , critical values: [0.574 0.653 0.784 0.914 1.088] , at significance levels of: [15.  10.   5.   2.5  1. ]\n",
      "\n",
      "Skewness and Kurtosis\n",
      "---------------------\n",
      "skewness, -ve skews left and +ve skews right (0 is best): 7.655442794976301\n",
      "kurtosis, tail spread (< 3 is best): 91.03197294168739\n"
     ]
    },
    {
     "data": {
      "image/png": "[encoded data removed]",
      "text/plain": [
       "<Figure size 720x576 with 1 Axes>"
      ]
     },
     "metadata": {
      "needs_background": "dark"
     },
     "output_type": "display_data"
    },
    {
     "name": "stdout",
     "output_type": "stream",
     "text": [
      "12\n",
      "Shapiro-Wilk Test\n",
      "-----------------\n",
      "Provided an alpha of 0.05, if p-value > alpha then the distribution can be assumed to be normal.\n",
      "This test prunes data to the first 5000 data points or \"head(5000)\" as reliability suffers with increasing samples.\n",
      "t-stat: nan , p-value: 1.0\n",
      "\n",
      "Anderson-Darling Test\n",
      "---------------------\n",
      "If the returned statistic > critical values then for the corresponding significance level,\n",
      "the null hypothesis that the data come from the chosen distribution can be rejected.\n",
      "t-stat: nan , critical values: [0.574 0.653 0.784 0.914 1.088] , at significance levels of: [15.  10.   5.   2.5  1. ]\n",
      "\n",
      "Skewness and Kurtosis\n",
      "---------------------\n",
      "skewness, -ve skews left and +ve skews right (0 is best): 5.206706947847035\n",
      "kurtosis, tail spread (< 3 is best): 41.49688317828655\n"
     ]
    },
    {
     "data": {
      "image/png": "[encoded data removed]",
      "text/plain": [
       "<Figure size 720x576 with 1 Axes>"
      ]
     },
     "metadata": {
      "needs_background": "dark"
     },
     "output_type": "display_data"
    }
   ],
   "source": [
    "for i,month in enumerate(df_flights_by_month):\n",
    "    print(i+1)\n",
    "    sc.check_normal_dist(month['arr_delay'])"
   ]
  },
  {
   "cell_type": "code",
   "execution_count": 18,
   "metadata": {},
   "outputs": [],
   "source": [
    "df_flights_by_month_noouts = []\n",
    "\n",
    "for month in df_flights_by_month:\n",
    "    df_flights_by_month_noouts.append(sc.filter_outliers(month.dropna(subset=['arr_delay']), month['arr_delay'].dropna()))"
   ]
  },
  {
   "cell_type": "code",
   "execution_count": 19,
   "metadata": {},
   "outputs": [
    {
     "name": "stdout",
     "output_type": "stream",
     "text": [
      "1\n",
      "Shapiro-Wilk Test\n",
      "-----------------\n",
      "Provided an alpha of 0.05, if p-value > alpha then the distribution can be assumed to be normal.\n",
      "This test prunes data to the first 5000 data points or \"head(5000)\" as reliability suffers with increasing samples.\n",
      "t-stat: 0.8579630255699158 , p-value: 2.268243047513922e-28\n",
      "\n",
      "Anderson-Darling Test\n",
      "---------------------\n",
      "If the returned statistic > critical values then for the corresponding significance level,\n",
      "the null hypothesis that the data come from the chosen distribution can be rejected.\n",
      "t-stat: 34.52230067704784 , critical values: [0.574 0.653 0.784 0.914 1.087] , at significance levels of: [15.  10.   5.   2.5  1. ]\n",
      "\n",
      "Skewness and Kurtosis\n",
      "---------------------\n",
      "skewness, -ve skews left and +ve skews right (0 is best): 1.7721275528335798\n",
      "kurtosis, tail spread (< 3 is best): 4.330177286283774\n"
     ]
    },
    {
     "data": {
      "image/png": "[encoded data removed]",
      "text/plain": [
       "<Figure size 720x576 with 1 Axes>"
      ]
     },
     "metadata": {
      "needs_background": "dark"
     },
     "output_type": "display_data"
    },
    {
     "name": "stdout",
     "output_type": "stream",
     "text": [
      "2\n",
      "Shapiro-Wilk Test\n",
      "-----------------\n",
      "Provided an alpha of 0.05, if p-value > alpha then the distribution can be assumed to be normal.\n",
      "This test prunes data to the first 5000 data points or \"head(5000)\" as reliability suffers with increasing samples.\n",
      "t-stat: 0.7804376482963562 , p-value: 8.220261382659027e-34\n",
      "\n",
      "Anderson-Darling Test\n",
      "---------------------\n",
      "If the returned statistic > critical values then for the corresponding significance level,\n",
      "the null hypothesis that the data come from the chosen distribution can be rejected.\n",
      "t-stat: 62.2918235970767 , critical values: [0.574 0.653 0.784 0.914 1.087] , at significance levels of: [15.  10.   5.   2.5  1. ]\n",
      "\n",
      "Skewness and Kurtosis\n",
      "---------------------\n",
      "skewness, -ve skews left and +ve skews right (0 is best): 2.201187105645989\n",
      "kurtosis, tail spread (< 3 is best): 5.794192790021711\n"
     ]
    },
    {
     "data": {
      "image/png": "[encoded data removed]",
      "text/plain": [
       "<Figure size 720x576 with 1 Axes>"
      ]
     },
     "metadata": {
      "needs_background": "dark"
     },
     "output_type": "display_data"
    },
    {
     "name": "stdout",
     "output_type": "stream",
     "text": [
      "3\n",
      "Shapiro-Wilk Test\n",
      "-----------------\n",
      "Provided an alpha of 0.05, if p-value > alpha then the distribution can be assumed to be normal.\n",
      "This test prunes data to the first 5000 data points or \"head(5000)\" as reliability suffers with increasing samples.\n",
      "t-stat: 0.782945990562439 , p-value: 4.240314853973159e-34\n",
      "\n",
      "Anderson-Darling Test\n",
      "---------------------\n",
      "If the returned statistic > critical values then for the corresponding significance level,\n",
      "the null hypothesis that the data come from the chosen distribution can be rejected.\n",
      "t-stat: 60.3176756973312 , critical values: [0.574 0.653 0.784 0.914 1.088] , at significance levels of: [15.  10.   5.   2.5  1. ]\n",
      "\n",
      "Skewness and Kurtosis\n",
      "---------------------\n",
      "skewness, -ve skews left and +ve skews right (0 is best): 2.2374207560259363\n",
      "kurtosis, tail spread (< 3 is best): 6.162881152585597\n"
     ]
    },
    {
     "data": {
      "image/png": "[encoded data removed]",
      "text/plain": [
       "<Figure size 720x576 with 1 Axes>"
      ]
     },
     "metadata": {
      "needs_background": "dark"
     },
     "output_type": "display_data"
    },
    {
     "name": "stdout",
     "output_type": "stream",
     "text": [
      "4\n",
      "Shapiro-Wilk Test\n",
      "-----------------\n",
      "Provided an alpha of 0.05, if p-value > alpha then the distribution can be assumed to be normal.\n",
      "This test prunes data to the first 5000 data points or \"head(5000)\" as reliability suffers with increasing samples.\n",
      "t-stat: 0.7875063419342041 , p-value: 1.4925823907531649e-33\n",
      "\n",
      "Anderson-Darling Test\n",
      "---------------------\n",
      "If the returned statistic > critical values then for the corresponding significance level,\n",
      "the null hypothesis that the data come from the chosen distribution can be rejected.\n",
      "t-stat: 56.40182873826177 , critical values: [0.574 0.653 0.784 0.914 1.087] , at significance levels of: [15.  10.   5.   2.5  1. ]\n",
      "\n",
      "Skewness and Kurtosis\n",
      "---------------------\n",
      "skewness, -ve skews left and +ve skews right (0 is best): 2.263516437485606\n",
      "kurtosis, tail spread (< 3 is best): 6.541932376694476\n"
     ]
    },
    {
     "data": {
      "image/png": "[encoded data removed]",
      "text/plain": [
       "<Figure size 720x576 with 1 Axes>"
      ]
     },
     "metadata": {
      "needs_background": "dark"
     },
     "output_type": "display_data"
    },
    {
     "name": "stdout",
     "output_type": "stream",
     "text": [
      "5\n",
      "Shapiro-Wilk Test\n",
      "-----------------\n",
      "Provided an alpha of 0.05, if p-value > alpha then the distribution can be assumed to be normal.\n",
      "This test prunes data to the first 5000 data points or \"head(5000)\" as reliability suffers with increasing samples.\n",
      "t-stat: 0.7235678434371948 , p-value: 5.787204815402473e-37\n",
      "\n",
      "Anderson-Darling Test\n",
      "---------------------\n",
      "If the returned statistic > critical values then for the corresponding significance level,\n",
      "the null hypothesis that the data come from the chosen distribution can be rejected.\n",
      "t-stat: 79.55437767188187 , critical values: [0.574 0.653 0.784 0.914 1.087] , at significance levels of: [15.  10.   5.   2.5  1. ]\n",
      "\n",
      "Skewness and Kurtosis\n",
      "---------------------\n",
      "skewness, -ve skews left and +ve skews right (0 is best): 2.58272794543387\n",
      "kurtosis, tail spread (< 3 is best): 7.848612366490091\n"
     ]
    },
    {
     "data": {
      "image/png": "[encoded data removed]",
      "text/plain": [
       "<Figure size 720x576 with 1 Axes>"
      ]
     },
     "metadata": {
      "needs_background": "dark"
     },
     "output_type": "display_data"
    },
    {
     "name": "stdout",
     "output_type": "stream",
     "text": [
      "6\n",
      "Shapiro-Wilk Test\n",
      "-----------------\n",
      "Provided an alpha of 0.05, if p-value > alpha then the distribution can be assumed to be normal.\n",
      "This test prunes data to the first 5000 data points or \"head(5000)\" as reliability suffers with increasing samples.\n",
      "t-stat: 0.8144686818122864 , p-value: 7.635756220667451e-32\n",
      "\n",
      "Anderson-Darling Test\n",
      "---------------------\n",
      "If the returned statistic > critical values then for the corresponding significance level,\n",
      "the null hypothesis that the data come from the chosen distribution can be rejected.\n",
      "t-stat: 54.714780003440865 , critical values: [0.574 0.653 0.784 0.914 1.088] , at significance levels of: [15.  10.   5.   2.5  1. ]\n",
      "\n",
      "Skewness and Kurtosis\n",
      "---------------------\n",
      "skewness, -ve skews left and +ve skews right (0 is best): 1.946326156204461\n",
      "kurtosis, tail spread (< 3 is best): 4.555654929210533\n"
     ]
    },
    {
     "data": {
      "image/png": "[encoded data removed]",
      "text/plain": [
       "<Figure size 720x576 with 1 Axes>"
      ]
     },
     "metadata": {
      "needs_background": "dark"
     },
     "output_type": "display_data"
    },
    {
     "name": "stdout",
     "output_type": "stream",
     "text": [
      "7\n",
      "Shapiro-Wilk Test\n",
      "-----------------\n",
      "Provided an alpha of 0.05, if p-value > alpha then the distribution can be assumed to be normal.\n",
      "This test prunes data to the first 5000 data points or \"head(5000)\" as reliability suffers with increasing samples.\n",
      "t-stat: 0.7930933833122253 , p-value: 4.5075818617318374e-33\n",
      "\n",
      "Anderson-Darling Test\n",
      "---------------------\n",
      "If the returned statistic > critical values then for the corresponding significance level,\n",
      "the null hypothesis that the data come from the chosen distribution can be rejected.\n",
      "t-stat: 61.3112834774596 , critical values: [0.574 0.653 0.784 0.914 1.087] , at significance levels of: [15.  10.   5.   2.5  1. ]\n",
      "\n",
      "Skewness and Kurtosis\n",
      "---------------------\n",
      "skewness, -ve skews left and +ve skews right (0 is best): 2.0719161051417507\n",
      "kurtosis, tail spread (< 3 is best): 5.033644520083828\n"
     ]
    },
    {
     "data": {
      "image/png": "[encoded data removed]",
      "text/plain": [
       "<Figure size 720x576 with 1 Axes>"
      ]
     },
     "metadata": {
      "needs_background": "dark"
     },
     "output_type": "display_data"
    },
    {
     "name": "stdout",
     "output_type": "stream",
     "text": [
      "8\n",
      "Shapiro-Wilk Test\n",
      "-----------------\n",
      "Provided an alpha of 0.05, if p-value > alpha then the distribution can be assumed to be normal.\n",
      "This test prunes data to the first 5000 data points or \"head(5000)\" as reliability suffers with increasing samples.\n",
      "t-stat: 0.7417473793029785 , p-value: 2.4391667415483522e-36\n",
      "\n",
      "Anderson-Darling Test\n",
      "---------------------\n",
      "If the returned statistic > critical values then for the corresponding significance level,\n",
      "the null hypothesis that the data come from the chosen distribution can be rejected.\n",
      "t-stat: 78.72646229836391 , critical values: [0.574 0.653 0.784 0.914 1.088] , at significance levels of: [15.  10.   5.   2.5  1. ]\n",
      "\n",
      "Skewness and Kurtosis\n",
      "---------------------\n",
      "skewness, -ve skews left and +ve skews right (0 is best): 2.343335613682923\n",
      "kurtosis, tail spread (< 3 is best): 6.144055033853995\n"
     ]
    },
    {
     "data": {
      "image/png": "[encoded data removed]",
      "text/plain": [
       "<Figure size 720x576 with 1 Axes>"
      ]
     },
     "metadata": {
      "needs_background": "dark"
     },
     "output_type": "display_data"
    },
    {
     "name": "stdout",
     "output_type": "stream",
     "text": [
      "9\n",
      "Shapiro-Wilk Test\n",
      "-----------------\n",
      "Provided an alpha of 0.05, if p-value > alpha then the distribution can be assumed to be normal.\n",
      "This test prunes data to the first 5000 data points or \"head(5000)\" as reliability suffers with increasing samples.\n",
      "t-stat: 0.7935289144515991 , p-value: 2.4975660513653986e-33\n",
      "\n",
      "Anderson-Darling Test\n",
      "---------------------\n",
      "If the returned statistic > critical values then for the corresponding significance level,\n",
      "the null hypothesis that the data come from the chosen distribution can be rejected.\n",
      "t-stat: 52.55559802038056 , critical values: [0.574 0.653 0.784 0.914 1.088] , at significance levels of: [15.  10.   5.   2.5  1. ]\n",
      "\n",
      "Skewness and Kurtosis\n",
      "---------------------\n",
      "skewness, -ve skews left and +ve skews right (0 is best): 2.3030390621570493\n",
      "kurtosis, tail spread (< 3 is best): 7.30090467309625\n"
     ]
    },
    {
     "data": {
      "image/png": "[encoded data removed]",
      "text/plain": [
       "<Figure size 720x576 with 1 Axes>"
      ]
     },
     "metadata": {
      "needs_background": "dark"
     },
     "output_type": "display_data"
    },
    {
     "name": "stdout",
     "output_type": "stream",
     "text": [
      "10\n",
      "Shapiro-Wilk Test\n",
      "-----------------\n",
      "Provided an alpha of 0.05, if p-value > alpha then the distribution can be assumed to be normal.\n",
      "This test prunes data to the first 5000 data points or \"head(5000)\" as reliability suffers with increasing samples.\n",
      "t-stat: 0.8187134861946106 , p-value: 9.722454413186423e-32\n",
      "\n",
      "Anderson-Darling Test\n",
      "---------------------\n",
      "If the returned statistic > critical values then for the corresponding significance level,\n",
      "the null hypothesis that the data come from the chosen distribution can be rejected.\n",
      "t-stat: 47.59431209825425 , critical values: [0.574 0.653 0.784 0.914 1.088] , at significance levels of: [15.  10.   5.   2.5  1. ]\n",
      "\n",
      "Skewness and Kurtosis\n",
      "---------------------\n",
      "skewness, -ve skews left and +ve skews right (0 is best): 2.0712843676032864\n",
      "kurtosis, tail spread (< 3 is best): 5.790385353134323\n"
     ]
    },
    {
     "data": {
      "image/png": "[encoded data removed]",
      "text/plain": [
       "<Figure size 720x576 with 1 Axes>"
      ]
     },
     "metadata": {
      "needs_background": "dark"
     },
     "output_type": "display_data"
    },
    {
     "name": "stdout",
     "output_type": "stream",
     "text": [
      "11\n",
      "Shapiro-Wilk Test\n",
      "-----------------\n",
      "Provided an alpha of 0.05, if p-value > alpha then the distribution can be assumed to be normal.\n",
      "This test prunes data to the first 5000 data points or \"head(5000)\" as reliability suffers with increasing samples.\n",
      "t-stat: 0.8097801804542542 , p-value: 3.014151186500661e-32\n",
      "\n",
      "Anderson-Darling Test\n",
      "---------------------\n",
      "If the returned statistic > critical values then for the corresponding significance level,\n",
      "the null hypothesis that the data come from the chosen distribution can be rejected.\n",
      "t-stat: 37.37715797702083 , critical values: [0.574 0.653 0.784 0.914 1.088] , at significance levels of: [15.  10.   5.   2.5  1. ]\n",
      "\n",
      "Skewness and Kurtosis\n",
      "---------------------\n",
      "skewness, -ve skews left and +ve skews right (0 is best): 2.4870221104369925\n",
      "kurtosis, tail spread (< 3 is best): 10.409645289973758\n"
     ]
    },
    {
     "data": {
      "image/png": "[encoded data removed]",
      "text/plain": [
       "<Figure size 720x576 with 1 Axes>"
      ]
     },
     "metadata": {
      "needs_background": "dark"
     },
     "output_type": "display_data"
    },
    {
     "name": "stdout",
     "output_type": "stream",
     "text": [
      "12\n",
      "Shapiro-Wilk Test\n",
      "-----------------\n",
      "Provided an alpha of 0.05, if p-value > alpha then the distribution can be assumed to be normal.\n",
      "This test prunes data to the first 5000 data points or \"head(5000)\" as reliability suffers with increasing samples.\n",
      "t-stat: 0.8098911643028259 , p-value: 3.6262407928022205e-32\n",
      "\n",
      "Anderson-Darling Test\n",
      "---------------------\n",
      "If the returned statistic > critical values then for the corresponding significance level,\n",
      "the null hypothesis that the data come from the chosen distribution can be rejected.\n",
      "t-stat: 48.29229878451872 , critical values: [0.574 0.653 0.784 0.914 1.088] , at significance levels of: [15.  10.   5.   2.5  1. ]\n",
      "\n",
      "Skewness and Kurtosis\n",
      "---------------------\n",
      "skewness, -ve skews left and +ve skews right (0 is best): 2.1391884876960594\n",
      "kurtosis, tail spread (< 3 is best): 6.0821615617142015\n"
     ]
    },
    {
     "data": {
      "image/png": "[encoded data removed]",
      "text/plain": [
       "<Figure size 720x576 with 1 Axes>"
      ]
     },
     "metadata": {
      "needs_background": "dark"
     },
     "output_type": "display_data"
    }
   ],
   "source": [
    "for i,month in enumerate(df_flights_by_month_noouts):\n",
    "    print(i+1)\n",
    "    sc.check_normal_dist(month['arr_delay'])"
   ]
  },
  {
   "cell_type": "code",
   "execution_count": 20,
   "metadata": {},
   "outputs": [
    {
     "name": "stdout",
     "output_type": "stream",
     "text": [
      "1 -1.3262935586061246\n",
      "1 -7.0\n",
      "2 4.180379746835443\n",
      "2 -5.0\n",
      "3 0.5127942681678608\n",
      "3 -7.0\n",
      "4 -0.49635036496350365\n",
      "4 -7.0\n",
      "5 1.0094438614900314\n",
      "5 -7.0\n",
      "6 5.452653485952133\n",
      "6 -3.0\n",
      "7 1.0526315789473684\n",
      "7 -7.0\n",
      "8 4.9866255144032925\n",
      "8 -6.0\n",
      "9 -5.1671826625387\n",
      "9 -10.0\n",
      "10 -2.871663244353183\n",
      "10 -8.0\n",
      "11 -4.034126163391933\n",
      "11 -8.0\n",
      "12 0.7463617463617463\n",
      "12 -6.0\n"
     ]
    }
   ],
   "source": [
    "for i, month in enumerate(df_flights_by_month_noouts):\n",
    "    print(i+1, month['arr_delay'].dropna().mean())\n",
    "    print(i+1, month['arr_delay'].dropna().median())"
   ]
  },
  {
   "cell_type": "markdown",
   "metadata": {},
   "source": [
    "February, June, and August seem to have the most delays. February and June might coincide with New years, and summer vacations. August is return to school? Not certain."
   ]
  },
  {
   "cell_type": "markdown",
   "metadata": {},
   "source": [
    "#### **Task 3**: Does the weather affect the delay? \n",
    "Use the API to pull the weather information for flights. There is no need to get weather for ALL flights. We can choose the right representative sample. Let's focus on four weather types:\n",
    "- sunny\n",
    "- cloudy\n",
    "- rainy\n",
    "- snow.\n",
    "Test the hypothesis that these 4 delays are from the same distribution. If they are not, which ones are significantly different?"
   ]
  },
  {
   "cell_type": "code",
   "execution_count": 21,
   "metadata": {},
   "outputs": [],
   "source": [
    "origin_locations = flights['origin_city_name'].unique()"
   ]
  },
  {
   "cell_type": "code",
   "execution_count": 22,
   "metadata": {},
   "outputs": [],
   "source": [
    "base_url = 'https://api.worldweatheronline.com/premium/v1/past-weather.ashx?key=5964df60e1c04a11883230245221204&q&format=json'\n",
    "\n",
    "# locations\n",
    "locations = origin_locations\n",
    "\n",
    "# params\n",
    "dates = [\n",
    "    '2019-01-01',\n",
    "    '2019-02-01',\n",
    "    '2019-03-01',\n",
    "    '2019-04-01',\n",
    "    '2019-05-01',\n",
    "    '2019-06-01',\n",
    "    '2019-07-01',\n",
    "    '2019-08-01',\n",
    "    '2019-09-01',\n",
    "    '2019-10-01',\n",
    "    '2019-11-01',\n",
    "    '2019-12-01']\n",
    "enddates = [\n",
    "    '2019-01-31',\n",
    "    '2019-02-28',\n",
    "    '2019-03-31',\n",
    "    '2019-04-30',\n",
    "    '2019-05-31',\n",
    "    '2019-06-30',\n",
    "    '2019-07-31',\n",
    "    '2019-08-31',\n",
    "    '2019-09-30',\n",
    "    '2019-10-31',\n",
    "    '2019-11-30',\n",
    "    '2019-12-31']"
   ]
  },
  {
   "cell_type": "code",
   "execution_count": 23,
   "metadata": {},
   "outputs": [
    {
     "data": {
      "text/plain": [
       "167"
      ]
     },
     "execution_count": 23,
     "metadata": {},
     "output_type": "execute_result"
    }
   ],
   "source": [
    "len(locations)"
   ]
  },
  {
   "cell_type": "code",
   "execution_count": 24,
   "metadata": {},
   "outputs": [],
   "source": [
    "weather_conditions = pd.read_csv(data_path / 'weather_conditions.csv', usecols=[0,1,2], sep=',')"
   ]
  },
  {
   "cell_type": "code",
   "execution_count": 25,
   "metadata": {},
   "outputs": [],
   "source": [
    "weather_conditions.drop_duplicates(inplace=True)\n",
    "weather_conditions.sort_values(by='overhead_code', inplace=True)"
   ]
  },
  {
   "cell_type": "code",
   "execution_count": 26,
   "metadata": {},
   "outputs": [
    {
     "data": {
      "text/html": [
       "<div>\n",
       "<style scoped>\n",
       "    .dataframe tbody tr th:only-of-type {\n",
       "        vertical-align: middle;\n",
       "    }\n",
       "\n",
       "    .dataframe tbody tr th {\n",
       "        vertical-align: top;\n",
       "    }\n",
       "\n",
       "    .dataframe thead th {\n",
       "        text-align: right;\n",
       "    }\n",
       "</style>\n",
       "<table border=\"1\" class=\"dataframe\">\n",
       "  <thead>\n",
       "    <tr style=\"text-align: right;\">\n",
       "      <th></th>\n",
       "      <th>overhead_code</th>\n",
       "      <th>daycondition</th>\n",
       "      <th>NightCondition</th>\n",
       "    </tr>\n",
       "  </thead>\n",
       "  <tbody>\n",
       "    <tr>\n",
       "      <th>0</th>\n",
       "      <td>113</td>\n",
       "      <td>Sunny</td>\n",
       "      <td>Clear</td>\n",
       "    </tr>\n",
       "    <tr>\n",
       "      <th>40</th>\n",
       "      <td>116</td>\n",
       "      <td>Partly cloudy</td>\n",
       "      <td>Partly cloudy</td>\n",
       "    </tr>\n",
       "    <tr>\n",
       "      <th>80</th>\n",
       "      <td>119</td>\n",
       "      <td>Cloudy</td>\n",
       "      <td>Cloudy</td>\n",
       "    </tr>\n",
       "    <tr>\n",
       "      <th>120</th>\n",
       "      <td>122</td>\n",
       "      <td>Overcast</td>\n",
       "      <td>Overcast</td>\n",
       "    </tr>\n",
       "    <tr>\n",
       "      <th>160</th>\n",
       "      <td>143</td>\n",
       "      <td>Mist</td>\n",
       "      <td>Mist</td>\n",
       "    </tr>\n",
       "    <tr>\n",
       "      <th>200</th>\n",
       "      <td>176</td>\n",
       "      <td>Patchy rain possible</td>\n",
       "      <td>Patchy rain possible</td>\n",
       "    </tr>\n",
       "    <tr>\n",
       "      <th>240</th>\n",
       "      <td>179</td>\n",
       "      <td>Patchy snow possible</td>\n",
       "      <td>Patchy snow possible</td>\n",
       "    </tr>\n",
       "    <tr>\n",
       "      <th>280</th>\n",
       "      <td>182</td>\n",
       "      <td>Patchy sleet possible</td>\n",
       "      <td>Patchy sleet possible</td>\n",
       "    </tr>\n",
       "    <tr>\n",
       "      <th>320</th>\n",
       "      <td>185</td>\n",
       "      <td>Patchy freezing drizzle possible</td>\n",
       "      <td>Patchy freezing drizzle possible</td>\n",
       "    </tr>\n",
       "    <tr>\n",
       "      <th>360</th>\n",
       "      <td>200</td>\n",
       "      <td>Thundery outbreaks possible</td>\n",
       "      <td>Thundery outbreaks possible</td>\n",
       "    </tr>\n",
       "    <tr>\n",
       "      <th>400</th>\n",
       "      <td>227</td>\n",
       "      <td>Blowing snow</td>\n",
       "      <td>Blowing snow</td>\n",
       "    </tr>\n",
       "    <tr>\n",
       "      <th>440</th>\n",
       "      <td>230</td>\n",
       "      <td>Blizzard</td>\n",
       "      <td>Blizzard</td>\n",
       "    </tr>\n",
       "    <tr>\n",
       "      <th>480</th>\n",
       "      <td>248</td>\n",
       "      <td>Fog</td>\n",
       "      <td>Fog</td>\n",
       "    </tr>\n",
       "    <tr>\n",
       "      <th>520</th>\n",
       "      <td>260</td>\n",
       "      <td>Freezing fog</td>\n",
       "      <td>Freezing fog</td>\n",
       "    </tr>\n",
       "    <tr>\n",
       "      <th>560</th>\n",
       "      <td>263</td>\n",
       "      <td>Patchy light drizzle</td>\n",
       "      <td>Patchy light drizzle</td>\n",
       "    </tr>\n",
       "    <tr>\n",
       "      <th>600</th>\n",
       "      <td>266</td>\n",
       "      <td>Light drizzle</td>\n",
       "      <td>Light drizzle</td>\n",
       "    </tr>\n",
       "    <tr>\n",
       "      <th>640</th>\n",
       "      <td>281</td>\n",
       "      <td>Freezing drizzle</td>\n",
       "      <td>Freezing drizzle</td>\n",
       "    </tr>\n",
       "    <tr>\n",
       "      <th>680</th>\n",
       "      <td>284</td>\n",
       "      <td>Heavy freezing drizzle</td>\n",
       "      <td>Heavy freezing drizzle</td>\n",
       "    </tr>\n",
       "    <tr>\n",
       "      <th>720</th>\n",
       "      <td>293</td>\n",
       "      <td>Patchy light rain</td>\n",
       "      <td>Patchy light rain</td>\n",
       "    </tr>\n",
       "    <tr>\n",
       "      <th>760</th>\n",
       "      <td>296</td>\n",
       "      <td>Light rain</td>\n",
       "      <td>Light rain</td>\n",
       "    </tr>\n",
       "    <tr>\n",
       "      <th>800</th>\n",
       "      <td>299</td>\n",
       "      <td>Moderate rain at times</td>\n",
       "      <td>Moderate rain at times</td>\n",
       "    </tr>\n",
       "    <tr>\n",
       "      <th>840</th>\n",
       "      <td>302</td>\n",
       "      <td>Moderate rain</td>\n",
       "      <td>Moderate rain</td>\n",
       "    </tr>\n",
       "    <tr>\n",
       "      <th>880</th>\n",
       "      <td>305</td>\n",
       "      <td>Heavy rain at times</td>\n",
       "      <td>Heavy rain at times</td>\n",
       "    </tr>\n",
       "    <tr>\n",
       "      <th>920</th>\n",
       "      <td>308</td>\n",
       "      <td>Heavy rain</td>\n",
       "      <td>Heavy rain</td>\n",
       "    </tr>\n",
       "    <tr>\n",
       "      <th>960</th>\n",
       "      <td>311</td>\n",
       "      <td>Light freezing rain</td>\n",
       "      <td>Light freezing rain</td>\n",
       "    </tr>\n",
       "  </tbody>\n",
       "</table>\n",
       "</div>"
      ],
      "text/plain": [
       "     overhead_code                      daycondition  \\\n",
       "0              113                             Sunny   \n",
       "40             116                     Partly cloudy   \n",
       "80             119                            Cloudy   \n",
       "120            122                          Overcast   \n",
       "160            143                              Mist   \n",
       "200            176              Patchy rain possible   \n",
       "240            179              Patchy snow possible   \n",
       "280            182             Patchy sleet possible   \n",
       "320            185  Patchy freezing drizzle possible   \n",
       "360            200       Thundery outbreaks possible   \n",
       "400            227                      Blowing snow   \n",
       "440            230                          Blizzard   \n",
       "480            248                               Fog   \n",
       "520            260                      Freezing fog   \n",
       "560            263              Patchy light drizzle   \n",
       "600            266                     Light drizzle   \n",
       "640            281                  Freezing drizzle   \n",
       "680            284            Heavy freezing drizzle   \n",
       "720            293                 Patchy light rain   \n",
       "760            296                        Light rain   \n",
       "800            299            Moderate rain at times   \n",
       "840            302                     Moderate rain   \n",
       "880            305               Heavy rain at times   \n",
       "920            308                        Heavy rain   \n",
       "960            311               Light freezing rain   \n",
       "\n",
       "                       NightCondition  \n",
       "0                               Clear  \n",
       "40                      Partly cloudy  \n",
       "80                             Cloudy  \n",
       "120                          Overcast  \n",
       "160                              Mist  \n",
       "200              Patchy rain possible  \n",
       "240              Patchy snow possible  \n",
       "280             Patchy sleet possible  \n",
       "320  Patchy freezing drizzle possible  \n",
       "360       Thundery outbreaks possible  \n",
       "400                      Blowing snow  \n",
       "440                          Blizzard  \n",
       "480                               Fog  \n",
       "520                      Freezing fog  \n",
       "560              Patchy light drizzle  \n",
       "600                     Light drizzle  \n",
       "640                  Freezing drizzle  \n",
       "680            Heavy freezing drizzle  \n",
       "720                 Patchy light rain  \n",
       "760                        Light rain  \n",
       "800            Moderate rain at times  \n",
       "840                     Moderate rain  \n",
       "880               Heavy rain at times  \n",
       "920                        Heavy rain  \n",
       "960               Light freezing rain  "
      ]
     },
     "execution_count": 26,
     "metadata": {},
     "output_type": "execute_result"
    }
   ],
   "source": [
    "weather_conditions\n",
    "\n",
    "# rain or like weather = > 263\n",
    "# sunny = 113\n",
    "# cloudy = 116, 119, 122\n",
    "# snow = 227, 230"
   ]
  },
  {
   "cell_type": "code",
   "execution_count": 27,
   "metadata": {},
   "outputs": [],
   "source": [
    "weather_loc = {}\n",
    "\n",
    "# for each location, save monthly weather\n",
    "for location in locations:\n",
    "    \n",
    "    weather_req = []\n",
    "    \n",
    "    for i in range(0,12):\n",
    "        \n",
    "        # payload using params\n",
    "        payload = dict(\n",
    "            date=dates[i],\n",
    "            enddate=enddates[i],\n",
    "            q=location)\n",
    "        \n",
    "        weather_req.append(req.get(url=base_url, params=payload).json())\n",
    "    \n",
    "    weather_loc[location] = weather_req"
   ]
  },
  {
   "cell_type": "code",
   "execution_count": 121,
   "metadata": {},
   "outputs": [],
   "source": [
    "cal = Calendar()\n",
    "df_weather = pd.DataFrame(columns=['location', 'date', 'time', 'tempC', 'condition'])\n",
    "df_placeholder = pd.DataFrame(columns=['location', 'date', 'time', 'tempC', 'condition'])\n",
    "df_dict = {}\n",
    "\n",
    "for location in locations:\n",
    "    \n",
    "    for m in range(0,12):\n",
    "        for i,d in enumerate([x for x in cal.itermonthdates(2019, m+1) if x.month == m+1]):\n",
    "            \n",
    "            for j in range(len(weather_loc[location][m]['data']['weather'][i]['hourly'])):\n",
    "                df_placeholder.loc[j+1, 'location'] = location\n",
    "                df_placeholder.loc[j+1, 'date'] = d\n",
    "                df_placeholder.loc[j+1, 'time'] = weather_loc[location][m]['data']['weather'][i]['hourly'][j]['time']\n",
    "                df_placeholder.loc[j+1, 'tempC'] = int(weather_loc[location][m]['data']['weather'][i]['hourly'][j]['tempC'])\n",
    "                df_placeholder.loc[j+1, 'condition'] = int(weather_loc[location][m]['data']['weather'][i]['hourly'][j]['weatherCode'])\n",
    "            \n",
    "            df_weather = pd.concat([df_weather, df_placeholder], ignore_index=True, axis=0)\n",
    "        "
   ]
  },
  {
   "cell_type": "code",
   "execution_count": 146,
   "metadata": {},
   "outputs": [],
   "source": [
    "df_weather_copy = df_weather.copy()"
   ]
  },
  {
   "cell_type": "code",
   "execution_count": 147,
   "metadata": {},
   "outputs": [],
   "source": [
    "# add 6 hours to make it easier to separate into night/day\n",
    "df_weather_copy['time'] = [time+600 for time in df_weather['time'].astype(int)]\n",
    "df_weather_copy['tempC'] = [temp for temp in df_weather['tempC'].astype(int)]\n",
    "df_weather_copy['condition'] = [con for con in df_weather['condition'].astype(int)]"
   ]
  },
  {
   "cell_type": "code",
   "execution_count": 148,
   "metadata": {},
   "outputs": [],
   "source": [
    "daytime = []\n",
    "\n",
    "for i,time in df_weather_copy['time'].iteritems():\n",
    "    \n",
    "    # code the time to 24 hours\n",
    "    if time >= 2400:\n",
    "        df_weather_copy.loc[i, 'time'] = time - 2400\n",
    "    \n",
    "    # convert \n",
    "    if df_weather_copy.loc[i, 'time'] >= 1200:\n",
    "        daytime.append(0) # day\n",
    "    else:\n",
    "        daytime.append(1) # night\n",
    "\n",
    "df_weather_copy = df_weather_copy.join(pd.Series(daytime, name='day/night'))"
   ]
  },
  {
   "cell_type": "code",
   "execution_count": 149,
   "metadata": {},
   "outputs": [],
   "source": [
    "# rain or like weather = > 263\n",
    "# sunny = 113\n",
    "# cloudy = 116, 119, 122\n",
    "# snow = 227, 230\n",
    "\n",
    "df_weather_copy = df_weather_copy.drop(['time'], axis=1).groupby(['location', 'date', 'day/night'])['condition'].aggregate('median')"
   ]
  },
  {
   "cell_type": "code",
   "execution_count": 150,
   "metadata": {},
   "outputs": [],
   "source": [
    "df_weather_copy = df_weather_copy.reset_index()"
   ]
  },
  {
   "cell_type": "code",
   "execution_count": 151,
   "metadata": {},
   "outputs": [],
   "source": [
    "conditions = []\n",
    "\n",
    "for condition in df_weather_copy['condition']:\n",
    "    if condition > 250:\n",
    "        conditions.append('rain')\n",
    "    elif condition > 200 and condition <= 250:\n",
    "        conditions.append('snow')\n",
    "    elif condition < 115:\n",
    "        conditions.append('sunny')\n",
    "    else:\n",
    "        conditions.append('cloudy')\n"
   ]
  },
  {
   "cell_type": "code",
   "execution_count": 152,
   "metadata": {},
   "outputs": [],
   "source": [
    "df_weather_copy = df_weather_copy.join(pd.Series(conditions, name='cond_desc'))"
   ]
  },
  {
   "cell_type": "code",
   "execution_count": 154,
   "metadata": {},
   "outputs": [
    {
     "data": {
      "text/html": [
       "<div>\n",
       "<style scoped>\n",
       "    .dataframe tbody tr th:only-of-type {\n",
       "        vertical-align: middle;\n",
       "    }\n",
       "\n",
       "    .dataframe tbody tr th {\n",
       "        vertical-align: top;\n",
       "    }\n",
       "\n",
       "    .dataframe thead th {\n",
       "        text-align: right;\n",
       "    }\n",
       "</style>\n",
       "<table border=\"1\" class=\"dataframe\">\n",
       "  <thead>\n",
       "    <tr style=\"text-align: right;\">\n",
       "      <th></th>\n",
       "      <th>location</th>\n",
       "      <th>date</th>\n",
       "      <th>day/night</th>\n",
       "      <th>condition</th>\n",
       "      <th>cond_desc</th>\n",
       "    </tr>\n",
       "  </thead>\n",
       "  <tbody>\n",
       "    <tr>\n",
       "      <th>0</th>\n",
       "      <td>Abilene, TX</td>\n",
       "      <td>2019-01-01</td>\n",
       "      <td>0</td>\n",
       "      <td>117.5</td>\n",
       "      <td>cloudy</td>\n",
       "    </tr>\n",
       "    <tr>\n",
       "      <th>1</th>\n",
       "      <td>Abilene, TX</td>\n",
       "      <td>2019-01-01</td>\n",
       "      <td>1</td>\n",
       "      <td>116.0</td>\n",
       "      <td>cloudy</td>\n",
       "    </tr>\n",
       "    <tr>\n",
       "      <th>2</th>\n",
       "      <td>Abilene, TX</td>\n",
       "      <td>2019-01-02</td>\n",
       "      <td>0</td>\n",
       "      <td>192.5</td>\n",
       "      <td>cloudy</td>\n",
       "    </tr>\n",
       "    <tr>\n",
       "      <th>3</th>\n",
       "      <td>Abilene, TX</td>\n",
       "      <td>2019-01-02</td>\n",
       "      <td>1</td>\n",
       "      <td>191.0</td>\n",
       "      <td>cloudy</td>\n",
       "    </tr>\n",
       "    <tr>\n",
       "      <th>4</th>\n",
       "      <td>Abilene, TX</td>\n",
       "      <td>2019-01-03</td>\n",
       "      <td>0</td>\n",
       "      <td>266.0</td>\n",
       "      <td>rain</td>\n",
       "    </tr>\n",
       "    <tr>\n",
       "      <th>...</th>\n",
       "      <td>...</td>\n",
       "      <td>...</td>\n",
       "      <td>...</td>\n",
       "      <td>...</td>\n",
       "      <td>...</td>\n",
       "    </tr>\n",
       "    <tr>\n",
       "      <th>121905</th>\n",
       "      <td>Wichita, KS</td>\n",
       "      <td>2019-12-29</td>\n",
       "      <td>1</td>\n",
       "      <td>120.5</td>\n",
       "      <td>cloudy</td>\n",
       "    </tr>\n",
       "    <tr>\n",
       "      <th>121906</th>\n",
       "      <td>Wichita, KS</td>\n",
       "      <td>2019-12-30</td>\n",
       "      <td>0</td>\n",
       "      <td>113.0</td>\n",
       "      <td>sunny</td>\n",
       "    </tr>\n",
       "    <tr>\n",
       "      <th>121907</th>\n",
       "      <td>Wichita, KS</td>\n",
       "      <td>2019-12-30</td>\n",
       "      <td>1</td>\n",
       "      <td>206.0</td>\n",
       "      <td>snow</td>\n",
       "    </tr>\n",
       "    <tr>\n",
       "      <th>121908</th>\n",
       "      <td>Wichita, KS</td>\n",
       "      <td>2019-12-31</td>\n",
       "      <td>0</td>\n",
       "      <td>120.5</td>\n",
       "      <td>cloudy</td>\n",
       "    </tr>\n",
       "    <tr>\n",
       "      <th>121909</th>\n",
       "      <td>Wichita, KS</td>\n",
       "      <td>2019-12-31</td>\n",
       "      <td>1</td>\n",
       "      <td>116.0</td>\n",
       "      <td>cloudy</td>\n",
       "    </tr>\n",
       "  </tbody>\n",
       "</table>\n",
       "<p>121910 rows × 5 columns</p>\n",
       "</div>"
      ],
      "text/plain": [
       "           location        date  day/night  condition cond_desc\n",
       "0       Abilene, TX  2019-01-01          0      117.5    cloudy\n",
       "1       Abilene, TX  2019-01-01          1      116.0    cloudy\n",
       "2       Abilene, TX  2019-01-02          0      192.5    cloudy\n",
       "3       Abilene, TX  2019-01-02          1      191.0    cloudy\n",
       "4       Abilene, TX  2019-01-03          0      266.0      rain\n",
       "...             ...         ...        ...        ...       ...\n",
       "121905  Wichita, KS  2019-12-29          1      120.5    cloudy\n",
       "121906  Wichita, KS  2019-12-30          0      113.0     sunny\n",
       "121907  Wichita, KS  2019-12-30          1      206.0      snow\n",
       "121908  Wichita, KS  2019-12-31          0      120.5    cloudy\n",
       "121909  Wichita, KS  2019-12-31          1      116.0    cloudy\n",
       "\n",
       "[121910 rows x 5 columns]"
      ]
     },
     "execution_count": 154,
     "metadata": {},
     "output_type": "execute_result"
    }
   ],
   "source": [
    "df_weather_copy"
   ]
  },
  {
   "cell_type": "markdown",
   "metadata": {},
   "source": [
    "#### **Task 4**: How taxi times changing during the day? Does higher traffic lead to bigger taxi times?"
   ]
  },
  {
   "cell_type": "code",
   "execution_count": null,
   "metadata": {},
   "outputs": [],
   "source": [
    "df_flights"
   ]
  },
  {
   "cell_type": "code",
   "execution_count": null,
   "metadata": {},
   "outputs": [],
   "source": []
  },
  {
   "cell_type": "markdown",
   "metadata": {},
   "source": [
    "#### **Task 5**: What is the average percentage of delays that is already created before departure? (aka are arrival delays caused by departure delays?) Are airlines able to lower the delay during the flights?"
   ]
  },
  {
   "cell_type": "code",
   "execution_count": null,
   "metadata": {},
   "outputs": [],
   "source": []
  },
  {
   "cell_type": "code",
   "execution_count": null,
   "metadata": {},
   "outputs": [],
   "source": []
  },
  {
   "cell_type": "markdown",
   "metadata": {},
   "source": [
    "#### **Task 6**: How many states cover 50% of US air traffic? "
   ]
  },
  {
   "cell_type": "code",
   "execution_count": null,
   "metadata": {},
   "outputs": [],
   "source": []
  },
  {
   "cell_type": "code",
   "execution_count": null,
   "metadata": {},
   "outputs": [],
   "source": []
  },
  {
   "cell_type": "markdown",
   "metadata": {},
   "source": [
    "#### **Task 7**: Test the hypothesis whether planes fly faster when there is the departure delay? "
   ]
  },
  {
   "cell_type": "code",
   "execution_count": null,
   "metadata": {},
   "outputs": [],
   "source": []
  },
  {
   "cell_type": "code",
   "execution_count": null,
   "metadata": {},
   "outputs": [],
   "source": []
  },
  {
   "cell_type": "markdown",
   "metadata": {},
   "source": [
    "#### **Task 8**: When (which hour) do most 'LONG', 'SHORT', 'MEDIUM' haul flights take off?"
   ]
  },
  {
   "cell_type": "code",
   "execution_count": null,
   "metadata": {},
   "outputs": [],
   "source": []
  },
  {
   "cell_type": "code",
   "execution_count": null,
   "metadata": {},
   "outputs": [],
   "source": []
  },
  {
   "cell_type": "markdown",
   "metadata": {},
   "source": [
    "#### **Task 9**: Find the top 10 the bussiest airports. Does the biggest number of flights mean that the biggest number of passengers went through the particular airport? How much traffic do these 10 airports cover?"
   ]
  },
  {
   "cell_type": "code",
   "execution_count": null,
   "metadata": {},
   "outputs": [],
   "source": []
  },
  {
   "cell_type": "code",
   "execution_count": null,
   "metadata": {},
   "outputs": [],
   "source": []
  },
  {
   "cell_type": "markdown",
   "metadata": {},
   "source": [
    "#### **Task 10**: Do bigger delays lead to bigger fuel comsumption per passenger? \n",
    "We need to do four things to answer this as accurate as possible:\n",
    "- Find out average monthly delay per air carrier (monthly delay is sum of all delays in 1 month)\n",
    "- Find out distance covered monthly by different air carriers\n",
    "- Find out number of passengers that were carried by different air carriers\n",
    "- Find out total fuel comsumption per air carrier.\n",
    "\n",
    "Use this information to get the average fuel comsumption per passenger per km. Is this higher for the airlines with bigger average delays?"
   ]
  },
  {
   "cell_type": "code",
   "execution_count": null,
   "metadata": {},
   "outputs": [],
   "source": []
  },
  {
   "cell_type": "code",
   "execution_count": null,
   "metadata": {},
   "outputs": [],
   "source": []
  }
 ],
 "metadata": {
  "interpreter": {
   "hash": "f6bdb6bebcaa6c165db367a86e382ae8df75f09257c40532b854029e0e3d706f"
  },
  "kernelspec": {
   "display_name": "Python 3 (ipykernel)",
   "language": "python",
   "name": "python3"
  },
  "language_info": {
   "codemirror_mode": {
    "name": "ipython",
    "version": 3
   },
   "file_extension": ".py",
   "mimetype": "text/x-python",
   "name": "python",
   "nbconvert_exporter": "python",
   "pygments_lexer": "ipython3",
   "version": "3.8.13"
  },
  "toc": {
   "base_numbering": 1,
   "nav_menu": {},
   "number_sections": true,
   "sideBar": true,
   "skip_h1_title": false,
   "title_cell": "Table of Contents",
   "title_sidebar": "Contents",
   "toc_cell": false,
   "toc_position": {},
   "toc_section_display": true,
   "toc_window_display": false
  },
  "varInspector": {
   "cols": {
    "lenName": 16,
    "lenType": 16,
    "lenVar": 40
   },
   "kernels_config": {
    "python": {
     "delete_cmd_postfix": "",
     "delete_cmd_prefix": "del ",
     "library": "var_list.py",
     "varRefreshCmd": "print(var_dic_list())"
    },
    "r": {
     "delete_cmd_postfix": ") ",
     "delete_cmd_prefix": "rm(",
     "library": "var_list.r",
     "varRefreshCmd": "cat(var_dic_list()) "
    }
   },
   "types_to_exclude": [
    "module",
    "function",
    "builtin_function_or_method",
    "instance",
    "_Feature"
   ],
   "window_display": false
  }
 },
 "nbformat": 4,
 "nbformat_minor": 4
}
