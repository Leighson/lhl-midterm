{
 "cells": [
  {
   "cell_type": "code",
   "execution_count": 1,
   "metadata": {},
   "outputs": [],
   "source": [
    "import numpy as np\n",
    "import pandas as pd\n",
    "import assets.script as script\n",
    "from sklearn.linear_model import LinearRegression\n",
    "from sklearn.naive_bayes import GaussianNB"
   ]
  },
  {
   "cell_type": "markdown",
   "metadata": {},
   "source": [
    "### Example use case for `script.py` file"
   ]
  },
  {
   "cell_type": "code",
   "execution_count": 2,
   "metadata": {},
   "outputs": [],
   "source": [
    "x = [np.random.randn(10) for i in range(100)]\n",
    "y = np.random.randint(1, 100, 100)"
   ]
  },
  {
   "cell_type": "code",
   "execution_count": 3,
   "metadata": {},
   "outputs": [],
   "source": [
    "df = pd.DataFrame(x, columns=['zero', 'one', 'two', 'three', 'four', 'five', 'six', 'seven', 'eight', 'nine'])\n",
    "df = df.join(pd.Series(y, name='target'))"
   ]
  },
  {
   "cell_type": "code",
   "execution_count": 4,
   "metadata": {},
   "outputs": [
    {
     "name": "stdout",
     "output_type": "stream",
     "text": [
      "\n",
      "No columns dropped.\n",
      "\n",
      "Target values: [ 9 63 67  2 15 18 27 17 93 86  8 68 68 78 17 75 85 29 14 44 83  4 72 47\n",
      " 92 48 91 33 40 77 42 45 48 93  3 92 14 59 54 91 10  2 40 52 57 96  8 39\n",
      " 58 75 43 65 75 97 10 17 20 29 29 54  1 65 90 23  8  2 93 80 69 93 59 46\n",
      "  9 89 36 29 74 43 85 22 39 95 70 67 32  5 32 94  6 93  5 85 42 70  4 73\n",
      " 71 70 24 37] \n",
      "\n",
      "Column(s) remaining: Index(['zero', 'one', 'two', 'three', 'four', 'five', 'six', 'seven', 'eight',\n",
      "       'nine', 'target'],\n",
      "      dtype='object')\n",
      "\n",
      "Data is unscaled.\n",
      "training sample size:  80\n",
      "testing sample size:  20\n"
     ]
    }
   ],
   "source": [
    "X_train, X_test, y_train, y_test = script.split_data(df, target='target')"
   ]
  },
  {
   "cell_type": "code",
   "execution_count": 5,
   "metadata": {},
   "outputs": [],
   "source": [
    "y_pred, y_prob = script.get_predictions(GaussianNB(), X_train, y_train, X_test)"
   ]
  },
  {
   "cell_type": "code",
   "execution_count": 6,
   "metadata": {},
   "outputs": [
    {
     "data": {
      "text/plain": [
       "array([ 2,  2, 75, 93, 29, 29, 75, 93, 17, 29, 93,  4, 54, 93, 93,  4, 17,\n",
       "       29, 29, 29])"
      ]
     },
     "execution_count": 6,
     "metadata": {},
     "output_type": "execute_result"
    }
   ],
   "source": [
    "y_pred"
   ]
  },
  {
   "cell_type": "code",
   "execution_count": 7,
   "metadata": {},
   "outputs": [
    {
     "data": {
      "text/plain": [
       "array([[0.00000000e+00, 9.75928594e-01, 0.00000000e+00, ...,\n",
       "        1.70574170e-04, 0.00000000e+00, 0.00000000e+00],\n",
       "       [0.00000000e+00, 9.93282313e-01, 0.00000000e+00, ...,\n",
       "        3.89792581e-03, 0.00000000e+00, 0.00000000e+00],\n",
       "       [0.00000000e+00, 1.85762009e-01, 0.00000000e+00, ...,\n",
       "        3.09720463e-02, 0.00000000e+00, 0.00000000e+00],\n",
       "       ...,\n",
       "       [0.00000000e+00, 2.47272462e-10, 0.00000000e+00, ...,\n",
       "        1.15795119e-03, 0.00000000e+00, 0.00000000e+00],\n",
       "       [0.00000000e+00, 3.04744800e-08, 0.00000000e+00, ...,\n",
       "        2.36643719e-01, 0.00000000e+00, 0.00000000e+00],\n",
       "       [0.00000000e+00, 3.93754687e-03, 0.00000000e+00, ...,\n",
       "        3.50559344e-07, 0.00000000e+00, 0.00000000e+00]])"
      ]
     },
     "execution_count": 7,
     "metadata": {},
     "output_type": "execute_result"
    }
   ],
   "source": [
    "y_prob"
   ]
  }
 ],
 "metadata": {
  "interpreter": {
   "hash": "f6bdb6bebcaa6c165db367a86e382ae8df75f09257c40532b854029e0e3d706f"
  },
  "kernelspec": {
   "display_name": "Python 3.8.13 ('lighthouse')",
   "language": "python",
   "name": "python3"
  },
  "language_info": {
   "codemirror_mode": {
    "name": "ipython",
    "version": 3
   },
   "file_extension": ".py",
   "mimetype": "text/x-python",
   "name": "python",
   "nbconvert_exporter": "python",
   "pygments_lexer": "ipython3",
   "version": "3.8.13"
  },
  "orig_nbformat": 4
 },
 "nbformat": 4,
 "nbformat_minor": 2
}
