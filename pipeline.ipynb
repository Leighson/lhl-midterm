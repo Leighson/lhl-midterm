{
 "cells": [
  {
   "cell_type": "code",
   "execution_count": 232,
   "metadata": {},
   "outputs": [],
   "source": [
    "# custom scripts\n",
    "import assets.script as scr\n",
    "\n",
    "# common packages\n",
    "import numpy as np\n",
    "import pandas as pd\n",
    "import datetime as dt\n",
    "import re\n",
    "import requests as req\n",
    "\n",
    "# utility packages\n",
    "from pathlib import Path\n",
    "from calendar import Calendar\n",
    "\n",
    "# pipeline packages\n",
    "from sklearn.impute import SimpleImputer\n",
    "from sklearn.preprocessing import OneHotEncoder, MinMaxScaler\n",
    "from sklearn.preprocessing import FunctionTransformer\n",
    "from sklearn.compose import ColumnTransformer\n",
    "from sklearn.pipeline import FeatureUnion\n",
    "from sklearn.pipeline import Pipeline\n",
    "from sklearn.neighbors import LocalOutlierFactor\n",
    "# ML packages\n",
    "from sklearn.linear_model import LinearRegression, Ridge, Lasso\n",
    "from sklearn.preprocessing import PolynomialFeatures\n",
    "from xgboost import XGBRegressor\n",
    "\n",
    "# metrics packages\n",
    "from sklearn.metrics import mean_absolute_error, mean_squared_error, r2_score\n",
    "\n",
    "# tuning packages\n",
    "from sklearn.model_selection import train_test_split\n",
    "from sklearn.model_selection import GridSearchCV"
   ]
  },
  {
   "cell_type": "code",
   "execution_count": 233,
   "metadata": {},
   "outputs": [
    {
     "data": {
      "text/plain": [
       "0             flights\n",
       "1        flights_test\n",
       "2    fuel_comsumption\n",
       "3         pass_sample\n",
       "4          passengers\n",
       "5              sample\n",
       "6           temptable\n",
       "7          test_table\n",
       "dtype: object"
      ]
     },
     "execution_count": 233,
     "metadata": {},
     "output_type": "execute_result"
    }
   ],
   "source": [
    "scr.sql_read_tables()"
   ]
  },
  {
   "cell_type": "markdown",
   "metadata": {},
   "source": [
    "# TABLES"
   ]
  },
  {
   "cell_type": "markdown",
   "metadata": {},
   "source": [
    "## Table `flights`"
   ]
  },
  {
   "cell_type": "code",
   "execution_count": 234,
   "metadata": {},
   "outputs": [],
   "source": [
    "table_name = 'flights'\n",
    "limit = 1000000\n",
    "filename = f'{table_name}_{str(limit/1000)}k_sample.csv'\n",
    "\n",
    "df_flights = pd.read_csv(Path('./data') / filename)"
   ]
  },
  {
   "cell_type": "code",
   "execution_count": 235,
   "metadata": {},
   "outputs": [
    {
     "name": "stdout",
     "output_type": "stream",
     "text": [
      "['fl_date', 'mkt_unique_carrier', 'branded_code_share', 'mkt_carrier', 'mkt_carrier_fl_num', 'op_unique_carrier', 'tail_num', 'op_carrier_fl_num', 'origin_airport_id', 'origin', 'origin_city_name', 'dest_airport_id', 'dest', 'dest_city_name', 'crs_dep_time', 'dep_time', 'dep_delay', 'taxi_out', 'wheels_off', 'wheels_on', 'taxi_in', 'crs_arr_time', 'arr_time', 'arr_delay', 'cancelled', 'cancellation_code', 'diverted', 'dup', 'crs_elapsed_time', 'actual_elapsed_time', 'air_time', 'flights', 'distance', 'carrier_delay', 'weather_delay', 'nas_delay', 'security_delay', 'late_aircraft_delay', 'first_dep_time', 'total_add_gtime', 'longest_add_gtime', 'no_name']\n",
      "(1000000, 42)\n"
     ]
    }
   ],
   "source": [
    "print(df_flights.columns.tolist())\n",
    "print(df_flights.shape)"
   ]
  },
  {
   "cell_type": "markdown",
   "metadata": {},
   "source": [
    "## Table `passengers`"
   ]
  },
  {
   "cell_type": "code",
   "execution_count": 236,
   "metadata": {},
   "outputs": [],
   "source": [
    "table_name = 'passengers'\n",
    "limit = 1000000\n",
    "filename = f'{table_name}_{str(limit/1000)}k_sample.csv'\n",
    "\n",
    "df_passengers = pd.read_csv(Path('./data') / filename)"
   ]
  },
  {
   "cell_type": "code",
   "execution_count": 237,
   "metadata": {},
   "outputs": [
    {
     "name": "stdout",
     "output_type": "stream",
     "text": [
      "['departures_scheduled', 'departures_performed', 'payload', 'seats', 'passengers', 'freight', 'mail', 'distance', 'ramp_to_ramp', 'air_time', 'unique_carrier', 'airline_id', 'unique_carrier_name', 'region', 'carrier', 'carrier_name', 'carrier_group', 'carrier_group_new', 'origin_airport_id', 'origin_city_market_id', 'origin', 'origin_city_name', 'origin_country', 'origin_country_name', 'dest_airport_id', 'dest_city_market_id', 'dest', 'dest_city_name', 'dest_country', 'dest_country_name', 'aircraft_group', 'aircraft_type', 'aircraft_config', 'year', 'month', 'distance_group', 'class', 'data_source']\n",
      "(1000000, 38)\n"
     ]
    }
   ],
   "source": [
    "print(df_passengers.columns.tolist())\n",
    "print(df_passengers.shape)"
   ]
  },
  {
   "cell_type": "markdown",
   "metadata": {},
   "source": [
    "## Table `pass_sample` (`passengers` samples)"
   ]
  },
  {
   "cell_type": "code",
   "execution_count": 238,
   "metadata": {},
   "outputs": [],
   "source": [
    "table_name = 'pass_sample'\n",
    "limit = 1000000\n",
    "filename = f'{table_name}_{str(limit/1000)}k_sample.csv'\n",
    "\n",
    "df_pass_sample = pd.read_csv(Path('./data') / filename)"
   ]
  },
  {
   "cell_type": "code",
   "execution_count": 239,
   "metadata": {},
   "outputs": [
    {
     "name": "stdout",
     "output_type": "stream",
     "text": [
      "['departures_scheduled', 'departures_performed', 'payload', 'seats', 'passengers', 'freight', 'mail', 'distance', 'ramp_to_ramp', 'air_time', 'unique_carrier', 'airline_id', 'unique_carrier_name', 'region', 'carrier', 'carrier_name', 'carrier_group', 'carrier_group_new', 'origin_airport_id', 'origin_city_market_id', 'origin', 'origin_city_name', 'origin_country', 'origin_country_name', 'dest_airport_id', 'dest_city_market_id', 'dest', 'dest_city_name', 'dest_country', 'dest_country_name', 'aircraft_group', 'aircraft_type', 'aircraft_config', 'year', 'month', 'distance_group', 'class', 'data_source']\n",
      "(156448, 38)\n",
      "(1000000, 38)\n"
     ]
    }
   ],
   "source": [
    "print(df_pass_sample.columns.tolist())\n",
    "print(df_pass_sample.shape)\n",
    "print(df_passengers.shape)"
   ]
  },
  {
   "cell_type": "markdown",
   "metadata": {},
   "source": [
    "## Table `fuel_comsumption`"
   ]
  },
  {
   "cell_type": "code",
   "execution_count": 240,
   "metadata": {},
   "outputs": [],
   "source": [
    "table_name = 'fuel_comsumption'\n",
    "limit = 1000000\n",
    "filename = f'{table_name}_{str(limit/1000)}k_sample.csv'\n",
    "\n",
    "df_fuel_comsumption = pd.read_csv(Path('./data') / filename)"
   ]
  },
  {
   "cell_type": "code",
   "execution_count": 241,
   "metadata": {},
   "outputs": [
    {
     "name": "stdout",
     "output_type": "stream",
     "text": [
      "['month', 'airline_id', 'unique_carrier', 'carrier', 'carrier_name', 'carrier_group_new', 'sdomt_gallons', 'satl_gallons', 'spac_gallons', 'slat_gallons', 'sint_gallons', 'ts_gallons', 'tdomt_gallons', 'tint_gallons', 'total_gallons', 'sdomt_cost', 'satl_cost', 'spac_cost', 'slat_cost', 'sint_cost', 'ts_cost', 'tdomt_cost', 'tint_cost', 'total_cost', 'year']\n",
      "(3035, 25)\n"
     ]
    }
   ],
   "source": [
    "print(df_fuel_comsumption.columns.tolist())\n",
    "print(df_fuel_comsumption.shape)"
   ]
  },
  {
   "cell_type": "markdown",
   "metadata": {},
   "source": [
    "## Table `flights_test` (`flights` sample for prediction - January 2022)"
   ]
  },
  {
   "cell_type": "code",
   "execution_count": 242,
   "metadata": {},
   "outputs": [],
   "source": [
    "table_name = 'flights_test'\n",
    "limit = 1000000\n",
    "filename = f'{table_name}_{str(limit/1000)}k_sample.csv'\n",
    "\n",
    "df_flights_test = pd.read_csv(Path('./data') / filename)"
   ]
  },
  {
   "cell_type": "code",
   "execution_count": 243,
   "metadata": {},
   "outputs": [
    {
     "name": "stdout",
     "output_type": "stream",
     "text": [
      "['fl_date', 'mkt_unique_carrier', 'branded_code_share', 'mkt_carrier', 'mkt_carrier_fl_num', 'op_unique_carrier', 'tail_num', 'op_carrier_fl_num', 'origin_airport_id', 'origin', 'origin_city_name', 'dest_airport_id', 'dest', 'dest_city_name', 'crs_dep_time', 'crs_arr_time', 'dup', 'crs_elapsed_time', 'flights', 'distance']\n",
      "(660556, 20)\n",
      "(1000000, 42)\n"
     ]
    },
    {
     "data": {
      "text/html": [
       "<div>\n",
       "<style scoped>\n",
       "    .dataframe tbody tr th:only-of-type {\n",
       "        vertical-align: middle;\n",
       "    }\n",
       "\n",
       "    .dataframe tbody tr th {\n",
       "        vertical-align: top;\n",
       "    }\n",
       "\n",
       "    .dataframe thead th {\n",
       "        text-align: right;\n",
       "    }\n",
       "</style>\n",
       "<table border=\"1\" class=\"dataframe\">\n",
       "  <thead>\n",
       "    <tr style=\"text-align: right;\">\n",
       "      <th></th>\n",
       "      <th>fl_date</th>\n",
       "      <th>mkt_unique_carrier</th>\n",
       "      <th>branded_code_share</th>\n",
       "      <th>mkt_carrier</th>\n",
       "      <th>mkt_carrier_fl_num</th>\n",
       "      <th>op_unique_carrier</th>\n",
       "      <th>tail_num</th>\n",
       "      <th>op_carrier_fl_num</th>\n",
       "      <th>origin_airport_id</th>\n",
       "      <th>origin</th>\n",
       "      <th>origin_city_name</th>\n",
       "      <th>dest_airport_id</th>\n",
       "      <th>dest</th>\n",
       "      <th>dest_city_name</th>\n",
       "      <th>crs_dep_time</th>\n",
       "      <th>crs_arr_time</th>\n",
       "      <th>dup</th>\n",
       "      <th>crs_elapsed_time</th>\n",
       "      <th>flights</th>\n",
       "      <th>distance</th>\n",
       "    </tr>\n",
       "  </thead>\n",
       "  <tbody>\n",
       "    <tr>\n",
       "      <th>660546</th>\n",
       "      <td>2020-01-31</td>\n",
       "      <td>DL</td>\n",
       "      <td>DL_CODESHARE</td>\n",
       "      <td>DL</td>\n",
       "      <td>4950</td>\n",
       "      <td>9E</td>\n",
       "      <td>N228PQ</td>\n",
       "      <td>4950</td>\n",
       "      <td>10397</td>\n",
       "      <td>ATL</td>\n",
       "      <td>Atlanta, GA</td>\n",
       "      <td>15323</td>\n",
       "      <td>TRI</td>\n",
       "      <td>Bristol/Johnson City/Kingsport, TN</td>\n",
       "      <td>2225</td>\n",
       "      <td>2331</td>\n",
       "      <td>N</td>\n",
       "      <td>66</td>\n",
       "      <td>1</td>\n",
       "      <td>227</td>\n",
       "    </tr>\n",
       "    <tr>\n",
       "      <th>660547</th>\n",
       "      <td>2020-01-31</td>\n",
       "      <td>DL</td>\n",
       "      <td>DL_CODESHARE</td>\n",
       "      <td>DL</td>\n",
       "      <td>4952</td>\n",
       "      <td>9E</td>\n",
       "      <td>N600LR</td>\n",
       "      <td>4952</td>\n",
       "      <td>12953</td>\n",
       "      <td>LGA</td>\n",
       "      <td>New York, NY</td>\n",
       "      <td>13342</td>\n",
       "      <td>MKE</td>\n",
       "      <td>Milwaukee, WI</td>\n",
       "      <td>1735</td>\n",
       "      <td>1921</td>\n",
       "      <td>N</td>\n",
       "      <td>166</td>\n",
       "      <td>1</td>\n",
       "      <td>738</td>\n",
       "    </tr>\n",
       "    <tr>\n",
       "      <th>660548</th>\n",
       "      <td>2020-01-31</td>\n",
       "      <td>DL</td>\n",
       "      <td>DL_CODESHARE</td>\n",
       "      <td>DL</td>\n",
       "      <td>4953</td>\n",
       "      <td>9E</td>\n",
       "      <td>N655CA</td>\n",
       "      <td>4953</td>\n",
       "      <td>12953</td>\n",
       "      <td>LGA</td>\n",
       "      <td>New York, NY</td>\n",
       "      <td>14524</td>\n",
       "      <td>RIC</td>\n",
       "      <td>Richmond, VA</td>\n",
       "      <td>1642</td>\n",
       "      <td>1825</td>\n",
       "      <td>N</td>\n",
       "      <td>103</td>\n",
       "      <td>1</td>\n",
       "      <td>292</td>\n",
       "    </tr>\n",
       "    <tr>\n",
       "      <th>660549</th>\n",
       "      <td>2020-01-31</td>\n",
       "      <td>DL</td>\n",
       "      <td>DL_CODESHARE</td>\n",
       "      <td>DL</td>\n",
       "      <td>4953</td>\n",
       "      <td>9E</td>\n",
       "      <td>N655CA</td>\n",
       "      <td>4953</td>\n",
       "      <td>14524</td>\n",
       "      <td>RIC</td>\n",
       "      <td>Richmond, VA</td>\n",
       "      <td>12953</td>\n",
       "      <td>LGA</td>\n",
       "      <td>New York, NY</td>\n",
       "      <td>1900</td>\n",
       "      <td>2033</td>\n",
       "      <td>N</td>\n",
       "      <td>93</td>\n",
       "      <td>1</td>\n",
       "      <td>292</td>\n",
       "    </tr>\n",
       "    <tr>\n",
       "      <th>660550</th>\n",
       "      <td>2020-01-31</td>\n",
       "      <td>DL</td>\n",
       "      <td>DL_CODESHARE</td>\n",
       "      <td>DL</td>\n",
       "      <td>4954</td>\n",
       "      <td>9E</td>\n",
       "      <td>N926XJ</td>\n",
       "      <td>4954</td>\n",
       "      <td>11193</td>\n",
       "      <td>CVG</td>\n",
       "      <td>Cincinnati, OH</td>\n",
       "      <td>11278</td>\n",
       "      <td>DCA</td>\n",
       "      <td>Washington, DC</td>\n",
       "      <td>1655</td>\n",
       "      <td>1824</td>\n",
       "      <td>N</td>\n",
       "      <td>89</td>\n",
       "      <td>1</td>\n",
       "      <td>411</td>\n",
       "    </tr>\n",
       "    <tr>\n",
       "      <th>660551</th>\n",
       "      <td>2020-01-31</td>\n",
       "      <td>DL</td>\n",
       "      <td>DL_CODESHARE</td>\n",
       "      <td>DL</td>\n",
       "      <td>4954</td>\n",
       "      <td>9E</td>\n",
       "      <td>N926XJ</td>\n",
       "      <td>4954</td>\n",
       "      <td>11278</td>\n",
       "      <td>DCA</td>\n",
       "      <td>Washington, DC</td>\n",
       "      <td>11193</td>\n",
       "      <td>CVG</td>\n",
       "      <td>Cincinnati, OH</td>\n",
       "      <td>1859</td>\n",
       "      <td>2041</td>\n",
       "      <td>N</td>\n",
       "      <td>102</td>\n",
       "      <td>1</td>\n",
       "      <td>411</td>\n",
       "    </tr>\n",
       "    <tr>\n",
       "      <th>660552</th>\n",
       "      <td>2020-01-31</td>\n",
       "      <td>DL</td>\n",
       "      <td>DL_CODESHARE</td>\n",
       "      <td>DL</td>\n",
       "      <td>4955</td>\n",
       "      <td>9E</td>\n",
       "      <td>N309PQ</td>\n",
       "      <td>4955</td>\n",
       "      <td>11278</td>\n",
       "      <td>DCA</td>\n",
       "      <td>Washington, DC</td>\n",
       "      <td>11193</td>\n",
       "      <td>CVG</td>\n",
       "      <td>Cincinnati, OH</td>\n",
       "      <td>1515</td>\n",
       "      <td>1702</td>\n",
       "      <td>N</td>\n",
       "      <td>107</td>\n",
       "      <td>1</td>\n",
       "      <td>411</td>\n",
       "    </tr>\n",
       "    <tr>\n",
       "      <th>660553</th>\n",
       "      <td>2020-01-31</td>\n",
       "      <td>DL</td>\n",
       "      <td>DL_CODESHARE</td>\n",
       "      <td>DL</td>\n",
       "      <td>4956</td>\n",
       "      <td>9E</td>\n",
       "      <td>N324PQ</td>\n",
       "      <td>4956</td>\n",
       "      <td>12478</td>\n",
       "      <td>JFK</td>\n",
       "      <td>New York, NY</td>\n",
       "      <td>10785</td>\n",
       "      <td>BTV</td>\n",
       "      <td>Burlington, VT</td>\n",
       "      <td>2205</td>\n",
       "      <td>2337</td>\n",
       "      <td>N</td>\n",
       "      <td>92</td>\n",
       "      <td>1</td>\n",
       "      <td>266</td>\n",
       "    </tr>\n",
       "    <tr>\n",
       "      <th>660554</th>\n",
       "      <td>2020-01-31</td>\n",
       "      <td>DL</td>\n",
       "      <td>DL_CODESHARE</td>\n",
       "      <td>DL</td>\n",
       "      <td>4957</td>\n",
       "      <td>9E</td>\n",
       "      <td>N132EV</td>\n",
       "      <td>4957</td>\n",
       "      <td>13930</td>\n",
       "      <td>ORD</td>\n",
       "      <td>Chicago, IL</td>\n",
       "      <td>12478</td>\n",
       "      <td>JFK</td>\n",
       "      <td>New York, NY</td>\n",
       "      <td>1035</td>\n",
       "      <td>1356</td>\n",
       "      <td>N</td>\n",
       "      <td>141</td>\n",
       "      <td>1</td>\n",
       "      <td>740</td>\n",
       "    </tr>\n",
       "    <tr>\n",
       "      <th>660555</th>\n",
       "      <td>2020-01-31</td>\n",
       "      <td>DL</td>\n",
       "      <td>DL_CODESHARE</td>\n",
       "      <td>DL</td>\n",
       "      <td>4958</td>\n",
       "      <td>9E</td>\n",
       "      <td>N390CA</td>\n",
       "      <td>4958</td>\n",
       "      <td>12953</td>\n",
       "      <td>LGA</td>\n",
       "      <td>New York, NY</td>\n",
       "      <td>11057</td>\n",
       "      <td>CLT</td>\n",
       "      <td>Charlotte, NC</td>\n",
       "      <td>2005</td>\n",
       "      <td>2222</td>\n",
       "      <td>N</td>\n",
       "      <td>137</td>\n",
       "      <td>1</td>\n",
       "      <td>544</td>\n",
       "    </tr>\n",
       "  </tbody>\n",
       "</table>\n",
       "</div>"
      ],
      "text/plain": [
       "           fl_date mkt_unique_carrier branded_code_share mkt_carrier  \\\n",
       "660546  2020-01-31                 DL       DL_CODESHARE          DL   \n",
       "660547  2020-01-31                 DL       DL_CODESHARE          DL   \n",
       "660548  2020-01-31                 DL       DL_CODESHARE          DL   \n",
       "660549  2020-01-31                 DL       DL_CODESHARE          DL   \n",
       "660550  2020-01-31                 DL       DL_CODESHARE          DL   \n",
       "660551  2020-01-31                 DL       DL_CODESHARE          DL   \n",
       "660552  2020-01-31                 DL       DL_CODESHARE          DL   \n",
       "660553  2020-01-31                 DL       DL_CODESHARE          DL   \n",
       "660554  2020-01-31                 DL       DL_CODESHARE          DL   \n",
       "660555  2020-01-31                 DL       DL_CODESHARE          DL   \n",
       "\n",
       "        mkt_carrier_fl_num op_unique_carrier tail_num  op_carrier_fl_num  \\\n",
       "660546                4950                9E   N228PQ               4950   \n",
       "660547                4952                9E   N600LR               4952   \n",
       "660548                4953                9E   N655CA               4953   \n",
       "660549                4953                9E   N655CA               4953   \n",
       "660550                4954                9E   N926XJ               4954   \n",
       "660551                4954                9E   N926XJ               4954   \n",
       "660552                4955                9E   N309PQ               4955   \n",
       "660553                4956                9E   N324PQ               4956   \n",
       "660554                4957                9E   N132EV               4957   \n",
       "660555                4958                9E   N390CA               4958   \n",
       "\n",
       "        origin_airport_id origin origin_city_name  dest_airport_id dest  \\\n",
       "660546              10397    ATL      Atlanta, GA            15323  TRI   \n",
       "660547              12953    LGA     New York, NY            13342  MKE   \n",
       "660548              12953    LGA     New York, NY            14524  RIC   \n",
       "660549              14524    RIC     Richmond, VA            12953  LGA   \n",
       "660550              11193    CVG   Cincinnati, OH            11278  DCA   \n",
       "660551              11278    DCA   Washington, DC            11193  CVG   \n",
       "660552              11278    DCA   Washington, DC            11193  CVG   \n",
       "660553              12478    JFK     New York, NY            10785  BTV   \n",
       "660554              13930    ORD      Chicago, IL            12478  JFK   \n",
       "660555              12953    LGA     New York, NY            11057  CLT   \n",
       "\n",
       "                            dest_city_name  crs_dep_time  crs_arr_time dup  \\\n",
       "660546  Bristol/Johnson City/Kingsport, TN          2225          2331   N   \n",
       "660547                       Milwaukee, WI          1735          1921   N   \n",
       "660548                        Richmond, VA          1642          1825   N   \n",
       "660549                        New York, NY          1900          2033   N   \n",
       "660550                      Washington, DC          1655          1824   N   \n",
       "660551                      Cincinnati, OH          1859          2041   N   \n",
       "660552                      Cincinnati, OH          1515          1702   N   \n",
       "660553                      Burlington, VT          2205          2337   N   \n",
       "660554                        New York, NY          1035          1356   N   \n",
       "660555                       Charlotte, NC          2005          2222   N   \n",
       "\n",
       "        crs_elapsed_time  flights  distance  \n",
       "660546                66        1       227  \n",
       "660547               166        1       738  \n",
       "660548               103        1       292  \n",
       "660549                93        1       292  \n",
       "660550                89        1       411  \n",
       "660551               102        1       411  \n",
       "660552               107        1       411  \n",
       "660553                92        1       266  \n",
       "660554               141        1       740  \n",
       "660555               137        1       544  "
      ]
     },
     "execution_count": 243,
     "metadata": {},
     "output_type": "execute_result"
    }
   ],
   "source": [
    "print(df_flights_test.columns.tolist())\n",
    "print(df_flights_test.shape)\n",
    "print(df_flights.shape)\n",
    "df_flights_test.tail(10)"
   ]
  },
  {
   "cell_type": "markdown",
   "metadata": {},
   "source": [
    "## Table `sample` (`flights` samples)"
   ]
  },
  {
   "cell_type": "code",
   "execution_count": 244,
   "metadata": {},
   "outputs": [
    {
     "name": "stderr",
     "output_type": "stream",
     "text": [
      "/var/folders/xm/yv4_9lnx4vxb435678j65d140000gn/T/ipykernel_80171/2978874520.py:5: DtypeWarning: Columns (25) have mixed types. Specify dtype option on import or set low_memory=False.\n",
      "  df_sample = pd.read_csv(Path('./data') / filename)\n"
     ]
    }
   ],
   "source": [
    "table_name = 'sample'\n",
    "limit = 1000000\n",
    "filename = f'{table_name}_{str(limit/1000)}k_sample.csv'\n",
    "\n",
    "df_sample = pd.read_csv(Path('./data') / filename)"
   ]
  },
  {
   "cell_type": "code",
   "execution_count": 245,
   "metadata": {},
   "outputs": [
    {
     "name": "stdout",
     "output_type": "stream",
     "text": [
      "['fl_date', 'mkt_unique_carrier', 'branded_code_share', 'mkt_carrier', 'mkt_carrier_fl_num', 'op_unique_carrier', 'tail_num', 'op_carrier_fl_num', 'origin_airport_id', 'origin', 'origin_city_name', 'dest_airport_id', 'dest', 'dest_city_name', 'crs_dep_time', 'dep_time', 'dep_delay', 'taxi_out', 'wheels_off', 'wheels_on', 'taxi_in', 'crs_arr_time', 'arr_time', 'arr_delay', 'cancelled', 'cancellation_code', 'diverted', 'dup', 'crs_elapsed_time', 'actual_elapsed_time', 'air_time', 'flights', 'distance', 'carrier_delay', 'weather_delay', 'nas_delay', 'security_delay', 'late_aircraft_delay', 'first_dep_time', 'total_add_gtime', 'longest_add_gtime', 'no_name']\n",
      "(1000000, 42)\n",
      "(1000000, 42)\n"
     ]
    }
   ],
   "source": [
    "print(df_sample.columns.tolist())\n",
    "print(df_sample.shape)\n",
    "print(df_flights.shape)"
   ]
  },
  {
   "cell_type": "markdown",
   "metadata": {},
   "source": [
    "## Table `temptable` (`flights` but different samples)"
   ]
  },
  {
   "cell_type": "code",
   "execution_count": 246,
   "metadata": {},
   "outputs": [
    {
     "name": "stderr",
     "output_type": "stream",
     "text": [
      "/var/folders/xm/yv4_9lnx4vxb435678j65d140000gn/T/ipykernel_80171/1445488352.py:5: DtypeWarning: Columns (25) have mixed types. Specify dtype option on import or set low_memory=False.\n",
      "  df_temptable = pd.read_csv(Path('./data') / filename)\n"
     ]
    }
   ],
   "source": [
    "table_name = 'temptable'\n",
    "limit = 1000000\n",
    "filename = f'{table_name}_{str(limit/1000)}k_sample.csv'\n",
    "\n",
    "df_temptable = pd.read_csv(Path('./data') / filename)"
   ]
  },
  {
   "cell_type": "code",
   "execution_count": 247,
   "metadata": {},
   "outputs": [
    {
     "name": "stdout",
     "output_type": "stream",
     "text": [
      "['fl_date', 'mkt_unique_carrier', 'branded_code_share', 'mkt_carrier', 'mkt_carrier_fl_num', 'op_unique_carrier', 'tail_num', 'op_carrier_fl_num', 'origin_airport_id', 'origin', 'origin_city_name', 'dest_airport_id', 'dest', 'dest_city_name', 'crs_dep_time', 'dep_time', 'dep_delay', 'taxi_out', 'wheels_off', 'wheels_on', 'taxi_in', 'crs_arr_time', 'arr_time', 'arr_delay', 'cancelled', 'cancellation_code', 'diverted', 'dup', 'crs_elapsed_time', 'actual_elapsed_time', 'air_time', 'flights', 'distance', 'carrier_delay', 'weather_delay', 'nas_delay', 'security_delay', 'late_aircraft_delay', 'first_dep_time', 'total_add_gtime', 'longest_add_gtime', 'no_name']\n",
      "(785850, 42)\n",
      "(1000000, 42)\n"
     ]
    },
    {
     "data": {
      "text/html": [
       "<div>\n",
       "<style scoped>\n",
       "    .dataframe tbody tr th:only-of-type {\n",
       "        vertical-align: middle;\n",
       "    }\n",
       "\n",
       "    .dataframe tbody tr th {\n",
       "        vertical-align: top;\n",
       "    }\n",
       "\n",
       "    .dataframe thead th {\n",
       "        text-align: right;\n",
       "    }\n",
       "</style>\n",
       "<table border=\"1\" class=\"dataframe\">\n",
       "  <thead>\n",
       "    <tr style=\"text-align: right;\">\n",
       "      <th></th>\n",
       "      <th>fl_date</th>\n",
       "      <th>mkt_unique_carrier</th>\n",
       "      <th>branded_code_share</th>\n",
       "      <th>mkt_carrier</th>\n",
       "      <th>mkt_carrier_fl_num</th>\n",
       "      <th>op_unique_carrier</th>\n",
       "      <th>tail_num</th>\n",
       "      <th>op_carrier_fl_num</th>\n",
       "      <th>origin_airport_id</th>\n",
       "      <th>origin</th>\n",
       "      <th>...</th>\n",
       "      <th>distance</th>\n",
       "      <th>carrier_delay</th>\n",
       "      <th>weather_delay</th>\n",
       "      <th>nas_delay</th>\n",
       "      <th>security_delay</th>\n",
       "      <th>late_aircraft_delay</th>\n",
       "      <th>first_dep_time</th>\n",
       "      <th>total_add_gtime</th>\n",
       "      <th>longest_add_gtime</th>\n",
       "      <th>no_name</th>\n",
       "    </tr>\n",
       "  </thead>\n",
       "  <tbody>\n",
       "    <tr>\n",
       "      <th>0</th>\n",
       "      <td>2019-12-19</td>\n",
       "      <td>AA</td>\n",
       "      <td>AA</td>\n",
       "      <td>AA</td>\n",
       "      <td>885</td>\n",
       "      <td>AA</td>\n",
       "      <td>N961UW</td>\n",
       "      <td>885</td>\n",
       "      <td>10397</td>\n",
       "      <td>ATL</td>\n",
       "      <td>...</td>\n",
       "      <td>762.0</td>\n",
       "      <td>NaN</td>\n",
       "      <td>NaN</td>\n",
       "      <td>NaN</td>\n",
       "      <td>NaN</td>\n",
       "      <td>NaN</td>\n",
       "      <td>NaN</td>\n",
       "      <td>NaN</td>\n",
       "      <td>NaN</td>\n",
       "      <td>NaN</td>\n",
       "    </tr>\n",
       "    <tr>\n",
       "      <th>1</th>\n",
       "      <td>2019-12-19</td>\n",
       "      <td>AA</td>\n",
       "      <td>AA</td>\n",
       "      <td>AA</td>\n",
       "      <td>890</td>\n",
       "      <td>AA</td>\n",
       "      <td>N317PG</td>\n",
       "      <td>890</td>\n",
       "      <td>10397</td>\n",
       "      <td>ATL</td>\n",
       "      <td>...</td>\n",
       "      <td>1947.0</td>\n",
       "      <td>NaN</td>\n",
       "      <td>NaN</td>\n",
       "      <td>NaN</td>\n",
       "      <td>NaN</td>\n",
       "      <td>NaN</td>\n",
       "      <td>NaN</td>\n",
       "      <td>NaN</td>\n",
       "      <td>NaN</td>\n",
       "      <td>NaN</td>\n",
       "    </tr>\n",
       "    <tr>\n",
       "      <th>2</th>\n",
       "      <td>2019-12-19</td>\n",
       "      <td>AA</td>\n",
       "      <td>AA</td>\n",
       "      <td>AA</td>\n",
       "      <td>1309</td>\n",
       "      <td>AA</td>\n",
       "      <td>N956AN</td>\n",
       "      <td>1309</td>\n",
       "      <td>10397</td>\n",
       "      <td>ATL</td>\n",
       "      <td>...</td>\n",
       "      <td>731.0</td>\n",
       "      <td>NaN</td>\n",
       "      <td>NaN</td>\n",
       "      <td>NaN</td>\n",
       "      <td>NaN</td>\n",
       "      <td>NaN</td>\n",
       "      <td>NaN</td>\n",
       "      <td>NaN</td>\n",
       "      <td>NaN</td>\n",
       "      <td>NaN</td>\n",
       "    </tr>\n",
       "    <tr>\n",
       "      <th>3</th>\n",
       "      <td>2019-12-19</td>\n",
       "      <td>AA</td>\n",
       "      <td>AA</td>\n",
       "      <td>AA</td>\n",
       "      <td>1365</td>\n",
       "      <td>AA</td>\n",
       "      <td>N828AW</td>\n",
       "      <td>1365</td>\n",
       "      <td>10397</td>\n",
       "      <td>ATL</td>\n",
       "      <td>...</td>\n",
       "      <td>731.0</td>\n",
       "      <td>NaN</td>\n",
       "      <td>NaN</td>\n",
       "      <td>NaN</td>\n",
       "      <td>NaN</td>\n",
       "      <td>NaN</td>\n",
       "      <td>NaN</td>\n",
       "      <td>NaN</td>\n",
       "      <td>NaN</td>\n",
       "      <td>NaN</td>\n",
       "    </tr>\n",
       "    <tr>\n",
       "      <th>4</th>\n",
       "      <td>2019-12-19</td>\n",
       "      <td>AA</td>\n",
       "      <td>AA</td>\n",
       "      <td>AA</td>\n",
       "      <td>1409</td>\n",
       "      <td>AA</td>\n",
       "      <td>N979NN</td>\n",
       "      <td>1409</td>\n",
       "      <td>10397</td>\n",
       "      <td>ATL</td>\n",
       "      <td>...</td>\n",
       "      <td>1947.0</td>\n",
       "      <td>NaN</td>\n",
       "      <td>NaN</td>\n",
       "      <td>NaN</td>\n",
       "      <td>NaN</td>\n",
       "      <td>NaN</td>\n",
       "      <td>NaN</td>\n",
       "      <td>NaN</td>\n",
       "      <td>NaN</td>\n",
       "      <td>NaN</td>\n",
       "    </tr>\n",
       "    <tr>\n",
       "      <th>5</th>\n",
       "      <td>2019-12-19</td>\n",
       "      <td>DL</td>\n",
       "      <td>DL_CODESHARE</td>\n",
       "      <td>DL</td>\n",
       "      <td>5435</td>\n",
       "      <td>9E</td>\n",
       "      <td>N922XJ</td>\n",
       "      <td>5435</td>\n",
       "      <td>10397</td>\n",
       "      <td>ATL</td>\n",
       "      <td>...</td>\n",
       "      <td>780.0</td>\n",
       "      <td>NaN</td>\n",
       "      <td>NaN</td>\n",
       "      <td>NaN</td>\n",
       "      <td>NaN</td>\n",
       "      <td>NaN</td>\n",
       "      <td>NaN</td>\n",
       "      <td>NaN</td>\n",
       "      <td>NaN</td>\n",
       "      <td>NaN</td>\n",
       "    </tr>\n",
       "    <tr>\n",
       "      <th>6</th>\n",
       "      <td>2019-12-19</td>\n",
       "      <td>DL</td>\n",
       "      <td>DL_CODESHARE</td>\n",
       "      <td>DL</td>\n",
       "      <td>5452</td>\n",
       "      <td>9E</td>\n",
       "      <td>N914XJ</td>\n",
       "      <td>5452</td>\n",
       "      <td>10397</td>\n",
       "      <td>ATL</td>\n",
       "      <td>...</td>\n",
       "      <td>765.0</td>\n",
       "      <td>NaN</td>\n",
       "      <td>NaN</td>\n",
       "      <td>NaN</td>\n",
       "      <td>NaN</td>\n",
       "      <td>NaN</td>\n",
       "      <td>NaN</td>\n",
       "      <td>NaN</td>\n",
       "      <td>NaN</td>\n",
       "      <td>NaN</td>\n",
       "    </tr>\n",
       "    <tr>\n",
       "      <th>7</th>\n",
       "      <td>2019-12-19</td>\n",
       "      <td>DL</td>\n",
       "      <td>DL_CODESHARE</td>\n",
       "      <td>DL</td>\n",
       "      <td>5502</td>\n",
       "      <td>9E</td>\n",
       "      <td>N368CA</td>\n",
       "      <td>5502</td>\n",
       "      <td>10397</td>\n",
       "      <td>ATL</td>\n",
       "      <td>...</td>\n",
       "      <td>694.0</td>\n",
       "      <td>NaN</td>\n",
       "      <td>NaN</td>\n",
       "      <td>NaN</td>\n",
       "      <td>NaN</td>\n",
       "      <td>NaN</td>\n",
       "      <td>NaN</td>\n",
       "      <td>NaN</td>\n",
       "      <td>NaN</td>\n",
       "      <td>NaN</td>\n",
       "    </tr>\n",
       "    <tr>\n",
       "      <th>8</th>\n",
       "      <td>2019-12-19</td>\n",
       "      <td>DL</td>\n",
       "      <td>DL_CODESHARE</td>\n",
       "      <td>DL</td>\n",
       "      <td>5514</td>\n",
       "      <td>9E</td>\n",
       "      <td>N295PQ</td>\n",
       "      <td>5514</td>\n",
       "      <td>10397</td>\n",
       "      <td>ATL</td>\n",
       "      <td>...</td>\n",
       "      <td>551.0</td>\n",
       "      <td>NaN</td>\n",
       "      <td>NaN</td>\n",
       "      <td>NaN</td>\n",
       "      <td>NaN</td>\n",
       "      <td>NaN</td>\n",
       "      <td>NaN</td>\n",
       "      <td>NaN</td>\n",
       "      <td>NaN</td>\n",
       "      <td>NaN</td>\n",
       "    </tr>\n",
       "    <tr>\n",
       "      <th>9</th>\n",
       "      <td>2019-12-19</td>\n",
       "      <td>DL</td>\n",
       "      <td>DL_CODESHARE</td>\n",
       "      <td>DL</td>\n",
       "      <td>5015</td>\n",
       "      <td>9E</td>\n",
       "      <td>N331PQ</td>\n",
       "      <td>5015</td>\n",
       "      <td>10397</td>\n",
       "      <td>ATL</td>\n",
       "      <td>...</td>\n",
       "      <td>152.0</td>\n",
       "      <td>15.0</td>\n",
       "      <td>0.0</td>\n",
       "      <td>0.0</td>\n",
       "      <td>0.0</td>\n",
       "      <td>0.0</td>\n",
       "      <td>NaN</td>\n",
       "      <td>NaN</td>\n",
       "      <td>NaN</td>\n",
       "      <td>NaN</td>\n",
       "    </tr>\n",
       "  </tbody>\n",
       "</table>\n",
       "<p>10 rows × 42 columns</p>\n",
       "</div>"
      ],
      "text/plain": [
       "      fl_date mkt_unique_carrier branded_code_share mkt_carrier  \\\n",
       "0  2019-12-19                 AA                 AA          AA   \n",
       "1  2019-12-19                 AA                 AA          AA   \n",
       "2  2019-12-19                 AA                 AA          AA   \n",
       "3  2019-12-19                 AA                 AA          AA   \n",
       "4  2019-12-19                 AA                 AA          AA   \n",
       "5  2019-12-19                 DL       DL_CODESHARE          DL   \n",
       "6  2019-12-19                 DL       DL_CODESHARE          DL   \n",
       "7  2019-12-19                 DL       DL_CODESHARE          DL   \n",
       "8  2019-12-19                 DL       DL_CODESHARE          DL   \n",
       "9  2019-12-19                 DL       DL_CODESHARE          DL   \n",
       "\n",
       "   mkt_carrier_fl_num op_unique_carrier tail_num  op_carrier_fl_num  \\\n",
       "0                 885                AA   N961UW                885   \n",
       "1                 890                AA   N317PG                890   \n",
       "2                1309                AA   N956AN               1309   \n",
       "3                1365                AA   N828AW               1365   \n",
       "4                1409                AA   N979NN               1409   \n",
       "5                5435                9E   N922XJ               5435   \n",
       "6                5452                9E   N914XJ               5452   \n",
       "7                5502                9E   N368CA               5502   \n",
       "8                5514                9E   N295PQ               5514   \n",
       "9                5015                9E   N331PQ               5015   \n",
       "\n",
       "   origin_airport_id origin  ... distance  carrier_delay weather_delay  \\\n",
       "0              10397    ATL  ...    762.0            NaN           NaN   \n",
       "1              10397    ATL  ...   1947.0            NaN           NaN   \n",
       "2              10397    ATL  ...    731.0            NaN           NaN   \n",
       "3              10397    ATL  ...    731.0            NaN           NaN   \n",
       "4              10397    ATL  ...   1947.0            NaN           NaN   \n",
       "5              10397    ATL  ...    780.0            NaN           NaN   \n",
       "6              10397    ATL  ...    765.0            NaN           NaN   \n",
       "7              10397    ATL  ...    694.0            NaN           NaN   \n",
       "8              10397    ATL  ...    551.0            NaN           NaN   \n",
       "9              10397    ATL  ...    152.0           15.0           0.0   \n",
       "\n",
       "  nas_delay  security_delay  late_aircraft_delay  first_dep_time  \\\n",
       "0       NaN             NaN                  NaN             NaN   \n",
       "1       NaN             NaN                  NaN             NaN   \n",
       "2       NaN             NaN                  NaN             NaN   \n",
       "3       NaN             NaN                  NaN             NaN   \n",
       "4       NaN             NaN                  NaN             NaN   \n",
       "5       NaN             NaN                  NaN             NaN   \n",
       "6       NaN             NaN                  NaN             NaN   \n",
       "7       NaN             NaN                  NaN             NaN   \n",
       "8       NaN             NaN                  NaN             NaN   \n",
       "9       0.0             0.0                  0.0             NaN   \n",
       "\n",
       "   total_add_gtime  longest_add_gtime  no_name  \n",
       "0              NaN                NaN      NaN  \n",
       "1              NaN                NaN      NaN  \n",
       "2              NaN                NaN      NaN  \n",
       "3              NaN                NaN      NaN  \n",
       "4              NaN                NaN      NaN  \n",
       "5              NaN                NaN      NaN  \n",
       "6              NaN                NaN      NaN  \n",
       "7              NaN                NaN      NaN  \n",
       "8              NaN                NaN      NaN  \n",
       "9              NaN                NaN      NaN  \n",
       "\n",
       "[10 rows x 42 columns]"
      ]
     },
     "execution_count": 247,
     "metadata": {},
     "output_type": "execute_result"
    }
   ],
   "source": [
    "print(df_temptable.columns.tolist())\n",
    "print(df_temptable.shape)\n",
    "print(df_flights.shape)\n",
    "df_temptable.head(10)"
   ]
  },
  {
   "cell_type": "markdown",
   "metadata": {},
   "source": [
    "## Table `weather`"
   ]
  },
  {
   "cell_type": "code",
   "execution_count": 248,
   "metadata": {},
   "outputs": [],
   "source": [
    "df_weather = pd.read_csv(Path('./data') / 'weather_locations.csv')\n",
    "\n",
    "# Categorize weather conditions be code:\n",
    "#   rain or like weather = > 263\n",
    "#   sunny = 113\n",
    "#   cloudy = 116, 119, 122\n",
    "#   snow = 227, 230\n",
    "\n",
    "df_wconditions = pd.read_csv(Path('./data') / 'weather_conditions.csv', usecols=[0,1,2], sep=',')\n",
    "df_wconditions.drop_duplicates(inplace=True)\n",
    "df_wconditions.sort_values(by='overhead_code', inplace=True)"
   ]
  },
  {
   "cell_type": "code",
   "execution_count": 249,
   "metadata": {},
   "outputs": [],
   "source": [
    "daytime = []\n",
    "df_weather_copy = df_weather.copy()\n",
    "\n",
    "# add 6 hours to make it easier to separate into day/night\n",
    "df_weather_copy['time'] = [time+600 for time in df_weather['time'].astype(int)]\n",
    "df_weather_copy['tempC'] = [temp for temp in df_weather['tempC'].astype(int)]\n",
    "df_weather_copy['condition'] = [con for con in df_weather['condition'].astype(int)]\n",
    "\n",
    "# encode time into day/night\n",
    "for i,time in df_weather_copy['time'].iteritems():\n",
    "    # code the time to 24 hours\n",
    "    if time >= 2400:\n",
    "        df_weather_copy.loc[i, 'time'] = time - 2400\n",
    "    # convert \n",
    "    if df_weather_copy.loc[i, 'time'] >= 1200:\n",
    "        daytime.append(0) # day\n",
    "    else:\n",
    "        daytime.append(1) # night"
   ]
  },
  {
   "cell_type": "code",
   "execution_count": 250,
   "metadata": {},
   "outputs": [],
   "source": [
    "# consolidate around location, date, and time using the condition mean to determine the average condition throughout\n",
    "# the day\n",
    "df_weather = df_weather_copy.join(pd.Series(daytime, name='night'))\n",
    "df_weather = df_weather.drop(['time'], axis=1).groupby(['location', 'date', 'night'])['condition'].aggregate('median').reset_index()"
   ]
  },
  {
   "cell_type": "code",
   "execution_count": 251,
   "metadata": {},
   "outputs": [],
   "source": [
    "# define conditions per row then join to weather dataframe\n",
    "conditions = []\n",
    "\n",
    "for condition in df_weather['condition']:\n",
    "    if condition > 250:\n",
    "        conditions.append('rain')\n",
    "    elif condition > 200 and condition <= 250:\n",
    "        conditions.append('snow')\n",
    "    elif condition < 115:\n",
    "        conditions.append('sunny')\n",
    "    else:\n",
    "        conditions.append('cloudy')\n",
    "\n",
    "df_weather = df_weather.join(pd.Series(conditions, name='cond_desc'))"
   ]
  },
  {
   "cell_type": "markdown",
   "metadata": {},
   "source": [
    "## Merge Tables <---- BEGIN HERE"
   ]
  },
  {
   "cell_type": "code",
   "execution_count": 252,
   "metadata": {},
   "outputs": [],
   "source": [
    "df_flights_pass = pd.merge(\n",
    "    df_flights,\n",
    "    df_passengers,\n",
    "    on=['air_time', 'dest', 'dest_airport_id', 'dest_city_name', 'distance', 'origin',\n",
    " 'origin_airport_id', 'origin_city_name'])"
   ]
  },
  {
   "cell_type": "code",
   "execution_count": 253,
   "metadata": {},
   "outputs": [],
   "source": [
    "df_flights_pass_weather = pd.merge(\n",
    "    df_flights_pass,\n",
    "    df_weather,\n",
    "    left_on=['fl_date', 'origin_city_name'],\n",
    "    right_on=['date', 'location'],\n",
    "    how='left'\n",
    "    )"
   ]
  },
  {
   "cell_type": "markdown",
   "metadata": {},
   "source": [
    "NOTE: `fuel comsumption` table is too small to be useful."
   ]
  },
  {
   "cell_type": "markdown",
   "metadata": {},
   "source": [
    "## CLEANING"
   ]
  },
  {
   "cell_type": "markdown",
   "metadata": {},
   "source": [
    "### Drop Null Values and Columns"
   ]
  },
  {
   "cell_type": "code",
   "execution_count": 254,
   "metadata": {},
   "outputs": [],
   "source": [
    "# drop delay times and empty columns\n",
    "df_drop_colna = df_flights_pass_weather.drop(columns=[                                \n",
    "    'cancellation_code',\n",
    "    'carrier_delay',\n",
    "    'weather_delay',\n",
    "    'nas_delay',\n",
    "    'security_delay',\n",
    "    'late_aircraft_delay',\n",
    "    'first_dep_time',\n",
    "    'total_add_gtime',\n",
    "    'longest_add_gtime',\n",
    "    'no_name',\n",
    "    'data_source',\n",
    "])"
   ]
  },
  {
   "cell_type": "code",
   "execution_count": 255,
   "metadata": {},
   "outputs": [],
   "source": [
    "# drop remaining null values\n",
    "df_drop_rows = df_drop_colna.dropna()\n",
    "df_drop_dupes = df_drop_rows.drop_duplicates()"
   ]
  },
  {
   "cell_type": "code",
   "execution_count": 256,
   "metadata": {},
   "outputs": [],
   "source": [
    "# drop irrelevant or uninformative columns\n",
    "df_drop_cols = df_drop_dupes.drop(columns=[\n",
    "    'mkt_unique_carrier',\n",
    "    'branded_code_share',\n",
    "    'mkt_carrier',\n",
    "    'mkt_carrier_fl_num',\n",
    "    'op_unique_carrier',\n",
    "    'tail_num',\n",
    "    'origin',\n",
    "    'dest',\n",
    "    'flights',\n",
    "    'op_carrier_fl_num',\n",
    "    'origin_airport_id',\n",
    "    'origin_city_name',\n",
    "    'dest_airport_id',\n",
    "    'dest_city_name',\n",
    "    'crs_dep_time',\n",
    "    'dep_time',\n",
    "    'dep_delay',\n",
    "    'wheels_off',\n",
    "    'wheels_on',\n",
    "    'crs_arr_time',\n",
    "    'arr_time',\n",
    "    'cancelled',\n",
    "    'diverted',\n",
    "    'dup',\n",
    "    'crs_elapsed_time',\n",
    "    'actual_elapsed_time',\n",
    "    'ramp_to_ramp',\n",
    "    'unique_carrier',\n",
    "    'unique_carrier_name',\n",
    "    'airline_id',\n",
    "    'carrier',\n",
    "    'carrier_name',\n",
    "    'carrier_group_new',\n",
    "    'origin_city_market_id',\n",
    "    'origin_country_name',\n",
    "    'dest_city_market_id',\n",
    "    'dest_country_name',\n",
    "    'aircraft_group',\n",
    "    'aircraft_type',\n",
    "    'distance_group',\n",
    "    'origin_country',\n",
    "    'dest_country',\n",
    "    'mail',\n",
    "    'freight',\n",
    "    'year',\n",
    "    'month',\n",
    "    'location',\n",
    "    'date',\n",
    "    'condition',\n",
    "])"
   ]
  },
  {
   "cell_type": "markdown",
   "metadata": {},
   "source": [
    "## Feauture Engineering"
   ]
  },
  {
   "cell_type": "code",
   "execution_count": 257,
   "metadata": {},
   "outputs": [],
   "source": [
    "df = df_drop_cols"
   ]
  },
  {
   "cell_type": "markdown",
   "metadata": {},
   "source": [
    "- dissect the datetime into seasons\n",
    "- `total_taxi` = `taxi_out` + `taxi_in` <-- not in test data\n",
    "- `velocity` = `distance`/`air_time`\n",
    "- `depart_ratio` = `departures_performed`/`departures_scheduled`\n",
    "- `vancancies` = `passengers`/`seats`"
   ]
  },
  {
   "cell_type": "code",
   "execution_count": 258,
   "metadata": {},
   "outputs": [],
   "source": [
    "# convert fl_date to datetime\n",
    "df['fl_date'] = pd.to_datetime(df['fl_date'])"
   ]
  },
  {
   "cell_type": "code",
   "execution_count": 259,
   "metadata": {},
   "outputs": [],
   "source": [
    "# get seasons\n",
    "seasons = []\n",
    "for month in df['fl_date'].dt.month:\n",
    "    if month < 4:\n",
    "        seasons.append(0)\n",
    "    elif month < 7:\n",
    "        seasons.append(1)\n",
    "    elif month < 10:\n",
    "        seasons.append(2)\n",
    "    else:\n",
    "        seasons.append(3)\n",
    "\n",
    "df['season'] = seasons\n",
    "\n",
    "# weekends\n",
    "weekends = []\n",
    "for day in df['fl_date'].dt.dayofweek:\n",
    "    if day==6 or day==7:\n",
    "        weekends.append(1)\n",
    "    else:\n",
    "        weekends.append(0)\n",
    "        \n",
    "df['weekend'] = weekends\n",
    "\n",
    "# total taxi\n",
    "# df['total_taxi'] = df['taxi_out'] + df['taxi_in']\n",
    "\n",
    "# velocity\n",
    "df['velocity'] = df['distance'] / df['air_time']\n",
    "\n",
    "# depart_ratio\n",
    "# df['depart_ratio'] = df['departures_scheduled'] / df['departures_performed']\n",
    "\n",
    "# vacant_seats\n",
    "df['vacant_seats'] = df['passengers'] / df['seats']\n",
    "\n",
    "# remove used columns\n",
    "df_final = df.drop(columns=[\n",
    "    'taxi_out',\n",
    "    'taxi_in',\n",
    "    'distance',\n",
    "    'air_time',\n",
    "    'departures_scheduled',\n",
    "    'departures_performed',\n",
    "    'passengers',\n",
    "    'seats'\n",
    "]).sort_values(by='fl_date').reset_index(drop=True)"
   ]
  },
  {
   "cell_type": "code",
   "execution_count": 260,
   "metadata": {},
   "outputs": [],
   "source": [
    "# convert carrier_group, and aircraft_config to strings\n",
    "df_final[['carrier_group', 'aircraft_config', 'season']] = df_final[['carrier_group', 'aircraft_config', 'season']].astype('str')"
   ]
  },
  {
   "cell_type": "code",
   "execution_count": 261,
   "metadata": {},
   "outputs": [
    {
     "data": {
      "image/png": "[encoded data removed]",
      "text/plain": [
       "<Figure size 720x576 with 1 Axes>"
      ]
     },
     "metadata": {
      "needs_background": "light"
     },
     "output_type": "display_data"
    },
    {
     "data": {
      "image/png": "[encoded data removed]",
      "text/plain": [
       "<Figure size 720x576 with 1 Axes>"
      ]
     },
     "metadata": {
      "needs_background": "light"
     },
     "output_type": "display_data"
    }
   ],
   "source": [
    "# scr.graph_eda('hist', df['total_taxi'])\n",
    "scr.graph_eda('hist', df['velocity'])\n",
    "# scr.graph_eda('hist', df['depart_ratio'])\n",
    "scr.graph_eda('hist', df['vacant_seats'])"
   ]
  },
  {
   "cell_type": "markdown",
   "metadata": {},
   "source": [
    "# PIPELINES"
   ]
  },
  {
   "cell_type": "markdown",
   "metadata": {},
   "source": [
    "## Split Data"
   ]
  },
  {
   "cell_type": "code",
   "execution_count": 262,
   "metadata": {},
   "outputs": [],
   "source": [
    "x = df_final.drop(columns=['arr_delay', 'fl_date'])\n",
    "y = df_final['arr_delay']\n",
    "\n",
    "# split at default percent\n",
    "xtrain, xtest, ytrain, ytest = train_test_split(x, y)"
   ]
  },
  {
   "cell_type": "markdown",
   "metadata": {},
   "source": [
    "## Numeric and Categorical Features"
   ]
  },
  {
   "cell_type": "code",
   "execution_count": 263,
   "metadata": {},
   "outputs": [],
   "source": [
    "# define numerical transformations\n",
    "num_features = xtrain.select_dtypes(include='number').columns.to_list()\n",
    "num_transformer = Pipeline([\n",
    "    ('imputer', SimpleImputer(strategy='median')),\n",
    "    ('scaler', MinMaxScaler())\n",
    "])\n",
    "\n",
    "# define categorical transformations\n",
    "cat_features = xtrain.select_dtypes(include='object').columns.to_list()\n",
    "cat_transformer = Pipeline([\n",
    "    ('imputer', SimpleImputer(strategy='constant', fill_value='missing')),\n",
    "    ('onehot', OneHotEncoder(handle_unknown='ignore'))\n",
    "])\n",
    "\n",
    "# parallel transformations\n",
    "preprocessor = ColumnTransformer([\n",
    "    ('num', num_transformer, num_features),\n",
    "    ('cat', cat_transformer, cat_features)\n",
    "])"
   ]
  },
  {
   "cell_type": "markdown",
   "metadata": {},
   "source": [
    "## Models"
   ]
  },
  {
   "cell_type": "code",
   "execution_count": 264,
   "metadata": {},
   "outputs": [],
   "source": [
    "rd = Pipeline([\n",
    "    ('preprocessor', preprocessor),\n",
    "    ('classifier', Ridge())\n",
    "])\n",
    "\n",
    "ls = Pipeline([\n",
    "    ('preprocessor', preprocessor),\n",
    "    ('classifier', Lasso())\n",
    "])\n",
    "\n",
    "lr = Pipeline([\n",
    "    ('preprocessor', preprocessor),\n",
    "    ('classifier', LinearRegression())\n",
    "])\n",
    "\n",
    "xgb = Pipeline([\n",
    "    ('preprocessor', preprocessor),\n",
    "    ('classifier', XGBRegressor())\n",
    "])"
   ]
  },
  {
   "cell_type": "code",
   "execution_count": 265,
   "metadata": {},
   "outputs": [],
   "source": [
    "rd.fit(X=xtrain, y=ytrain)\n",
    "ypred_rd = rd.predict(xtest)\n",
    "\n",
    "ls.fit(X=xtrain, y=ytrain)\n",
    "ypred_ls = ls.predict(xtest)\n",
    "\n",
    "lr.fit(X=xtrain, y=ytrain)\n",
    "ypred_lr = lr.predict(xtest)\n",
    "\n",
    "xgb.fit(X=xtrain, y=ytrain)\n",
    "ypred_xgb = xgb.predict(xtest)"
   ]
  },
  {
   "cell_type": "code",
   "execution_count": 266,
   "metadata": {},
   "outputs": [
    {
     "name": "stdout",
     "output_type": "stream",
     "text": [
      "Ridge RMSE: 54.73352813511151\n",
      "Ridge MAE: 28.517291677671732)\n",
      "Ridge R2: 0.001834747147559046\n",
      "---\n",
      "Lasso RMSE: 54.783860239600855\n",
      "Lasso MAE: 28.536835600101043)\n",
      "Lasso R2: -1.8915405803898722e-06\n",
      "---\n",
      "LR RMSE: 54.73354408727134\n",
      "LR MAE: 28.513989044190854)\n",
      "LR R2: 0.00183416531428382\n",
      "---\n",
      "XG RMSE: 54.00906790950371\n",
      "XG MAE: 28.11954575306558)\n",
      "xG R2: 0.02808356829093217\n"
     ]
    }
   ],
   "source": [
    "# ridge regression\n",
    "print(f'Ridge RMSE: {np.sqrt(mean_squared_error(ytest, ypred_rd))}')\n",
    "print(f'Ridge MAE: {mean_absolute_error(ytest, ypred_rd)})')\n",
    "print(f'Ridge R2: {r2_score(ytest, ypred_rd)}')\n",
    "print('---')\n",
    "# lasso regression\n",
    "print(f'Lasso RMSE: {np.sqrt(mean_squared_error(ytest, ypred_ls))}')\n",
    "print(f'Lasso MAE: {mean_absolute_error(ytest, ypred_ls)})')\n",
    "print(f'Lasso R2: {r2_score(ytest, ypred_ls)}')\n",
    "print('---')\n",
    "# linear regression\n",
    "print(f'LR RMSE: {np.sqrt(mean_squared_error(ytest, ypred_lr))}')\n",
    "print(f'LR MAE: {mean_absolute_error(ytest, ypred_lr)})')\n",
    "print(f'LR R2: {r2_score(ytest, ypred_lr)}')\n",
    "print('---')\n",
    "# xgboost\n",
    "print(f'XG RMSE: {np.sqrt(mean_squared_error(ytest, ypred_xgb))}')\n",
    "print(f'XG MAE: {mean_absolute_error(ytest, ypred_xgb)})')\n",
    "print(f'xG R2: {r2_score(ytest, ypred_xgb)}')"
   ]
  },
  {
   "cell_type": "markdown",
   "metadata": {},
   "source": [
    "# "
   ]
  },
  {
   "cell_type": "markdown",
   "metadata": {},
   "source": [
    "## Grid Search CV"
   ]
  },
  {
   "cell_type": "code",
   "execution_count": 267,
   "metadata": {},
   "outputs": [],
   "source": [
    "parameter_candidates = {\n",
    "    'objective' : ['reg:squarederror'],\n",
    "    'colsample_bytree' : [0.6],\n",
    "    'learning_rate' : [0.2, 0.3, 0.4],\n",
    "        'max_depth' : [3, 4],\n",
    "        'lambda' : [0.1, 1],\n",
    "        'alpha' : [0.1, 1],\n",
    "        'n_estimators' : [3, 4]\n",
    "}\n",
    "\n",
    "cv_parameters = {\n",
    "    'nfold' : 5,\n",
    "    'num_boost_round' : 6,\n",
    "    'early_stopping_rounds' : 10\n",
    "}"
   ]
  },
  {
   "cell_type": "code",
   "execution_count": 268,
   "metadata": {},
   "outputs": [],
   "source": [
    "# y_pred, cv_results = scr.xgboost_det(\n",
    "#     df=df_flights_pass_weather,\n",
    "#     target='arr_delay',\n",
    "#     params=parameter_candidates,\n",
    "#     cv_params=cv_parameters,\n",
    "#     gridsearch=True,\n",
    "#     scaler='minmax',\n",
    "#     )"
   ]
  },
  {
   "cell_type": "markdown",
   "metadata": {},
   "source": [
    "##### Best parameters:\n",
    "```python\n",
    "{'alpha': 0,\n",
    "'colsample_bytree': 0.6,\n",
    "'lambda': 0,\n",
    "'learning_rate': 0.1,\n",
    "'max_depth': 3,\n",
    "'n_estimators': 6,\n",
    "'objective': 'reg:squarederror'}\n",
    "```"
   ]
  },
  {
   "cell_type": "markdown",
   "metadata": {},
   "source": [
    "# PREDICTIONS"
   ]
  },
  {
   "cell_type": "code",
   "execution_count": 269,
   "metadata": {},
   "outputs": [],
   "source": [
    "table_name = 'passengers'\n",
    "limit = 100000\n",
    "filename = f'{table_name}_{str(limit/1000)}k_sample.csv'\n",
    "df_passengers = pd.read_csv(Path('./data') / filename)"
   ]
  },
  {
   "cell_type": "code",
   "execution_count": 270,
   "metadata": {},
   "outputs": [
    {
     "name": "stdout",
     "output_type": "stream",
     "text": [
      "['departures_scheduled', 'departures_performed', 'payload', 'seats', 'passengers', 'freight', 'mail', 'distance', 'ramp_to_ramp', 'air_time', 'unique_carrier', 'airline_id', 'unique_carrier_name', 'region', 'carrier', 'carrier_name', 'carrier_group', 'carrier_group_new', 'origin_airport_id', 'origin_city_market_id', 'origin', 'origin_city_name', 'origin_country', 'origin_country_name', 'dest_airport_id', 'dest_city_market_id', 'dest', 'dest_city_name', 'dest_country', 'dest_country_name', 'aircraft_group', 'aircraft_type', 'aircraft_config', 'year', 'month', 'distance_group', 'class', 'data_source']\n",
      "(100000, 38)\n"
     ]
    }
   ],
   "source": [
    "print(df_passengers.columns.tolist())\n",
    "print(df_passengers.shape)"
   ]
  },
  {
   "cell_type": "code",
   "execution_count": 271,
   "metadata": {},
   "outputs": [
    {
     "data": {
      "text/plain": [
       "array(['dest', 'dest_airport_id', 'dest_city_name', 'distance', 'origin',\n",
       "       'origin_airport_id', 'origin_city_name'], dtype=object)"
      ]
     },
     "execution_count": 271,
     "metadata": {},
     "output_type": "execute_result"
    }
   ],
   "source": [
    "np.intersect1d(df_flights_test.columns, df_passengers.columns)"
   ]
  },
  {
   "cell_type": "markdown",
   "metadata": {},
   "source": [
    "## Merge Tables"
   ]
  },
  {
   "cell_type": "markdown",
   "metadata": {},
   "source": [
    "### Weather"
   ]
  },
  {
   "cell_type": "code",
   "execution_count": 272,
   "metadata": {},
   "outputs": [],
   "source": [
    "df_weather_test = pd.read_csv('./data/weather_test.csv')"
   ]
  },
  {
   "cell_type": "code",
   "execution_count": 273,
   "metadata": {},
   "outputs": [
    {
     "data": {
      "text/html": [
       "<div>\n",
       "<style scoped>\n",
       "    .dataframe tbody tr th:only-of-type {\n",
       "        vertical-align: middle;\n",
       "    }\n",
       "\n",
       "    .dataframe tbody tr th {\n",
       "        vertical-align: top;\n",
       "    }\n",
       "\n",
       "    .dataframe thead th {\n",
       "        text-align: right;\n",
       "    }\n",
       "</style>\n",
       "<table border=\"1\" class=\"dataframe\">\n",
       "  <thead>\n",
       "    <tr style=\"text-align: right;\">\n",
       "      <th></th>\n",
       "      <th>Unnamed: 0</th>\n",
       "      <th>location</th>\n",
       "      <th>date</th>\n",
       "      <th>time</th>\n",
       "      <th>tempC</th>\n",
       "      <th>condition</th>\n",
       "    </tr>\n",
       "  </thead>\n",
       "  <tbody>\n",
       "    <tr>\n",
       "      <th>0</th>\n",
       "      <td>0</td>\n",
       "      <td>Baltimore, MD</td>\n",
       "      <td>2020-01-01</td>\n",
       "      <td>0</td>\n",
       "      <td>5</td>\n",
       "      <td>116</td>\n",
       "    </tr>\n",
       "    <tr>\n",
       "      <th>1</th>\n",
       "      <td>1</td>\n",
       "      <td>Baltimore, MD</td>\n",
       "      <td>2020-01-01</td>\n",
       "      <td>300</td>\n",
       "      <td>4</td>\n",
       "      <td>116</td>\n",
       "    </tr>\n",
       "    <tr>\n",
       "      <th>2</th>\n",
       "      <td>2</td>\n",
       "      <td>Baltimore, MD</td>\n",
       "      <td>2020-01-01</td>\n",
       "      <td>600</td>\n",
       "      <td>3</td>\n",
       "      <td>116</td>\n",
       "    </tr>\n",
       "    <tr>\n",
       "      <th>3</th>\n",
       "      <td>3</td>\n",
       "      <td>Baltimore, MD</td>\n",
       "      <td>2020-01-01</td>\n",
       "      <td>900</td>\n",
       "      <td>3</td>\n",
       "      <td>116</td>\n",
       "    </tr>\n",
       "    <tr>\n",
       "      <th>4</th>\n",
       "      <td>4</td>\n",
       "      <td>Baltimore, MD</td>\n",
       "      <td>2020-01-01</td>\n",
       "      <td>1200</td>\n",
       "      <td>5</td>\n",
       "      <td>113</td>\n",
       "    </tr>\n",
       "    <tr>\n",
       "      <th>...</th>\n",
       "      <td>...</td>\n",
       "      <td>...</td>\n",
       "      <td>...</td>\n",
       "      <td>...</td>\n",
       "      <td>...</td>\n",
       "      <td>...</td>\n",
       "    </tr>\n",
       "    <tr>\n",
       "      <th>90763</th>\n",
       "      <td>90763</td>\n",
       "      <td>Rota, TT</td>\n",
       "      <td>2020-01-31</td>\n",
       "      <td>900</td>\n",
       "      <td>2</td>\n",
       "      <td>119</td>\n",
       "    </tr>\n",
       "    <tr>\n",
       "      <th>90764</th>\n",
       "      <td>90764</td>\n",
       "      <td>Rota, TT</td>\n",
       "      <td>2020-01-31</td>\n",
       "      <td>1200</td>\n",
       "      <td>5</td>\n",
       "      <td>119</td>\n",
       "    </tr>\n",
       "    <tr>\n",
       "      <th>90765</th>\n",
       "      <td>90765</td>\n",
       "      <td>Rota, TT</td>\n",
       "      <td>2020-01-31</td>\n",
       "      <td>1500</td>\n",
       "      <td>7</td>\n",
       "      <td>119</td>\n",
       "    </tr>\n",
       "    <tr>\n",
       "      <th>90766</th>\n",
       "      <td>90766</td>\n",
       "      <td>Rota, TT</td>\n",
       "      <td>2020-01-31</td>\n",
       "      <td>1800</td>\n",
       "      <td>6</td>\n",
       "      <td>122</td>\n",
       "    </tr>\n",
       "    <tr>\n",
       "      <th>90767</th>\n",
       "      <td>90767</td>\n",
       "      <td>Rota, TT</td>\n",
       "      <td>2020-01-31</td>\n",
       "      <td>2100</td>\n",
       "      <td>5</td>\n",
       "      <td>116</td>\n",
       "    </tr>\n",
       "  </tbody>\n",
       "</table>\n",
       "<p>90768 rows × 6 columns</p>\n",
       "</div>"
      ],
      "text/plain": [
       "       Unnamed: 0       location        date  time  tempC  condition\n",
       "0               0  Baltimore, MD  2020-01-01     0      5        116\n",
       "1               1  Baltimore, MD  2020-01-01   300      4        116\n",
       "2               2  Baltimore, MD  2020-01-01   600      3        116\n",
       "3               3  Baltimore, MD  2020-01-01   900      3        116\n",
       "4               4  Baltimore, MD  2020-01-01  1200      5        113\n",
       "...           ...            ...         ...   ...    ...        ...\n",
       "90763       90763       Rota, TT  2020-01-31   900      2        119\n",
       "90764       90764       Rota, TT  2020-01-31  1200      5        119\n",
       "90765       90765       Rota, TT  2020-01-31  1500      7        119\n",
       "90766       90766       Rota, TT  2020-01-31  1800      6        122\n",
       "90767       90767       Rota, TT  2020-01-31  2100      5        116\n",
       "\n",
       "[90768 rows x 6 columns]"
      ]
     },
     "execution_count": 273,
     "metadata": {},
     "output_type": "execute_result"
    }
   ],
   "source": [
    "df_weather_test"
   ]
  },
  {
   "cell_type": "code",
   "execution_count": 274,
   "metadata": {},
   "outputs": [],
   "source": [
    "# Categorize weather conditions be code:\n",
    "#   rain or like weather = > 263\n",
    "#   sunny = 113\n",
    "#   cloudy = 116, 119, 122\n",
    "#   snow = 227, 230\n",
    "\n",
    "df_wconditions = pd.read_csv(Path('./data') / 'weather_conditions.csv', usecols=[0,1,2], sep=',')\n",
    "df_wconditions.drop_duplicates(inplace=True)\n",
    "df_wconditions.sort_values(by='overhead_code', inplace=True)"
   ]
  },
  {
   "cell_type": "code",
   "execution_count": 275,
   "metadata": {},
   "outputs": [],
   "source": [
    "daytime = []\n",
    "df_weather_copy = df_weather_test.copy()\n",
    "\n",
    "# add 6 hours to make it easier to separate into day/night\n",
    "df_weather_copy['time'] = [time+600 for time in df_weather_test['time'].astype(int)]\n",
    "df_weather_copy['tempC'] = [temp for temp in df_weather_test['tempC'].astype(int)]\n",
    "df_weather_copy['condition'] = [con for con in df_weather_test['condition'].astype(int)]\n",
    "\n",
    "# encode time into day/night\n",
    "for i,time in df_weather_copy['time'].iteritems():\n",
    "    # code the time to 24 hours\n",
    "    if time >= 2400:\n",
    "        df_weather_copy.loc[i, 'time'] = time - 2400\n",
    "    # convert \n",
    "    if df_weather_copy.loc[i, 'time'] >= 1200:\n",
    "        daytime.append(0) # day\n",
    "    else:\n",
    "        daytime.append(1) # night"
   ]
  },
  {
   "cell_type": "code",
   "execution_count": 276,
   "metadata": {},
   "outputs": [],
   "source": [
    "# consolidate around location, date, and time using the condition mean to determine the average condition throughout\n",
    "# the day\n",
    "df_weather_test = df_weather_copy.join(pd.Series(daytime, name='night'))\n",
    "df_weather_test = df_weather_test.drop(['time'], axis=1).groupby(['location', 'date', 'night'])['condition'].aggregate('median').reset_index()"
   ]
  },
  {
   "cell_type": "code",
   "execution_count": 277,
   "metadata": {},
   "outputs": [],
   "source": [
    "# define conditions per row then join to weather dataframe\n",
    "conditions = []\n",
    "\n",
    "for condition in df_weather_test['condition']:\n",
    "    if condition > 250:\n",
    "        conditions.append('rain')\n",
    "    elif condition > 200 and condition <= 250:\n",
    "        conditions.append('snow')\n",
    "    elif condition < 115:\n",
    "        conditions.append('sunny')\n",
    "    else:\n",
    "        conditions.append('cloudy')\n",
    "\n",
    "df_weather_test = df_weather_test.join(pd.Series(conditions, name='cond_desc'))"
   ]
  },
  {
   "cell_type": "markdown",
   "metadata": {},
   "source": [
    "### New Data"
   ]
  },
  {
   "cell_type": "code",
   "execution_count": 278,
   "metadata": {},
   "outputs": [],
   "source": [
    "df_flights_pass = pd.merge(\n",
    "    df_flights_test,\n",
    "    df_passengers,\n",
    "    on=['dest', 'dest_airport_id', 'dest_city_name', 'distance', 'origin','origin_airport_id', 'origin_city_name'],\n",
    "    how='inner')"
   ]
  },
  {
   "cell_type": "code",
   "execution_count": 279,
   "metadata": {},
   "outputs": [
    {
     "data": {
      "text/plain": [
       "(4776377, 51)"
      ]
     },
     "execution_count": 279,
     "metadata": {},
     "output_type": "execute_result"
    }
   ],
   "source": [
    "df_flights_pass.shape"
   ]
  },
  {
   "cell_type": "code",
   "execution_count": 280,
   "metadata": {},
   "outputs": [],
   "source": [
    "df_flights_pass_weather = pd.merge(\n",
    "    df_flights_pass,\n",
    "    df_weather_test,\n",
    "    left_on=['fl_date', 'origin_city_name'],\n",
    "    right_on=['date', 'location'],\n",
    "    how='inner'\n",
    "    )"
   ]
  },
  {
   "cell_type": "code",
   "execution_count": 281,
   "metadata": {},
   "outputs": [],
   "source": [
    "raw = df_flights_pass_weather.isnull().sum().to_dict()"
   ]
  },
  {
   "cell_type": "code",
   "execution_count": 282,
   "metadata": {},
   "outputs": [
    {
     "data": {
      "text/plain": [
       "(9552692, 56)"
      ]
     },
     "execution_count": 282,
     "metadata": {},
     "output_type": "execute_result"
    }
   ],
   "source": [
    "df_flights_pass_weather.shape"
   ]
  },
  {
   "cell_type": "markdown",
   "metadata": {},
   "source": [
    "## CLEANING"
   ]
  },
  {
   "cell_type": "markdown",
   "metadata": {},
   "source": [
    "### Drop Null Values and Columns"
   ]
  },
  {
   "cell_type": "code",
   "execution_count": 283,
   "metadata": {},
   "outputs": [
    {
     "data": {
      "text/plain": [
       "['fl_date',\n",
       " 'mkt_unique_carrier',\n",
       " 'branded_code_share',\n",
       " 'mkt_carrier',\n",
       " 'mkt_carrier_fl_num',\n",
       " 'op_unique_carrier',\n",
       " 'tail_num',\n",
       " 'op_carrier_fl_num',\n",
       " 'origin_airport_id',\n",
       " 'origin',\n",
       " 'origin_city_name',\n",
       " 'dest_airport_id',\n",
       " 'dest',\n",
       " 'dest_city_name',\n",
       " 'crs_dep_time',\n",
       " 'crs_arr_time',\n",
       " 'dup',\n",
       " 'crs_elapsed_time',\n",
       " 'flights',\n",
       " 'distance',\n",
       " 'departures_scheduled',\n",
       " 'departures_performed',\n",
       " 'payload',\n",
       " 'seats',\n",
       " 'passengers',\n",
       " 'freight',\n",
       " 'mail',\n",
       " 'ramp_to_ramp',\n",
       " 'air_time',\n",
       " 'unique_carrier',\n",
       " 'airline_id',\n",
       " 'unique_carrier_name',\n",
       " 'region',\n",
       " 'carrier',\n",
       " 'carrier_name',\n",
       " 'carrier_group',\n",
       " 'carrier_group_new',\n",
       " 'origin_city_market_id',\n",
       " 'origin_country',\n",
       " 'origin_country_name',\n",
       " 'dest_city_market_id',\n",
       " 'dest_country',\n",
       " 'dest_country_name',\n",
       " 'aircraft_group',\n",
       " 'aircraft_type',\n",
       " 'aircraft_config',\n",
       " 'year',\n",
       " 'month',\n",
       " 'distance_group',\n",
       " 'class',\n",
       " 'data_source',\n",
       " 'location',\n",
       " 'date',\n",
       " 'night',\n",
       " 'condition',\n",
       " 'cond_desc']"
      ]
     },
     "execution_count": 283,
     "metadata": {},
     "output_type": "execute_result"
    }
   ],
   "source": [
    "list(raw.keys())"
   ]
  },
  {
   "cell_type": "code",
   "execution_count": 284,
   "metadata": {},
   "outputs": [
    {
     "data": {
      "text/plain": [
       "array(['data_source'], dtype='<U21')"
      ]
     },
     "execution_count": 284,
     "metadata": {},
     "output_type": "execute_result"
    }
   ],
   "source": [
    "np.intersect1d(list(raw.keys()), [                                \n",
    "    'cancellation_code',\n",
    "    'carrier_delay',\n",
    "    'weather_delay',\n",
    "    'nas_delay',\n",
    "    'security_delay',\n",
    "    'late_aircraft_delay',\n",
    "    'first_dep_time',\n",
    "    'total_add_gtime',\n",
    "    'longest_add_gtime',\n",
    "    'no_name',\n",
    "    'data_source',\n",
    "])"
   ]
  },
  {
   "cell_type": "code",
   "execution_count": 285,
   "metadata": {},
   "outputs": [],
   "source": [
    "# drop delay times and empty columns\n",
    "df_drop_colna = df_flights_pass_weather.drop(columns=[\n",
    "    'data_source',\n",
    "])"
   ]
  },
  {
   "cell_type": "code",
   "execution_count": 286,
   "metadata": {},
   "outputs": [],
   "source": [
    "# drop remaining null values\n",
    "df_drop_rows = df_drop_colna.dropna()\n",
    "df_drop_dupes = df_drop_rows.drop_duplicates()"
   ]
  },
  {
   "cell_type": "code",
   "execution_count": 287,
   "metadata": {},
   "outputs": [],
   "source": [
    "# drop irrelevant or uninformative columns\n",
    "df_drop_cols = df_drop_dupes.drop(columns=[\n",
    "    'mkt_unique_carrier',\n",
    "    'branded_code_share',\n",
    "    # 'mkt_carrier',\n",
    "    # 'mkt_carrier_fl_num',\n",
    "    'op_unique_carrier',\n",
    "    'tail_num',\n",
    "    # 'origin',\n",
    "    # 'dest',\n",
    "    'flights',\n",
    "    'op_carrier_fl_num',\n",
    "    'origin_airport_id',\n",
    "    'origin_city_name',\n",
    "    'dest_airport_id',\n",
    "    'dest_city_name',\n",
    "    'crs_dep_time',\n",
    "    'crs_arr_time',\n",
    "    'dup',\n",
    "    'crs_elapsed_time',\n",
    "    'ramp_to_ramp',\n",
    "    'unique_carrier',\n",
    "    'unique_carrier_name',\n",
    "    'airline_id',\n",
    "    'carrier',\n",
    "    'carrier_name',\n",
    "    'carrier_group_new',\n",
    "    'origin_city_market_id',\n",
    "    'origin_country_name',\n",
    "    'dest_city_market_id',\n",
    "    'dest_country_name',\n",
    "    'aircraft_group',\n",
    "    'aircraft_type',\n",
    "    'distance_group',\n",
    "    'origin_country',\n",
    "    'dest_country',\n",
    "    'mail',\n",
    "    'freight',\n",
    "    'year',\n",
    "    'month',\n",
    "    'location',\n",
    "    'date',\n",
    "    'condition'\n",
    "])"
   ]
  },
  {
   "cell_type": "markdown",
   "metadata": {},
   "source": [
    "## FEATURE ENGINEERING"
   ]
  },
  {
   "cell_type": "code",
   "execution_count": 288,
   "metadata": {},
   "outputs": [],
   "source": [
    "df = df_drop_cols"
   ]
  },
  {
   "cell_type": "code",
   "execution_count": 289,
   "metadata": {},
   "outputs": [],
   "source": [
    "# convert fl_date to datetime\n",
    "df['fl_date'] = pd.to_datetime(df['fl_date'])"
   ]
  },
  {
   "cell_type": "code",
   "execution_count": 290,
   "metadata": {},
   "outputs": [],
   "source": [
    "# get seasons\n",
    "seasons = []\n",
    "for month in df['fl_date'].dt.month:\n",
    "    if month < 4:\n",
    "        seasons.append(0)\n",
    "    elif month < 7:\n",
    "        seasons.append(1)\n",
    "    elif month < 10:\n",
    "        seasons.append(2)\n",
    "    else:\n",
    "        seasons.append(3)\n",
    "\n",
    "df['season'] = seasons\n",
    "\n",
    "# weekends\n",
    "weekends = []\n",
    "for day in df['fl_date'].dt.dayofweek:\n",
    "    if day==6 or day==7:\n",
    "        weekends.append(1)\n",
    "    else:\n",
    "        weekends.append(0)\n",
    "        \n",
    "df['weekend'] = weekends\n",
    "\n",
    "# total taxi\n",
    "# df['total_taxi'] = df['taxi_out'] + df['taxi_in']\n",
    "\n",
    "# velocity\n",
    "df['velocity'] = df['distance'] / df['air_time']\n",
    "\n",
    "# depart_ratio\n",
    "# df['depart_ratio'] = df['departures_scheduled'] / df['departures_performed']\n",
    "\n",
    "# vacant_seats\n",
    "df['vacant_seats'] = df['passengers'] / df['seats']\n",
    "\n",
    "# remove used columns\n",
    "df_final = df.drop(columns=[\n",
    "    # 'taxi_out',\n",
    "    # 'taxi_in',\n",
    "    'distance',\n",
    "    'air_time',\n",
    "    'departures_scheduled',\n",
    "    'departures_performed',\n",
    "    'passengers',\n",
    "    'seats'\n",
    "])"
   ]
  },
  {
   "cell_type": "code",
   "execution_count": 292,
   "metadata": {},
   "outputs": [],
   "source": [
    "df_final.replace([np.inf, - np.inf], np.nan, inplace = True)\n",
    "df_final = df_final.dropna()\n",
    "# df_final = df_final.sort_values(by='fl_date').reset_index(drop=True)"
   ]
  },
  {
   "cell_type": "code",
   "execution_count": 293,
   "metadata": {},
   "outputs": [
    {
     "name": "stderr",
     "output_type": "stream",
     "text": [
      "/var/folders/xm/yv4_9lnx4vxb435678j65d140000gn/T/ipykernel_80171/2472794188.py:2: SettingWithCopyWarning: \n",
      "A value is trying to be set on a copy of a slice from a DataFrame.\n",
      "Try using .loc[row_indexer,col_indexer] = value instead\n",
      "\n",
      "See the caveats in the documentation: https://pandas.pydata.org/pandas-docs/stable/user_guide/indexing.html#returning-a-view-versus-a-copy\n",
      "  df_final[['carrier_group', 'aircraft_config', 'season']] = df_final[['carrier_group', 'aircraft_config', 'season']].astype('str')\n"
     ]
    }
   ],
   "source": [
    "# convert carrier_group, and aircraft_config to strings\n",
    "df_final[['carrier_group', 'aircraft_config', 'season']] = df_final[['carrier_group', 'aircraft_config', 'season']].astype('str')"
   ]
  },
  {
   "cell_type": "markdown",
   "metadata": {},
   "source": [
    "## FIT TO WORKING MODEL & MAKE PREDICTIONS"
   ]
  },
  {
   "cell_type": "code",
   "execution_count": 294,
   "metadata": {},
   "outputs": [
    {
     "data": {
      "text/plain": [
       "fl_date                     0\n",
       "mkt_carrier                 0\n",
       "mkt_carrier_fl_num          0\n",
       "origin                      0\n",
       "dest                        0\n",
       "payload                   758\n",
       "region                      0\n",
       "carrier_group               0\n",
       "aircraft_config             0\n",
       "class                       0\n",
       "night                 3911572\n",
       "cond_desc                   0\n",
       "season                      0\n",
       "weekend               6850204\n",
       "velocity                    0\n",
       "vacant_seats           515114\n",
       "dtype: int64"
      ]
     },
     "execution_count": 294,
     "metadata": {},
     "output_type": "execute_result"
    }
   ],
   "source": [
    "(df_final == 0).sum()"
   ]
  },
  {
   "cell_type": "code",
   "execution_count": 295,
   "metadata": {},
   "outputs": [],
   "source": [
    "df_final_less = df_final.sample(n=1000000)"
   ]
  },
  {
   "cell_type": "code",
   "execution_count": 296,
   "metadata": {},
   "outputs": [
    {
     "name": "stdout",
     "output_type": "stream",
     "text": [
      "(660556, 20)\n",
      "(1000000, 16)\n"
     ]
    }
   ],
   "source": [
    "print(df_flights_test.shape)\n",
    "print(df_final_less.shape)"
   ]
  },
  {
   "cell_type": "code",
   "execution_count": 311,
   "metadata": {},
   "outputs": [],
   "source": [
    "df_flights_test['fl_date'] = pd.to_datetime(df_flights_test['fl_date'])\n",
    "df = pd.merge(df_flights_test, df_final_less, how='inner').drop_duplicates()"
   ]
  },
  {
   "cell_type": "code",
   "execution_count": 312,
   "metadata": {},
   "outputs": [],
   "source": [
    "ypred_xgb = xgb.predict(df)"
   ]
  },
  {
   "cell_type": "code",
   "execution_count": 313,
   "metadata": {},
   "outputs": [],
   "source": [
    "df['predicted_delay'] = ypred_xgb"
   ]
  },
  {
   "cell_type": "code",
   "execution_count": 322,
   "metadata": {},
   "outputs": [],
   "source": [
    "df_submission = df[[\n",
    "    'fl_date',\n",
    "    'mkt_carrier', \n",
    "    'mkt_carrier_fl_num',\n",
    "    'origin',\n",
    "    'dest',\n",
    "    'predicted_delay']].drop_duplicates()"
   ]
  },
  {
   "cell_type": "code",
   "execution_count": 325,
   "metadata": {},
   "outputs": [],
   "source": [
    "df_submission.to_csv('./data/flight_delay_predictions.csv', index=False)"
   ]
  },
  {
   "cell_type": "markdown",
   "metadata": {},
   "source": []
  }
 ],
 "metadata": {
  "interpreter": {
   "hash": "f6bdb6bebcaa6c165db367a86e382ae8df75f09257c40532b854029e0e3d706f"
  },
  "kernelspec": {
   "display_name": "Python 3.8.13 ('lighthouse')",
   "language": "python",
   "name": "python3"
  },
  "language_info": {
   "codemirror_mode": {
    "name": "ipython",
    "version": 3
   },
   "file_extension": ".py",
   "mimetype": "text/x-python",
   "name": "python",
   "nbconvert_exporter": "python",
   "pygments_lexer": "ipython3",
   "version": "3.8.13"
  },
  "orig_nbformat": 4
 },
 "nbformat": 4,
 "nbformat_minor": 2
}
